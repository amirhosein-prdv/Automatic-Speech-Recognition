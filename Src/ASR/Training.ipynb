{
  "cells": [
    {
      "cell_type": "markdown",
      "metadata": {
        "id": "cAt0x2Xg_rXd"
      },
      "source": [
        "This notebook should be executed on a GPU runtime."
      ]
    },
    {
      "cell_type": "code",
      "execution_count": 1,
      "metadata": {
        "colab": {
          "base_uri": "https://localhost:8080/"
        },
        "id": "zD8p7laR69xF",
        "outputId": "c3fa246c-8ffc-49d0-9e31-e27edee7dcfd"
      },
      "outputs": [
        {
          "name": "stdout",
          "output_type": "stream",
          "text": [
            "\u001b[2K     \u001b[90m━━━━━━━━━━━━━━━━━━━━━━━━━━━━━━━━━━━━━━━━\u001b[0m \u001b[32m507.1/507.1 kB\u001b[0m \u001b[31m10.7 MB/s\u001b[0m eta \u001b[36m0:00:00\u001b[0m\n",
            "\u001b[2K     \u001b[90m━━━━━━━━━━━━━━━━━━━━━━━━━━━━━━━━━━━━━━━━\u001b[0m \u001b[32m115.3/115.3 kB\u001b[0m \u001b[31m10.2 MB/s\u001b[0m eta \u001b[36m0:00:00\u001b[0m\n",
            "\u001b[2K     \u001b[90m━━━━━━━━━━━━━━━━━━━━━━━━━━━━━━━━━━━━━━━━\u001b[0m \u001b[32m134.8/134.8 kB\u001b[0m \u001b[31m13.8 MB/s\u001b[0m eta \u001b[36m0:00:00\u001b[0m\n",
            "\u001b[2K     \u001b[90m━━━━━━━━━━━━━━━━━━━━━━━━━━━━━━━━━━━━━━━━\u001b[0m \u001b[32m134.8/134.8 kB\u001b[0m \u001b[31m4.6 MB/s\u001b[0m eta \u001b[36m0:00:00\u001b[0m\n",
            "\u001b[2K     \u001b[90m━━━━━━━━━━━━━━━━━━━━━━━━━━━━━━━━━━━━━━━━\u001b[0m \u001b[32m270.9/270.9 kB\u001b[0m \u001b[31m6.2 MB/s\u001b[0m eta \u001b[36m0:00:00\u001b[0m\n",
            "\u001b[2K     \u001b[90m━━━━━━━━━━━━━━━━━━━━━━━━━━━━━━━━━━━━━━━━\u001b[0m \u001b[32m84.1/84.1 kB\u001b[0m \u001b[31m2.9 MB/s\u001b[0m eta \u001b[36m0:00:00\u001b[0m\n",
            "\u001b[2K     \u001b[90m━━━━━━━━━━━━━━━━━━━━━━━━━━━━━━━━━━━━━━━━\u001b[0m \u001b[32m3.4/3.4 MB\u001b[0m \u001b[31m55.5 MB/s\u001b[0m eta \u001b[36m0:00:00\u001b[0m\n",
            "\u001b[?25h"
          ]
        }
      ],
      "source": [
        "# Download nessecary libraries\n",
        "!pip install datasets --quiet\n",
        "!pip install transformers[torch] --quiet\n",
        "!pip install --upgrade accelerate --quiet\n",
        "!pip install evaluate --quiet\n",
        "!pip install jiwer --quiet"
      ]
    },
    {
      "cell_type": "code",
      "execution_count": 2,
      "metadata": {
        "colab": {
          "base_uri": "https://localhost:8080/"
        },
        "id": "X1qoE-fc-K5y",
        "outputId": "2bc57da6-ec1c-4294-feef-784580d1613f"
      },
      "outputs": [
        {
          "name": "stdout",
          "output_type": "stream",
          "text": [
            "Mounted at /content/drive/\n"
          ]
        }
      ],
      "source": [
        "from google.colab import drive\n",
        "drive.mount('/content/drive/')"
      ]
    },
    {
      "cell_type": "code",
      "execution_count": 3,
      "metadata": {
        "id": "V3Rzd9Hj6lxf"
      },
      "outputs": [],
      "source": [
        "# Load the preprocessed dataet\n",
        "from datasets import DatasetDict\n",
        "\n",
        "ds = DatasetDict.load_from_disk(\"./drive/MyDrive/ASR_Colab/dataset\")\n",
        "\n",
        "# Remove unnessecary columns for network traning to save RAM\n",
        "model_columns = ['input_values', 'input_length', 'labels']\n",
        "ds['train'] = ds['train'].remove_columns([col for col in ds['train'].column_names if col not in model_columns])\n",
        "ds['test'] = ds['test'].remove_columns([col for col in ds['test'].column_names if col not in model_columns])"
      ]
    },
    {
      "cell_type": "markdown",
      "metadata": {
        "id": "kubP83NwPg2b"
      },
      "source": [
        "To know what is the role of tokenizer, feature extractor, data collator & etc. in this model, visit https://huggingface.co/blog/fine-tune-xlsr-wav2vec2"
      ]
    },
    {
      "cell_type": "code",
      "execution_count": 4,
      "metadata": {
        "id": "OkTo5VpLPdYW"
      },
      "outputs": [],
      "source": [
        "from transformers import Wav2Vec2CTCTokenizer,Wav2Vec2FeatureExtractor,Wav2Vec2Processor\n",
        "\n",
        "tokenizer = Wav2Vec2CTCTokenizer(\"./drive/MyDrive/ASR_Colab/vocab.json\", unk_token=\"[UNK]\", pad_token=\"[PAD]\", word_delimiter_token=\"|\")\n",
        "feature_extractor = Wav2Vec2FeatureExtractor(feature_size=1, sampling_rate=16000, padding_value=0.0, do_normalize=True, return_attention_mask=True)\n",
        "processor = Wav2Vec2Processor(feature_extractor=feature_extractor, tokenizer=tokenizer)"
      ]
    },
    {
      "cell_type": "code",
      "execution_count": 5,
      "metadata": {
        "colab": {
          "base_uri": "https://localhost:8080/",
          "height": 149
        },
        "id": "Hr1mSOlyDAu5",
        "outputId": "3f60e8b2-4a36-472c-ce47-2f67d20db491"
      },
      "outputs": [
        {
          "name": "stdout",
          "output_type": "stream",
          "text": [
            "[13, 12, 19, 12, 4, 27, 31, 4, 24, 41, 15, 10, 37, 4, 21, 41, 10, 41, 38, 8, 37, 4, 8, 10, 8, 4, 41, 38, 37, 19, 8, 19, 4, 3, 41, 10, 41, 4, 13, 38, 8, 37, 4]\n",
            "[-0.0002672718546818942, -0.0002672718546818942, -0.0002672718546818942, -0.0002672718546818942, -0.0002672718546818942, -0.0002672718546818942, -0.0002672718546818942, -0.0002672718546818942, -0.0002672718546818942, -0.0002672718546818942]\n",
            "گونو تک باغری قارالدی درد الیندن زارا گلدی\n"
          ]
        },
        {
          "data": {
            "text/html": [
              "\n",
              "                <audio  controls=\"controls\" >\n",
              "                    <source src=\"data:audio/wav;base64,UklGRqgXAgBXQVZFZm10IBAAAAABAAEAgD4AAAB9AAACABAAZGF0YYQXAgD//////////////////////////////////////////////////////////////////////////////////////////////////////////////////////////////////////////////////////////////////////////////////////////////////////////////////////////////////////////////////////////////////////////////////////////////////////////////////////////////////////////////////////////////////////////////////////////////////////////////////////////////////////////////////////////////////////////////////////////////////////////////////////////////////////////////////////////////////////////////////////////////////////////////////////////////////////////////////////////////////////////////////////////////////////////////////////////////////////////////////////////////////////////////////////////////////////////////////////////////////////////////////////////////////////////////////////////////////////////////////////////////////////////////////////////////////////////////////////////////////////////////////////////////////////////////////////////////////////////////////////////////////////////////////////////////////////////////////////////////////////////////////////////////////////////////////////////////////////////////////////////////////////////////////////////////////////////////////////////////////////////////////////////////////////////////////////////////////////////////////////////////////////////////////////////////////////////////////////////////////////////////////////////////////////////////////////////////////////////////////////////////////////////////////////////////////////////////////////////////////////////////////////////////////////////////////////////////////////////////////////////////////////////////////////////////////////////////////////////////////////////////////////////////////////////////////////////////////////////////////////////////////////////////////////////////////////////////////////////////////////////////////////////////////////////////////////////////////////////////////////////////////////////////////////////////////////////////////////////////////////////////////////////////////////////////////////////////////////////////////////////////////////////////////////////////////////////////////////////////////////////////////////////////////////////////////////////////////////////////////////////////////////////////////////////////////////////////////////////////////////////////////////////////////////////////////////////////////////////////////////////////////////////////////////////////////////////////////////////////////////////////////////////////////////////////////////////////////////////////////////////////////////////////////////////////////////////////////////////////////////////////////////////////////////////////////////////////////////////////////////////////////////////////////////////////////////////////////////////////////////////////////////////////////////////////////////////////////////////////////////////////////////////////////////////////////////////////////////////////////////////////////////////////////////////////////////////////////////////////////////////////////////////////////////////////////////////////////////////////////////////////////////////////////////////////////////////////////////////////////////////////////////////////////////////////////////////////////////////////////////////////////////////////////////////////////////////////////////////////////////////////////////////////////////////////////////////////////////////////////////////////////////////////////////////////////////////////////////////////////////////////////////////////////////////////////////////////////////////////////////////////////////////////////////////////////////////////////////////////////////////////////////////////////////////////////////////////////////////////////////////////////////////////////////////////////////////////////////////////////////////////////////////////////////////////////////////////////////////////////////////////////////////////////////////////////////////////////////////////////////////////////////////////////////////////////////////////////////////////////////////////////////////////////////////////////////////////////////////////////////////////////////////////////////////////////////////////////////////////////////////////////////////////////////////////////////////////////////////////////////////////////////////////////////////////////////////////////////////////////////////////////////////////////////////////////////////////////////////////////////////////////////////////////////////////////////////////////////////////////////////////////////////////////////////////////////////////////////////////////////////////////////////////////////////////////////////////////////////////////////////////////////////////////////////////////////////////////////////////////////////////v/////////////////////////+//////////////8AAAAAAAD//wAA//8AAP///v///wAAAAD+//3//v///////v/+/wAA/v8AAP////8AAAAAAAD//wAAAAAAAP///v////////8AAP//AAD+/wAA/v///wAA/v////7////+/////v//////AAD/////AAAAAAEA//8AAP7/AAABAAAA///+///////+/wAA/f/+/wAA/////wAA/////wAA/v8AAP7/AAD+////AAD///7///////7//v8AAP///////////v/+/wAA+/8CAP3/AAD9/////P8CAP3/BAD6/wMA+P8BAPr/AAD8//7/5//x/8n/iv+Z/2T+JABZAJT+/P4t/7P/KwDB//L/sf9d/nj//f5w/8oAqP/A/9T+Vv6pAOT/9P6w/jj+gwHIALD+G/9Q//7/7f8SALwAFADF//4AcgB8AFkAd//PARkD9ABFASoBEADAAF//yv/tAN7/eAC3AUgAlgCYAKH/vv4Q/4MDygJsAFb/LP9KAFsA1QCXAegA2wBLAlYAbQBE/8/+egITAXT/Jv/a/fX/PAHYACwB3v4A/xABCQBi/q//mAGLAKj/CQBx/7r/oAA1/2n+o/+uAegAjv5a/mT+Qv+MACMAs/72/xQBGgDy/sH+oP9Y/wIAYv90/4YAWgDgALv/jP32/q8AawAWAicBgP8lACL/Av7n/nkAvwHVADcAuv5p/cT/5f4Q/Q3+xf9hAbr/w/6zAND+Bf67/y3/LgAeABH/+wE7ADb+JgCE/jP+o/2M/q0B8//B/+3/9/zZ/nsAIQBJAGz+F/+DALX/mwAGAToA4/63/SoADAGTAKcBwgF4AGH/x/5x/sP//v9gANUCCgED/yL/ff6AAMMBGQBeAG8AEwBQAa/+g/7z/+v/GgPIAjYBuwG//xz/WP4M/mgBMAICATwBMAOQBY4CP/65/10BYQN8A10BWwHdAMcA/gIMApH/awE1AlMBg/8F/3D/5/2I/Yr/5v+o/iUAgf9H/5//L/7p/g//6P4X/zD/+QCvAXj/+f5fAEcCFwIhAB4A7gAlAfUBawHE/2AAFAIHA/IAiwDYAI8BQAFv/hT/qf5E//H/zv/lANz/y/+I/+z9av4w/qH8kv1k/cz94P5w/rX9c/z9+3n+qP6q/k7/O/y9/nL/6f6D/0f+/v3k/3QB7AAnAfH/6/7I/dsACwIuAPz/wP/j/h7/YAHaAHL/Xf3o/qT/wP80AWP+ZP7s/6D///8n/3L+kQDX/9X/cv+i/Yb/2//V/zkAhwD8/2r/jf4X/woCpgHlAZAA0v9+ApcAswBcAQoAyQBFAZQCmQKLALkCawHk/ygDHAAuAKYBUAHfAxwCRQC9AKH+Dv+2AAACbgNQAc39V/4n/gj/DwLYAGIASf4cAM8Bg/4N/v/+uP/HAbMB4wDh/0v/7wFiAf0BigCDAHEDAQOUAqcBxQAoAUgBdgHqAZMBPwI6Ap4C6QAf/6j+rP6cAckCvgHmAOH9c/xc/fH9tP/Z/tP+ev4K/Zz8U/2l/KD7Ov0m/97/TP3v+7z8Nf2p/mv/6f0J/6/+L/+7ALb/2//9/Wb8V/9HAAIBTwL9/6AAtQCd/jD/8v4l/XQATQE7ASwBVf9CAGj/pv01/mX/kf+BAfz/WAAiAGv/mQERAEz+6/3f/xkBHADb/7P/d/95/kP/1gCQ/kX/6wAkAfb/x/68/1AAOgDxAGsAIv/DADcATwC0AGkB5gFpAcr/DABWAbL/8QBX/wMAVgMHAp0BBgG3/9YAYwDC/4MB3wGWAsECpAGsAXMA9f9nALv/oQGtAtEBAwESAS8BCADe/uH/FQEmAFsBTwFjAMD/E//m/7b/q/+OAa0BawCi/wv/bwCh/wn/vwCVAOb/JP/e/1wBuv61/Zj/Wv8k/9z/RQDM/13/FgAhAVYAWf/9/5wA+AAzAXAAXwBk/0//IwIOAgYBV/8o/5cCQAKYAPsAigCQADMBLQEEARz/2f0Y/7L+df66/qr+G//o/Nv7tPtz+/b8tP0Q/j/+WvxQ+9X8Fv0H/tD+yP5t/w4Aqf6z/QD/kv/cAGgA4/8LAJX/XQFeAAkAVwHFAIMAD/++AI0ChgENAY8A/f8iAJL/twDNAXsBaAIkAG/+Jf6o/ksAGwK1AkQBmAD+/8P/J//B/6sCGALgAK8Ahf9x/9f+kf96/ygAEQAx/xf/L/6h/zD/EP8N/mL+kAEzAcEA8gG7AGj/7//l/3UBJAL+AdoC3gGg/ZH+TQIBApUCAwD9/6kA0v29AUkCYv5pAQEDvAKEAET+pQGoAbz/dAFDA3YDhgEPAaABLf+L/7kB1wE4AKEA/QDR/zn/BwBIAHH+Cf9W/4v/6P+oAOEA/f/G/mP+MP5h/vP/9gELACX+wwDXAEf/Nv7y/uYAwgDR/lgATv6h/poAkv+g/0X+k/8T/xL+Q/5A/3X/jv/r/f797f7N/+YAQP5o/mr+NP8MAKP/vf9M/t78zf3c/7X+z/4N/5P+l//B/pD/LP7i/SsAWgDXAIL/OP+O/zj/aACmAYsBwwCSAKMAtf8b/3sALgGpAOMBZgEdAJoAWwAiAL8AUgGHAY4BTAHhAVv/f/7TAEIBDwJDAPL+5P8GAC8APv9i/Xv9pP6/ALABd/8g/07/1P4q/57/TAChAKT/JQBAAC0AqgAVAMMA7wAWAacBwwGH/7j/lgCZAMgAGQFFAfwAoAA+AZIDjgCFAAMBhwIbA1wAnQJCAhwBgALAAMD/wQGyAZADHgE9/gwAl/6U/jkATQCTAGP/T/5x/739Hf4DAKz+LwDUAGUAlwBz/i//4f/0/5wAoQAVAUEBwP+w/qj/LP/u/08AXwGBAL7+tf6U/kv/IP8vAJIAVgAT/xn+Qf9Y/t397//B/l7+H/7S/aD+SP1m/Sv+Sv31/Rz/Mf4M/5z9Qv2J/rX9pf9cAQEAyf8F/+L+jf9f/3YB7wH6AGABrABp/zoAXAGBASYA7v/vAL8BwABjAOz/3f7r/wAARQEKAab/fQAj/0j+wv8T/2QA/P+u/gwAAP/9/l//x/7V/2MAl/8qANv/j/+0/3v/5gDbAK8BkwLiAGr/of6z/woBCgKFAzcDugHFAHcAdgDv/pv/BwHKARsDDAJZAML/CgCfAJAA//+DAXQD4QLS/14AcQGEAAsBUQB7AoACaQLBAk3+Af9iADcAbwEUAXMBJQLV/yf/4/8vAFgBmADjALkAdP+Y/uj/6f+L/iv/lv/B/3wAWwB+/5D9uvz9/iP+FP6Y/sn+ZQDY/Tz9Mv9K/fL+eP4c/uz/xvxN/rX/J/4I/x3/dP6U/qz9p//a/3D+ZwDbAdYA4P8WAd0AXAF3AKIA5AB1/1oBYwLiAHcAT/+U/3QABv97AEcA3f9q/439T/3y/aX/1gAJAJX/yf65/U/9tv30/zcASQC6AG8A+/5M/u3/qgAGALcAvwC0AeYAN/9RAMb/BQF+AYcBOQHM/+T/TAELAH//9AAaAc0A/v5E//D/3QDNACwAegDv/zz/w//F//P/xgDgAGgB9/8GAOcAEgAnAH0AlwBJAUQBmgDFAIUBWgH2/67//QBSAdQAqAFdAQEAkACLAPT/BwF7AcoB5gCQ/9n/kf/J/2oAZAD9AEkBRgCjAIcA4f6U/9L/jP/L/1b/dABvAOb+UP9H/4D+Df+AACcBfAAU/5P+M/8f/4QAsAAIANgA7//P/oP/KgAzALEAOQBM//3/kQB5AOQAkgB+AC0BbAGtANT/BAAuAAz/Wv+lADkAqf/2/vj+3P9K/6z9SP0b/h7/1P4C/w3/q/0Z/in+Nv1q/f/+KABo/6T9u/w+/ST+if9IAJMAYP8j/vr+pv7X/Yr+1/+bALQAxQDp/1b+ZP7A/4UBQwLsARwB7v5w/nf/kgAzAhoB0wCOAV8B1wGvADIBrAHVAJcBFQHFAeUDsgGcAE0AEv80AYwBZAK8Afz+NQBd/yn/CwA5/3kBxgAF/4P/Wv4Y/zf/2/6D/xv/PgDTAEv/av/5/2T/hgBjAJABuAKUAFEAXv+n/7gBJQLLAWoAGACOAuIBdQCBAewARwGnASwCAgLnAGgBrQGZAXYBlQHRAPYAsgEqAJIAz//3/uEALAErAZcAUf+g/kP+hf3U/iz/5P+6AFb+Fv4D/gn9yP0r/lj/LAF5/vX8Lvx0/RD/Q/0j/67/Wv/G/4n+rv4e//b9L/9HAKAAvAA5/3//Kv55/bv/HgCM/3YA1QD8ACL/2/3g/zgAzwDWAHwA0gDn/3T+8/5l/0r+av/RAN4AOf9n/RH+zP4rAAEC+QCQAHoAyP87AMD/gf/9ALQBXQKOAcX+p/9qAEQAlwAF/4L/mwB+/zQApwAbALf/A//0/gf+ff6CAJ0Apf/6//z/8v76/RD/QQAVALkA/wAdAbUA0/9zAGQBnADVAR4DhgG+AWAB3QAXAScB3gI6AqQAPQGBAUwBiAFVAdAABAK0AgYCMwElAFsBUwFqAIAAlADxANMAsQAJAMH+Tv7K/24AKACZ/4X/2P78/f/+9/86ADX/y//SAET/8/5W/+r+0/9JAEIA/v84/rH+sv/D/x8BOABzALsAvP7y/1cAfP8ZAFgAyQASAOD9uv62/7r/SgAQ//j+sf53/vT+HP9G/+r+0/7K/tP9a/77/8H+pv4B/9X/9/9S/gD/Av9e/0oAmf+T/7n/TAAhAVMANgDa/yH/7v96AG4Asv91/18AQwBp/rD+Rv9h/9T/bv9A/4b9FP2U/yYAK/6x/ZX/EwDY/ov++P7W/in+IgDlAB//CACRATkBOAAOADcBlgFYAaUCyALwAQAC+QLWAroBJwIOAuwB6QGNAfwBlAAVAMEB6QCJADwBNAEEAlABNACEADP/fwB1AU8AwwHcAGQAFwAy/wkBeQAAAJgBDwBAAJYAnf/R/wf+vP81AcH/XgCYALQAcf/q/rz/CACf/5D/ZQGaAKL/Uf8J/wj/vv8DAcUAy/7d/nwAU/8D/9v+ZgCBAN/+/P4K/sX9x/6t/8EA+v8x/lv+7/0m/8EAVwCe/83+6f70/0QACAAGAIr/Nv9y/83/cQG8AYQA+QASAPL/cQDw/xEA5/8hAOIACgCl/1b/yf3w/g7/gf+uAKn+jv72/uT9sf72/p//KwCx/mT/0/5l/r3/av+Q/kX+Yf8YAET/hP6Y/uD+pP8g/7P/SwAlADEBpwCK/+T/+wDaAXoCiQGKAVcBSwC1AKUBXwFYAXUBJgGcAMH/OADa/7MAPAEUAUwB/wDnAJYAvf8NABgBvwEvAskASADP/wv/6v8NAT4BHgF0AHoAdv+u/rH/gQAyAVsAeAAGAY3/G//F/y8AMgE9AMQANAAT/9j/6/9hAM//0/8hAHr/j/8FAasAhf99/zgANgAWABYARwBcAAAAEACs/8UACgHV/1//G//pAG0Bhf/W/w7/W//a/8L/PADz/3EAnwDY/3T/dACKAJMAmf+v/9r/RP9v/13/wP8lAFP/vv4y/lH9GP87/zD/Xf8I/v39Cv7B/o3/fP8OANP/Uv+Q/tn+7/8t//v/XgCs/6H//v44/1r//v4GAEEA7/7g/r7/YgB3ALf/CABKAK3/FwGXAcAAPQB9/1IA1ACfANQAlADGABsB0QCTAOf/f//k/5gADAG0AMoACACe/2f/3v5DADQAWACQAH//Nf/s/fb+pQDm/6EAsQDl/6P/Rf7+/uj/4f8QAS8ApP+T/zT/ZgBEAEMACwGyABMB5gBdAMIA3P+5AE0CfQIjAyAChADQAJMAmADqAP0ABgIzAUgAZQDE/zf/JP+W/4UAeAAJAJ3/ef92/zX/Y//S/zoAJAFUAbn/sv6p/i4AqAHFAWcB5gAGAG3/qf8kAf4BzQG/AX8BqwHCABoA5/+k/3sAZAG3AXwBff8s/0P/t/18/nL/6P/W/0v+gv0y/br8+P1M/qr+Yf/+/nb+jv2M/NH8H/65/uz/nP9y/3X+mv6K/8r+lgD0AJ4AEAHEAFMA4v8AAPIAvgD+AF4BhACsAH4AOAB//8z+Rv9eAIcAGwC0/1v/pf7I/a3+Vv81/2T/Pf+L/uT9NP5N/0f/gv/G/wz/Kv9O/7D/4f+Z/wEAvADAACQAzQAKAfMAGQGZAJUAcQCrAAEBnwD8AO4AGACBAJsA4gBxAWsBAwLNAbEBngEcARsC8wHMARkCiAGGAf0ACgD6/wgBOQG+AEcAvv+L//H/Yf9Z/1QA/v9CAdAAMAA9ALb+jv+G/1EAugFpAOD/bP/f/sX/bP/H/6MADQBCANz/aP+M/7r/eQBfABQAQwDDABcBHQAtAJv/Xf+X/yMAywD2//X/IwAfAP//JACb/1b/jP+q/67/tP9H/zj/Hv+x/mH/4P9IAM3/4/4V/3D+mf6v/zj/7v8EAMX/2P8x/17/f/84/4v/aP8EAPb/xf4b/+f+5/6i/h//2P+8/kn+kv5+/pn+f/4y/yH/8/7w/2r/8v4d/pv+MwAvAIoAmABy/yH/e/+t/zQA5v/NAPcBlwC7/87/kACnAKMAkgFUAVMBqgFOAVQAsv/rANUBVgEfAcQBBQKNATEBhwCPAOgARQF8Aa0AFAAlAP//oQArAUQBIAF5/33/2f+H/7gAywBJAMf/kf8LAcMA9v9UAAAAr/8aAGUAPQCD/2P/fgB6AND/pf/F/zcAMAC3/7D/j/+4/yIA4//w/zcA8/9yAMMA5gDaACkAFQBCADoAZwDyAKsA5QBOAcUAOAABAIUAsgDH/yQA9P8Z/7H/g//P////Fv+x/9r/2P7y/uD+af+7/yP/ev+I/wD/Zf/w/q3+LP8T/7D/EP+0/vX+Rf+0/2L/ZP9MABQAFP+g/3//i/+K/3b/CwCO/8r/OQBE//7+If/7/6EADgAkAGn/3f56/0P/ff/S/97/awBeACQAyf96/3T/vf/p/wgA9v+l/27/Gf8W/4f/0//2/xYABgCw//b+Ff+N/3MAMQHCAAEAkf+I/xkAXgDUADoBbgBHAEsANgDQAGwBHQHDAG8A8QBfAegAfgA+AMkADAGFAf0B9QAMAJoABgHYAKgA5wDFABcAIgACAMX/IAD8/+//JwDx/wAAxP8W/0P/VgD9AJUAw/9NAIIAMADPAOYAVQAvAJQArgBqALb/2f8SABAALgAEAJ4AQQB4/wUAsP+d/9r/8v9dAOD/pf/l//L/SP93/yMAXgDX/1b/s/+E/z7/Kv9G/3T/VABMAK7/FP9q/mf/p/95/zAAWAAsAO//mv8aACoAy/9YAFwANQBvAFkAfABsAEEAtwDkAK4AzQDBALkAVADX/5EAvwARABoA3/9A/+v+df4K/wz/hv4w/9b+cf5z/jb+u/6a/nj+zP5k/o7+9/6n/sH++v63/uX+EP9O/7v/e/+L/9f/e//X/3sA2wDRAAkARwBzAPz/CgCjAAgB0QDIAN8AYwAnAMsATAGXARIB1QAGAe8AAwHSALMAEgEtAfgApwA1AJMAjgBlALYA2wDhAKUAZgA/ACkATgCiAKAARQDx/8n/0v8GACMAKgD9/9z/HgBoACoAXP82/5P/lP/M/+H/5P8ZANL/IwBfAPf/8P/4/04AkABnAEkALgDO/18AyACQAI8AKQATAPf/1f9+APAAdgBtAIQAvwBtAPz/UABRAP7/SQCTAG0AhgBJAK4AbwAFAEMAMgBeADIA7/8vAOL/0P88ABkA+P+m/6//w//I/7v/Qv/z/hr/Vv9h/yD/m/6D/rv+Kv8u/8H+uf6T/if+Cv48/qn+Mf9j/y//+f54/h/+fv6q/vD+y/58/sb+tP7C/uX+2v4O/2X/j/9x/1L/fP/Q/+T/DgBDAHwApACsAO0A9gArAf4ArwDEAEkBugFpAUMBXAGdAa0BqAFBATMBTQEtAfwAlwDQAAgB+QArATEBIQGTAOP/8P+8/0gAawAbAL//Gf9x/+3/0v+a/27/NP8T/zT/pv+5/6v/sf8EABUAwP+5/wIAMgBbAJQA0ADQAI8AgwDHAEsBmQGyATsB5AAZAUMBNwH0ALkAqgC7ALQAsQCYAE8ASQDz/+T/hgCRAF4AAwAJAEYABAAvABQAKABfACIAcgAqAAAATgA2APb/yv/e/73/aP9N/1n/I//M/tX+Ef/g/rL+b/5R/k7+Yf4N/wz/Z/78/RP+rP6M/nL+cf5W/uX+/f4j/1P/yP4n/+r/BwBLABAAVAB/APj/UwBwAIgAyQB+AIAAOgDL/zcAegBxAOUA9ACMAPD/df++/x8A8f+E/zz/Nf/C/9n/3v+8/yD/Of+E/4D/vf/c/77/nv8w/5j/HgAlAIAAkAAhACEAxv9Y/0kAtQAEAUgBqAB8ACwAJAC3APsA7QC0AJkAowA0AGgA2gCgAK0A1wD9AI8ALQByAJYAogBmADsAggAQAEQAtACPAK4AhQCBAJ4AaACkANkAXQBOAEMAPwBqAKQA5gDiALIAiACmALoAZgCBAGkALwBcAEQAWABLAE4AVwAaANz/6f/V/7r//v86AGsAFgDa/3T/Bf87/0n/nv/O/4v/Zf8//zf/kf+w/5P/U/8L/0v/T/8M/9X+1v4G/wP/P/+H/0H/DP9q/9H/zf+J/1X/Sv+v/5j/iv+5/2n/sP/P/3n/bP+n//3/IADf//3/KwAsAPX/6/8bANb/nP+Y/6b/0f8VAA4At/93/9v/xf/I/93/FQB3APz//f+4/0L/hP90/43/jP9Z/+n/qf8s/1r/Uf9s/5X/yP9UACkA1P8EAAQA+/8zAGMASwBSAHUAWAA0AEIAKQATADMAewBpAD8AMQBiAIMASgCTALIAbgCKAN8A5wCQAE8ATQBdAHYAswDEAIMAQABuAKIArQDHAMIAuQCmANsADgH8ALcA3QAHAeMA2wDwAMsAfQBvAHgAegBCADsAMAD3/wQAIgAeABQA5//Y//H/JQAeANv/xP/7/2EAbACBAJsAjwCqAJkAkACCAHwAhQBlAFMAMAAHAL7/pf+a/6X/sP93/zb/1/4H/1H/Sf9B/1f/V/8v/0D/Lv9V/3f/jP++/6X/nP+q/3z/f//u/yoAUwBJADsAAwDr/zYATAD5/5//jf92/2n/Sf91/4P/Jv/T/rT+6/4f/zj/HP/P/r3+G/9K/x7/Bf9I/1r/Gv///vD+Af8t/2b/Qf8u/yn/Fv/p/r7++/5Y/4r/cf+I/1//gv/D/6n/0P/2/yAAKQA4AG8AhwCKAOIAJAHeANQAyAC4AMYA4wAJAd0ApAC+AKcAjQCiAM4A1gBRAGwAdQBEAEwAUwBzAGEARAA6ACUATgCAAKMAuADWAA0B4AC/AKUAoQCsAOsA5wDfAPMAwwB2AEIAdwCoAM0AuACJAJUAXQBYAK8AswDhAMEArAC0AKIAoQC/ABwBIwHmAOAA3wCqAHsATQBrAHMApwD0AMQASwD1/0gAkgB4AEAAQABQAP3/5v/u/97/o/9Y/3L/af9z/73/m/9+/0v/IP8F/wf/O/9Z/4//dv92/1z/F//b/uH+OP9T/3D/iv+P/3b/O/9m/2H/Q/9C/xb/Nf8//0D/Of8I//v+CP/h/qz+oP69/vP+Hv8g/yf/If/r/vv+Lv9j/3f/iv+L/0P/Jv9s/9T/uv+B/4T/Zf9k/5z/ff9F/zj/Tv9E/xj/+v7l/gf/MP9S/z//Dv9U/6v/ev9Z/1//bv92/3r/gv+Z/9j/0//A/+j/LABdADUANAB3ALkA5ADqAN0A5wAJAWMBlQGeAb0BlQGkAdMBFAJCAm8CbwIXAt8BBgJeAmsCUAI3AgQCygGtAZ0BlAGGAa0BfQH1ALsA0AC+ALkA5gDSAKUAeQCZAMQAtgDBAMsAigB8AKUA/gDxALEAyACxAHgAJgD7/9j/4v8JAOL/gP9n/0b/N/8X/wL/Hf87/zf/Sv9u/0j/Ev/W/vb+8v4k/1//UP8Z/93+8f4v/13/nv+I/1L/Kv9C/3D/QP9M/zP/7f61/sT++v5D/07/Hv8D/xf/MP9H/2T/d/+K/3P/VP9x/3b/X/99/3f/gP+N/3H/TP9E/2X/cP84//7+uP62/gX/Af8o/z3/DP83/1//cf9+/0n/ef+g/3P/hP9//4H/WP9o/4v/Tv9Y/0j/XP+X/8j/8/8zAE0AGADC/9n/LQBLAIEAmADDAJYAigDXAAABFwFDAWQBhQGoAcwB7QHSAegB+QH4Ad0BnwFlAWwBlgGmAYQBdQGdAXQBKgHyAP0AEAHbALMAzQC7AJYAjwBeAEYAVgBjAF0AOAAAAAQAGwAdADEAQABSACMA8P/K/+P/NwBCAI4AvgDNALkAcwCCAHIATwB7ALIAxACdAFgARAAJAPX/QQCDAJYAVQARAN7/z//E/4H/nf+Y/4f/l/+C/23/YP9Y//b+3/4T/xP/PP9Z/y//9f7J/tP+zP7V/sr+8f5U/yb/Gv8+/zX/EP8I/wf//f4q/2X/nf9x/xj/7P7V/tz+Dv8y/yf/I/8A/9/+sP6y/u7+BP8A//n+M/9r/2H/Uf9P/y7/K/90/3//a/+o/7n/df9i/6b/6f+Y/0b/Ov9K/5z/vv8CALv/Uf+N/5X/g/+E/4H/df9T/03/b/9W/1//0f8XAP3/6v/8/wwA/v89AL0A1gDcABIBPQFjAaUBsAGnAb8BxAHzAdABiQGDAYcBnAF5AYkBwAF8ATkBWQF7AXgBoQHMAYUBQwFrAdcBJQIaAtoBqAGDAVIBbgGtAbcBswGsAXwBVwFmAXoBgwFVAdkAWgA8AFcAWwAlAPr/3f/p/+z/pP91/3v/ff9U//X+FP8P/+b+EP8y/0n/9/4V/z7/hv+w/5T/av+H/7H/zP8OAOb/yP+G/x//Jf8j/yz/eP9Y/z3/HP8y/yT/7f4g/y3/FP/8/vn+Af/U/q7+pv7x/hr/Ev/p/sr+3/7H/un+8v4S/zT/Gv8H//X+0P7D/sz+yv7U/u7+BP8C/9P+9P4s/z3/cP90/5f/fv85/zX/Mv9H/1//Qv/z/vf+Pv9P/0z/UP9a/0v/Hf/r/ub+I/92/7j/1//3/zcAcwCWAJoAigCqAOIA/AAtAUMBUgFFAVwBpAGrAcgB1AHRAZ0BnAHaAfIBAwL7AeIB7gHiAbABigGEAaUBugGpAYYBhwGNAaEBlAF0ASUBEAE1ATQBFgHIAI4AWgBZAGIARgADANj/3P/4/woAKQBQACUA+P/u/xAAYwCyAKAAeABQABcACQA6AF4ASgBdAEAAOQAuADIAOQAYAD4AUABJAC4AFQAEAPD/pv9n/3b/Wv9D/z3/L/8r/wD/8f7x/qX+af52/p7+sv7G/sH+df4p/uf91f23/cL98/0H/hT+Ev5R/lv+JP4Q/lL+dv6x/hr/Tf9C/wX/Af8r/37/zP81ABcAwP/V//7/KABcAKAAegBFAEoAPwAhABQATwBhADgAVgBcAFkATAA3ADYADQDl/+3/AADt//f/GwAKAOH/7v///8T/i/+///X/CgAaAB4A4v+O/8f/DwA0AEEARQBmADwANAA5ABwAIwAWAEMAVwA1AF0AqwCfAF8AdACTAIMAjwDZAOgAvADFAOUAGAEyAS8BIgH5AAgBQwFtAXQBXgFaAVEBdwH7ATICMQIMAtEBtAGiAYwBawFRAUMBNAEaARUBDQEIARABxQC/AN0A3wDxAMQAlwB5AGsAUQBlAHcAhQBeABQA0f+c/7L/qf97/4H/lf93/2b/f/80///+DP/6/uf+y/7k/tT+3f6v/nr+d/5q/nr+lP7N/qL+W/5v/mr+Yv5u/pj+6v7a/uP++/7J/rn+7P4I/wX/G/9H/xf/yP7X/sP+t/7t/j7/fP+C/3v/ZP88/yn/Lv81/xP/vP6r/tz+JP9E/0T/SP/2/qn+lf7m/iD/Kf8y/xn/Dv8H/xr/VP9A/0//of+q/6v/qv/Z/woAJAAvAEMAeQCfAMkA6gDQANUA6gAPARIBMQFcAWYBSAEhATkBSgGBAa0BsQGnAakBhwFnAXUBtgHrAQMC9gHqAeUBvwGWAbcB0AHFAcgBiwFuAT8BMAFeAVkBDQHyAOsA3wDTAAIBDAH1ANYAeQCMAJsA2ACmAGUAVwAhAEgAggCjAIQAbwCFAJYAtwDtAPkAuABpAGIAWwBUAIIAggBMAP//y//H/5H/n//C/7P/0//i/6L/T/9E/0n/K/8b/wT/0f6i/mX+WP4T/qr9s/2V/W/9Wv1g/Xj9G/0T/TP9GP3k/Kb83/zq/PD8Q/2r/QX+A/4k/mH+jv7L/ir/Nf8x/3X/qf+u/6//wP/y/zoAfgC1AKMApgDGANcAugCrAMEACwEfAfkA9gC+AKsAkQCbAKcAfQCQAHwAVQAIANj/xP/V/+P/4f8FAPL/CADi/7f/z//u/wAA9//S/8f/wP/v/ywAHgAyAFoA2QA0AVIBLQEBAQ4BJAE7ARMBFAEqASgBMwEYAUsBmQGjAZABeQGOAbEB5AEPAjECKAIeAgsCBgIAAv0BFgJDAjkCBALvAdcBzgGRAWQBXgE/Ae0AqACAAKkAnABUAA4A1P/Y/5j/Zf9f/33/bv9G/0//VP9Z/1X/Tf88/x7/Mf9o/3z/cf93/3L/U/9v/2v/MP8W/xT/E/8K/wT/3/7P/vH+Cf8N/wr/Dv/n/t3+3v6m/n7+Yf5W/jv+Lv5C/kr+b/5l/j3+MP48/jP+Gv5I/lz+j/7G/tL+5/7m/vf+B/8l/1n/bf+A/4z/lf+t/7D/pv+l/7f/3/8LAO3/pP+G/1P/O/9V/2H/iv+y/3P/6/7R/tf+/v4u/zb/UP9M/17/e/+R/6b/1/8DAPb/4P8hAFEAWgBfAE8AWQBYAFMAbgCCAL0A/gDhAOsAFQE5AWcBbAFnAWYBZwGlAbsB0wEBAhECKgIPAvAB5wHuAekBygGVAYkBqAGbAZQBfQFiAWUBXAFZAVUBigGwAakBngGMAYQBcQGXAbYBqQHHAeUB6AHqAaABTwFPAW8BUAEJAQ4BIwEXAfgA+QDDAGQAQwA/AGIAaQBnABgAw/+4/6H/bf9U/yP/C/8u/yr/JP/T/qj+kP57/lr+Zv57/j3+IP5F/jX+C/7+/ef91v2Y/aX9z/3k/b79xf20/Zz9m/3R/fz96/0F/vr9J/4k/jH+NP5M/nv+r/72/vv+9/76/vb+zv7e/gb/Bf8q/zT/EP/4/hv/JP/n/vP+FP86/0T/VP+O/4P/dP9i/3v/jf9t/5z/1//j/9b/DQAvADYAggCvAJkAvgDwAMEAygAKASoBPgFkAXABWQFgAYgBjgGeAasBcgGNAb0BsAGGAXwBlAFeAS4BUAFoAVsBWAFDAUQBTgFnAYYBZwFdAXgBlwHVAe8BLAIlAhcCRwI7AkgCSQIsAh4CKAI1AjICEwICAsEBngGBAUUBQAEfAbAAhgB2AGEAXQAiAPX/rv+M/57/lv9m/yP/0f6P/nH+0f4G//b++/4E/x3/IP8l/xL/D//Y/rL+wP7F/vX+Jf8M/wL/9f7n/tD+zv7e/sz+9f4Z/wT/9f7J/oD+SP5T/o/+lf6R/lr+W/5//m7+RP7a/Y39if3K/SP+Jf76/e79z/3C/eP9Iv4s/iT+Lv4T/ij+Mv5B/nH+bf5u/l3+av6s/tL+zf68/s7+Bf8b/zX/Sf83/zL/XP+c/73/zf/l//r/FwCCAMEA7QD3AAsBRgFeAXcBxwEMAlgCawJtAusC8wLFAq4CngKpAtwCGQMjA+oCygLdAtEC2wLEArQCtAJiAlQCUAIoAi8CGgL/AdoBmgF/AWcBMQHpAKkAuQDbAOYAkgAoAAcAHgAuAC4AMADg/7b/t/+Y/73/BgAbABkA8v/w/yEABQAUAGQATgBiAIIATgBzAFYAYACPAGkAlwCaALcAuwB7AHIAbABcAJIAgABPAFsATwAIALL/3/8oAEYARQBcAP3/oP+V/17/FP/+/gL/Bv/8/rT+n/5L/rv9l/2n/ab9qf0F/hX+Tv1O/Sj9w/wp/eH8B/3s/cr9wP3u/WH93/zF/Nz8Q/0V/sn+8v5t/q39Jv0Y/bT9gP4j/8n/x/8v/1/+//1I/r7+bv/A/8T/sv+M/0z/1P6L/hn/hP8XAAcBbQFLAVUAiP8f/0j/VgCSAXEChAIRAnUBwwBKALUA/gHSAr8CzwK2AlgCHQIQAkECSwLbAlEDgQOAA4wC0wFKAcQAaAGIAjMDHgNcAkoBOABhAHQB8AFpAmsCwQG+Af8ATACzAOEATgFBAkgCMwFZAOD/OP94/58APAGNAUgBSQB6/0v/W/9WAPkAUQCGALgAtACuAJP/TP/c/jP+iv/VACIB9AAnALD+m/2m/VH+q//rAIsAgAAKAIv9bf2G/2T/EP+CANgACABR//P+Kf///n7+qP+ZALf/v/4s/z0AYv+E//b/Ov6e/un/0/96/0H+w/0X/qn9yf3o/r3+zf0//jr9OPz//AL9Wf7b/43+yPvW+rv7jPxS/0cAyv7C/rD8+vsT/rz9Of40AKD/u/7Y/mr/Ov+Y/hb+m/0D/7z/VAB3AbkAIf/2/uD+RP8hAewB8wL4Atr/K/+0/3n/fQIXBIoErwS6Ad//CAFiApEDuATDA8oBzQF4AgYC8QGRAqoCTAJmA/cCugHqAVwA4f8kAloD+wMsBIECxwB+AJkABQFQAnUCAAItAi8CIgGsAGAAd/92AWgBlP9LAZAAJgBAAIX9bv07/pP/kwGYAT8B3P9Y/qv8OP0nAYoBqwE3AZz9ZfwQ/ucB5QNrArgA6v2p/KP83/0bAhEDtwIcAbj+9/4p/mv/cABI/pIAIgPdAt0C9P8y/ZL8NP17/xICmAKgANT/yP/b/YP8H/z6+yD+rgAlAXoAmv4m/Mn5S/l9/Kn+KwDLADf+VP3j/CP7vvvo+wP8Z/+SAIT+7/4K/5v7g/vP/KP7tv9gAjQBZQL9/sv7Cf5n/Xv87f/6Au0DxQI5/xD8wfyD/j0AOAJOAbcAtgEOAS4AFf8E/kz+0/4l/1EAOgQfBOkAWQE+/y79N//T/ykCQQTaApECBAL9AeAAHAB2AuQBqgEfA94B4AAmAhEDnAF9AHwA1QA8AygDYAEGARr/7P/hABsAPAJxAjgCgwLXAEMAjQFGAkoA2wBEAxcDNwP9AU3/zv+rAmIDVwLIAlMBfP96ACwArwG2A/ABggEdAQH+0P6cAV0BfgLQAkAA7f97/17+dAC/AtYCTgJbAKz9df2U/pX/jv8P//j+Yv/Y/vD9sv0q/MH8Rf2o+5H93f6p/Zn+Yfyp+if8J/21/nD+jP5y/i/+fP7u/Nb8N/4K/rz/wAA8/93/tf6P/Rz/hv7f/kQA+f7V/i//kf5B/jH98vyj/Rv+Pf6T/n/+a/7m/v7+WADz/zD/ZQGrAaoB6gFCAX4BPADu/hD/qv7k/owAeAGmAH3/2P+8/53/nAAfAAkATQDy/34AKQExAFD/RP4C/Sn+kv9hAKgBNgEIAIoABgCg/0cB8QE1AlQDuwKQARACdwJlAfUBPQLcASgDMwK6AZoCSQJvArACKQIsAtABmAHwAbcBJAJ8As4BegC5/8f/ewDpADsAogDPAI//2//j/6z/MABoAB4BRAFzAXMCUwIyAaoAPACeAEQBngFeAegABQFIAMj/4P/R/+L/WwCb/67+If8V/wj/mf+C//n+AP+d/nL+E/9I/9/+yf7i/nv+gf68/vL+Gf8X/6n+fP7P/sf+x/6+/vj+tv+R/+X+zv6+/mf/EAD8/3T/Mf/k/5wAZQDw/9n/8/80ADEA1/+U/43/Dv8A/87+yv5z/1D/IP+e/kb+Wv7J/fv9lP6l/s7+bf7Q/UT9lPzd/Bb9G/0z/bj8hPx3/J38c/xU/A38X/uV+zb87vsO/Fv87fvm++v7sPve+4P87Pxv/Vj9NP06/Yf9vv1r/Yf96v1A/tj+av9//4P/KP8e/8n/EQH8AeQCyQP7A4sEfQXrBYsGiAeYCCUKbAsyDMYMhA3/Dc0OIhD7EOMRbRNhFM0U0hS5FJAU/xO2E9gTsBM1E3cSDxFuD9sNCAzLCfAHTAaCBK0CywBu/mP8Y/p79w/1XfMg8jLx0++D7p/si+qR6YroK+g36ObnyefE5xboreju6MjoqOgU6SrqnesU7dftd+7O7kruKu7o7sbvHfFf8tXyjvMi9P3z2vO885LzY/Rn9ab2s/fg96r3z/Z/92X8EAJVBZkEGQNNBpQL6BFUFg4aIx7vILUjIiZoKkEwzDPlNDozhDFHMmAySjLCL4UsNigyI7kfbBs1F/sRsQvpBVv+VPc58gTuYurN5Nzfm9pz1vLT49HE0JTPFc8Az4rP29HO1InYB9zb3rriJOaY6nfvwvQZ+kP+CQKEBckIjwyEEkAZWx2fHn4etB/mIpMm5Sg+KZYojyb+JIQjCiIoIRcgSR17GBUUTxFnDx8N+wgjBQoCKv/f/Zn7wvi+9XryFfCH7bPraOoT6RznleMw4WzfNd6C3dfc79vK2oPaodne2P7YmtmA2pjaLdqQ2qfbAd2g3Xzeld8Z4PPgaOHa5LHsX/WS+p76UfrV/rgIIBPaG4UjHSpNLxsz9TadPN1DT0rATA1MLUssS9lLwEppRwdCxTugNXgwUSv6JCsdVhRIC00BpfcG8A3qheTG3RrWkM/9yZ/G78R8w0vCj8GNwR3DecZDy33QFdWH2VPeWeMC6JHtgvR3/D8DAggNDOAQ0BWGGRIezyKLJmEo8CciKLAp4ipaK8QpFSe2I28gTB64GxYZahXuEfQN5giQBV8DogEQ/4f7tPjK9ZnzDPLg7xHtxukO6FrmaeNg4MLd8NvL2cfWudSL05XSx9FP0f7QqdAT0abRk9Ks0hLTCtVy1uTX89nE2xndeN/p56Lz0PwB/rn7jgDHCx8bgCc8MIQ2EjuFQetHnk64VbBbQGBSX+xbSVryWHJYWVQfTtxFWjyLNoQxUys5IakUTwoGALL2C+6E5z3i39pA06fKDcTwvya+h74BvtK88rt5veDB5MbgzB3RVtTO2O7ds+Sx6ZTvNvcW/a0AsgKLBiwMIxHlFFcXYRncG3IdEh9kIBEhaCFBIRQhvCDDH6ceXh1oG0cZQhY2FI8SLBEbD9sL1wmiB3AFbwNuAGn9FPoN99fz9+8a7UrpueSn393aN9f+0/nQ9s1GyyfI3sX3xIbEscOkwhnD8sSWxxfKaMw+zirPSNGu0+DY2ONs8Wz9Iv/a/IIAwgxJICsuvTcYPRJAukYSTt5XG16gYJBjFmO4YUhevloeWApSMUxNQ3E5EzFOKoUmHh0+EIcDZvmD8+nsCuiV4lDbU9S1zQTLAcioxYrFTcbhxwHHdsiazBHSY9io2x7eU+Br5LTr9PFa93v7RP+PArID4AW0CZ4OahIgFO0Wpxk8HG8eXB+1H0kf0yCDI6klRSaRJJMiLSEPILQeexzJGTcXihRsEvYPTQzpB9QC2v2X+Rn2i/Kv7iTqs+Qu3xTZ5NKuzdHJisaAwoG+obscunq5+LhxuHK3X7dluT69BsLjxXzJdMxZznnQ8dRW3zfuA/19A7cAIP8jByUaWi5uPHlCmkJ0Q8RIQFSIYMNl0GX7YiBhyV85XFNYrVGnSpVDIzzaNGIsVyV5HrIVpAtHAF33EvD86v/oBuZ24HjW9M2IymrKvcuny1bLispAys7MQtBN1CPWi9dX26Xfi+RL6KPsUvFZ9Qv5kPpg+vz6Cf9ABggNlBE4E0sTWBQ0F/0bICC+IqskDCd0KaEqzCpaKgQqtimsKBwn0yQMIt8flh0wGgwVsQ4VCPICwP+J/WH6jvTt7EHlQt/W2qfWbNJWzjzKV8Yew+7ADsBZv3e+Nr7VvbC+JMGyxB7JBM1A0CzSftPu1HjYy+Ag7cP5eQCf/xf8O/+FC2kciyyGNkw5wTY3NvQ880elUUxX6Vc/VXpQekxbSm5H80JIPgA7RDdvMRgp4x+xFjkPzQqBCEsEvPs88mHrFedr443fv9sR1+vR3864zg/Q78/IzoHODc9ozzXQItLz1DzYxNt43//ituWb5tbmdugy7HzyG/pYABYExwXRB8QLaBHXF+wd/CIIJqwnnSrOLqMytDRHNYA1LzQuMjQxeTC2LrQrKChOJKYeexdiEagN0QpoBxkDB/0t9XvsbOX8327bRNhC1SHSFM3Txj/CfL/wvUy9g71Rvgy/v79XwSTD0MS3xqvI9MrQzfjRedmL49bsDvJq8g3znvh4A1gS2iCrKyswEDBIMt846UG9SoVRTVUVVRJTglFnTyJL8USHQWhB2EGYP3I5FDDwIzkathUAFWcTrg3DBV/9XPUj7uzoHuUF4YTdX9ti2lbYjdSi0KfNxMzczU3RLdXc1h7WEtX11aLY2ttP3sHfKeHX483nfu2H8yH4xvoI/WkA/ASSCmMQZBU3GSkc9B6SIewiSiPRI2Yl9yYeKMgnxSWaIkEfRhxcGVwWpxO1ERIQRw21CPcCpfzp9n7yQ+897Lvo7ONA3yPbmNfT07HQ7s1wy6/Jyck2y7jMksvxyiXLaMvlzeXNU84YziDYbeVu7N7uO+l56J3xhgEAExMh/Ce+Ju8jqCVGLGQ2kEDLSEBMQEpyR3RGlUUPQo0+Ez4CPzY/4jwoN6Qs4SC/GccYkBr8GMATDgyiAxr8NfbD8bjtoelO5tTk4OR640ffYNqP1jjVxtbs2lvfhuFQ4NHeR9884WPjX+RC5WvmyOi+7K7xzPWf95b4dvoW/mYCzAewDV4SBBVwFs4YfBt2HT0eeh9xIXgiaiIFIrAguh2IGmEYcBavExURKQ9sDUUK9wXuAEH7LPUc8CrtROuS6CrkOt/o2R/V0dF4zzfNC8uHybrIjsiXyE3IQ8i5yHDJsMlMyiDMRdHk2qjk2OpO6vTmy+i88mYDmRTUIEckVCGFIOAl0TA3PelGjkuZSkxHz0RFQ3FAgTy1OrQ7Sz03PEw3QS5dIr0YqRUZGKAZfxZpD7kG3f64+FT0aPGn7obrt+m26UnpeeZ94YfcBdpq22/fyOLv4+viQuGI4FjhAOQg5vrl9OTk5MTnOe0781n35/jk+MT5t/wuAQoHQg3OEjcWohiQGmQbcBvQGyIe2SEOJakm8yUGIyIfhBsyGREYPRcGFgsVRxN1D+kJqgMU/on5Ifbu8ybyE+/56bHjuN1W2FTUD9KK0JLOPcy/ysTJv8jBx/zGhMZ5xmTHZMvD0wbe1eQb5ZrhjOHk6Av3sQhVF/gdnxubFzsa5iTGMw9ACEYhRR5ADTxhOvk5eTjHNp82uzY8NXYw7ijSHmQVBBEhEugUIRNQDAIEI/2t+N31G/Q78T3tj+lF6F7pUele51Hk1eFs4KLgHOJE48vjz+OF5HPmR+hJ6ArmQ+M84pnlY+2H9cT5X/j/9Hbz9vWf+4kC9wnnD70SjBKtElgU4RZSGpoeCiP3JI0jciHtH4wegR0pHnMejRv6FggTxhCqDgwMrwgqBPv+BvoY9pvyUu9f7L7pvOYS4uLcAdkW1/jVVdTz0mTRt8+hzlDOOs5YzVbNENHe2arkjuqg6Ibid+Hw6mr8fw/zGnsalxKvDckTdCNiNJpADEY8RBk+GTgmNHAyjDKKNKE37jfLMo4pgB+YFYgNnAryDJYO1gkVAQ/6kvfZ9533E/W/76zpsOam6Mfsie4x7F/ndeOH4svkHOgo6ujpvOhr6SPr6usG60zpbeg76fLr+O889Bn3yPYl9Xf0O/cS/cED6Qk0DbkNngwXDncT4xk+HqkfHx9LHfMbehwZHkYezxtFGFsVuBIDECANDQqSBucCq/8h/Dr3D/Ls7cTqGuhZ5Xniyd5Y2r3Xuta91XnUdtKZ0OfPp9BK0qDTpNM20wLVKtx/6NHyVfWr75LqGPF/AUMVpSN3KDwjKRp2GWMlxTcuRaRIcUN5O6Y2sTetOsY5FTRkLzotoivvJ1whoxoyEtcINwN0A8cChv2z92v18PPZ8Ansnuds5TfnhOsk7wPvsekg4yDiKOdP7SXxHfFE73Pt++638Hnzg/RN9EzzffRO+Ib6OPsT/Zj6QPjx92gDogv++LX2eAszD838ywQ+F/obuRQ+DOkSvxqdIPAeNBdNDE0GcwbkBgUDiv7a+nr5w/fr9aH23vj8+b71Me5p5IXcxtlO3YXgWN9+2p7VVNOG09vUWdUd1MTRmNCt0PbU/t1z6kTyWu6a41rgU/FZDGQjrSulJe8aBhfYIzE7b00wT+xE5ztlPBREKkqaRbw3vynNJr8t4TNjMDUjCRNbBbf/5AEvBf4Bh/hc7xLqc+Wh4MbcEt3p30biDeNn4Rzftt3B32Lk6eZm5VPk/Of/7133ofnG9fvvR+5T9Lr+uQZHCFsGXgVXBnQIbwptDv4TbxnCG5MbVxoTGtkbmR7GH7MeCR6mINkk8STlHvUUYw5/DUwRbBRyEWEHy/o0887xzvLK8PjpguFz2lbWvtMk0VjNnMiqxFbCBMIOwjjC/sGCwd/AU8FbwwHGQsjozsjcyu4k997vBuXP5y8ChiBQM9sydyj8IyktyELWVG1YVk7lRd9Ju1UHXLdUYUGGL18qVjOgPN44vChyFSkH3/7I/R4Abf8z97/qkuHG3KrYPdbI1WjWItRC0bbRDtWW1wvXytUQ1WfXLd5Q6I/vV/Br6zPo1uqh8qn8JQMoA33/P//bBSsOyhCxDt4N0BLaGssgoyLYIA4f3B9DIgsk3yMJJGkmMikcKBwithpLF6QXRBlTGXkVeA7NBeP+x/kb9rXy4u4n6qHj3tz71DTNr8bAwTfA4b93wKG/xryeuMS0EbQvt+C8ecH4wgrIqdQ75ufux+X63JjluwbeJlwzEy0CI54mizeXTrRcJVyLU8VSJF3ZaFFn4VijRVo62DuURMVIZD/2LJsbTxASCZUGegcaBrH8MvBD5ofiat9720rWp9Gczp7QvNcb23bVzMqexQ3KutQr3/zlsOVx4Wrdx95u5ILrD/J/+D78/vzP/I/9gAGnB60OoBPpFQIYcBxMIMQhVCCJH/IgdiT6JwEpHiY4IhQfwx0vHTkaJBYuE9QRNw5vB5/+rvcH9KDyZ/Co6gjiBNrh1JnQqcvqxaG/mboFuHm3f7azs5ixG7EIsqaygbW6wVrT4uDe3CrQstBT6JALFx/WHg4VChYXJjc9e00SUaBPzVEuW4dk2WUwXaFTWE+0UfhUYVRMS0895i8kJtAeixmNFbkPUwbU+4X03e5L4PjGPLIir+nIE/a6GrYh5Qvj6OHRhdTl6Sv/iAaH/dzq59jAzW/Mi9R54uHusvUs9l/0QfKK8h/12PkH/24EtQmJDV8P7g8IETsSPRIeECoOZg3PDoUQ7xK8FOsVdxdTGToZlxVqEBcNHwz9CbUF6P9S+j/1xfD97A7pPeND3RXZTNdM1UPS8M0lybXFMcTww3rDQsYCzLXQXM1axiPIptVG52HykfUA9qP5FwNPEaAdqiQkKWovfTg6QH1DfEHdPUg8Iz+nRIVHC0VXPYQzdSsDJ9olmyT9IEAbCxW8Dm8IhAJJ/VH5OPZI9eP1nfUB8QXqtOWH5p3qd+2h7UftWO6H8EXy2/Ea8Tzynfdf/Wv/1P1P++z5Gfr6+3z+9v6x+/z4u/g++Ov05vHL8V3zEvMQ8k7y0fKj8xj10PYZ9wD3//hT/foAhAIsAi8BQAEmAwYGgwcMB1IG4AWwBYoECwPBAB//uf6D/Tr89/hD9anxle4475rxl/Lu7kLqUuls64DvQvKv9TT4Rfru/EoABQSpBu8J6w05E0IYMBsyGoMXBhVnFkoaNh1wHQkb3hcjFQ4UQRNEEfoNzgs6DGsNQwyHCAIDBv+O/ZH+Dv9u/qL8RPvq+h37NvwC/Zr9J/6+AHgDuATEBIkFAgfaB3UITwkgCZMHIgUKBLADqgIUABH8X/ci88rw3e8m7v7p6eXu4nThxuCI4HbfF96w3Rrf6eD54pnk8uWb54vqY+5L8YP0d/cS+xX/dAMECLkLxg6GEpAVKxdkF+UY3RoPHD4cRBryFwYVcBPSEg0RhA6eC8YIegcPBnwE1gFY/rP7x/kD+RT4i/bD9KLz+fL88b3wL/CB8NvxXvOX9Br12/Va97n4wfrV+9n8eP7MAJUDgwX5BksHNQepB/MI5QpsDGINNg5YDpEOMA9UDyAP0g5XD80QwxGJEaIQExATEEwQwBBWEKUPFg8CDxYP7Q0tDGcKUglWCAgHkgW8A6QBFP8Q/LT4x/XI81zyNPE+753suOkn5xvmS+WL5APkSeOS42zk/OQ+5RrlzeUT6AHre+6j8ZTzFPWQ9t74QPwtANkDvQVHBnEH7AkPDacOtA57Dv0OyRBXEm0SIhF2D9YOrg6yDUIMrgrFCfkIlgcqBfYBXv8s/in+Ff4V/f/6MfkK+M339veb98/2ofWL9QX24/WC9cr0YfS99En13PUv9qv2K/fF92r4qfj8+OX5x/uL/XH+af6h/pD/BgGQAi8EvAXeBhkIAgkKChgLNgyhDfEO8g/jEPsR2hJiE+kTbRTSFBMVJhXXFPkTERNgEpoRFxDeDcALXgkqB94EOwIDANT9vft4+aD2gfPR8AbvBu7v7KDr0eks6Obnz+j26WLqO+rS6ons1e4G8aLybPQA9qL3d/nB+1H+ugCAAqcD2QQ7BhgI7Ak+C6EL1QuzDPkN6Q4jD7MOMA6TDQYNzQy8DEkMsQsKCxcK8ghrB+QFiASyAysDiQJfAYr/dv17+7v5Svjq9hb2W/U29NryUvEZ8PHuE+5X7Q7tkO1f7iHvde/z7mvut+7H76vx+PMn9uj3R/l9+vr7zv39/08C4ASWB38KXw12D90QzxHpEnEUixaKGBkatRoaGvAYxxexFmcVAxSCEt0QDA+dDBgJPgUpAuX/2f3X+wr5tPXj8tPwH++27XjsZOuv6pHq5+o161vrc+v+60ftXu9K8f3yPPQE9f31nvfm+Yf8G/8WAUQCIQOEBH0GZgieCfsKagyQDaAOcA+SD08PXw/tD1AQXhAIEAwPxA1/DLQL1QrZCREJ6wdrBt8EYQMbAp0AAP/J/e/8hfyc+z/6sPgI9yD2xvXe9YX13vRJ9PHzIfRL9HH0mPQG9dT1j/Zl93v4V/nw+af6Bfz5/eP/lwG8Ah4DRQMhBOYFuAdPCeEJtAmvCbgJzgkfCiEK4gm4CREJNgjiBlsF7QPfAhUCGAEMAJr+Df10+835vfhP+Av4u/cI93j2FPaK9UP1A/VH9fv1Ovbk9pn3/fed+B75y/nI+g78Dv31/Z3+QP8QAJEANgHKATUCuAJxAzYEeQSLBMEEDwV1BXwFtwWqBcUF1QWvBYMFKQXhBMAEhwQEBOgDhQNdAw8DzAKyAqsCegLoAX0BOgE4AT8BZgFHARgBDwEtAUIBwABTAIkAuQApAfQBSALhAaMB3AEDAkQCqgJpAyoEIQTSA3ADHQPqAkYDCATWAwwDHwKeATwBYAD3/yr/bP65/in+TP0r/MX6ePpx+hv69PnD+Uv5G/n0+B75Tfk8+Zf5W/pE++37B/xm/Lz84/y7/SD/hACwALoAJgFfAfYBugLTAt8C4gLaApED2wPAA5ECIwGNAMr/UQC2ABkAof/6/V39+vyQ/O78RvzN/L78avwa/UD80/ub+0v7Y/yg/Ev9GP7l/fT9q/2T/mH/dP96ACQBlAEVAg8CZwI3AlgCWQP6A44ErAS7BKsEbQS0BIQFCQb0Bf0FBgZiBToFLgW2BP8EjASuBK8EfQNZAwgDjgLYARwBYwGmANf/FP8k/ln9Ifw7/Cn7GvqF+fb4Xfku+C34EfjY9jL3Mvfc99X3cvcT+ab4FPng+V76LPwE/BD9Iv9RAGkBLwLAAqAD6gQpBzcIJQh+CCkI6ggBClcKugpGCgwJYwhFCPQH1wZnBZkEKQQhA00C0QB1/xv+q/yr/Cn8hPtA+wL7kvoE+bX4Vvnu+S7/kv5m+yH8kvmx/BL/Uv7r/iP+6v2s/G//jwObAM7+MP9t/mEASwD+/14BXQCZ/vv/CwKEAcwCUQUeBMQCmgIOAwUFcQX8BKwFMQZfBX8GFQjNBigGUwYDBUQFjQWHBMQD9wJiAYIBcAEO/9X+ev4j/B36pvmZ+H344PYI93H3nvQ89Wr0G/Vo84fyb/UT9Ef1yfXx9aj2KfXC9wP6afrR+5v7Ff70/Bv9ywGjABoC3wN+BHEFbASOBYIGsAYDBvIGfQgNBqIFWAfTBq8EIAQyBQYFkAT8A+ADoQMMAooCqwOEAnMBnQJXA1EBlQHzAREAPQAiATEBFgHp/rn/jAAK/sX+OP8GAGX/RP79/1b+dv2m/17/uv/y/k//rgDA/4oAHwE7ArcAkgEVAwQDNwUlBK0FQwnnB2EIWggUB6wIcwfRCJwIwAW8BUMEJgWSBPH/1gNLA/H/5gBl++/6vfoG/OL7+/c8+jv5pvgz+Ij2d/mV93D3OPmo9Xv2/vae9xr5kPe390j5L/qk+gn6i/sL/J35O/tz/G/91Pyt/ekAGADU/1v+OwDjAOL94QTZAwX/+QNiAxgGPgUjArMFoAQVBk4G6gR9BagB3QPSAzoAQALoAMwA2/86/8f72vo0+xn4QPzv+b/5ivs0+c/8CfvJ+dX90P3s//T/2/7sAMIAxwKKAyoD1wScBgIHagboBgkFKgY6B7MERgf8BQsGAQfABCAF/gG8AXICHwKIA04CTwLZAXb/pQB7/g8BEwPiAAwCsf8kAuEAL/6C/2L/owI+AgcAugGX/gn+Tf9e/fz9k/2I/+f/jP1v/J78rP3d/Br9jP0M/Zv88fyG/cT7uP28/UD8N/6D/a7+6P4u/cf9kP0G/mD/Sf9vAN3+0/4sAMT+TgAqAYwBsAH9AZcBRwClAUIC9QFyAYQBJAMDAzsBqwB+ABf/nP9AAjUDPQIaAUEBTwC4//cA/QCnAEAAVf9kAY0Ct//D/vb+S/93/93/4f9W/xr+jf12/jv+if44/+T/Hv8z/pb/j/94/X/8g/6JAJf/ev7g/XD+MP/g/woAN//Z/lkAnQFbAR8CUQFaAHsBAgNdA9YDaASAAxcCzwK4A4YClAKxA6ADzgLyARQCYwInAYYA7gDHAM7/lv93/3b/Af/3/SL+mv3//OX9//4L/n38UvyW/Tn91Pvi+2L86Pzo+4z7w/pW+VL5qvmg+eT4G/gV+EP43ffe9+L3xPen90v44/l3+Xz4sPkW+9L7lfve/OH+GP8p/1b/zP80AUECUgO7A0ED0gSVBvsHTAj7B9MIjwnaCakLJQ1wDBoMzQ0BEHMP/w7jEMAS8xK7EkkT7xPlEw0UOxQlEz0U2hQYEigQoQ4eDkEO5At+CHQHEgc3BLACaQHe/iT+5/xJ+sf4SPgZ9630HfP88jbxMvBA8PjtzeuN68HqKulA6B/n8+bD5jblNuR+4hzh2uAw4D7gVN8D3rzdAt5U3hfebt3r3HDdxd7r4NfhiuEj4nbjguVj6BLtePb1AW8JQAruCvQTlyEwK78v8TQgPC1COESLRFVF8kUhRidFnkJ6Pqo4JjDEJo0fMRsfF5sQYQtGCWQGhwBf+Xz1gfTF9FT1cPRC85/y/PGV8J7vVPCY8XLy6/Oc9vv5y/uX+ir4E/lT/hQDCwV4BGgDWwPgAhkBCv9K/qD+Jf+I/t77x/iC9UXzMvN38/TyMfJw8tbx8O/X7c3r0upp63bsvey/6ynpnOar5DPjROLk4Xnhl+EC4QvflNwU28jaP9k21+zVQ9tH52zy9Pc0+ZD90AaoELEbjCeJMPU1EDrMQMRFo0XlRAFGnkZ9RKY/TTcwKpsdVxUIDlwGNwBY/s/8s/gT9aXyUPBq7hnw8fRC+Hz6K/yi/Rb/gf9VAIsBuAIfAxoDfQQ4BEACFQO/BbgI6AtbDcUMnAvtCBsGPAOFABv/Q/09+gb26vGu7/vtfOrp50TmnOQl47jhOeEf4aTg1OBf42bmEufM5HbibOIU447iW+Fn4f/iA+RP41jim+Ic5RPo3Oi153jn1+mV8Hv9ZwypF3QaTRs7IscsPjYFPCRBC0b8RltHZEhRRk1BIzszOBM1pC12Iq0UPwc0/BL1ivDI67foWehD6NnmpORM5UDn/Ol87in0gvmi+xf8eP3W/t//AADr//j/CP+f/SP8rftD/If91f90A4MGKQkrC14LtwpyCtALuQ48EPAP1A6vDG8K5QdMBLX/v/vm+MT2cPMh7yTryOcM5bPimuDx36DgLuDZ3hfdSNsv2lHa+dsZ3onexd3o3Azcr9rq2VnaDtsj2zXaeN236TT+whE+GI8VghdDJM02dUSYS55Q1lPFVMhTTlOPUi5NZUQ5OyszHSlcGfAG5vYM7fDof+ZJ4/nfQd8j4PLfz9/C4d/m2eyc8j34uvu8/Hr8dfzc/Er8CPud+BX1xfE170vuoO7P73Tydvao+r39dP9VAisFOAZ8CNgOEhdyGgoYhBblF5kYPhdfEwAPrwtWCcEGzAHW+0n4pPZP8xLv1us/6EnkeeLv4+Hl1eSE4ezfXeEw45ziSuD13ePcwd0m31zfpNzE1z3SA8/81b/vbRKpIXASHwAhDDsvV0cMRwhB10VYUBtU+067R5tCYD4sN3QsDCJrGJMIj/Iy4njgSeae5nfh9eAN6NbuxPAY8Nzxovce/1EGSQt+DEwLbAruCEMFQAA3+9v1u+8Y6iHofOl+6pjq/+ps7BfvWvIU9NDzIfVg/IoHwRB3FNQTshPvFdAYFxokGMwTfg8QDOkIjgTE/ov5dPa380TvA+p85oXlXOU85dHk/OQe527q0+q/5+bl8uZN6MfnO+ZV5fbkquMP4drcY9ftz/bGA8Or1dMDPCuwJ3cFzfgtGrRGG1QlSEJDY09pW7BZUVCiSGdCdTf5J1scuxYGC0Lx0dTKycrSW90w3W3Zlt1Q6F3xgPTk9dT5DAFrC1wVcBxTHzYdUxfODl0GJQGs/EX1F+wP5/PnI+on697qBetv7PzuK/LD9Tb7TwT4D9gXhBrqG7weASPnJCMjmh8RHPcYjBP+C9AERv5r+XT1svDw6iTmfuRv5EjjLOF24d7i9OGG4Cbh/uSG6YnpoeWu4oXjT+YX5t3ilODR4K3gGtyB1XjPNspVxBnHmOmUIlc/4CDT8Oz1djJJYw9f2ET6QgpXm2K6WoVMpkbFQewxZBx5D1sLd/0q3ovAeb0v0uDi2uGf2VzZlOVE9P78x/5F/+YF9xKYH1AjFx/OGRkT8Aez/R75CPef7wbizNkU3Y7lc+h65Dnh2eW48qb9/gAAA0ENWR0VKP8nlCMmJWQsKzFnLpMkEhipDroIBASS/fn1i+9J6znpNubW4VHec91A3w7igOOV4e7e+t5E45Hpy+t76D/jgeH65ZXsb+/j7Oro5egU6xnqGeNL2UvQ7cfHwNPPQgkQR4RHtQid3iMKplvjdGJOeTHvR3Zv+nlTZClNekYBPlYoaxK8DpcT0QGY1RWzA7gK0xDeD9Nxx7/N6OOg9GP2kO7G7dr+fBe/JVokDiCrH8MXlwbN+TH6VfwU8Ovc6tV639XnlOIK17TVtuTH9j77a/Y99/ICbBD3GKcgsSeYKronBibEKPYpIyN5GKoQsA1dC+IF3P6q+S31V+7054/kHuQh4j3g7eGe5u/po+mX6BvrvPCR9WH38fdj+ob8ifvL9yH1tfPJ8K7qD+Su3UjUAMnsv+y4sbE7qve5IPREMI4uCfLEz5kCVVgOdxRZ1kJJV093/3+JbZVXJUujPC0nvhPVDssNF/fyyB+kY6OjuI7EM8IqvujHEOEt+QkD4Pxf+SUK2Cj7PoBCuj+BPm024CSJExgO5gxxAKfshOAK44PpXOYW2gTRotbL5DfqNeQ44XLvcAc2GkciHyUjJ0EoRixGMkwxBSUIFj8QKBMxEYkEmvKf5tTiQeKg3efTm89F1gjifehP6V7rXfBN9S36rgBkB1EJQQgPCZMLrArmAzb7TvO17APma92D1I7MV8aKwuq/XrxjtkSvWLGi09cMaCqJD8XlHPPTOctxXW4PUmNOWGOfchRtD1mrSYBALjMUHlgJnACl+M3dGrc4pGSw28EIw++85cJL3IL2vP4D+Dz0ywJOHFwvgzVQOZJBRULDM7IhJxpmGzcV9gPL9tH3C/2S9ufloNnR29Ple+a026bVB9+N8e//qAaKCdQLgQ6zE14bsB6+GrQVchUHGGIWwwug/Tf2Sfeo9SHrbd9B3fPjMehf5tbjN+Uc6oPwUPd+/Ez+fP4NAdQH0w0RDVkG/f8cAJcDvwOK/YHy3ufq4HHdutko0qbHvr6Suvq6fsb85YUIZQvE64DYm/hpMuVOpkODNlM/KFDUVkxSLEtySDRGzjtKKT0ahRThDEP5nuQV4JDjftsqy4vIo9gM6bTp19/S2+nkrPVJBbkPNBZfHmkniynfIpcc5R1YIc8fzhoHGWIZwBPxBkb7MvZ89NDxvuzf55TnfO379O/3vvQ28QrziffY+vr88v5M/gn9If5O/lj5KPKk7+7wEO5/5rnjq+hp7v3vy/BQ8m3ztvOI9Ub7rgHlBX0IBQoAC8ELlwtYCRAE2f5p/FP75/cu8VXqcuVX4drbItMtyTvCbcIHyzvbmu0m9RbsheCe6vwK0CisMZ4tyy2hNrNAakXWRB5DvUKLP7o1wSiOIlYhEBx7EO0FAwHv+znzRe0Y8X76wP8E/Yr2FfPP9gb+fwOLBL8EjAadB7gE9/9r/mj+5f1g+7b30fUp90X64PxJ/QD/1AECAkP/sP1SA44LJBCVENEOMg3xC58JsAXnACD9bPqW9kLx4ezm6sLoYOZM5gXmEeTJ4gLndPFR+kP9vPu7+ib9WAEsBYMGVAUeA5kBxwLhBHoEAgC4+Sn2G/VS8+Pv6utV6U7nreMx3TjVR9B60UnacONq5pfiPd9M5S7ynv7TBjQNFxN0F0IbKSJ8KpcxrzWSNxA3MzV5NXk1bDPOLqsqUydVIfMa/ReJF1gXGhRwEO8LUQSR/Rz4SvND7r7qW+rE6LHjyN+Q4ELkkuTy4s7iY+a47hH34/oR+mT7BwJ7CSILhglOCyQQJBLFEJIPzw6fDJUJVwftAz//5Ptd+636w/cx9VP11vVP9Yr1NfZT9FDxZfG39WX6pPpu94j1uPfg+jX83/lB94b5Pv9eAzAEBAQjBFgESQOuAeUBSAOlAjQAM/6R/cv85Pk09crwz+2i7OXqCOhe5qnmeugc5gnjkOai7o/13Pav9tT6DwEUB18L1A0zElUWvRldG64amRybIgkpbSoEJyQk5STRJj0lJiC7HeodIR3sGecT+Q1QCpgHWwOl/SX4z/VY9cfy0e3c6dDpm+t/6+DoR+aw5tzpYO3+79/xfvMc9CD1/vew/HYBJgJAAKr/EAL3BYMG3gTGAhwCBQMRAz8ELgNxANT+NfuI+ff5P/gD9/f1uPVi9mD4BPhe9Ij1PPhM/AsB8QHpAO0AGgFrAdUCKgKuANoALgLaAtUEIwbzBf4E/wLdA8kEOAYPBbQCpgWVBiQF9wEe/1ABkAKTAUL/+fuh+7j8vPq+9h/0sPV3+GD1OvAS8C7znfbk+AX5ffnj+uj9+QHPA3AGkgkTCi8J1Qc4CMcJYQrDCAgGrwXGBtQHXAYCA5MCSgPGA5QEKgTtA4AEMAY7B7kGiQetBz8IzggkBxUHcQYLBE0DOQFY/hT+JP67/WH83fqB+vr6a/v6+4/+9gAFAqMBiAAdAfUBWQIXAtwBogKjAsQBvADd//7+Qv0E/GL6MfiH9if1Lfbt9xL4vfeF9//3L/p4/ToANALOAxAFzga0CC4K0AqfCagIfAdxBVQDQAF/ABf/svuq+KL3M/jU9yn1dfLh8ZTzfPQl9Mv0/vZR+fL55PkW+vf6//vd/Jn9hv6E/wkAFgC//wgAwwCmAUQCqgKIAx8EYQT5BBcGEgi1CSUKfgosC/4LpAt7CtkJiQmuCOAGAwR1AOb8pvmy94D2I/W386/yrPH08QP0lvXn9i74lvp+/psCLwZTCRQM1g01D6sQ1xKJFEYUpxK/EJAPfg5IDPIIlgXRA+oChQGq/xT9MPrS+Bz5f/kc+UL4TPj++HH6d/w2/jn/df5f/cD9Mf+mADkBpwCF/wv/nv5y/Uv8vvu++3n7bPpY+pL7DPyy+qb4v/gC+7v8qvtP+Tb5hvs4/dr8fPuV+tn6qPvu/HX+tf9YAIIAQADt/1UAGQEBAiUD6wOABDEFMAXxA7wC+wIfBCcFowQ0Ax4C8ACB/+P9U/zn+rb5pvj69xr4zfid+ez5nfcF9T73s/vj/8wAV/5u/qQBAwYPCT8KKQvwDMMP2REJEjcSgxJlElcRUw/ZDXgMhQrWB08FcwO+AkIB6/xS+Cj2MfVa9ILy2PDj8NPwKfA071HvKPDv8BPyMPP181v1G/cl+A75Cfps+4r9TP/uACEDpAUdCJEJjQmJCfcJMwqCChgLdAsWCyIKdAleCbIIWwe/BckEFQSwA3UD2gKQAosCHAKcALf+Zf0B/Vv9Sv6U/lz++f0O/Un8rvt8++X7zvtI+7b6w/o2+zf7y/qJ+av4+Piz+Vf6xvpg+937KfzA/Mz9Qf+l//v/PgEfA4sFbwcdCLsH7AeMCToLyQttC9EKmAr5CWUJnAhdB1EGkAUCBVsEmwNDA20CsgCr/uH85/uR+sn5Rvnc+O33UPbI9IvzcvNT8xbypvAC8HjwbvFF8kXzcvTV9f32p/hN+y3+pwA0A50FvgcJCl4LEQzIDLYMCAwMC7oKwgrYCXcIHAedBdkDjAKUAZwAR/8G/Zf7S/tG+2P70fqg+uL62Pra+sj7EP1f/jP/2P7z/pX/PACRAGYA1P+L/6D/Yv/J/kH+cP7N/uL+bv4k/t7+6P9HAPH/w/+TAMgB4AI3BE4F4AUcBlcG4AbsB9MI5AhjCNUHHggnCXwJuggtB3EGwAaIBuEFvwT+A4UDCwKJAG3/VP4d/W77WPpG+qX65vkC+Kr2UvaJ9of2CPbv9VP2xvZ/92b4iflz+ov7UvwY/aL+wwBGAskCRQN4A6UD8wMDBAcELQPcAW4BbwEWAnoCbAI6Afj/dv///sH+Xf6q/Sz93/wT/Xf9T/2K/Rr9uvzz+9X7j/xZ/Tz+uP6T/kb++f6M/w0AAQD1/+wAUQLOAuMCwgIhAwQECQR4A+ECygLHAoICCAIrAacAXwAdAAAAkf/N/3z/Tf6q/ZH9Mv6C/lz+Ev93/woAIwHpAcQBxAGSAgUDJgNFA50DegMTA5sC6AJRAi4BFAFGATMBnQBgAKcAtv/U/kX++f1x/g/+ev5H/tj96P1w/WP9Xf0X/bD9tv0L/pX+f/57/mn+d/7//sz/K/+5/1z/+v7J/9X/2gCcAQgBQQERAa4BWQNSAxwDdAJNAr4CbQM+AwsD3gJdAnYC7wH/AesCXgJpAlwCQgIyAwoDewPtAj4C0AKXAmECiwGfAEwB2/+m/mr+m/3Z/PP74vss+xT64vni+VD5Hvkl+b35lPkf+cr5ifoP+4r70vsZ/Q3+GP9VAOcA4wFWAUICFgMkA7MEuQOPA34DnAPUBTQFRgTzA/UDwAOEA6QENwVNBFMCzwEUAtEBZQJlATwA+/5A/qr+xvxv+3j7Gvu5+o35KPl5+er3Xfg++I34I/lP+Un6Qflo+Wj6evzm/Xf9jf49/uP+kgDn/88B/AHiATsDrgL1A3gE4wPHA/MD2AQOBREFsgS6BBIFTAR3BOQEYgQDBGoDHgMxA78DgAN3Ah8BgwDpAIIANAAYANb/uf97/1b/f/47/sP+Af/J/+D+Hv/P/2//cv/y/7kAfgHsAdkBVQGpAXMD3wRjBdAEywSvBKgE1QUMBvME8wPnAlIC3ADBAZgDqgGi/ij9s/50/07+6/12/Kz6pvry+wD9Qvui+ov7avpD+fH5jvzB+0L50/nE+uj7LPyj/Ov8R/oJ+mP91f47/qL+h/+U/zX/9P9XAqUCewG2AXgCAwNUA2AEfARbAWkAyAAeAUwBsv/l/4H+jfxM/NP92P6+/Ov8F/yd+9P8bvyh/ZP94Pyj/df9kP0//6v/KP+//mT9Af96AYIAEgCkAEP/rP+z/1n/3QDvADcCygLrAfUB/gGRAzgDgAOEBHoFGAZCBBYEjQU8BYEFdwQ3AgYCtQGtAkACzf/O/tf/KQCW/zYADwEpABgA5f6N/ygBGgChAfEB1gEeAfL/9/64/sAAcgLDAlcAVv5o/2D+Nv81Afj/agBd/jr+twBXAbQDlgO7AWsAhQDRAgoFfAi9CKQF7AIFANEAAwISAoQEXwN8/7L7bPp1+sv6TP0r/gf8rvik9nT3zfhY+Sb9Z/yg+vX5h/px/X38Lv4C/i/+l/3t+0H/lv4t/8ABDAHY/y7/Vv8mAjsClf8GA+MDqwNDA4IAmwK0A8AEJgayA/v/Pv9KAmECVwGBAT4AJAASACD9Vv/y/Yr7ff56/Mf9ufzL+vz7Dvp5/ej9Mfs1/Sb71/61/xr9qvxG/Kz+KgAoAbX/hwBUAPD/6f+dAPb/cAK3AocECAbnAokCgwDfAXoD+wXAB08HpAOsBGADwABCAd8BGQXhBJgE2gE6/4r8/Prr/df/s//jAuQAyft4+Pn2B/w8/n7/vgDx/rz+IP6G/cT66/kJ/aj+EgNvAVQCLAIl/qz7Hfpa/SgC7weVB+8E9P99AM//UAHGAcQDAAg4Bp4H2AJ2AhoDwAF4Aq4DlgJoBEkE1AB4ASsAngBw/zD+6v49/lIBywQRBAQEpf5x+nf7GPvP/uEDYwOtAVYALf0I/Hz8Gv2K/R4AvgELAcEAUP34/cH+b/zs/Af9af9eAqYDJAMEAJz9Qf37/JP+Mv+rAukFtwP+AAT9afw7/I37zP1u/Fb8yPw8+//8MfuX+uP4SvhJ9d72Hfya+jn+Sv81AB3/0/oA+eL7nf0zADcEZQOkAnoAPwG0/1n+3v9dAIIC5QAiAsgCggBLAAcANf9b/jT+gv+3ApoAMAD//5/98/7D/8cAuwBAAVQCIANCBEkCiwNiBIUC0wMgBPMDDAVIB50ITwcMBqoF9wSWBGcEYAcyCMUGTwUmAxwCJgJnBK0DGwNcAS4AvwAL/1r+WP6m/Sz80Pvs/Nf8lPxs/OL7Lf0T/oP/CgFBAFv/A/90AJ4BUgGAAnsCCQOjAiQBjwBl/wcAewE6AjEBYQAKAHf/5f2q/Qf/h/95/+D/jQCg/wr/Yf4H/pj9UP6//9L/Fv8X/hr/tf7T/fD8t/y6/GD8m/00/eX9r/yq+w79w/vD+xj7sPo3+7D77vww/Ir7r/pH+8n7Nfw5/Y78xvxx/Tn+zP6C/s/+Uv9b/53/yP9tAXECAwL1AaQBXAKkAx8EOQT0AyIERAQGBAQEVQRLBKQDrQIrAmsCPgLnAfQAVQAnACMATP93/t798f1N/jX+AP6D/Tz+f/48/hr+hv7e/tP/hABqALQA3gBAAfoADwGXAVACqgILAkcCKAIcAmsCdgJ6AoQCCAPPAvUCFwO6AiEDCQNhAuoCKQP8ApcCsAFaAU8BkgHrAG4AJwCZ/wkAYP8V/z7/y/7Q/oD+Pf4t/oP+vv5l/u79d/1H/fr9Cf4z/lz+oP5g/tf9Hv64/RH+s/4o/xUAnwBTAKYAsADEAAoBeAG6AVkCxALzAn8DRQMNA2ACYQKbAgEDzgKIAioC9wE+AusBHwGjAK4AlwAzAG//pP9O//7+HP5o/XT9b/xI/AD8svuJ+y77EPun+un6MPv1+vT6Jfu4+3784fww/Xb9vf3o/Uf+hP46/xUAXwDPAOIA/wBmATgBrACvALIAjgDx/xEACgDm/z0Al//3/lL+sP2i/ZP9qP0g/g/+wv2L/Yn9kP3f/Sz+Bv5P/uj+Nv8i/1n/p//+/6UAQQEQApACdwKTAjgDwgPjAwYEOgR2BCUF4QXvBe8F3gWJBVgF+wSoBDwEmQM6AxID5QJcAhQCxwEfAZ4AAQC///3/UABjABIAyv9s/0H/X/+Y/wQAMQBQAB8A5f+x/1r/F//0/hf/WP9W/4f/HAAXAPz/7f8gADYAjwAUAV8BIgL3AgcD1AJNAt4BNQJCAoICfgKRAoMCAwKFASsB0gBKAOD/NP/B/tL+kP41/pr99vx//NL7pPtH+zb7Nfvv+qj6L/rS+Zr5d/lk+XL5hvmu+aj5Afp3+uj6Y/u0+1b8t/wi/d/9hP7H/nD/VgDOAP0ARwGpAecBYQKqAuIC6gJDA0cDXgMgA7oC8ALWArQCRALrAacBSQEbASQB8QD/AL8AYwD5/7L/tP+k/7T/pf+2/4j/l//+/wAABABbAKAAlABXAMgAFAH0ACgBxAEnAiIC5gHYAd0BpQHPAZIBOAEuAXMBkQEmAdwA8wDxAPkADgHlABEBOQFsAYIBgQH0AeABJwKLAo0CkQI+Ai0CSAJjAlACewJQAsoBOgEEAd4AsACOABcAnP81/3D/f/+E/4H/X/9u/zn/Bf80/x7/9/61/on+nv5P/vz90f17/V39l/2e/YT9Sv2F/cn9uP2Z/dL9yP0W/pf+xv4I//T+z/5+/oz+FP92/9D/+P8FANP/TP+i/8b/jv+2/0IAgwBEAPz/oP+K/9T/xP8cADMA1/8OAMH///8MAKD/w/+X/4j/1v9l/5X/of9f/x7/2f7X/sH+y/7B/sH+ev54/ij+4f36/TP+Yv5Q/lD+i/6w/tz+7/7J/qP+yP5K/4//7v9cAG4ApQDkAPoA3gDIAGoBDQJ0As8C5gL4ArkCugKtApwClQJAAiMCMwKpAs0CzgEpATgCmwHvAEoC6gKgAjICCwJXAnIBYQBSAAcAJQB7ADQB+QA1ANT/3v5z/u/+1v8eAGP/qP9T/7D+B/9n/60ADwGyAJsAdwBAAKoA+wBFAbYBkgGGAZIBmAGCAXEBjwG3Af0BWQIOApQB3gC9AKEAXwB/AA8AAwDk/0L/A//a/iT/b/+k/7P/gP9b/wb/ef7G/Q3+J/7p/dP9y/3s/bj9VP1g/Sj94PxT/bz95v0l/g/+4/35/fP9cf6M/mf+sv6v/nH+Y/5J/qn+7P6w/sf+7v6q/mH+aP6P/vb+IP8h/8L+5v7x/pj+8P76/vb+OP8P///+QP8//8r/Xv/D/qv/Zv8V/6f/ov/a/4n/Hf+q/9D/HwBtAPn/3v/z/8D/4f8/AIgA+ADvADYBVwFQATIBVAEfAvIBSAJ6AlYCYwIdAhwCLgJ/ArMCOQIlAhUCXALsAZwBDwLYARoCxQGYAZYBhgF1AaoBtgGkASQCPwL7ATICMQIHAt4B7AExAt0BKALsAfEBjQEwAZQBugCWAMMAnQCcAGwA2wCmADEABgASADAAEACFAHkAhQBMACYAXgC4/xX/Tf81/yD/iP85//b+b/6Q/Zz9pf3E/Rz+3v3r/an9af1s/ZP95f3u/b39yf3L/ef90f3A/TT+df6S/sv+J//G/sL+9P4u/5T/0f/G/8//kv8T/+7+8v69/oP+iP5I/mf+Gv7O/R3+Sv5J/o7+NP5q/qj+pv7y/rf+zf7J/uz+L/9a/5v//f+z/4T/sv+g/7n/3//5/zMAYAC/AK8AWgA9ANX/OACUADQAYQCtAKwASgD6/yAAJwBjAIEAogC2AA4BPwEeAeIA5ABEAZUBiQGnAQsCUgKNAhoCOwJ6ApACXQJtAkUCTgI+At8BwwFhAXoBawFGATwBOgHwAP4A1gB9AEgAkQDZANkA6gDCAO4AOAFsAVYBTAFmAW4BiwGsAcAB2QECArUBbAEcAbEAzQDbANMAzgDoAHoACACs/5v/2/+x/4n/Of9K/2H/RP9R//D+/v57/2H/Mv/x/gD/Tv8q/1z/Wf8G/yH/Jf/+/gr/C/85/17/4/76/g3/tv6F/mz+x/47/yH/gP4//l/+ff6b/lv+UP4h/s/90/1r/T79eP1X/Rf93/zn/D79aP2b/aD9i/2o/Tj++P2+/TD+Qf5x/nr+p/6n/tD+tv6w/g7/D//7/tP+Mf+Z/57/wf/Q/7f/EgA4AEsAaQCFAKcAxwAQAR0BVwHBARcCWwKtAn8CnQKnAuMCNwPjAvUC/QIxAxcD/QIKA+sC5wK2AmUCJwIBAqIBQgHGAJsAigBxAFcA5v/j/+v/5v/S/6D/kf+X/6n/2v+4/7n/+f8NAC0AQACsAMkAkgC8AB4BIgFYAc0BLgIDAusBQwJAAkYCNAJbAnkCOQIpAuYBXgF1AYcBSgFHAQ0B0ADbAK8AagBcAIUASAD2//j/yv+N/4D/TP/g/t7+K/8y/+r+vv69/pT+iv5G/g/+EP6//eL9pP1j/Vf9FP3d/LX8+fw3/YL9cf1A/Wv9aP1C/Tz9VP22/az9k/3N/fH92/2u/dH9uv3L/f/9If5F/lj+Yf5j/mX+mv6B/pj+DP9o/8z/xP+k/3j/k//t/wIAUQC5AMQAzACmAIsAQwAmAEgAbgCyAPUAIgHEANMABwHaAOAAHgFJAX0BhQGPAYEBoQH5AQ8CFgISAmACQwIYAgsCsgGqAdwBuAGoAXUBVQGtAakBzwHBAbMBlQFlAXUBYAE1AQsBIQEQARQBZQFvARYBBwHAAHEAnQDRAJ0APQA6AC0ARQA1ABcABAAcACQAHgBDAD8AUQCPAJcArgDZANQA5wDNAOQAJgETAeYA+AB+AIoApgCtANcAtQCqAHYAUQAcACkA4f/F/wkAbwBsAA8AOQBDAOj/zv/G/6j/Sf9A/y7/Mv8K/xr+b/7z/Uj9m/07/c/9jf3f/I38xfxl/QP97/wo/Qj93vs8/G79Pv0O/bv81P1s/sT8sP1j/nf+Uf7+/WD+uf61/gv/aP8+/8YAuABEAEkA0wCgACcA1/9cANMATgC9/23/1f/T/0n/Of+G/wj/cv/B/ib/z/5y/pf/Hf8L/2P/OP9d/3D/nf9CACsAXgBDATkBAgGYAYkB6QHPAdkBRQKBApcCagIPAhMCeQJTAmACYwJXAkACJAIXAtYBdAGOAUIBPwELAQMBQwFkAX0BegGeAbcBGAKDAswCvQIPA6oD8AMIBIYEogT0BBQFZAXHBWkFjAWXBWUFaAViBTEFtwSdBGAEqAMdA40CIwKNARMBogAaAHb/N/+r/iH+1f1y/QD9vPy//Gj8Pfyd+0H7x/qt+ob69/nV+R75W/j/9+L3PPdY9uf1XvWs9Bz0r/Pm8tXx//Ce8H/wFvDs7zTv5e787pjuje6H7qTuPe417iPwwfOo9yT6Gfxs/+4ELgstEBwU+BeAHFcgsSM7Jq0osyp4K7MqKymPKKknOSU3ICobghbVEtgOeAnIA2b+AfqN9dnwaezp6I3lweIa4FveE96J3iHfrt/u4NTjfOir7K3w9vQk+kgAvwWiCi0PlRNLGKgbLh7uH8ogICFUILoeORz9GSQX5BOADy0LJgcLAyT/Kfp/9YPxlO4r65XnEeVA40ji4OG54TfiJ+OB5DLmIejN6aLrOe1f7q3v4PBN8vjyTvMZ84Dyf/Fb8GjuRusJ6fHop+wH8X7ybfJD9ff8wgZ6DroTIxktIBAoeC6cM2g41zwjP6g+7DxAPa49wTqNMzorrCUTIUsbPhOyCugCxPyC9mHvfejq4iPe4dhl013Pj87ezobO/80Tz+3S1thD3pniYudt7qb2qP2/A0YJbg+iFf0ZjRxvHjsgKyGwH0IcLRkiF3AVuRL6DegIywW/AyMBEP0l+Tb2PfRs8m7wLO+77mPv6O+38PPyfPbp+Vr8if6rAdwFYwn4CkQLtAsSDX8NFAwsCUYG3gPIAPP8DfiV84LvFesE5hThZ92C2iHXPdMo0EfOdM1tzC7KvcdQxyfMF9bf4Djop+yn9BYDJhSMIq4r2TL5O8BGzU/xVARYj1lFWIxT/E0iSpNFcjw2L2QhaBbMDUcEfvkv7xjnxODY2sHV9NIY0h3RdM/RzoTRE9fn3PjgkOTG6nPz9vtCAmcHkg3vFGgbdx+FIcQjSSbFJ9slkiHDHZ0ZWBSRDC8EG/0T993wA+pi5EDhgt+Z3hrflOD94srl+OjV7Sn0e/rT/+AD5gi2DysW/hquHRAg9CLoJCslqSMFIY8ddRlrFIIOyQgQA/n82/bV8MDrLeck4kPcgdby0RHOyMpsx7fEd8NVwzjEnsXTx9LJt8vRzX/PPNFf1PnblOeo8vf4rvyLBDoTHiRqMHs22ToHQhRL71EkVNhTTlKWTolI0EHlO3E1dStNHhkReQbn/ib4g/Ez6yjm/OEw36feFuDM4bDhEeHr4hLobO4l83/1zPiy/l8FCgq7DFIP9xLfFe0VGBSXEnMSoRFVDngIuwKc/q36xfVL8CTr8ub842/ibeKF4yXlEef26mfx6Pi2/swChQcXDmwVbxsDHxsh7COBJyAqHSoWKeEnaCZzI3weHxkYFOUOjQhzAdX6ufUA8jPutOlf5VziveDK3tDbKtgj1VTSqc+bzXfMG8zMy8LLTMzxzefPodGV0inTytMy1H3VZtsL5xPzjvl6/BUEDxTLJ1w23jwuQNlGs1CoWCJbaFkcVjhROkrNQeQ5wjHeJiUY1Ag//OXzjO1l53Tg9thi0w/RFtOs1rTYs9iN2XzeaOZG7gn0ifg+/q0EOAr5Dc0QnhN8FTUV5hLXEBcQyA+KDS8JFgRR/8b7qPjn9Pfv3eoN58LkluTj5U7n9Ohn607wSvel/uYEiQo7EP4V/xtrIdIlZyiRKd4pzCkOKdYmLSOyHnUZTxSnD2YKlwTW/tz5NvZz867wau747NLrQOpl6NnmPOWH4v/ehNuG2IrW0NTH0snQws+h0PrR+tJJ1L7VD9dE2DzZRdmz2IPa6uLR8IT9uANAB3kRqiQ4OdNFC0k3SmFQdFmGXoBbU1QHTpxHqz7fMlEnah1/EpwDTfJi5JndOtuc1/7Q5Mr+ycDPUdg13/fjY+mH8U773gSoDH8S3BYlGkEcwBwTHMkaiRhwFNwOKwlEBJQAx/zN973xpOsm5/njF+EE3cXYJdbh1RHY3tsH4Zfny+5w9oH/mwmjEykb2h/6I/kouy2wL2MuVitwKHomASRaH8kYARK0DEcIcAOT/YP3O/K37sDsBeuf6bXo5+iN6X7pwegO6HDnheXZ4azdPNoZ2A/WHtMd0G3Ooc4k0N/R+NIK1C3Vvtb41zvYMtmh3hzrwfpkBj4LHBDRHZUz8EbTTsJN+05EV1hgpGGrWgNTK05JSHY8DC6EI6wb6w9U/TLqkN9p3j/fUduC1GjScthw4yPtcPP0+EsABAmzEGUW2Bl9GzAbkhgtFHoPWwsvB4MB1PkX8mzsY+lJ55Tk7OB+3dLbatvF2yfcbNxV3Rrf+eJF6Qnxhfl7AagIMw9JFl8eXiX0KOUoBSh8KD4qPiobJh0gyhsgGh4YVRPiDDsHwgMBAer8CfiS9ETz0PIB8vfwKfHO8q/zNPIN70HsbeoU6F/jYdyQ1UnRVs+XzR/LwshryD7KmcycziDQwtF3077UYtVz1RvXh9647Ib8ZgbqCRkQKSFUOW1Lxk8FTY9P2lkXYgRfy1TgTIhIJEHUMp0j6BkiExUHC/Sd4r3bO95M4DLckdY613Pg9Ozl9hL9FwL9CPwQVxdAGpkaexkTF3oSwQtIBUsAXPwx93HwX+pM54LnW+jZ53Xmy+Ws5jXoD+ok7FXup/Ba85T3iP0HBakMzBKIFwQcgSDuIwMlkyNYIdYfAR82HSoZbxQnEWMPhQ3DCTIFZwEy/lD7yvhm9n70N/Om8ibzePQX9uX2lfaf9S30IvL07ozq0eX34NHbL9cS1K/SB9Jr0RLRetFN05rVb9eL2ATZTNkL2e3XXdaI1grdQutg+0AF5AeqDS8fgjhVS/VO0kqiTGFX019bXBNRZkhyRKA9Ay8FH2sVug/1A9jv99xc1S3YHttL15fQg9Dr2nHpa/SL+tr/lwe/D0EVoBbjFQkVthLaDOAEs/7s+0H6ePa48InsZeyv7u/vMe8g7ufta+4+71rwT/Fn8trz7vU/+ff90wPwCcUOMhKdFO4W9xncG9YaoBdnFXUV/hV8FGwRog8sEKAQUw5HCiQHMQbWBaUDUABR/m7+fP8NACkAOACJAIoANv8j/IX3jvKz7S3o4uG127nWK9Pj0PbO4czzy/3M284r0E3RlNJp1E7Wd9cB2KnXyNdz3Ffp5PsrCy8R0xM6H942C0+mWVJWq1KaWLVhJGK2V8RLXkW2P4cyux9EERoKlwFP7wjYXMkSyUnPddAjywrJ+dEk49by4PvUAd4JqhNVGhkb5RjYF5YWdhF1CEgAzPz3+1L5evPa7S7siu0+7qjsb+rI6X/qMOtR69Hrv+3r8ED0Zfdn+z8BYAjjDn8SvhOoFYIYbxp3GV0WAxTSE4oUiBOaEBoOlg1XDeEKLwZ2AZ/+4vyn+sz3TvWi9L71RPeu+Ef6C/zx/Mb8ZPuk+AL1/fD77EXo9uI83kHbc9oX2v7Y6NdG2KXa7tyj3XPdFd7B3+LgieDQ3jHdTd4A5u/0NwW7DtAQqxWpJoU/v1DcUX9LLUy6VcRbmlVBSV1Bhj1tNPAijxEtCHEC4fWf4P7Nd8mE0O3Wv9Uu01/Zfuk3+3oGTAyPEp8bvSK9IuAdyBnXF5sTBQo1/x/5Ovj89ofx5urt59rpZ+zh64Ppf+gp6nTspe0U7r/vWfOZ9zD7Vv6WAqsIEQ/aEhgUVRWFF9YYGRekE8QR8BGaETcOBwn1BTcGjwZCA9/8Vfc+9Rr1W/Sg8qjxhPK19HT3kPpA/vIBGQSrAx4ClQCE/nH6TPSZ7abnQON736DbCNgd1VnT09IS09XTr9Qn1bfVL9fd2A/aytpv2jLatt326E76OwnAD7gRvBrpL01HPFPEUfFOnVSqXcpelFWVSuhDQz1zL+wb2wv9AnX6OerP1UzJHsrO0WbWMdbV2DDkkPWSBPkM9RLWGgYjEiZqIlAd1BruGJMSowds/if76/qQ91HwFurO6Pnqjusb6dzmwec/60juQu8i8Fbzpfid/bcATAP5B4QOHhSaFnoWlxZDGOgZARnaFXsT9RL9Eb4OMwphB7IGEAU4ALD5z/Va9QX2M/X58lHyXvQN+JP7W/6mAEACnwJfARr/H/wH+NPyUuyK5S7fuNm+1WPSKM8VzHPK9cp1zMHN286v0BLU89fF2nzcvN3c3zTlvPAyAS8QpRftGRch3zKPSDdVvFR7UMFSolk3WwlTDEfDPXc1FyhSFcEENPqQ8OLhjM8tw2TDq8uX0o/UB9g641z0EASmDeYT9RrZIq0mMSRkH4QcoxrZFLsKcgE8/XX8U/n+8QfrBOny6vHr1+lS5znojuyd8ELyevMd97n8cgG3A3gFZQkqD7sTWhUYFfkU/hXQFvcVrhN6EcMPYA2eCboFSQMhApQAy/zW9+T0RvUW95n3N/c3+Dr7mv+cA38G5AjMChQL9AjFBXYCWf4y+GjwEeny4sLdRtmR1ePSstBPz4DPANHJ0hzUdtWs18HanN2Z33bgxeDW4pnpLvauBD0OMRGdFNYgWzS6RDpKn0jBSftPllQbUQ1I1T/LOPItMR3qC+r/KPeL67DbvM17ya/OKNYj2vbc0+TF8nsBhQvJEX0Y/R/3IwEi7hxkGbgXnhOgClsAU/rA+Jr2ZfDI6AnlR+Zj6O3nH+ao5ifrzPAD9J/1h/i3/cMCBgVzBSIHYgtcEI0TIhRuE1UTDxUVF/UWMBQIEBEMGAnzBeEB4v1Y+kj37fMT8YPwbfIE9ef2ufha+3D/4gNfB4UJFgqyCXYIdQZpA3H+efhL8jDsTOZM4OTa3tZ11PXSnNE/0UzSf9TN1tTY1dvZ3/vj2+Zz6JvpWusk77r2/gGnDJISkRRGGdQlwTbZQh5G40UvSU9PqlEaTZpEnjz1MxEn+hWHBcj5GPDa457V58vPy7XS3tmG3kHk/e7h/NcIgBA5FpscDiIoI04fdhoOGBgWpRBiB73+k/ph+f/1DO/P6AnnvuiT6Szo5OY16cLuqPPq9Sr3avr//goCewIcAqIDBgjBDHQOtwwnC+8MvBAOEwUSLw+ZDJQKrwdtAw//p/tQ+A70P/Aq74Xx9vQR90j46fqn/+kEpQjUCYsJ7AiFB8sEuwAy/Kf3/PIS7hrpoOTx4FPeA9xM2cXWhNXE1e3WAdgm2ZXbvd9p5Nzn0Ole6yrtcu5j77ryfPoCA9UHWAmjDJIWiyWGMkY55zwWQuBIE03VS5xGnkAOORktYR3LDa4BG/iN7fbhXtnE163cBOOR6AXvtfjQA/AMQxM/GF4d4iBBIJAbuBabFD0Tvw4cBwwAi/y2+jr3WvHN66Pp2ukH6troaOjw6tvvF/RQ9jr4ZvtA/6AB1gGeAf8CvQXfCCQLhAxGDjkRThRMFoMW7xQ8ElMOHAn1Avz8ifeo8gDuPuok6UjrSO+x8zr4Kv2WAmUH1QpLDBwMewqAB10DM/70+C30d+956vLlI+Jc32/d5Nuc2pXZf9lz2ufbqd3h38niguYF6sTsC+8l8WjyevEk79jta/Ce9jX8Qv7s/pgDgQ/BHu4qkTKfOClAP0dSSo1I1UPTPbo0SCeUF0cKIgHO+JnuVeT33mfgueWT6wHxlPfJ/4cHTQ1aEQIV1heNFwIUsQ9DDVUM6glvBNf9iPno9zj2nfK87snsGe1Z7v/uBPD/8pf3j/ud/eH+vwAAA1cEswMZAsoBYgMWBnUI+wm0CzMPBRT+F3cZcxhfFrETxQ+GCdoBi/oR9I3u7ekn5zbn0ukK7hbztPjC/pcEAQmJC0gM0AvlCWAGVgGF+6L2XfJY7snqz+eT5R/kOuOS4kvi3uLE48Xk+uWi55rqt+3x7yLxF/Jc8yz0NfOI73bqn+Zx5sHp2+3i7zHxW/a3AakQRR5SKJEwDzmUQG5E60MaQRQ9PTYMK6sdyxLACzUFufxT8/vtzO6i8gf2ZPgc/IQB0wblCV4LCg3iDtwOwAuYB/IEvAPqAcP9T/in9Gfz1vIW8dDu9u1m7+XxRvQ19uH44vwxAHMBOgFlAeUBmAG4//j8+vrp+vT8vP+RAeMCHAV6CGEMeg9kEAgP7wscCDIEzv8f+0L2tPFY7jvteO5z8Wn14fls/gYD7Ac1DBYP6A9/DjwMwQmvBgADMf5I+Tv1APKn7zLt1erC6WnpkulV6qjrfe0i7z3xzPPx9Zv3C/mR+RL56Pec9U/yNe7p6BvjQt+O3vrgD+Uc6WPucPZQAWYNCBloIwksRzNHOGE6NDoGOZQ2MzFQKfYgPxrMFFMPXQlrA+j/1v7N/gX/M/9eAOMBewL8Ac0BTgJaAjABcf66+wf6BPkO+Gj2GfW49Cv1+PXX9pn4Pvv//dX/EwGaAncEvAVEBWQDBgEj/0j9Vfq19sbzevJL8kTzT/W697r6jP1AAAsDZQWmBg0GVAQhAqP/B/3q+b32qfQz9P70YvZ9+Fr70/5tAnMF0gfQCcIKawotCQ4HnAQSAjr/Ffzb+Nf22vXF9EP0RfTz9FP22PcO+Qj6WPt5/Nf8PPwV+xD6Vfia9XfyHe8x7Nzo2+S64K/cV9qA2vLcBeFB5THq7/Dg+BYCEQxVFUcdXCQHKiIuTDGRM4w0WTOeMBMtgil5JsciOR5UGecUrxF0Dj8LvgifBocE+gH8/q38efsC+rz3H/Ua85/y6/IM8wPzjvOG9dr3Hfob/E7+5wA0A64EOwXgBSkGmwXKAyMB0f7K/DX6s/b98hbwI+767I3sge2d707yB/VG9z36CP4aAk0FuwZJBw0I0gg1CekI3AegBqAFNAVCBUAF7wRxBBwEzAMYA/kB3gC0/2j++vxZ+2D61fk9+ZD4ZPgt+Y76hvsF/Kb8pfzi/DL9HPym+g75QPdD9Y7y4u/B7S/rcegH5oXjxuGf4Fzfid4p3hbe895S4Wnljert7yb1B/s9AjoK1BHyF5odeCPTKA4t5S/iMTUzYDMmMs4vmS1mKwMocCM9HkMZLhUqEXoM0AffAygB5/6V/DL6R/j69s/1n/Sg847zqPPA87vzyvN19Kf1IPdS+Dr5fvrr++H8Sv18/br9fv1o/Iv6nvjx9iP1zfK18E7vBO+m7+fwbvP/9tz6Mf5GAQMFTQkhDaQPrBBTEXkSQRNpEucPTg2SC+YJcQeuBJcCxwBx/1b+Uv0L/b39rf7V/lT/wwBuAqQDmQP5AnUCNAIOAlMAMP5v/K36Cvkk97n0svIy8e/ujuz36bnnpuXe41/ieuBJ34TfROD74GHiy+Mf5hrpvutQ7i/xJfUU+Wr8mf8pA5cHhAzsEHoUIRiSHIggVSNpJbwm5SeoKEYo7CZWJcEjpiGWHlcbVBjaFZMTwRDKDUIL2ggoBksD8v+u/JL5rfa/89Tw5u5Z7e7rBuua6jDrMuxc7enuWvC/8RzzPvQP9YL1xPVW9pT2TPZF9sH2K/fq9/z4/vm1+xT+BQHwA9YG9gn3DLwPIxIvFKcVXBZZFosV4hODEQAPPQzUCCsGRgSrAroB9ACSAO8A+AFmA2oE3QT4BOUEiARKA7gBwP9W/RD7hfhx9oP1cPT+8u7xyfBS8Pfveu7D7DbrYep96RroS+cp5+fnjOnn6pvsee+r8nn1LvfG+CL7Rf3m/s7/CAD0ABgCPQODBMAFSwcWCQULOQx9DXgPfRGoEgQTghM8FLwVDBfiFyUZsBoqHBcdHR13HHMbRRoCGNsTbg/jCiAGJwEI/FH3A/PB7wXtMurX54DmIeb25c3lSeZd56PotOkF65LsV+6O8NDyHfU497j5EPzp/Wn/0wA+AoQD4wQdBs4H9gkjDDEOKRAkEiEUgxUDFvkVARV1E3kRsw7HC8sIHAYwBKoCNwJzAosC8gIfA5oD7wOZAwADfwGa/1L96/oB+ab2RPQF847xjPCL8CDwwe9m7+zuwO5+7ozu0u5G79zvAvAr8Xby2vPr9W734/jU+qP8o/5SAHcBoAIYAxQE7AR2BUwG5wYmB84GagbMBXIEiQMiAw4CmAFiAUQBDwJdAwMFlAb6CBgMpg7VEBwTLBWLFg8X1RYUFtAUDxOUENgN2gqmB+MECAL5/kr80Plb9yr1VPOm8eDvme667SPt3+wE7QLuPO+P8GfyKPQB9j/4Gfql++D8Hv5t/4sAfQGUAtQDXgUtB7MIWQoNDEkNZA7DD8oQ7BAzEF0PSQ4pDeQL8QnCB+AFuwShA6ECvQGdANH/W//4/mj+xf39/Pj7IPvs+YD43/Ym9cXzIPKT8Ebvqe2K7LPraevA6w7shO3h7qvw8PLF9Z/4X/qB/H7+hgCOAkAENAW6BXcGUAdeB4IHwweSB5UHEAdjBjYFOgRaA6gBSQAb/+r9/Pwd/LX7Y/sL/DX9Mv7H/1kBFQOvBAsGMwdlCHYJ3AnoCfUJFgpSChEKwAmXCTQJ9QgcCP8G/gUpBf4DMAJKANP+xv2A/C37SPr9+Q/6Jvom+pH6O/v++8T8tf3b/t//vwBAAQ8CFwPTA0gExQSKBaEGfAcdCKUIMQlaCuUK/gqyCkkKJgq9CesIRAdqBewDRQJiAJL+qPxC+136yvln+QD58/hK+U75Evk/+b743fcr92z1q/NS8pbwg+967pftIu3x7KrtI+6k7/vxs/MV9qf4cfta/qMAGAN5BR8H8QjxCVkKdQvjC8ALFAvmCQQJwgcABnwEFAL+/5b+Pv0+/Nv6YfoE+or5cfl6+Z/5vfnE+Qn6Nfp7+hX7j/uO/Ej9OP5Y/4YAxgHiAhcE1AS9BaUGeQcnCE8I1ghJCXYJrAluCSoJoQj3B08HKQYmBT0EuANDA3MCtQFhASwBHQFsAYUB8QGBAjoD8wNrBB8FtQXwBSUGVgYcBiwGaAY3Bg8GHgZhBnMG/AUMBksGGAaLBVcEtwMUA0kCTwHF/+L+S/7d/W79uPzJ+1r7a/v5+iH6E/kG+E73WvZ29WT0LPNi8prxZvFP8WfxFvLh8uDzKfWS9n74IvqG+zX9Xv5TABoCCQOcBE0F/gUHBxsHAQdABk8F5ANgAnsBnv+T/X78tPvy+sL6/fnT+QP67vk6+lP5rfg3+Ir3vvbA9T/10fW39kv34PeA+PH5X/vZ/D3+Zf9PAcoC9wNgBZAGGwjKCS0LiQz6DWYPoxBUEVYR6xCIEPsPuA78DDcLfgk3COwGVQXxA+ACPAKaAfEATwDS/67/k/99/yf/yv7W/tr+vf7g/uT+PP+N/1P/YP9m/w8ASQFtAkQDnAOuA04EPQX7BTsGhAUzBRcF9gQvBG4C+gC+/93+9f18/Mz6vfko+eX4U/hA9y73effY90D4k/hF+dz5YfoG+wb7i/vS/Gr9Pv6C/gX/ZAAiAUQB+wA3AbwBiAExAUIARP8N//79NP1X/ND6tvrA+tz5nPix91H3BPe29nD24/Vb9fL0+POf86zy5/Gs8iTzyPNe9Ij1ifdx+WD7g/18/8oBkwQ4BzkKkgzODp8RXxSjFm0Y6RknG84b7BuRG7EZ5Re4FSwTVhDdDPUJawfHBM0B+P5S/Cb6X/jM9iP1ovPI8qvysPKo8tzyqfPX9NP1zfb692D55vqV/Pr9Q/+CAEoChASJBg0I9gjLCYkKYwvvC00L/Qn7CD8Inwc+BvoDbwFq/6z+NP40/dr7x/qI+h/7yvod+sr5tPnj+qf7tPvP+877Nvyw/G/8J/zz+977Vvxz/Az8v/uX+9b73fug+6X7P/sC+8L6Pfp4+eH4e/i+90v3k/ar9fH0IPQ1817yrfF78Q3xVPDO7yfvF+/U7x7x5PLm9CL3Svrg/WoBywTQB14LVg/jEzwYkxuqHh8hZCNJJVAmFCc1J+MmvyUxI0Eg1hyqGJEUaxAUDDIILAQWAAv86Pc29K/wu+1O62Ppa+gF6MTn++d66E3ps+pj7JDuPfHR86X2jvkx/Jf+vQD9AmAEkAU8B9AItQn+CesJ4gmuCQkJugjhB+cGLQaCBRQFvwP2AdYAgf9q/tX9+/w9/Nb7BPxw/I78ivyZ/Gr85/zz/cT+0v+6/23/Wv9d/mD+Q/7y/F79Cf5j/dX8DfwB++H65fov+tD5Lvnb+On3Nvdq9lP1jfWD9AL00fMv81rzefOR87rzavO68pbyFPIr8j/zD/RQ9a72UvjN+R771fzz/rwBOwQXBz4KQA2TD8ER6hNKFfYWfhjxGe8aZRtoG/4aYhpgGXIYbBcSFnwU7xIPEfwOsQxkCn4IOgb1A+QBw//C/Qv8s/pc+SL4C/f49Wf1+PSh9Nj0b/VH9kf3HPiD+JP4lfjD+Lj4xPjT+Er55vk5+uP6f/sg/Hz88PxK/fH91v5l//v/yAC7AUoCDwN1A9cDdATfBIQF0AVRBg4HaAeXB1sHTwdMB78GFwYWBbEDagKaAb4Arv/Y/g7+FP0m/EH7/fn9+CT4+/YS9jz1ivQH9FnzpfL+8XnxIvHQ8H/wNPA18DrwIPAR8BLwSvCJ8N/wI/Hc8fHyF/Rg9Wf2dvcQ+b/6KfzV/YL/ZwGNA3QFMQcbCfYKigzzDUUPVxA+EQgSihJtEyYUZRRlFDcU8hOhEyQTdxLNEQ4RPhBHD0kOHg3xC8gK0wkBCbkHzwbSBa4EBgREA3ACoQG/AMX/5v4T/mn9iPyy+xX7JvqK+RL5p/h6+DT4Gfgy+HT4yPgs+R/51PgH+XL5Ivqu+jr73PvN/PT9D/8gAAsBBQJzA5IEGwWRBaAF8gU4BlUGwQUwBW4FMAWnBA0EEwNCAh4B/v9e/xD+F/29/OL78vqJ+TL43fd191/31vYZ9sX1SPTt8jzy4/D975fvK+9n76zuzu1o7bfsde3P7rPvkfAM8dDx0/KT8zz1D/dI+c77s/3+//wB6QPPBjYJTQudDYUPfxH0EssTpBR/FUQWvhYOF0EX6xY9FgIVlxN2Ei4Ryw9+Dg0NWwuiCegHWgY9Bf0DggITAXX/+P3N/OD7C/uA+sP5aflO+Ur4rPeT9x74E/l6+VX6W/vs+7H8Ff1Y/W7+Sv///1YAXQA+AaQBYwESAeYAJQKYA24DZgMUA9QCRwMCA2EDPgPRAlQDcQNMAjEBvwFjA+QDuAOSAg0BlwAL/xH/nv4w/SD+YP7g/eL8s/t8+5j6ovmA+Jn3EfjE91z2+vQI83DxBvFE8JvvJ+9f79zvN+8b7mft2O2m7i/v4O4o757wbPLo9LH2//jI+9n+CwOpBZUHMAo0DXEQ+BIHFZEWwhcyGRobKhxDHCccdBwrHLEamxgyFhYUPRJBEM0NPgtxCOoFYwO+AGb+WPx0+pv4qPaz9AXz1PFR8QXx7vCh8EvwRvFc8obz3PSa9Qr3r/g3+vr76P0kAGsCLAR7BUQGYgarBkYH0wj3CbYJnwlCCXsJVAmfCKgHvAbsBjgGjAQcAkUAOwDMALIAHgDv/t79uP6L/hT9HvwZ+6z7t/xF+yb5W/hs+AP55/g4+JL3cffU9lT2WPUh8xvywvF18RHwxe5L7t/tfu0k7bbrneo36ivpCenD6FPoNema69Lul/F49F340vwxAgUHFQuCDxkUDhmyHQ8hDCRdJ4cqki1OL3YvGy+gLXwrmii2JKUghxwWGX8VkBG+DfAJ1gWnARb9qPiY9Fbw2uwC6uDnreaS5s3mOOcj6Fjpturb6/rsie5Z8IPyRvVg+F77g/7aAQ0FIQj0CSAKWwoSCz0L2wrmCSoJiQksCloKiwlPCJkHKQc3BkcErwG+/9z+Mf6d/R/9Ev1H/Xv9zvwD/Pb7Nvy1/JH7svj19V70TvS09Yb2gPar9vX1DvSM8Tvvku1q7PnqLel556PlUOQs5FzkcuPH4fDfJN722+fZ7Njc2rLgy+dp7mDz7visAGgJ4hC3Fb4alyGKKUgwSzQtN+M6lT/LQxJGfERAQCU73TXZL7AoziGEG3UWahH/CzYGtQAj+6j1IfBF6iTlyuCb3ZHbjttK3dPg4ORP6HjrGO688A7zePVi+N37FACMBLMIPQxSD24RvBL3EqASjRFID2wMlwmfB5UGTgZRBZoDKgJhAawAe/5V+zb4yPbz9hv3RPdz9wj5n/s6/s7/6/+F/xsA3QDuAF8Aj/+M/3wAowHfAC//rv27/CH7RfgP9HXv1Ov/6GfmHuP/37zdzdzx2zvaQ9gN1iXU+NGAzzHOFtD91nrgdOiW7cLy2vpABUQOxRPpGNUgOyt+NP85oD0lQf9EGkiLSb9HE0OkPHo1yi61J9MgwBl7E6MN/gf4AV37VPT07E7md+D427jY6dZV1qHXcNqF3vnijOaa6XPss+/s8oP2EfuSAD0HGA41FDUZbhzlHckeHR8PHpkayxWIEn8R0hBVDpgKrgcuBsYDYv8m+W7zhvCO73Lv8O7p7vLvEPMt9v73Lfg5+J35wvrx+3H8Mf24/o8B3AMKBcoE8wOLAxgCyP8f/IH4KPVl8v/vSe3u6W7mR+NS4PjcVNjf0xbQMM0syj7JQM0i1/HiW+pM7TvxWftXCPURRhYJG5QlTDMFPs5CC0UpSJtM80+5TxhLY0MhO7MzgC1SJgYf2RfqEO4JqQLL+nrysOkv4aTaYNXp0XTP287tz5LSVNZ62rbdqN+h4bLkR+lj7mz0uPvcA/ELxRLpF0QbgBw+HBIcshzgG24YCBQCEnsTshTEEtUNLgnCBgwEyP4G94Twi+6b8InyyvHy7xbwOPNL9RT00fCn73XxtvRb9934Gvt+/kYCfAQ8BJ4BVP8R/gn9ZfvT+HH2/fQQ9Gjyz+5g6bvjN9+x29HXA9Nzzr/KR8qTz2javeUv6kboIun38zsDlA23EKgVKyOtM4A/SkN7RNxGMkvRT7xRt0+/SRNDJD3eOEozASwWI5IZ9BCRCTgCb/jV7bzkpN8M3DfYMdT80Q/SGNMn1anXEdp222Hdo+ET6MruDPWh+3UCjQm9D6QUDBjAGf8athwbHrQclxgxFZ0UExUnExEOwwgyBkUE//+d+DjxKe7R7gHwye737NPsFu9o8Rnxu+4s7U3uc/Gx9JX2Yvjs+hb+wQDkAWgBFwCy/y4Awv/C/VX7M/rs+A32IvGg603mReF+3FTX19EMzbfI68VryHDRydyl4IncRtq35J73BgUWCVYMSxkWK4M4zjybPOU+hEQSTMxQP1GwTEdH4UI8P2M6RDOUK90iUxu0FMYOBwZw+pvv7Oi35KDfxtnk1LDSStLY0pvT3dTs1TTYVtw24rXon+6l9A77kgJTCtsQsxVUGbccbyB1I8EjByHNHQAdFR7sHe4ZexSDEGAO1Qo+A1v6ffRg847z4vEF7nTrpuuq7G/rIOhI5kvnSOoU7cDvl/Kr9er3p/mk+3L9yf6X/9YAbAKOAyIDRQLOAGP++frk9qfyxu1a6EDi2NwL2EHTQ86MzGbRGts94IDaQNIg1TrmE/dM/en8YgN0E4QiIioPK2ktWTPGOwVD3kbDRsRDr0CfPVE7LjjDNBIunyaYIIMc8RZeDNYALPiy88juNOg74SPdR9rU183VQNTB03vTudTd17vcHOEK5XjplO8B9/v9cQTnCZ8OpxI6FzYcmh52HfoZ9RkzH6cj1yA5GHMS5xECESIKcABG+hz6ufsg+mP1XfD07s7vUu+E6+rnBug763fuZfBg8g/0dfXy9of5Z/wO/lj+mf8KAo8EUgUfBOYCYwHJ/y79G/nY85juPepy5njifd0810nUj9gO4Wbk29vB0JnSs+Qs9uL5+/Sc98gGQhZ4HfgdOyGjKNEx3zgbPh5B10CjP9Q9Uz6HPv48JDc7LwMpTCbWItwZTw6+BG8Au/tG9JbrQ+XG4DPc+dfy1IzT09ED0SjSetWl2Ojatt1u4lfpTPA897T9XgNFCAkNsxLYF+Ua8RuuHZchhiXcJhAkfB96G2cY8BRAEEkLSwaDAqz/WPxU98rxuO0e6wToCuRO4Qvh/eKB5eLmeOfw53XpUOy27gDxofPb9on6ev51AfAC3wLLAnoDXgNIARr9E/lz9oz0G/J57pnpt+RH34vcp94u44/jr9rL0STVQ+XB8gvzauxl7vb7Mwk8D+sP5xQ9HgMnYi67NAo6uz0aP6E+zT+KQZpC7D/XOWo1EjQqMnsqRx+JFoYSZw06BNX6SPSZ71zp+uH+2wLYNdXM0u7PDs8H0ALSVdQe14DbDOJJ6Znu4PGm9RX8MwP9ClYRHBbBGYkdPiRnKocrmSeHIhYjYiXLJRkfJhMjFvIY9hI6Cg0Adf6C+5r0Xe0f6gPq9+da5ffj+eM64+Dj++Ii4p3lO+vr7Wfuxu919bL7vvrk+CL6Ef6//5X72/n7+/D8DvuR9/H00/IF71fqieQc4OLhRObj5dfdGda32HLkoOvo6bHlk+cq8o/8fwMxCMkN5xS9GzQi2yhmLjYx5zIiNbI5Jj6lPwk9hThcNoo24zRkLqgkqRyiGO0UTg5aBSD+WPgF8rHqV+R53+XaudYM1O/TztNc04nT4tWs2cnc4d+x4x3oYeyh8Rj4U/9/Bv8Lig+vEWwVfBu/INch+h8zILwjJCYJJM4f8xt4Gc0WXBI1DdUHewOSAPj83fc18wTwBO8z7ijs8eps6kDq0OqG7NjucfCf8GvyRvbO+Rj7gPqt+6L+ugD6AMYASgHgAekAnf9T/iP99voz96DzaPAk7WvpE+cU5yHouuXX377cL+AA54zqjOmH6MTs5PM9+sb+WAOUCYIOvhKHF50dJyNiJuwnFSqBLdQvgjBPL5guji5rLUQqvyWIIZQd8xixE1MOrgiDA7X+2Plb9RnxLe116cvlz+Lb4Mnf3N/E4Ljh8OJN5I3m9+hk6uzr2O4X82T33vo8/T7/DwJWBmkKXQxaDIUL2ws+DZoOJg/wDdEL6wmSCEIHnwXwA84Bo/8I/q/87/tm+8T6gfrT+ir7F/uq+hL7RPxC/Q/+0P4/ABABRQF9AcgB8AF3ATwBeQCL/8L+Fv61/UH8Yvqp+AP3YPVV80vxBvDP7srsW+ut6s7qHOta6jzpSenT6qftwvBc8+71UPis+y8AbQXUCbMMRA+IEmEW8xnwHFIfsSEpI7cj4SPYI+YjCCMpIZsfoR5RHd0ahBd7FFIS5g/dDCoJ3QWtA6UBF/8Q/IL5offq9Wvzs/Ay7/jubu5v7bTsPO3n7YvtQu1e7Znuzu/s72rvPPDG8n71C/cM9w73zfcA+mT8v/0O/ij+kv/zASUEqgRWBLUEOQZOB2UHuwaPBugH4gjOCDAIyAd2BxUHLwYnBtQFWQRtAqQAGQDW/9/+tfzg+hX5q/cz9lb0UvN58vfxTfE28CjwI/Ag75Hu4+2d7Qzuzu0a7k7u+u4d8WHyY/N09OD0gPbE+OP6Ev0j/hQAawP3BSgI6gmiC1cOoQ+YEB4SjRMsFTMWdhfbGJYZbBl3GY4ZBxqvGqsa9Rl4GKwXhhfvFl0VBhOeENsO9AxkCvAHeQWVAzwBXP7L+2L5Kfem9JDywPBF7yLu++yt67LqIOpO6gXrEutn6/3rDe2Z7sDw3vKb9Mr2K/mX+8T9CgC9AQ4EwgY9COIJSwuSDF4O+A6jDrUOvA5vDiINYgtTCnMJQAiGBoIEAwN1ASb/IP3L+vb4Xvgb9+/1SvUT9GXz2/Lo8arx8vBY8KXwf/DB8HHxj/G58pfz/fNQ9WP1wfV89sv2qfcd+P74V/rH+mL7I/yK/If9Nv7+/tT/nQA7AmcDIgTUBfUHvgnvCtELcg0eDwUQgBCZEWkTkhSHFAUUVxQdFe8U1hNxEo8RoBAMDy8NTQtWCUcHUQUrAxwB6/6h/IP6Z/i69hj1bPMK8vrwhvAc8N3v7+8z8Mrw8PA78Ufy4vNf9TX2Z/dk+aL7QP2G/kEAWAIJBHgFuQZGCOkJXwq/Co4LOwyBDFoMHgytC8sK7gmlCEsHHwY4BYIEoQPCArABqgDg/xb/5v30/C38lPsL+2P60flD+Qv56/h++O73i/d698z37vcK+E34ovg8+aH56/lM+nX6tPr5+hT7UPvH+zr8cfy0/FH93/1y/uP+Wv8YAK8AZgHrAUICKQNjBF8FVQYSB4IH7Qc9CGEIlgigCKEIzgjHCEUIfwftBk8GcQV5BKQDywLSAcoAw//c/gH+Iv0b/G77HfvV+h77Xvtk++b6OvpF+q36BPsm+y/7pfsT/DD80/x9/Yr9oP3U/TX+Cf9H/07/Mf+6/2sAugAWAQMBXQGYAeYBOQIMAuIB3AHaAasBlQFTAfEAlAAnAPT/WP8X/9H+Xv5n/iP+i/4B/3/+7f3E/f/9Uv5H/mP+rP4V/67/nv+C/5//rv8yAKYACQFBARwBoAEZAq8C4AJ1As0CygLhAtsCvgL/As8C1AL3AjgDVANVA94CrAL+AjkDVQOdAsECIgNlA5ID1AJhAgACuAGrAZwBoQFgATQBMgFpATsBvwBXAAwALwBbAHQAwP9U/03/e/+M/wv/Lf9F/1T/rv+R/+X/EgAmAHgAgQCjAI4AMwADAF8DygQGApMBCAKsAuQAbf8GAL3+cvzy+p377Pus+kb5XfpX+lD49Pbl9qL4k/fG9r/3L/gr+br5K/si/HD7gfur+0r77vp0+nb7pPxW/Nn9Rv9/ADEBowDvAcUBiwDyAOgAdgEBArYBFgMqA64CwgPAAsABPQEMAAgA5f6b/g0Auf/b/68ACQGtAb4A6f8EAIf+cv0L/e384/0k/rD+wv95AFUBCQJLAlACqgLrAoUDJAS3BdUHLAniCVgKLgumC68LFQuHCuoJOQmDCEAIdAi6B+IGPAZxBUEE8wKjAVoAH/+5/Qz9Tvyq+zr75fol+9H6jPpI+pP5Gvn7+G/52vlk+jL8Tf6h/5wArgGKA9kEKAXLBRAGGQeCCHgIagiXCKgIDAm5BzgGfQW0AyQCYwDd/p798Pt5+pf53vgP+Af3yvUq9Z30H/SN863yKPMM9NPzUvQL9aT1A/eW9wj47vjC+WP6yfqC+6n8Af0M/Tf+y/7N/jf+U/2M/V792/vc+rX5b/hv91D2iPaf9zT4Dfg89033BvrH/FL+sP5c/2YCDQUBCB4Ldg0uEMsRUBPFFdEXghhwGLcXqxfEF1MX/hZfFWsTixGCD2kNpQobB5wD4P8K/AL5B/YO8wzwn+1V7Cnr/ukc6ezoGekx6f3pHOxc7q7wZPNf9iL64/0SAUwEnAejCqYN9w+hEqEVKhj2GXYabRv3HKYdUBzHGQUYpxY/FMQQTw3BCYsGgQOpAM79fPqE98r0VPJH8JXuM+1f7K7ruesl7K/se+0w7qbvGPE08qbzFvXm9Z72bfeI+Db5HvnA+QH6k/kP+Tv4N/f+9U70mvJb8Hztb+sS6mrqE+1c75ru0uwn7wj3F/60/2v/lwIYCuUQLBWAGWQe/CGZJKongytTLvYt0SvIKC8nXibOI1Mf1RlaFbcR/QzSBiQBBPvt9KPuguhP5Brg+9tb2FnWJ9Z21pDWsdYN2K/aMN6g4Zrlcurk76/1m/v1AQcIgw0LEhEWDBoCHagepB+9IUwkDyUCJEgjVCNCIiAfJBvVFwwUhA9zCk4GNgPk/2H8uPj49Vz0L/NQ8SjvmO1g7UXude5j7k3vF/Hs8jH0HPUM9rL2M/eg9+f2NPb+9eD0ufME83zy7PG58BbvBO757EPrcumU55jlcuME4QvfYOBb5kftEe+x7KXuE/rnB54NTg1CELQaNiYGLb0wIjXAOlc+H0ChQZdD1ELiPZ82KjC1LG8okyAuFqgNPAiHAmL6m/F76grkZt3O1iPSF8+ZzK/Ku8mOy3TPTtM81oTZpt585cnrWPHp9vn8OwQdC0oRrhbeGgIeXyDdIQsimiARHlUbahhPFZ8SVhAzDs4KRAYTA94BTwDq/Bz5qfZK9qD2f/YO9ub1M/dX+dT6rvuh/Pr9zv4A//P+M/9p/2b/Of8D/+L+bf6P/QL8vPn79iH0rfB37GnojuXb4/bhZt+C3bncPNyG25zax9lt2CDXgdb81a7ZhOMb7lzyP/Fe9isH+xgsIPwfNiMQL1g7+EBRQqNDekdKSp9JykdkRntDwzsRMP0lsh8SGf8OdgI6+Yb0we9r6Yrizd0k2x3YZ9Rg0njS+tO11bbXhNym49rqfPAD9dv6/AHsB7oLgA7YEa8VwBhaGk4bjRsCG+UZvReWFBEQFQvLBrwCC//M+xX6Gvoi+vb4F/gn+on9qf40/fP8xv+/A4oFuARiBK0GDgpUCxQK9Qh0CTsKCAnnBW0DoAHY/wP+m/up+a33zfQB8hfv/etn6A3kl9+p27LYs9aB1OzS4NI3003TLdPN0+XUCdXL1NvUodQs1j3cB+fa8Xr2H/gGAFcQpyAuKKYpJS5mOP5BZUWPRH9FAUmzSbNF5kA7PqQ6cDFBJFIZThJ1C2wB7fbP723sXuml5OTgoN8W4EffOd0c3RTg6OM55qLote3K9AP7wf5IAc8FJwtDDt4O8w5tEPIRMhIhEeUPzQ6RDVkLcwg/BWsBbv07+k/4ZPbh9MP0VfaA+MD66/3YAQ4FEQdHCW8MGxDgEvcT8RPGFNMWsxcjFl4TQBIBEv4PYQy/CNUFRgOCAKj9VPvl+Gr20/P08GHuROv25jXiEt7t2gbYkNTA0SfR2tF/0mLS1NLw0yzVo9ZD10/XUNfP1vXWFtse5YnxU/kL/EcBmQ6IH00rbC86Mrk4tUCbRRVG30V3RqpFD0IiPZg4vDMsK5UeORIcCBQAK/eC7UTmp+Id4WDfFN5T3mrgA+Jf45fl8Oi17EbvQ/IY91n9qALdBSsIGws8DgQQ8w+hDhgNgAsBCjQI0AVGAzQA1fya+Xf2EPOZ7wLta+vT6vXqNuzp7onzz/nV/wUElgfEDXUVvhpzHFEdeB8kImQjrCFQHo8bfxo9GcMVHBGRDfMKeQc9A4X/AP3L+kP4bfVE87TxWe9X6zznnOTp4WLdLtjH1H3ToNJ/0dDQitHJ0/PVcdfP2B7a99tA3ZTdxt0S3lng3+YC8j391AO8B5QPZx2VK/szTDeBOy1CwkecSbFIVEg3SJ9Fzz/vOCcyVCpTH0YSKgay+wnzv+pH5Ljgm98+4JvhAeSR5xXr/e0Y8a30Rvh6+jD8Dv+hAiQGSQguCW0J3ggJCNMGhAQwARL9pPlp9zv1DfOl8Nbuce3u6yzqh+iI6FnpXeqI7D/wp/WE+24Btgf7DQUUcxlvHlMiLyRvJHgk1yM8InYf5hpKFoQSFg/tCtMF4AFk/xn8+/dd9E7ybPFg74DsmOrI6STpC+cH5MPhr98x3S7abteQ1ibWS9VE1UDWfdi82iLcSN0T323hNOPZ42Pkl+TG5MjnRfB9/CAGbgpZDs8YRSgmNU07tT6fRPhLKlCCT9hNtk04TBZGsTxENCktvCPIFegGqPtd9GvtX+Xt37ffE+MU5ujnCOse8LX0Vvcw+Rr8+v7l/1H/g//SASgEIwRNAj8AH/8B/oH7Bvi89InyN/Fd8K3vNe8O70Lvne/y72jwEPGH8r70u/eu+0AAWAUxC48ROhe+Gy0fdiJcJVAmxSTMIdEeHxyXGP8S+QzVB/4DTQCs+/j3TfUf8xnx1u6B7ezsIuyA6wPrBOsv6zjqiOgU53/lh+Nk4NTcr9oi2cLXg9av1ZHWPNjL2Vrb8twP373gfuGn4cfhcOGS4Srlu+5K+8kE5AmvD7EbqyvsOJo/YEM7SdhPM1OXUbVO7EyaSYFCfjixLmMlARpZC6f8XfGN6gXl2d782jrco+GV5+XrXPCT9cv5evwo/o8AdwJmAkcB5wBGAnIE9wQCA00Ajf5I/Qv71vc/9e/zuPMx9A31YvYV+M/52vpV+5n75PvU/Az+AQDRAuIFBQpaD7sU6BiJGygdyR7eH2gfexyxFyMTIg8SC3sGrAEd/nD7NPkb+C33VfYb9XTzLvOY8x30LPQ28zfzJPS09Fn0gPJo8EPuOusk53niTd5v2ybZddfh1m3XyNjn2SPbvdxa3nzfrd9j35Lf6N6U3i3is+wJ+xUGrAtSEU0dwi03O0FBM0Q6SYNPS1I3TyRKKEYjQf84SS5LI14YgQtI/MvtauM43mvae9a91IXXnt5D5q/s+fLI+Jf8WP5X/6IBygNCBE4DJwIKA1sFPwayBGoBof69/If6xffX9Enz7PPV9c33Zfno+nD8Uv1d/R394fxI/Q/+5/6AAIEDPQhtDsoUgBmnG5AcLR6lH1oefxnyE8kPegxeCVQFsAA2/WH7G/vd+kr6sPmT+KT3L/fQ9+34PPkE+Q/5fvo8/I37ofhy9afyMu9u6kvlAuGM3dna0dmJ2fjZWtsW3WXeHN+g4BPiauI/4lLi7OHZ4YXlXfCT/qkJtw/dFMYfsi4eO0tBzkPlRixLqU1JSxFFZD7kN/kvPCb5GiIPkgLg9AboLN542VfYUthl2ZPc3eI/6zT0sfueABoDaARiBToGlQZ8BgMGFwVpBEQETASYArH+Pvpp9oXzX/E171/tLu1v70TzXfbU+Pz6Lvxz/Or7MPtb+4v86v5fAT0Epgk0EZUXCxqMGVwZOBvVG0kY7BAQCnoGOAQ/AXn8FPjJ9nz3JfjW9kf4Uft4+I31IPcO+zX9sf1X/lD9j/6XArQBPvsi96D1qfLY7GHmAeKF3zbfgt2y20Ddqt+74OvgkeGJ4gnjUORC5SnkjOMS5HblhOvS900GNxASFCYZ9yTzNEJAcUNjRLBHHkzkTbNJ60CAN9YvqChtHrcSkAjh/a3xE+XS3CzcZd9n4qXjaOYT7Tz2lf77AzAGUQd/CEIJfgllCBsHAQZxBYcFbwU8BCIBUPyj9mzyOvBQ74Tu5u2x7vXwXvQ899v4sPmI+v76ifqi+RP6PPzw/rsBfwVyC6kSOxhMGYUXPxbAFikVzQ4jBmUAzv5v/W36VPb885D03fYJ+Q76/vnY+pj8R/2h/W7+eABJAoEC1AJ6AyIDigDl+9z2+vH27GPov+PV3gPbcdm92ZzaxNpO2yjd+94D4GDgOOFn4hnjX+P742/kHOXo6MjycABUC7cQqBU3IMgvxzxiQSdBTUKYRw1M2Ui8P981dy00Jlwd9xIPCgECX/mc7ovkX+BV4eHkpef26cXvFPi//0gFyAYYB1UIxAlQDEwOyw3rC1YKdgnuCOEHYAWkAcX9qvnr9VrzNvK08SHyvvPR9eb3Lvm3+dT4Avci9oP21vdB+pv9igFgBt0L8REuF+UYvxffFTUU2hGNDTkHbgGJ/mD9mfyk+3/6KPog+9L8aP6t/mX+UP7h/gQAAAGrAZMC3AMDBP8DOAOjAab+E/lO853tP+i841TgDt6Z3PjbR9yg3WTejd403ivert693znhuuF04d3gDeDl3zLhiOX37vP4DwEACLEPCxzEKR8xlTO3NNI3Tj7oQFs+4DhfMpQtbCgcIY8Z5RG8CtwDxPw89vPwu+2a7OfsmO7A8bP1pvoA/nD+Uf37+4L8/f5/ALsAugAkAvgFtQiLCPQGMwVOBOgD5QJKAuIBNAIWA9oCiQH5/7/8Kvnb9VXyaO807aHsz+3X7xvy//TK92v7gf3Q/qH/mf+yAOUB4QJABE0FCQZyCBoKIwySDp4PvxGKEzMUNRTREi0Rbw9cDcgLcAroCN4HIQc7B9wGhQRoAcT99vqq+N/1a/PI8Qfx1vEM86LzvvPS8xj0RfSl81ryjPFO8A7wgO+E7ontDeyR6w3ruOr96TPpsemc67Ls5Oy77enuQPFk85f0avUS99T5S/x1/igAGgINBcIIcwzHD44SUxXUGFwcTh8KIbYhOiLBIvQiiCKAIUYg5x6/HDwZzRQXEHwL/gYpA8f/w/zd+jf6xPmO+Ff3Yvac9SP12fQq9FrzgPID8v/x4/HT8eHxHvLQ8rnzZfS/9H/0RfTI84fzs/PK83D0SvXB9tf43PpF/VAA0AM/BzEK4gxYDzwRYhKwEukRCxEaEdgQfQ8pDZsK4QjuB+IGHwWHA8oCMQPfAzEEvQQfBiMIzwkGC5cLaQv9CgEKMQj5BQgEZQL7/0H9f/rt92X1VPJ37zvsLulW59rlC+Uu5dPlguZ85uTmSueD50Do6ufE59voQeq56+XsGu6j8JLzMvYS+Yz7Y/7QAaMFgQnaDAwQLhOSFuoZghyzHsogciKxIxMkgSOlIm0hCiAWHqobIBlbFt4TmxFPD9sMmAo5CF8FdgJ+/xv8iPgS9SHy/e9A7tHsw+ty66zrUuyT7GrsjOxj7IfrY+ob6nPqDusf7NvtNvDi8qH1cPiQ+5L+VQGlA6AFxQebCSULzAxPDjEPjA+GD8IOkQ0TDD0Kzwj7B2cHtwZ5BhcHcAjrCR8LKgwIDUEO9A6WDsoN0gwwDHkLTwr8CO4GUQSEAbX+RPsm9yjzyO6U6zHpv+a+5PLi4OKi467jIeMe4nDhV+Gq4H/fDN9p4LbjVuYq6MbpjOtF7rPvw+9+8DPzhPjZ/okD1AfcDdEVhx7zJL8o6Ss3L8AyVTUANk42fDZhNpI1qTNzMPErTiahH1IY7BCJCqIEEP9h+hv2mPId8CXuTuy56ffmzORg46/im+L04vvjmOaR6pbu9/Fk9FL2Ifh1+Vj67vru+7D9ZwDHA9QG1AjNCdAJgQjrBYACwf6S+zf5nfet9lf2P/c6+Xv7kv2d/6IBpgPwBbcIzgujDkERHRQCF6cZpBsWHAkb1BgTFiITHA+FCmwFRwDa+//3BPWR8g/wue0T7HDqlOiQ5j7k9+EW4BHf5N4s39Df1OD34eHiA+QZ5a/lPuYU50Hos+ml62TtNO537pvuR+6l7FjqhOmO7HjzbvxyBFYLoROnHnAqkDJFNnE5HD+URbdJ6knHR3pF6EITP3Q4XDBoKL8eghMMB/v6lfE460HmWeIV4DvgvOIe5dDlSuTT4lLiduPh5bfo3+tt8E72qPxcAtQFogeYB0UGdAQzAzIDIAQdBRsGVgchCL4HwAVIAur9cvmM9Q7z+fFk8nHzFvXh95z7ywDuBlgN0RJvFhYYDxoRHc0eQx4iHFsaiho5G/oZShWYDgcJxQRyAN/6hPQQ70HsLesg6tjoUOgx6SvqQerH6UnoD+ac47jg6d2M21/aw9qt25Lcvd2v35jiouT45BPlguV95vjmvOaW5rfm+uaX5ivmredf7d72JQF/CQQR+hoYKAQ1ej2AQZRFAUyFUn1VyFPiTjNJ50K9Olgw8yR+GU0NaQB789noduHH3H7ZJteF1vbYIt2N4GPiwOIM45DkjOe/6yTwXPSg+f//gwYrC5ENLw4vDdUK1ge+BTsFtQVDBmYGSAbrBfAErgIr/0v77PcX9rv1pPaa+Gr7Nf+rA8wI7Q5/FR4bRB4FHzcf7h9sIHQf7hzWGSAYqhdgFoYSFAykBdsAnfwx+PXyiu0e6jrohOcm5/nm5Ode6QHrP+yx69jpoOc45Rrj8OB/34ffeeCZ4Z/iX+Pv5KTmgee/51DnLec/5yzntebq5SPlIOSh4/7kJOqr8/7+qAhCEDYZrSWjMwM+RUPARtJLR1J4VVNTM025Reo9QjUIK10fXxNJB636Lu3n4W/ahNZl1IzTztR52JbdjeKX5lXo3ugN6VTqL+218GH0U/gD/V8CGAfgCaUKFAkPBukCtACb/2D/jf8uAKsA+gCsABr/DP12+hb4xPbN9tX3Cvpa/UIBuwW8C2QTnxoiH3UgPyD3H2Efgx1LGpcWbBT3E8QTIhIeDiQJVgWHAkv/ufqj9ZzyufCu7i7twuwm7qLwvfKb9Ir14fTY8lTvcevr54Dlb+SW49LiKOMF5AHlteWN5ZXl7uUC5rvlN+XH5EzkquOn4yzjAuJT4tbm7vAq/Q0Hmg6zF2EkYDItPLNAC0QnSUFPA1IST3NIbEE2OmYxlyabGxES9wco/H3vheQu3s7bCtvx2mbcxOBD58XsV/Ds8WLySfN99Fj2Tvj/+eT79v17AEYDmAVXBtkE0gFn/rT7Kfpk+ej45viJ+Wr6Nfs6+8n66vl9+Jn3m/fd+E778v2SAJgDUAcYDKMRoxZPGbYYUBbnFNgUKxQ3EbYMBAr4CUwKMAmEBdEABv4R/TT83PlR9jj0h/MZ86nzKPWm9376K/wU/Tv9wfsS+TH1AvF37WTql+hD52rl6+Pb4vfi3eMx5AbkKeM34gvi8eFY4W7gst/L31fgEOKr56jyWQBuCyISLhmnJKMyIj3YQPJB5kR9SlVOCUy4RBs8DzWkLfgj0BieDsMESvl17KHhWNyK27Pcu93m3xHlO+wI83f3+Phl+V/6Wfzx/sYAnwGIAn8DbAWhBwYJPQmQB2UEYADP/H36Nvkq+I/3vvcF+bj62fvY+1H7wvo7+jD6+vrP/A//GQEoAxkGgQo8D8YRWxFsEOYQEBEnD+YL9ghMB2cGvQXZBOYCOQHuAPMAxv+F/Wb7ufn794j2IPbg9lz47/l5++v8aP18/Jj6U/c182LvwOyU6hLoquUH5B3jluJC4tHhFeKC4hDiseBu33Text0K3Z/cX9wK3MrdruNV7l/7zwZFDtQU6x5ULJQ3YTynPRNAwUQ0SL9GYUF4OsIz5CyOJCsbxhJqCnkAa/T86YflHeVZ5lPntOnw7n/1RPv6/igAVgDaABUBQQE5AfcAywAhAL3/wwBuAmcDUgJG/3/7Jfgq9v/0wfNK80D0aPb7+O/66PuP/EH9wv0l/pr+TQC7AnYE1QUjBwwK4w5gEwgVthMREsgR2hHYD94Lyge8BTwGhQfqBzgGEgTOA3cEOwRXAoT/Jv0m+7b5Kvlt+RT62voT/FL96P1+/Zb7mvfD8tPuEezI6RjnVuS14lniJOLT4frg8t8f30nedt1A3NPau9lO2WXZltl72XXbAeKk7cv6QQSxCSIQBhsFKNYx9TWaOLU8ckFNQy9AfDrCNE8vPyiZH8YWfw/eB8j9HfNf61vpNOoZ687rDO4K8xT6bgD0AxUF/QRyBHkDuAJ1ArUCKgLKAPv/PgAHAX0BaACR/Tb6r/et9sX1YvSF8xb0wfWY92r5nvp1+zL8bPw0/HL8wf1i/44AmQH/A4AH4ArdDWMQ8xF/EnIScRIfEuAQ9w73DLcLlwtKDEQMIwtCCXkHNQaTBD4Cv/+D/dj7DPv8+pD7p/xt/kUAbgFpAQoA1v0f+5/3ovOX75nrv+h45i3kZeIl4bPgXeBX36jd+du72s3ZxNhX2FjYbtgt2PPXGNv+42/x2v3LBRILBRMPH0ErNDOPNqQ5dz3RQLdA2Tz+NxAz4SzYJPobwhMzDQYFWPuo8mftB+x56+rqb+ue7pv0T/v1/4ACnQMbBBwEoAOgA3cDkQLyAGL/Nv8JALgA6P/o/CT5Qfaz9MnzTPJe8Fbvle+18N/xL/OE9Hz1A/b69cf2i/jA+rr8cf4NAQYEGAeHCoMOBBLDEwcUBhTPFHUV8xQkE/EQwA+tD/oO3AxLCmcIjweQBksEJgFH/tX8/fw8/cn9wv5QAFUCAwQaBQwFCQQ7Agf/aPoy9THwD+zu57zjD+CR3TncPNsc2oDZHtmv2PjXENeT1vfWiNjL2UPaFtsG39bnqPQ7ASUKCBB5F/Mi8S+3OSc+UkCKQiJELUMqP/A51TRYLp8lBhyZE/oMlAXw/K70w+5T7CjrtupA60Tu3vPD+TX+awHfA64FugaNBlgGwAVnBHMC5ADAAPsAjwDS/nv7Ivjr9bT0SPP/8IHunuyo6xHsDu3U7ZDuCO+076DwffIv9fj3Tfp//Of+lwGXBCsIRwwNEK4S+xMSFWYWrRejFzMWrhMwEWEPZw2MCw0JrAbsBDgDDQLuAMf/M/8I/yH/vP+HAO8BZwOgBIwFigUEBWcD2v+0+uL0PO/X6efjNN6V2S/WUNRb0/zSPtOK0yLUEtVh1iHY7dlK27TcOt5i33bhlua68Gr9dQiUD/4VDiDVLGY4Aj9+QXBDXUU4RXdBAjyGN3IyACvEIU8ZixPTDpQHE/9O96nyM/Gt7/nuT/B29IL5UP1TAFIDHQbJBz8HUwXxAxoDEgJ7ACH/iv5e/gX9Q/qC9/D1ifVc9Czyc+9u7VftL+617qruyO6z7//wW/Lx8zX2I/n4+2T+xADkA5UHMAvTDv0SexaBGO8YnRieGCUYVBbuEnYOHQvJCBsGHQOZ/6P9sf3u/Z39Wf2H/Xv+9v5S/4UABQJABAYGyQYWB7cGAwVkAcn7xvWn7/XoWeIp3ArXXNMg0S7Q4c+B0JDS+dRO17zZHtxE3gPgmeHk4s3jcOTI5YDqofP6/iEJBxA+FlYfWCrPM0I5DjxOPto+LD1cOfs0MjHiLFwmgB4XGNMTmA9/CFwAdvlG9cPyg/AF8Jrx4PSR+HD7bP4QAs8EjwVgBBoDuAJaApUBIwDl/hf+L/0D/MD69vmY+b349/YJ9Wvz1vLc8tDyr/Jd8nbybfPH9Gr2M/iG+kr9/f9lAwEHiAr9DbwQDRONFVAYFBoEGpUYKBdSFowUKhHZDCEJDwYOA2sASP7a/Hj8efyz/IP9zf6HAMoBjAKiA2cF+gaiB1IHaAa+BKEBEf1d99PwO+qJ48HcCtfb0kTQrM4/zjfPTtGQ1G7YQtys31HifeSS5kPoV+n/6SbqMOqL6wXwa/g1ApkKihAsFi4ewyefMDA2uzg3On468DkmOIk1rTJlLhQo3SDoGpIWbRFSCZoAL/ld9GHx6e7O7T/uou9p8ffyK/WJ+Pj6h/tp+pv5y/mx+WD5uPh7+Ob4EPnO+O/4kPnF+Uj50vcd94H3APj29yP3ufbS9hf3l/cw+H35mfvO/UAAJAPVBngKeA3MDz8RhhLpE6kVCBdTF6EWUxXPExkSVBBQDvALMAl0Bj8EzQJnAmUCAQKAATIBBwK3A2MFowYAB/UGigawBakECgMlAP/7GPd58dTraeYx4YLcUdhT1Y7TJtMo1FfWG9l43GvgYuTD55Tq6+xR7tXu+O4V7zPvou7q7HDs2O989yIAeQbjCpEQEBmPIqUqdDBDNZM5rztpO1I6aDkgOKUzQizTJJseDBmoERcIlf5b9ijwOOs056DlS+X55CXlveaY6hfv+fEv8w309vVm+B36Z/vA/D7+Ov+U/0gAbQHxAWQB/P/g/rr+Rf7a/Db73fno+Br4Mvf09qP3b/hJ+a/68vwvAEIDzAUVCCAK5QtaDQIPVRDnEAoRzBBbEJkPVA4GDbELOAqxCPcGXAUUBBkDHQJfATIBogGOAocDewRTBd4F7wVXBVoEUwNmAU7+SPr69QXyDe4G6mnmPON34ODeSN6s3t/fpuGp44vlGOi86hDt1+7l74rwi/AZ8I7v9O487kzt0utt6j3rIvD799T/Iwb0C4cTRB3zJ3ExcTh9PTtAUkHpQEU/eTxVN3ovYiYQHpAWzw5jBc77XPIh6m/k6eA5323end7537XiX+fw7PbxNPaf+fv8XgC1A6QGUQnYCkgLUQuJC8ELzQrJCAIGIwOpADH+1PtB+iL4XfYk9ITybPIg8uLxc/ER8n/zFvbd+Gv7m/4dAW0DjAWuB64KFA47EFcQ0w96D5UP3g8CDwAN2Ar3BzIFsgK0AD//Qv1g+2P6JPu8/DD+Nf/g/2QAnQGrAqAC3AEhAA3+0vtc+eb2f/S78fDuwOzm6tbpUunN6JHoXOjR6JXpSOpi6yjsu+zW7Hrs9+sG6wrq1Oh/59PlyuRF5uDq1/Fz+ZoAswcoEAkaJiR3Lb40sDloPG09qj2bPJQ56zN8LOwkSR6LF+EPgwcn/573ZvCS6s7m4uQz5N3jRuSJ5pvqje9K9EP4XPxlAP4DlwehCjcNwg79DvUO4w7xDkIOAwwvCZcGYwRkAicAnf0I+8/4uPae9JvyzfA47xbune327Ynv0fGO9Nz3Z/sj/zUDxgddDDYQVRNbFWAWERduF9QWiBQCEQENzgiWBMIAMP2Y+Zv25PSA9L70dfWf9uX3JPmg+pv8yP5nAIMBfwIJA80C4wFcAKr9kPp19/rzJfB57GLpqOZJ5KzikOLl4hXjuuPG5L7lN+aM5nzmCubK5QrlV+Sv45HjnuUD6snwmPgoAIIHyw81GcMidSu+MRY2iDhpOeY5LTnnNvsyxi0xKMYiTR11F1IQkghfAU76+PPr7jjr5+hU58jm1+c56ujto/Hk9Lb3wfpW/nQBCARCBigIggmNCncLLwxPDKcL3AroCdIIsgeHBu4EmALa/+X87vnf9uPzFPFa7jns5+re6lXss+6H8Z708/g4/m8DTAjxDPsRhxbTGGkZkBm9GSoZoBZDEwgQYAypCH4FDQP+AHb+bvx1+4f7S/zJ/Ez9JP45/8oAagKBA/UDGgQCBD0DNgFn/if79/ZN8tDthulb5cLhNt+g3V/c29sv3Czdz96m4AziA+PH43vkB+XJ5CbkyuON477jxOUs6jvwkvZ7/MICjgpgEwQcsiPXKY8uBTLFNFw30TgAOIc1HjIFLycsGShbIh0bcxPeC1MENP04907yVO7c6ozoD+h86ILpIOuo7EXuaPDb8p/1NPhj+iv8E/5aAAQD6QVQCKcJfwqYC+QM7w3jDb8M2gqmCFoGowPY/5X7xfdN9E7xMu9p7rXuXu9O8Ajyy/R3+DL8wf84A6AG+AlhDO0Ngw8vETgSCxJREcoQ5w+kDoMN3wwuDKYKSAn9CCcJvQiXB1IGkwUNBWoE8QM0A0QC4QBZ/9P9kfuy+FT1D/Le7uHr/uj95WvjUuFy4IrgEOEX4rrj5OWR5wXpLOrD6gXry+pr6t/pfOl46WnpoOnW6tft7PH89RL6Mv5BAxwJLg+MFQAbVx90I6MnDyyILzsxkDEuMXQwGS95LBUoiiI1HPgVBRBZCtUEdP/Z+kf3q/S08jzx++8w7zTuCu057P3rBuwS7ATssusj7HPthO/d8S30k/ad+Df7nf4IAuoEOAdkCcoKbAt3C9cKfwnABwkGjgToAvEApP/d/jz+Lv7J/mj/HgA7ATwCJAPIA8cDrgOHA3cDfwOjA9sDvgMIBDkFxgZoCIAJ6gnRClQMIQ0lDagMxgsJCzoKAApiCc4H1wXIA9oBjf+L/O74V/Wl8SvuzerD53nlsuNT4rvh3uGP4ozjw+Qu5j/ne+g+6aXpKOrr6uLrEe1w7p7vH/FW8kzz5vTG92z7fv4LAVcDVAa0CqIP3RQ6GcIckiCUJPcoaywnLlgudS1FLKsqLigrJEkf/BkHFdgQEA1WCW8FHQK5/3/9Mvta+W73Q/UD873wlO517Ffq+ufj5Xbkx+Pz47LkCuYx6Mnqte2P8dz16PnW/ZYB2gSIB4EJ8ApYC/kKXAqfCQQJnQh0CE0IRwiRCDYJcgmACc8J0AlFCW4IVgf6BUwEuQKMAa0A3P8X/7D+mf4C/5n/OwCiADsBKQLOAo0DQARUBDsEmAQZBR8FggSFA50CWgFg/yn9hPre9xf1+vEQ71rsMeqp6GPnj+ZT5mrmmebR5nTnkeiF6UTqouob6zjsSO2c7gDwCfG98VXyzPLB8831Z/jp+lH9CACAAwwIEw2REuoXXRy7IFwl5SmQLYwvPzA/MLovzS5ILawqIycEI9UeLhulF6ITNQ+gCrAGcANHAEX99vll9unydu807DfpbOYJ5A/inuDy3/rf2OBu4rXknecF6x7vn/PX9w/8RAC0A6sGCwmYCqAL/QsFDBUM8AuyC3MLcAuJC7YL5AudCxkLZQplCfUHqgY2BUIDOwFC/6P9bfxw+6f6TfrC+WL5B/pH+0v8xfwz/Sj+pf+IAA0BdgGCAeEBdQLeAqwCswFnAN/+Zv0D/Ab6svc59dnyA/GT7xfuy+x/66fq6urv6rPqvuqg6rvqOeuD64Lrb+uU69LrEuxV7Bnsl+tv64/r/ez47xnzTPa4+dL9CwPACJ8OtBTgGXoeXiMLKJksvi9oMUgyVjIYMpAxHjBkLf0pCSbjIfod4hl4FYMQrAvHB+oDGgBo/Fj4S/TO8N3tHutc6HDll+Ki4Mrfxd+04Hvie+RR5+zqNO9F9AL5//y8AK0E/gfxCh4NjQ5OD4QPqA+jD6kPVQ+XDg8Oow3iDBAMAgupCRQIUQb+A/8BJgBF/kP8LfrR+HX3fvZ69sT2sPao9hX3EPhd+bz6/fv4/O79Kf+/APIBeALWAhYDXgPTA44D2gLOASAAjP4P/br76PnV99n18POA8h/x4e+L7jvtKOwh65Tq0Onv6Fnor+cp55XmG+a75X7lfeV95brlNeZZ56jpzexp8Cv0EfiM/CECEwgMDusT8xiiHT8iRCf8K/IubDAFMT0xmTGVMUYwrS3cKbMlgiJ3H7IbOxdUEsQNmwniBUcCIP5l+Zn0qPB97cbqFejv5G7iUOGh4dfieuRi5qToZuv+7oHzEfgV/Fr/2AJmBosJMAzRDeUOkQ+mD4APDA9RDl4NSQxuC4EKnQluCAMHjgVVBO0CQgHS/x3+WfzB+nj5W/gp90f2G/aM9l737/eB+Lb5WPvd/GT+3f81AYQC3QNEBZgGjgf3BwkIDgg8CJAHcAbLBN0CCAE5/0H9/Pqd+Bj2BfQK8lPwnO6f7Krq7uiI54Lmj+XN5EDkuOPI4w7kTuR25JvkHeUI5u7mKuhD6hntVvBe8/H21Ppl//sE3wqBEC0ViRkiHvciiif9KqIsgC1ILs0uBy9LLmosISndJGkhhR4sGwgX9hHEDBUIPwTOABz9gPjF8+7vC+0G6/jouebg5Mjj6OMC5bzmwujM6izt4+9l85/3vPvv/pcBWQQ6B9wJcgsUDDMM+QvTC+sLwQsoCyQK7AjiByUHsAYfBlAFJASWAksBMwAM/8r9kfxH+y/6bPn9+OH43vgd+ZD5VfqG+y79O//rAFICZASIBjQIYQmICooLDQz1C+MLvAuqClAJzQfgBZwDeAFw/079xvpx+AH2qvPA8Zjv0u1H7LvqUekE6BbnU+bU5XHl5uQE5WDlreUJ5lHmreYF53fnsOjY6uTtT/FO9K/3v/uAABsGRgxGEmcXshsDIKIk8ij8K4stjy6tLkYuxS2JLEgqxCaBIpMeVxv4F+kTaA/HCo0GugI//+L7Jfh29Mjwv+2P67rp9edF5nPlO+Wj5d3mkug96sjrhO2r73fyQvW59zD6S/wd/rb/MQG6ArgDCAQ2BP4ElQXzBVcGhQbiBtUGuQZuBuYFPQVlBN8D3wKQAV4AJP9E/lj9gfzp+3j7i/st/BL9/P0y/8EAugLMBPcGGQkNC4MMZw0+DtkOTA9GD98ONA7mDE4LkQnaB+4FRQOkAAb+Kfs9+NL1YPNS8Jrt5+qV6N/mjeVz5GTjweIU4rTh7eEq4mjiCuPC42jkwuUD5zXo1OmM7JXwZfRm+JX8yQC1BQcLshA6FrwaqR5+IkMmnClELNItfS5RLowtsSx6K9MpAyd4IwMgiRz+GHYV2BEoDoMKugbzAnj/8ftm+Lf0FvHf7R3rzuji5pblq+QW5Ajkh+Qt5Trm1ueq6abr3O0g8G/ypfSl9of4cvpp/AX+P/+cAAYCGwMBBAcFHgbmBpQH+wcVCOEHhAcsB0QGBQUcBOsCcAEcAAf/J/5t/TD9Fv1X/QL+/f6MABsCdwPZBDkGyQdECXUKaQtDDMgMygxpDA8Mwwv8CgkKjgh5BjgEzwFd/4r8kfnt9lr0jfHV7sLs3+ox6cfn1eaZ5m3m5+Uk5R/kseNs5KflO+ce6PXoxOmS6vXrne018DXzDfYV+UT8eP92AwQIwgzxEd0WahtxH/4iRCYdKXUrNy1BLpouaS6vLZos3irCKEomdSN+IDEd3BlbFoUSzw7OCrUGMgKy/ZP5jPXR8UTu/Oq15zTlO+Mi4l3h/+As4YrhXuJ84yHlyubz6DXrau3f72Ty6vRi9xj6hvyh/tkAQgM2BdwGcAjBCcUKMAt2C1ELywovCmwJdwh0Bz4G0QRpA2YClgHuAJgAOgDc//7/jQDwAHEB3wGSAlYD+gN/BO8EVwXIBf4F5QWxBTAFbgSTA30CAAE6/x79/fqR+E/2QPQa8gXwGu457LvqYukt6DnnR+bB5W/lP+U+5anlJ+bD5o/nYuiX6fbqIuwi7UzuMPC78tb1bPkL/SEBhQUPCtkO6RM6GQMeoCK5JtQpTyxKLgYw3jDqMOQwRDDRLg0tuCrMJ7gkhSErHp0azhaiEhgOdwm9BGAAafxz+NT0TfHT7bbqCejN5QXk0eJE4jji/uFD4j7jceQY5hvoWur17KbvQPLR9GT3APo4/PP9nP9+AT0D3wRIBn4HoghvCRMKpwp9CvIJYAnLCBIIFQcjBjAFQARLA7kCSgLlAasBswGvAaQB7AEqAmYCzQJDA7UD/AMsBJEEFgUoBfYE1QRQBJkDkQJ+ATUAof4j/W77i/l795D1+fMh8krwl+4r7Srsg+sz633qB+oG6tjpwOkP6o/qxuo06zLsIe3y7b7uye/Y8NPx4vIj9N71pffY+Yr8df9/ApAFPAgHCwAO8BDaE5cWbxnWG7cdUB/HIM4hZCK+IuQidyKYIXQg8h4qHR8bBRnGFkAU3xG9D1sN0AoPCFsFjgKY/7j82Pk498v03vKM8X3wuu8779Duou7E7gbvU+/o75vwV/Ex8hfzGvQk9TT2DPf39/f4xPm2+tH78fzS/Y7+af8XAKQA8wA1AWIBnQEVAjoCmAImA5oDDwSfBD8FzAVyBigHwgdICNcIYAnbCRUK5wnDCbcJugmuCUkJ4whSCK8H7AbsBfIEuQM0AmYArf4g/VX7sPkL+IX2PPXX867yzPEd8XnwCPDQ78fvru+S74Tvc+9w73Hv5+9a8JrwK/HQ8YjycfMx9B/1E/YK9xH4BfkX+ub6uvvS/P/9Jf9kAHQBPQIwAxwE2AR9BVkGHQeNBykI5AjNCaMKhQt6DDoN/Q2dDnsPhxBWEdsRPBKFEpQSkhI1EqYRQBH8ELYQLBB+D6sOww18DOkKNAk7B0sFTwMCAa7+X/xc+pX41/aR9YX0cfNz8pTxwfA+8Pfv4++s72Xvj++97/rvQfCS8G3xYvJY8230fPUC96f4N/rf+7b9tv+eAWcDGAXQBnYIEQqFC8sMAQ4TDxQQ2BBSEeURQBIHEqgREhFvENUPFA/fDWoM2QofCX4HxgVpBP0CXwHq/1D+8vzB+5T6h/l1+I73nPbT9Ub1tvQL9KHzavMx8zjzJPM582rzf/PV80r0dvTn9GL1tvUS9r32kvce+H344vhA+U35Vfll+Wz5J/kJ+d74nfiF+Hv4ovgM+eL53voQ/ET9fv7y/20BHgPHBE8G0wdQCbwK5gtDDZEO0g+/EF8RKxLHEg0T8hLuEqgSCxJEET4QSg8ODp8MeQv8CfgH/QVXBNACLwFi/6P9+/tM+tf4XPf69QD1CPQB8yfyU/HV8HPwI/D078rvEPCS8EXxLfIg8zb0c/WU9uz3hPks++T8gv76/y4BhwIeBHoFjwbfB1kJqAq7C6sMVA3WDRwOCw4IDu8NrQ0wDbQMPAzFCzQLeQrCCewIEghLB5EGyAXQBMUD6AI0AkIBSQCb//P+J/5N/Xv8r/vR+g76n/k1+cr4S/jT9zz3sPaX9or2XPYE9tb1lvVQ9Qn17PSo9Hr0uPTY9An1OvXH9UH2yPaq96r4i/lD+jv7Jvzw/OD9nP4h/93/2wC6AWICSgNUBFUFJwb/BsEHdQhiCRAKpQouC3sLowuMC5ELqQuhC4QLDAttCscJGAl3CLIHwwbBBZoEdQMNApYAFv/N/Y38HPvo+dP4AfgZ92X2+vWr9XD1WfU+9XL1Dfam9kb33veT+ED5JPoD+/T7BP3b/dr+8P+dACwByQFKAqMC7AJEA5ID0AM+BMoEAwUcBWYFsAWZBcQF4gXhBRQGEAbpBawFlAWCBacFvgXeBTkGbwZ4BkwGSgZjBiwGrwU4BcEENQSLAxsDtAI7AsUB9QAwAGf/d/60/fD8/PsH+xT6R/mX+MT3yPYX9oz1BfXJ9MT0s/Si9N70MfXO9Vr23vZs9wv43fiZ+Vv6K/vy+8j8uP2r/tz/2QAKAlwDmwS3BYoGogeRCGUJCwpuChYLaQuDC8MLxQuRCwMLcArACf4IawjZBwkHGQYSBe4DmgJEARoAAP8I/v387PvG+tP59vg7+Ib3+/ap9pD2YPYM9iL2cPbT9if3pvdF+Pv4tPmT+kv7Ivz9/L39N/6Y/mT/AwBZAMkARQF4AawB8wFKAmQCpAK9AqcCjQJYAkUCMAIbAuMBxgGjAYoBwgH1AR8CbQLNAkkDqwPnA+kDGARcBDwEJgQ0BDoEHQQBBPgD8gPNA00DnwIvAsYBNwGvABIAJ/85/lD9evy2++j6aPrC+e74Y/hA+CT4tfd691r3PPeD99j3Ifhw+OL4lfk7+hD7J/w+/V7+hP+aAHMBiwK9A+wERAZIB1YIVQlxCosLaQxBDckNVw7IDg8PSw8rD+cOiQ7gDSQNMAwIC98JzwjLB4wGTQUcBIwCAwHM/6T+Uv3/+636Xvky+AX3TfaE9c30V/TP83zzNPM5837zovMT9KT0I/XD9U/2wvZh9zf48fjE+bv6wvuO/DD93P2W/k7/k//h/1sA1gAmAUYBKAH6AAMBEgFNAZIBlgHgAT4CHgI0AjYCUgJhAnwCywIEA4AD5AMSBA0EHgR0BKYEmgS8BLsEnwRWBAkErwM+A70CBgI/AW4Amf/h/hf+4vzx+z37W/pf+XX4oPcV98/2Y/a29Wv1dfWw9eT1EPao9kH35PdD+Nz44Pnx+iv8R/1c/qL/3AAhAnID2gRuBswHLAlbCoELwAwfDm8PJRCqEC4RtBHbEcYR2hHnEXYRiBDID+QO6w3lDKELSArLCEMH1gVfBMgCRwHp/3f+Gf3M+4b6P/n598j2FfZ59Rb17PTC9MT0v/Q89cT1cPbf9pD3KfgF+Qf5SftsAK7+6fmy+j/8zf4xAKH9Ef5q/RT7d/u9+6T68Pkj+mH7I/vl+V35dflh+rf5gPl1+0j8Nv05/zX+IP4u/yH/YQC3AXUC3QJ9Aw4EvgRMBecFzwWdBR0GbgXSBR8GywTLBEMExwJsAm4BBADX/rz9Qvyt+h/6YfmI92r2O/bX9cr1ivUb9Rb1TPWL9SH2qPZ699n45/nm+mz8GP5d/7gAVAL6AxYG2QfGCEUK4gvBDOYNTg8iEE4QohD1EOMQ3BA3EEQPoQ7qDSsN7wuQCkAJLAgnB7wFmgTJA+YCpwFRAHj/JP90/mj9qfyI/AT8//vg+9n8y/0d/kT+3/0R/7H/TAFsAqsDewSnA5gD9gJPAhUC1wEzArEBxwC3/yz+Ff1l+7f6n/p3+Sr5j/mX+CT5dvgF9in2efXp9Rv4gvc697D3MvbS9Qj24/QB9YH1evYV9z32p/VR9dD1UPUx9fP2afd+98T4wff09uf2sfWA9pT4Mfps+9z7dftO/AP+gwD/AoAF9QciCt4MNQ/VECgSBBTKFcQYoxqoGzocAhtTGbgX8RY/FqIVpROVEUUPswsvCOoExwF9/pT73viO9hD04/DQ7VbrP+n+54nn+OaP5nnmkOb65p7nouhx6uHsz+/88lD23vjK+j/9FwDzAgcGOgmrC+sNqw8nERMSABMFFCUVlhezGYUZTRdzFY4WgBjKF/IV8BQ9FD0SWhBlDv4MkAqWCCAIOQdLBWYBVf6o/F787vtg+3v5VPfL9Wf0gfPh8e3wO/BZ77Dur+2+6+7poOge6KzoqOiz56bmmeUL5fbk++RT5dHkvOQN5arkk+Pv4v3k4ukJ7y3xw++77tjyrvvkA90IZgzSD48UzxhYHrAkOSrpLbswTzQ1Nxs4xzV3MwAygzIWM9wxyC1HJ58gJRvTFvASzg4BCQwCL/qb84zu3OnT5BLgvNyC2vnXj9T80PvOgM8p0UXTwNVP2N3Z09vg3p3jHenH7dnxw/Xu+bf9UAEgBQMJGg2qEO0SthTNFTMWYhaBF/EY1Bk4GdUXTxeFFs4UJxNVEpUS7RGVD/sMLgtXClAJmAg6CGEIVgfuBTAFtwTwA0kDXwNYAwsDTwJlAY3/P/67/SH9cfsc+Uf3DfUR8l7v7+3V7OfqH+if5ZPjpOHI30fe+dxj3JnbmNqM2SDYmNdz16DYRd2s5NzpKOgD5O7mfPMgAyYLKgzZDG4SnRpzI5ksFjQ1OaI6Nj15QUVFLUXJQk1BREJoQ9FA5zkjMWoqJibIIjodMRWrCysCWvly8lTtg+ie4vLbZNW+0KvNEcu/yEvHE8iyyQHLq8tvzQ/RKtaI247hQOdv68fuEvM3+d3/fAWKCcENDRKhFWEX7RgvGxAdnR5JH3kf3B/yHhsckhgoFx4Z3hlNFVIOyArnCbAIygUgA2QB0P2++gX6I/qs+DL2nPX79lD3CfYo9Qv1TvYN+OD4nvdB9aP0rfU09qz1uPQo803x3++v72jvxuwH6rjoeehF5zrks+HP31vetdwl21zbW9855VDmAODP2pzh6vKHAM4BqP2Q/tYH0xJyHVEnjS7yMEUxtDUfPURDn0RURLlEA0Y7RZRBljxlOG42xTNfLsolGx1PFdUNvgZOAHj6TfPz6gLj2txn2PTUx9HUzTXLFcqSyTzJHMpFzVbRPNVh2CrcuuB75TLqVfAe95j8BQCDA/gI5Q56E5QVZxd3GXobsR03H3IfGh5bHdQeph+SHWgZihYaFWwUEhK4DRMJUAUxBHUDMQEA/Sz5lfaH9Uj1RPUH9Nzx5vCr8ffyr/LX8QvyIvO681vzD/K78GDw/PBK8SDwyO3G7PPsBexK6n3onee75gflqOML4pvfstxn2/TeUuX96HfkudvA20Lpb/vfAYj8qvdZ/b0KTxbbHh4k7CdYKZ4sgzMQOwA/jj6OPos/2kBmPy48nDlcOKo2tTGGKbcghRpZFowROQq2AYD53fF669nlfOHT3K3XeNJFzn3M58sVzPvLWs1S0M7TX9ag2ObcxeLG6PztM/O896L7/v+fBhYOQBM3FT8WERkrHbcggiPwJO4jeyFLIYYlMSevInYbChmxGmwa3BXbD8sL4QihByoFKAHu+7X4tfdU9o7zxfDl7mftwe0H737vOu3t6nzr/e1O7lXsI+t46/Xsbu1T7Ljq4ukx63js2+v/6WDoBOiN5/LmaObN5Qfj9N9h4SPoXO446yHh4d5p6/T8mgMN/TD3S/wICl0VThuVHnwihiWsKEYuYjSLOKk4dzgqOfg5jzhzNuA0QjRzMs8szSQIHdYYjhY5EnoJSP9o9zbyw+1V6F/ir9yG1xrTc88eze7LlctSywzMT84P0Y/TCNai2iLgXuVw6QfuiPOs+MD97wMRC2UQCBNtFDAYgx4yJHMlryQiJTIoeioEKkQplijaJg8jmSBdHy8dwBfFEpcQZQ7lCf4DDADl/Zn7u/fM8wfxke+i7njtEOyd6qHp8egR6Cvovuhz6JnnZuc06Efp++iF6MLpUOvC60/qmOmE6rTr2usL67zphOhp55LlEOfN7LbyL/Ev51rjPO6jAHIITwHK+YP+6ww4GPMd5x99InclQSnSLu8z4zfMOCk5VDmhOWw4VDbxNG80XTNlLYYkLB00GrEYlxOmCb/+Nffy8n3vOOlv4W/a6dTo0P3MGcphyPPGn8VuxaLG1sgLy3DNt9F91rzaFd6R4uLogu829cj6TQHqBksLPA8IFZEbjx9+IaQjvCf+K9csvCv+KzkutC7MK0koYibCJC4hyh3MGvwWlBGODAQJ8wXzASL9+/jb9ajzA/Eu7qDrKOpc6VHno+RV4+3jquQA5D/i7+Ao4TvisuNf5JDjdOLo4Vni3uNV5fHkHePM4cjhj+GY4+voT+457dHkJOP67rMAGwfmAJ/7pgFTEHwbCiF4IqUlCSrrLzs2zjq9PXM+6T/3QM9Bz0AxP4A+wj2mO6M1Qy5cKFAloCKlHO4S0QcKAMj7RPjR8cDoDeDB2ZHV59GpzkLLL8grxQXEfcSzxX/HU8mIzHfPFNIG1c7ZJOAu5t7rSPAF9fr5VAASB+4LYQ/YEjEZfh7ZIB4huiKFJlwpiSpdKYgn/iQVJP0jKyLxHTYZmxYGFDsQegtUB+MD4wAW/o/6LvZN8vvwgPCc7m/raOjI5v3lx+XB5SflTeMm4tniD+QZ5FDjTOPK42XkpOSy5BrkIeM64/TiBuHL4F7lbusG61Tj198F6b34IQD7+sb0ufgoBtcSKhkIGhMbQh9ZJpMulTT/NtM2FzjWOnc9LD58PS49xjwbO8c2bjGDLVortSgwI90aWxE+Cj0GKQPv/Tv10+ub5HrgON2r2ZnVutGlzgnNdcz6y9nMHs9L0h3U8dQh17rbiOHX5pnrPfCd9MD4g/3zAyUMtxBzEWYScRhgITslOSS4IrokECgkKjUptCbtI6whbiAaHjYbwxeLFEQQQwvdBkMDcQBj/ZP6cfaA8ZftC+yz6+jpuuYL49bgNODQ4NPg0N+K3t7dJN5r3nffjuAr4RjhbeFb4sHiyuLJ4jHjWeJD43nn1OtJ687k6OMp7Vn7oQD3+mT2Z/vrCNQTABkAGR4aqx70Jaot+zH7M2g0EzaeN+U4KDnuOMM5cjkVN4Yx2CvpKCcouCUzH4kW4Q1SCCsFoAEZ+5TyLevP5dDh390D2g7WPtKwzyjP5s49znDO1c+k0gfVUdYk2EHc5eEK5zLr7+7E86j4aP5TBRsLCA6ZDzkVch3AItIitSJ7JqcqzCxZLIsr0ikIKJAn+yYJJFkftBx1GrgWaBFDDRMK8QbMAz7/b/k09FzyBvJ27yvq4eUV5Bfjm+Hm30Teedz620ncnNzD2yjbhtxS3v3ecd7O3g3gOuHf4fbgGOBU47/pd+1Y6NbhU+YS9QEBUv+r95T3uQK9D18XVRmzGUUcnCGoKTEwMjP5MiwzgDXqN7U43DZ6NRk23zZmMzAsuyYqJakkJyDtF3AP4gibBBsB/Py09sjumefA4vzfBN0g2cXUWNHRz/HPOtAV0F/QC9LP1HvWrtca2o3eFeOz5gvqfu5u80v4vvzvABEFFAmvDksTSRZvF5EaHx+BIvkjwyMRJN8jnySAJEwjqCA6HvgcCBySGigXjhO6D3gNBQxUCdIEBwDv/bz8f/pe9l3ywu8c7n3s7+nn5kTkjeMv4zjikeDZ3pHep9+f4FrgWN+x3jLfEeCz4Hnfvt3V4Gjnketo5nLf4+PM8kb/H/4X+GL4mQIZD14XkRtaHHYeRCP4K7YzqDYHNos1ezhzO0Y88znwNy84Qzj1NDgujCiVJcMjtR+bGOYPLQgsA5v/jfuZ9FbsUuV34KfdCdtT1+/Sks8kzo7Of86SzpbP8tGO1K/V7db62SnfCuTI5+bqMO8U9Hr4qvyqAfkHIgwgDcANohING8sfjx4ZHIQd+iBZI3ojUiFbHgobchrgGvUZ6hbpEl0PHQwYCgwIXga1A8YAr/33+e/2F/aU9tX0rPBc7P3pOen06HHonOa+43DhJ+Ho4STiyuHh4P3fxN+D4JfhFuLV4Lffkd7A4EXmYeoV6XfineJD7eP79AAx/BD5Bf8UDAwXXh01HiMfNyPWKg8zkzcGOVw4xTl0PMo9Dz1iOzY7DTtKOFIylSwzKVEn/SMoHacUAAwuBqECDP/8+GrwMeiY4rHfkNzs2AnUoND0zgjP0M/ez1jQytHC1BrX5dgh27zfI+Wm6UXtRPFL9sn6o/9xBY4KSg3RDugSshgCHc4ebx91IF4hDSPHIwYjXyC5HQccIxrkFysVDhPRD9gLJAhPBVQDTwHx/v37jPip9Qb0VfNQ8iPwAu2V6mzp5eid6FjnmeUC5M7j2uNw4xPjv+M+5Ibj1OL44qfjyONY407i0ODl39Ljzung6/zked5R5Arzyv2T+5L17PUSAIwMKxWOGMAYqBpEIDApaDB6M00z3DOaNrk4+DgIOIg4/znWOCA0sC4pK+0oYSbeIW0bBRMwC0MGkwPW/zb4Tu8O6Orj3uBx3SfZLtWH0mLRUtG70AzRq9KU1dfX/9i+2jLez+JS5y3s2vAd9br4Kf1qAxIJXQ0lEN4STxcNHHEfPCB2IbMjRyaMJi4kSiL9IL4g/x5DHL0YfhXiElcQYA13CUwGcAOmALT9pPqQ9xL1RfP08RDwu+2U67Xpo+jg577mYeWj5L3kvOTo437j1eO35NLkouTv5IflseUD5vzlEuWe40zjaOeb7JntKefG4gzpWfdjAEj9afer+MEDFg/7FUoY+RhWG3Mg6ifHLXMwXTAHMZ0yBDS7NB80KjT8M2YytS7hKT0lwyGjHx4csBWvDB8FvADd/aD5hfLu6tbkt+B+3TLa0dYb1NPRgdAD0ELQXtEW0yzVEddZ2cvbYd+w4yjo2eyX8Vv2Pfoo/h0DqQhKDhkTxBZ1GJUZYB2uIuwmgifuJY8kBCQxJU0mhyXHId0cIRq7GZQYuRQuEJwMFgovB74DkwAr/kT89vnh9q3zwPFo8A7vDe2d6rPoH+e+5vTmU+aj5ITihOLw47Lk7OO94hvjn+R95b/krOOV4gHi/uAP4iHnDuwu69/jauG56pn5DgBf/LT4BvxrBkkQ6RdSHI4dhR6wIncq4zHXNW81ETV+NtI4MDouOSQ4Djg+N30zbi0+J9ojYSIhHtEWmg1NBhIBavyh9wnxLepH41Tdi9id1XLTENHuzeHKdsrlygPMy8xdzj7R9dNf1nDZ9N3e4gHokuzX8Zv2bvrY/t4DGAlBDQkRIxUUGTobTxyEHvAhSyVCJWojQSIhIlYipCGTIFselxvOF68U+RIsEkEQ0wuOBycE3wGX/5n96fva+ej2n/Ny8RTwg+9V7o7suOrW6KHnM+dF51fni+YK5TXkVOQg5S3lgeTh47/j4eNt4/jhluAl4MThXObX6qXqdeVI40LqIPcz/xr/7fyL/jgG9w9PGTEfQSF2Iokm/y3aNC45UToYOzA8kT2pPng+1T37PEc7FzhrM8EtpygTJKoeOhiwEDEJMwJV+x71x+7X6LjibtxI1vrRKc+fzE7KhcgOyCrHacf/yG/L3c140GvUI9n73D7gIuXQ6x3zI/iQ+23/jQQnCj8P/hNSGNcakxuTHWUhsySEJRUlnSViJj8lAiSBI3EiKCCxHZsbpRinFDERYg9hDQcKFQbmAQ7+t/sc+lD4PPXz8frvzu5N7STrUekL6EnnKubH5HfjqOK54sDij+Ie4sThw+Fa4Sjh0eGX4gbiuuCe4HfhV+GN34rgkeVw6lzq/OVD5SHsm/ZR/Uv/hgCDA54JjRGRGsohsCWvKDMtUzS1OpA+QEAcQu1D60SwReVE+EI5QMA9Uzs3N/cw5ykSI5wccxb5DwMJWAER+V3xjuqN5NjeCdlS01vO88qDyGzGx8T3wyfEq8WQx1DJl8vfzl/Tpdhp3YDhjuVT6vfwrfdo/e0BMAbuCogP5hPqF7EcwCAyI+Mk4CZ9KacqICsNLN0sDiz0KLkmgiUzJNwhYx5qGtMV7RHuDjUMfQjVA2X/e/tQ+Ov1cPOc8Hft6uoI6f/mXOUN5BLjF+I94LvegN603pbeCN7H3dTdJt4J3mPecd8w4JXgWuC24LLhp+Lr4qDiOOJ241/nLOyH7mTt9+x08dj57wCCBQEJMQxvEOQVEB3uJKkqgy7uMSc29TmHPDQ+M0DQQWpBcUC6Pqk82zkJNgAyrS3SKFUj0RxeFQMO6QajAOb6kPTF7czmZeDF2trVPNJBzzbMWsmCx8LG98atx7vIvspjzX7QjdPT1sXaMt8E5IXp5O4F9Pf48f12A7gIuQ1WEjMXKRwDILQi5SSEJzkqhywMLmIuBi75LKMrMyr2KMQnFCVJIeAdBRvyFwYUyg9pDGYJCQZbAlD+6fpQ+Mr1+/I/8KPtVutA6aDnl+Y05ZfjXeKp4WzhKOEA4XPhyOHt4RziB+Pa403kG+Us5nPn2Ogp6ijrX+yk7QTvqvAl8jzzbfR19Uv2bfjC+8P+mgBPAXcCPAXiCF0Mdg/fEawTzBVGGDwbvx2/H4QhNiOVJMUkGyR4IxIjICIgIbkflx31GsoXVhQUEYsNPQp5ByoEQgAS/A343vQ/8trvWu286qXorOYo5bPjy+Kx4tLiUeMk5HHl9ear6JPqlewP7/Lx9fQi+AD7kv0mAJAC1QS6B5YKnwzmDYoOSw+UENARwhIWE48SmhFfEJsPHQ+ODsINrwzwCr0IBAdGBhAGLAWuAyECrQDp//z/MgAMABz/Zv5r/pP+df5a/oP+Tv62/Zr95f3p/Yf9NP1g/Xv9//yH/E38Ufwv/NP7xfvb+zX8xvs3+zL7e/sE/EH8N/y7+577Afx4/Mn81Pyr/CH83PsU/JH85vy2/ID8R/wg/KH74/pY+ir6ufnI+O73J/dF9nT1IvXc9Ib07vN8837z2/Ol9EX1zvXe9ib4afnS+pP8R/6y/xwBhQJhBH0GcwhPCv8LTQ2fDlcQdBIWFCgV8RWIFncXVxgNGUwZGRnBGOgXBhcyFg0VcxN3Ef0PJA7rC7IJIAefBDQCof8C/Xn6KvjI9e7yl/Dz7rztZezx6ofpSOie5zjn+eYy50jnYOfX58XoFOr76knszu1t75PxifOw9cv3p/ms+4r91v8TAqQEAgexCG0KPQyhDt8QcxJrE8sUfxbAF3wY6xiQGQwa5hmMGToZ0hhcGHoXxxW8Ey8SgxCIDiMMnQlcBwcFmwLh/z39m/oJ+KH1k/PW8cnvZu1m6yPq4uh65/bl4uQ35KTjNuMF4+Ti2OI74+zjyOTY5ffm4+ds6Y3rwO3k70fyx/Si96L6SP34/woDbAY1CdgLlQ63EcUUUBeaGTwbnRzZHfYe+B9wIIggMyB8H6ceZh3QG/0ZARjNFT4T4BB6DsML+whnBgYEEQFM/tT7Tvkd9yv1KPMq8VDvuO2D7GHrWepb6aXog+jj6PXoo+iL6Pzo7Ony6hfsTe1x7unv1vHa84X1//Yu+a/70v2o/84B0QO8BcsHsgnhC+QNsw/9EN0RFBNsFGgVCxZRFlUWKxa+FXkVBBVQFIUTJhJqEPYOwQ0QDOQJqgeLBYkDPAE0/zX98fr0+MH2rvTn8hrxmu+U7lvtDuw567bqJeq+6aHpoen06bHqueuC7KLtKe+28D7y/vMf9j/4dvrT/BH/HQE3A2sFfAd/CWoL/AxWDosPHxF+EhoTZhOmE8sTexPZEv8RTxGYEFIP2g0nDEwKlQjzBpAFPwSYAo4AmP4o/QP8uvqM+YX4bfd99pf15vSY9HD0hvSy9KT0p/S29P70wfWH9jj3xPdN+C/5i/rc+8H8uv26/rf/zwAbAkMDMgQvBSYGCwfmB70IOwmGCdAJ4Qn7CW8KrwrFCnAKwQlLCdAIcQgQCHoHlgZPBQYEMAN/AokBggCN/3f+Mv38+8761fnx+OH3qPaY9Sf1mfSa89/yX/Lz8ZrxFPHa8Lvw1PBS8bfxA/JG8uHyoPNr9J716Pb89/r4KPqm+yD9jP78/2cBzAJNBB0Gpwf/CF4KYwtRDGoNUg4xD+gPFBAJENUPow9UD0YPEg9bDoANawyUC64K0AnsCK0HiQZqBUwEbQOeArkBoACM/8j+NP61/WH9+vyA/AH8uvuV+zX7G/su+0/7U/uD+7X7mPuT+9L7U/yQ/N78Wf2g/dr9B/4w/n3+yf4X/37/4f85AKcA2ADXAPwAMAGDAdEB/AESAtwBpAGNAYcBLQHPAMgAWADF/0X/F//R/lL++P1k/Yz8CPzt+9D7dvsx+wX7bfoV+gT6n/l6+bX5zvnH+V35B/kM+TX5lPnP+f35PPpH+sT6WfvR+0n8pfxf/dX9bP4x/8X/sACUAU4C2gI2A98DSgSlBB8FrgUSBt8FwAWwBYYFQAX/BKoESAS8AyEDgwLKAVwBAQFjAKz/av8m/5z+Vf4b/gv+zv2S/bn9wf3j/SH+gP7a/iX/sv8xAMoAYwEDAq8CJQPFA6cEkAUlBs8GfAcbCLwIXQkICh0KYAqvCroK4wr9CuIKkQowCvkJiAm/CAkIKQdUBocFpwRxAzgCDAHT/6H+iv2g/GX7Gfqk+JD34vb29Tn1pPT18yvzjvJo8ozyrPKZ8pzy2/Iu88Lzb/QK9ZH1RfYS9wj4J/nz+ef6q/tT/Fb9Ff62/or/ngCgAV0CDwOqA3YEdQX4BUMG1wZ7B/MHYQjNCAwJ6gisCGUIHAjIB2gH8wZZBtcFJgVPBGoDrALmAdMAxv/H/rb9qvzk+0P7lPqq+Zv48PdZ98n2Yfb/9Zz1JvUv9Yf1y/X99TL2l/YT97/3nPib+Xb6W/uM/LT9/P5vANkBIQNgBM8FNwfMCC8KbgvEDKQNkg55D14QHxGmERASExIxEhISqhEhEUoQUg8uDiMNHAztCk4JZgfIBSoEVgLOAG3/jP2Q+7b5IPjt9s71pPSP83jyq/EF8WDw2O+W733vUe9/787vTvDY8HPxBPKf8pPzsfTj9Qn3HPhe+bH6Bvxv/ZL+nP/aACkCOgMOBOsEAAYIB6gHIwgFCckJVgq9CiYLnAvBC9EL1QuwC3ELCguEChIKjAkECUMIVgeYBvMFcwXMBK8DWgI+ARsAO/9p/k/9U/xJ+2H6ifnh+HT4v/ff9kf2q/U29RL1//TX9I/0nPT19AX1EfWC9ST2sfYy9yn4Dvm3+av68/v4/Kj9uv4KADUBYAKFA34EdgVVBjEHGgguCSsKjgrTClkL0wvzCwcMDAy8C1sLFwvcCmQKrwnYCAYIOwcjBiEFEwTqAsMBhABZ/z7+Sv2B/Mj71/r5+Wj5vfgW+K73jPd39zH3H/cG9y33qPcM+F34zfiD+RT6a/q7+pb7sPxe/e/9iv4y//L/XwDlAFEBugE5Am0CiQKmAvwC/QLYAssC0QKaAjoCFAK9AU8BDgH8AOQAsgB8AEAAGQD9/xgAbwB+ALQABgEbAU0BqwEwAosC+gJoA6UD+wNCBLQE0gTRBDMFZQVbBTcFVQWJBV4FCgWSBCcE4QN0A+UCWwK9ARUBigD4/1r/uf5X/vT9Xf3f/F78HPzp+7L7kvtY+1D7RftR+3D7Xvtv+3X7kvvg+/T7BvxI/HT8jvx3/Gf8ofzJ/O78Cv0r/f38xvzF/KL8ufys/Hb8e/yG/LL8xvyy/Nv85vwa/ZP9Cv6G/g//kP87AM4ARAHwAYgCKwOsA2AEWgUEBlwGjwbuBiMHiwcBCPwHCQjyB8wHawcQB6AG2gU3BZ0EogOgAqkBpACU/2/+Yf07/E77N/p6+cj4+/dY97f2fPY79jL2Zvak9hP3oPdX+OT4a/k7+hH7G/xN/Yn+Rf8RACcBJgJYA08EKwXQBS8G2wakBysIpQgfCWIJewmkCaMJswmkCXoJZAkOCbsISQjhB2AHowYMBnMFpgTsA10D5AJXApQBCwGbAPf/M/92/vD9bP32/LD8T/zG+0j72vp2+hr62fmA+S/56viV+Db46/fn97T3bPcb9wD3Evcb9133n/fe9yH4ePjh+FT5BvrX+rT7Z/wf/Qr++/7p/+sA/gH1AhQEAQXKBZgGbgcQCHoIywgaCXgJcwlTCVEJBwlyCNYHHgc6BmEFwQSvA5MCWwF0AJP/Sv5W/UP8M/s9+rP5HPlp+Ov3c/cd9wf36PYJ9z73ovcF+Kr42fjM+eL6ifuO/B39T/6L/xIFegcIA+IC+AOIBEsIXwisCDIJ0wWnBvwHKwbfBawGkwYTB9IFFwXVA4cCewLJAbcBigHqAe4BqAA3AO0EYQVtASMCtwE/AQgE3AGgAkgD+P17/wn/fvsv/B/8k/qM+zX6a/nS+fL37fia+Cn5//r9+nL8Jvx9/UL/B/yK/Yj/Tf7FACICDQAOAd8AVQAyBCgD6AOMBoYGHgrlCrUJCArCCKEJWgkRCe8J1AaPBdwE8QAE/6L9ofqm+nT5vvfE+Jn3D/ar9YP0ufQF9pH2j/eT+Nb4/vdd+I/5bfm4+gj8uPtI/Zr9lvw0/rT+B/9MADYAcACpAS4BUAEdAsUBzgG2AeYB/AF+AusByAC5AIEAPgDeAGAB0gGJAg4DZAM7BB8FeAXCBRYGQQc6CNAHLgerB58GEgYjBnwFQAXCBLkEqQQ1BC0DUQIVAgQBqAB0AEkAQABI/q/8uvuI+nj5ZPmd+H335faH9S317PTY83TzFvMT9L/0qPQO9RP1JvVl9VT2b/fC9//3Z/m4+ff5hfrN+iv8u/2W/kYAXAFSApwEfQZuCBUKkwvWDaIQBRPiFNoVoRahF1UZaxpmGlsadRpIGkIZ+RdAFnYUjRJXEKAOxwwQCscH5wTXAZP/Df2H+o/43Pbt9Ab0rvJV8YHwHPB98Jbw3fBJ8VDxgfFc8t7yRfO68wL1CPZz9jz2YfYY9oH1JvXq9Pb0BfTJ8obxFfHh7/3uqO4x7r/tIe1s7NfrK+uj6v/ppukN6SvoEui453jnseYD6bnvdvcI/gwDgwYVCtsOqhdIJTcwbDUxOG077j9fQmhBF0CBPoI8WDmdNGktWyItFPEHSgBn+5/2Q/DV6cLikduM1hfU39Ko06DVh9mn32HkL+iD6/Tu0/Pe+XcBXAllDuMQTBJOE5QUWBWbFY0V3hQBE04PvglqBJz+Ufh29KPyr/Gn8I7uA+0A7ObqqOvM7eXw8fXY+ur+PgPEB4QRgxqcG2gWIRUaHUclgCd/JDIh+xo6F14X8RSPDqMG7AJIA5ICWv479u3swOpu7Tvu7u2g7G/pWOeu5WbkjOI64FTireRV5dLkzOAq3M7bdt0u3mzdvt1632neb9vf10XSrM+k1sXl1vtzC+sMTANI/TgJGCFcN7tD70kVS9FN8k8hTUNIP0JBPkI9QD3qOAsp/A6Q9xfpzONQ5SfnXeMi27PSNM7lzbDQk9dU3lPlAO619R78PQFmBKoItg+jGL8fJh8cGVwSUg08DCgNjwyECl8GVwCP+N7vCeix4fDdjt4c4onlc+gQ6hLsgu6+8bT1tfp1AR4JuQ/iFIwaDB8qIeog1x8mH6gfsR+PHX8ZoRXXEm4Qlg0pClkGpwLlABAAIP+e/QD9zv0SAPcBhgFr/3D9Qvwr+0f6Jfk49iHyaO4X63rnVeM+3zTbX9jm13vYdtea1ZrU2NRO1bbV69Sl013SUNKX0rTWvOHB8hMFVg8sD2cJQQ2PHxU3N0QdSMdKME49UH1M/kN8OlQyvCvBKF0lrB4JDzz7GO1G58zlQuZS54joAetv7vT0KfsIAKUBhwDEAX0IhhBeFxoblBqSFpQPpglCA2P75fSc8hzzavX69KrvJehY4SverN3I3xbjxea06Q3t2O9p8kL1Tfi5/CsBXAWgCBkL+At+DPgLSgtsChYKYAuGDAcLhwaqAmsBKATABjgIHAitBwkIJAltChkKDwneCK0K/Qy5DvkNIQuNB34FHAQ2Amr/uPzk+Xv2hfOx78nrtOif5pTkpeI/4TTgnN+t3/Dfhd9C38feC9603crcUNue2YrZZNkL2z3kQPlhEEoaIxNBCQsP7iMMOdBBR0Q3R+xKj0mZQT01OShmHXUYjhm7GiYVlQT+8FXjwt6+3oDhP+bZ7aL13PwYA34FWgSkAGj+gQELCnETVBrfGkcWjg4+Bu/+5/i/8wzxnvHY9Oj4Dfn29Sfx9u0o7jjx9vSJ+EH8PAFtBiQJ/wjnBmsGKAgGCmAKdwoRCcwFbwFZ/Ub6I/ek9T73tvsV/rf7/fZ49u/7ZgIWBbIEtwSTB/sLmA2LC5AHcgUFBmIIfAkBCEUEIwE0AN7/Mv4B+pb1U/Og8hXx1e3V6XLmQOO64FTeUdsx2CzXAtm526jcSNyR3EjdZ96w3zLflN3V3MzduuMk87ILDiGRJrschxOVGJMqJTzxROVINU2MT5dJHDtzKpUdshaFFmUYDxhPEJAAgO+H5I3gqeGD5hnuKPjhAU0KdQ99D88KLwSbAPMDfwtAE5kX7xUvD7sEc/ks7yTnE+KX4Yfleezw8pj1hvWb86ryPfTh96n8ogIQCZsOHhFBEFoNfglCBnUEGQOlAI7+Kvx0+d71ivI88DrwB/XR/H4BKgAw/5UD2QuDEh0WFBdFFhsWwhcEGNQURw9RCV8FZgNHAg//8fqn+Gv4vPfo9WHzGPEG8VDxMPDz7FzpSuZq5LPi/t+E26DXINf32OXaP9tf21fcIN9T4JXe/Nr22aLajNw75fr5yBVRKIAmZxfAD4kY/ip2OSNCB0ndTchJDTtHKOIarRSgETgQyQ6gC+wCIvcG7O/k/ODs4DLl+++p/4gNqRSXFPUQRws9BbEB8gODCXUOig5bCisDEfo272vkcNyE2frc+eQp7wn47v7+AhUENwNIA5gFCwqvDwUV+BdJFy4Tsg3ZCGYErv+T+iT31vXC9X711/TC9Dj2UvqdAAIHkwu4DmESVheFHA8fzx0GGzUZ+RfkFPEOzwb3/pz52/Wz8sDw+/Bt8gb0dPWw9eL0IPVV9+v4HfhD9YLx0+3y6rHn7eEc2hvUe9FW0STS9tKa1OrWc9k12x3c/dpc2XjYp9nW4PvzdhLVLV40OSYGF4MXXienOExE4Ux2VFdTKkV/MAAhpxpwGFMVnRA7DPMGIf8s9evseOYC46vjBuyP/FUOJBmhGccTnwwOBpcAB/6R/hoBPgIgAKX5CvHy5rfbYNELy3bMSNSb4Fjua/qcAuEFbgVfAz4CJQSqCHEOUxK0EvgP7QqaBdf/s/lU84ruTu2c7unxwfVJ+az8FgE/CLwPchOFFc8a2iI7KasqJyhuJJwgoRweF4UPEgmUBFUAofu597j11PUe+Ij7SP4oAHwBrwFfAckAN/7t+HPyg+xz5zfhJ9mbz7HHjsOawhTDFsQ1xnTJbM3g0BPTVtSm1cbVe9bE3r/3qBwoOTk7eijcGMIbpSyyPZJJTVK7V5xSTEGNLMcg1B2fG5wWKBAbCtgEAv/B9+DwLuuh6ITqq/QuBuwWrh72HFsWqA8DC9QHowWbBCAFXAQrAID54vEQ6QzfddQ2zcDMo9Pe3+Pt8/rjAyYHpQUwAuX/IgBUAx8Ijgs4DBAKiwawAu79yPaW7r3o2een6sLu2/Oy+iMC4QdKC0gN1g4xEWEV4BpNIBwj+yI6H3gZoBLjCgEDDv0T+/b66PlG+AX4yvm2+wH9Iv8aApUFkgePB4gFZgEo+zPzqutf5Q7fe9YNzYHHicURxWjEbsTBxrvKYM9K07DVBdgO2cPYHtxY7EkMaS2hPI4zkiHwGQsjjzNGQk1NSFT5UrNGxDNzJHYeCBwSFiENtQZMAw8A8fkc85Xt+Oo47Jryvf/aECAeOiLiHvwY8BMSDxELjQh1B6kGcgMd/Yr1Ye0G5HXZKNDPy+vObNgC5Q/yq/1zBlYKygmiB7kFnQVoCD8NWRE1EisQqwwnCD8B8/cP7wrq3OmY7GHw3/UA/uIGtAzJDOQJVgngDQsV1Bo0HiQfEx26GAcTvAtZA6D8bPnL96X1ePTr9Zr4f/ts/Yz96P1vANADCgVuA4sAkPxX9u/uz+Ye3szUkcvOw7G/gr/RwNHBN8N1xiLK/8zuznLRj9RC2MfgtvcbG2w5/z5pLosdNB0RLPM8P0jHTa1P3UmVOmMoOh1BGSkWCBAVCqgFoAEf/HH0pO256qvtyPQd/y8LtBbsHLodEBtjFykT8Q0RCRcGjAUBBaUBPvpA8I7l3dtp1BHRi9KE2Lzg0enh8uT7JgTICacMrQyiCvcIRQo4DioSexNmEd4NaApPBSn+RPec8w/zZPSI9639sAb4DlUS2BDsDoUP8BGvFGcY0ByWH94dehiDEa4KCARS/Wj3s/MV86j05vV49hz3Kff69mz33vm5/Dr9wvqH94/0m/Gt7GLlkdw21BbNQ8eFw0/CUMOdxLLFmsZRyLzKwM2bzxXSDNu98kcVQzIGOlwuuCHDInAwG0DJS4lR+FGnSpk8XCwyIKIYEROkDUwJowViAJT4Ze8r6BDlBunX8ikAxQw3Fj0aNhqDGJwWfhQ3EcMNvwqjCKUG4gOz/eTzS+cB25nRvc0B0XzZcOIe6ZLtcfAn9A35c/5+AXACVgIYAyEFswcBCm8L2AqOB3gCZf1y+rD5c/oV+8f86gB0CIoQsxWuFfES5BFsFC4Z/x0lITohKR9iHH0ZxBQFDv4GfAHo/Nj5r/ha+ZL5B/kS+Kr2/vX19vr4fPnM9030tfAE7rjs0emk4znbb9NkzSLJWsYOxV3FKcYPxybHF8fqxk/JntEU5g8FPyEuLEMnGSI8J2405kF2TL1ShlOgTAFAOTI7KJ8g6RiNEMIKygbt/wb1Wem64bzfDuTC7UT7nwftD5kSrRGHECcRDhPTFH4VKhUaE78OzglEBCj9ufLG5svb/tRx1DDaP+Mx65zv7+8t7n/tYvB49RH6qv2fAKICQAMbA9MDjAXWBt0FKQIz/hP8fftF/Jf/WAZrDQkQBA2cCeYJPw1OEGkS3BSCFo0W6hQqEwwSHhHTDrwKIQUhAEr86PjY9evzPfOs8gPyxvH88avwl+0T6mfomOgC6sfqtupQ6SPm8uAQ27fW8tPu0dLPc8+Y0FHRfM/azWbSSOLb+FQMpxRXFc4YTiQ+NXxFwVL9WSBamFIJSJA+RDdrMKYpKCP3HDMU0gYG9wLogd3g15jYLuCn7SD73AP4BYUEiAOuBFMIdg69Fjse5SF4H1UZyRG6CWEA9vXW663kgOHl4SHkf+ZB6IPooefq5bjllOeL6zXw/fQ7+YT7C/zE/NL+/wFWBHgEfgO+Av4DUwbUCPIKtQw5Dq4P7xA9EkgTkhKHEAoP/Q73D7AQxxBcEIcPig75DPgJCgaeARP9F/nJ9c/zC/Ni81DzhPAK66rkwt/e3abe8eBp49vlK+ck5mTiR92P2EzV5NMr1A7VD9VZ01zRC9If2cHlR/Kw+C35VPzYB2Magy02PqZKKFKbUzNQU0tNRxBEBUB3O8w21zBEJuMVpwGr7njgctn02UPgF+hH7cHtWurQ5nnmC+tf9IYB0Q/fG/YhHSLyHgEbYReFE1EPtguJCeIHugTC/yP6V/T77lLqo+dx58PoN+rl6pPqmenY6HHpSuxP8fX2nPt1/uD/hwFvBG0IhAywDwYSpxTIF0oanhrbGJMWhRSZEm4QGQ5pDBcMowygDB8LIwhfBO//iPuk99f04vLE8YrxpPA87o7py+PX3hTchtsg3e7gf+W96G7pC+gd5sHkqOQg5tDo7Ovl7I/qaeUF4NHdWOHN6GHvafHB73/vAPSz/eYJJRftI7MvIzl3PyNEj0d7SZpJoEgPR1lEDz98NqYqXhzoDEb/rvWW8Czu7esg6NrhetrL05XPvM8u1VLeYOh78LX1G/g8+OH30PhX+5b/twRqCXwMpAwRC3MI9AWQBDgEwASzBY0GmgbABBwBQv0f+137IP3e/s7/GAAU/wX9jflB9qf1Yvgl/QcCfQXsBhQGPwPJALkAoQM/CIwNwRHxE4UUoxQeFeMVDhYsFckT3RGND5MMlgmSBvACKv6S+C7zXO4P6uvm2uWt5l3ouulr6arnJ+aN5Qzn7ekH7nXz1vZ59lr0fvE27r/qxuY+5BLkrOW958/oD+kX6a7pjut877P2FwHDDNUXmyCXJi8qdSuMK/srWS2lL38xZDFeLzMrxySLHFcUkg67C44KpQknCCMG5gOuAGX8GfiH9VX13/bd+D/7B/2N/BL5GfO67JjnHuUh5SrnROrZ7ATuUe3l6iPo6+Vq5YDn3+sP8tf4Mf+xA5EF8gQdAx8C5QLtBOcHkQvlDuYPiw2HCCwDev+W/bP9rf9RAwgHSgnHCXgJ/gnBC4AOBRKUFb4XmBe/FSwTcBDWDXMLhglRB0sEoAAW/UL6Cfi+9arzUvLi8TPymPJs8xr1Efda+Av5WflO+a74YfeY9Rv0xvLi8OjtbunJ5EjhHd803iLfg+FA5OHmw+k17ULx4vXE+oD/RQQcCbwNuRHwFLIXcBleGpQacho0GhYarhrcG+Yc8By2G5sZ1hfbFoUWshYaF98XehgeGNwW8RTKEtAPGQyYCJ4FZwOoAdL/kv3I+o739POL8A7usOxc7HLstuwP7TftTO3Y7a/uje/W8C3yZPOs9MT1iPaL9qT14POZ8YXvDO4A7jrvDvEY8/30ffa89z35gvs1/yUEXwnGDQERbxP/FCIVMBQzE78SoRJXEpYRJxBFDu4L9AinBbwCwAC9/2L/Yv/a/0UAwf+h/ir9UPtK+Wf3+vUD9UX06/LW8OTtGerr5dnhGN9F3vTe39/t4FjiDuTX5ZbnSuoI7nXyhPfu/A8C3wZTC1sPHxNZFhQZIRu8HEQe3R9XISwiLyKMIYEgRB8HHvocNRzvGykc2xslG/4ZXxgeFgkTERBSDfoK+wivBr4DwgAH/m76ufX68I3tVuvy6Szp7OhF6f3oGOjl5nbmY+dM6dzrB++s8qn1YvcY+CX4GfhJ+G74VPnE+pn8gP4DABYBtgEOApkCwANbBV0HvQlPDGkOmg+5D/gOGg6HDU8NeQ2gDRsN0AsvCtUH+wSTAugAjP9h/rX9af2n/Jr7P/qJ+Lb2gvS08oLx8vCJ8NTvBO+g7W3rnegc5rbjf+Fp4G3gFeFf4Sfhw+AK4WXijuRq50DrX/As9sr7IAFgBnQLDBCmFEsZ5h1kImImNCkaKvQpbCl/KBcnvSXsJC0kuyLPIF4emRvEGOgVOhOdEI8OHQ0NDMIKAwmIBhwDh//h+6b4C/a781bxwu5+7JHq1ugz57flWORn4wHj3eME5qXoS+vY7SXw8vGf82X1cPeE+TP8Bv9PAeMCIAQrBfsFCAcwCFwJlQraCysNPw75DqQP9w+WEDERVxF/EZUR0RHnEVMRGxBSDqsMJgtdCcYHhwZRBaMEhQPsAWIADP55+735M/h/9oL1TvTZ8rvx6++F7cnrUOrQ6G3nveXa41viqOD13hLdK9tc2t3ap9vK3K7eZuES5fDoQO3A8d/2b/wlAh4ICA4ME5QXzxtjH2wiyySfJtAnjSjrKBYpnCg9Jzkl+CJxIfMfiB12G3cZBhf5FOESbRDlDccKPAfRA1gABv0H+tX2XvPV7zXs6OjO5QzjL+Ey4M3fh9+o3yDg/eBy4hzkGOZR6BzrEu518dX0J/gi+4T9w/95ATYDGQWoBuwH7AkzDHgOzg9tEMYQOREaEnMTwxS0FX4WKBeGF40WbxVPFAMTjhFIEG4PeQ5lDUAMywoUCTcHywQ8AnwAqv8j/yP+f/z9+jL58fYw9b3zVvL98Gfvmu3G6xPqfOjN5u7kReMK4hrhd+Cb4HXhy+Ja5P7lLOjk6s3ttvAE9L73gPtt/1wDtgYZCuMMFQ83EbkS/hMEFR8WXhcLGMsXKRc0FuMUvRNOE3ITBxTEFA4VvxT4E0oTtxKOEQ8Qsg5cDdsLKwphCPsFLwP9/2r8fvkd98v0u/Kv8PLubO0R7AbrduqN6ijrIewa7QTuO+/G8FrywPP79Cj2ZfeF+EL5S/qC+5b8fv1O/uX+Y/9AAG4BoAIGBIQFxgatByYIiggrCcAJbwovC34L2QsnDCoM6AuhCykLRgpmCQ4JFAlECSMJzghkCKcHBAdtBrkF1wTsA+8CuQHU/9D97ftX+vP3QfU48xXwfu7U7m3ti+yo7CPrIevC7Mns5u3L8BbygPTN93/54vs5/hP/XgBQAnUDqAS7BQEGFwYlBmMFkwQPBEoDPgPtA4YEmwXpBqIHtwilCRYKHQs+DGQN3A7aD2wQ1hC8ECcQLA/ZDZ8MOgunCRAIgQYrBYoDzwEFAEX+sfyS+9P6V/pr+rX63vru+iH7HPsD+8/6cvoX+tT5rfmG+TX5y/hv+Pv3g/f99pn2hPbS9kr34vfD+I75+vla+uv6//uE/e/+sf8pALcA/gA9Aa4B5wHwAd0BpwGYAbcBNAKbAvICRQNYA2UDaQNhA2ADigObA5UDYAO2AkQCnQGSAJv/uf7n/QP9aPz5+2X7mPoD+rn5Zflw+Rj6F/ti/Kv93v6F/6f/3/8sALcAPAGlAa0B8wCn/0r+7vx2+1z61/mc+ZP5uPnA+R76qvpB+x38Ov2w/nUAUAIBBM8FQQcmCM0IRAmYCfMJ+gnQCZIJZgkyCbQIKwhaBxEHFgfQBpEG2gZEB+gHuwhnCaIJownOCb4JwwnSCeUJawm5COMH0wbcBasEFwNYAbD/Bf6u/Lf7tvrx+Sj5Nvhn94L25fWt9dP1EfYP9tH1j/Uu9Zz0FPTm88/zjfOo8x702vSu9Zb2r/ek+Gf5M/ob+0T8k/3w/lEAnwGpAkcDswP1A1IEiwS3BCEFcgVvBR0FpwQWBJoDMwPlAgEDkgMABFgEmgSMBIEEhwRqBCEE3QOzA2ADjwJtAQgAiP7K/Cf75fnz+FL4yPdq94r2mPUK9ZX0lfTu9LP1wfbb9wj59fnE+nL7Dvx0/ML8df0E/of+Kv+A/4f/hP+J/6X/BwCIADYBRgIWA9kDvwSGBXsGcAdvCKQJ+woXDPoMvw0vDqMOFg8OD7UOjQ5JDr8NOA3rDJEMzgtBC4wK4gl6Cc8INwi5B0IHpgbdBQ4FCgTPAlUBoP8C/jn8xvq2+aD4rPeN9qf1E/Wi9Cf0u/N7843zBPR49Oj0UvXd9WT25/Zr9+P3hfgs+dL5a/r8+mn7efuq++T7HPyd/Fv9Cf6C/vn+WP/j/4QAQAE7Ag4DeQOOA58DlANmAw8DgQI9AiICxwFpAQ0BaQCI/7D+Bv5+/UX9af2N/cH93f2q/YD9i/27/fb9OP6s/gD/C/8N//X+zP5t/gH+h/0y/Qr9sfyS/NX8Bv3//CD9I/0W/Xz9XP6B/3UATQFKAgoDfAP9A5oEPgW9BR8GcQaaBtEGFgcFB5gGKgYfBiEGCQYeBlwGygYhB2MHOQcNBxoH3gZ4BhcG8AW7BUQFtgQIBFkDowLNARcBjwAFAHn/5/5S/q79Af1p/MP7f/tm+2P7RvtT+1X7IfsQ+0L7X/tn+137qPvf+677DPw3/JT8lvxb/9AAX/0t/fP9ZP1U/1D/Pv9o/6j9wf4L/xv+fv6//tT+J/+e/kX+NP7e/Vj+7/3w/fL+zv4o/1r/8v7+/mf+RP8NAKT/AgDU/9D/mgB+ALoAEAGhALQAlQA1AOb/nf+B/13/0f7R/pz/Xf88/8b/ZP83/4P/CQDuAIEBBwLRAiYDbgP0A7QDaQN0AzMDowJcAt8BegHuAP//ov8P/7j+c/44/ir+WP6L/pn+7v7k/jT/mf8HAJoAHgGTAf4BlAJoA7oDywPuA9wDxAMpA1ADPAMFAxMDCgPsAnUC1gFwAVcBDQEOAQgBxwCaAGIAyP+O/3r/2v57/n3+uv3X/f39SP3q/KH8qPxY/HT8cPxY/BT8Bfy6/FX8m/wf/dX80vzY/Fr96fyh/LP8Jfz3+/n7f/vI+on6P/rH+Rj5XvlQ+or6y/o6+1b7B/zD/Ff9Iv44/3EAewHWAmQEpAUeBvUGEQg2CYQKhAtpDGQNVw6WDq8O8A65DoYOlQ7jDvEORw6aDYgM5wotCdYHLgYRBFkCqgA5/6X9qvuv+Zv3w/WW9FPztPJX8r7xcPGX8cnxxfEY8rzyofOj9B72pPcT+YX6r/xg/un/OAGQAeMBHgPmBDkGvwaoBssG8gaCB74HKAdvBoUGVgZkBkcGfAWdBFsEhATtA2MDsAIBAiQBgQDv/+/+p/1W/Fj7yPpt+oP57Pcb97P2OvYi9sH1+PQL9KbzafOU8qbxR/Gt8Nnv1u5M7QTrfunA5zXmdOf36gHvMPEr8jL0PPiE/UEDGggdDMQRuRhMHl4jUCbLJ78ogSn9KiwsayuhKLkkEyCOHOEXXhL7DDkIhgR3ARn+4/rc9oDy7O4p7Nrqsuon6xjsh+6s8HTzkPXQ9iH43fkb/dIAoAT7B7UKugyXDsUPXw+nDUYLLgmAB8MF9AOXAcL+Ffwp+U72VPNK8NTtGuwT7NHt8u+68ZHzn/V3+AT8GP8IAkQFkgh/DJMPvRCqEvUUPRVvFN0SYBHsDw0OqwzpCqcHOASPAXr+svtd+Nf0jvK18AbvRO3f6v3oLOds5Q7lgeSQ4/HiMOMh5GXk6eL04drhwOE84Zjgwt/G3avbQ9od3KPi7e2n+UX+Nv4kAt8MIBmEIJckqyuXNjpAhkbAR05EkT3eNZwyWzIMLwgnvRwkE54K9v8A9VTtX+h95rznJ+qo7J3sI+xn7fLu6PGu9ir9PgR7CjUQKhb0GDwX5hI5DqEL8gmjCE0IxQclBkMDs/6d+HnxGuop5V/j4uPe5fHmYOlb7WLw8PLR9C32Z/j4+04AdgV3CskOpxJvF+AasBnRFC4QoA8REfkQ2g+1D+kPWA9TDcsJRwXLAMn+3ABnBDkGUAYnBoUGBQX+AfP+kPti+ZH4+fcE92TztO4S64nnt+P53sfa59gG2S7acdt627DaFtp92cHZg9nH2J/YVdiE2PfY4dzJ59L3dQUYCrQJww0tGDwiNSiyLek2GEKvSLhIWEKbOMEtpCRJIJgddBgeD1cFAf4C9x/uAeY34WnhnubB7hr3zP1wAfkCXAO4A5QFSgjpDOMSGBelGLEXXhPeC5kCFPpu9DvxxPDp8UTzRvSe8wfx6e1c66vpper97eLyr/cc/CMBNQYjCbEJTwgVB6UGgwbbBv4HwAkJC/YKgAk8CWQJ5gZYAsL/xwH9BbIHFQnSC/wOYRC4Dt8LQQrPCKkIzgpiDasOLw12C8EJxAXS/1P7Efid9oP1AvTp8szwLe116S3laeHB3vHcJd6M4G/iZuMK5HXk9+OB4UHfHt7B3Sfd39sx2nHbz+MH870D+wxSDW0MURHqGrUjcSp9M+49kESIRAQ/jzZXLQ4jBhoQFOIP4QviBigBUfmB7gPkVd8k4ZzoCPIn+pwAyQQ4B4QINQhDB2AGOwczC2QPxBHVEEMMkQQf+5jx0Oqg5zLn0egW62ztp+8n8fHxoPIz8gDyafN79+L86wGXBkUL0Q7WDx8OkgoLB/MD8AC3/oD+CQBaAdwAVf9T/V39DQFTBMwC5wASBNsK5w/+EoEWCBjqFWsSvg63DD4M+gsnDTEOtw6qDcEK5QfhAi77ePVG8+PzGPWY80TwcezS56zjSd9f2tXWWtVV1+zbqt+24bvhquD235vfCd8H3m3dc95i387g0Ofc9pEJdRZEGYQW5BbOHbEnpDDiOHxByUfUSAZEMjsVMW4k2hd5D38MowyHClwDefgZ7Zzj4d/v4lbrafW3/bMDUghUDNIOog0TCjEHLwd1CgMOyg4aDJkGlP6h9eLs3ObR4+biLeQl523sv/Ir+Hr7gvxS/Pr72fxm/50CxQUBCL8JCwuQCqsGRQBC+W3ziO++7M/spO/b8gn1Y/Zd+dX+VALQAWsB3QYeEH8WNRlOG4AdVB1sGXwTow4aC/QIjAiRCUwLjwuiCfoGiQP9/lH7mvkD+ab3zPSA8gHxze6H6ljk8d6k2+7Z29mk2rHcK+Av4yflgea65mzlVeMr4jniFeF43tvbstyf5Bz04wXSETUUjBGqEb0YuiSYMcg9Gki/TJtKaUQ5PIMyMiYfGm0SSBDaD2kL1wAB83nmId8G30vlie9O+soC9AjLDW0SGBUaFPMQ3g0hDd8O6RDvEJQN2AYE/lb0Ves15C3gdd+X4aPmhu4/9jf8/P7Q/kb+ff0F/lEAhQN5BhsITQjnBz4GEAKh+8P0Ce/Q61nrie2z8Sn2svnR+6X+SgOfCA0Mbw1SD9wSDRa0F6EYfxh0Fn4RLwvUBs4EOgRMBOoECAcvCeAJEQnLBpADu/+B+9L3/fR18jXwrOzx58nivdys1rrRws/U0BPTdtYg24DgxeRN5kvm1+VM5FLi2+B436fdgdtR3KzkqPSlBuARjxI/D0EQCRnnJvo1DURkTndSYVCcSZhAWTbiKTUdpRTlEZsQ5Aq5/qDvseJZ3CbdhuO/7XH4/gCsB4UNzhK2FXYUwxDGDSoO/hB6E9MTGRH+CX3/3/NP6ZHhWN2t3HPfkeXo7eH13Pq1/Lz8VPzF/Aj/+gLdB8wLMg5eD2gPXw2cCAQC2fqW9JXwEfBo8mH2b/qB/WMAaQRpBygHJwV6BckKnxOdGhMcWBq+GOsWJxLBDJAJ+AdrB98I7AvSDpwOVAoLBE3+5vqm+Ov1VvJX7YDn8uI43xrb69UI0D3LIMp1zdPSptav2RPe7OIg5+XpsOps6qTph+go503lcuKp3kXelebd9nMHFxFMElkRNhV8Hx0tSzuXSBdSJlQ3T+lG3z2VMwMnXhvXE1gQZAxEAxD1QObk2r/Vq9fT31Hr6/XL/eMDPAmfDf8PhQ8ZDmgN5Q4JEosUJxQtD/AFDPp+7S/jhtwu2UPZttw+4wnrFvJG9mX4EfpB/M7/WQW5DMITVxhDGqcayBnyFlcRFAoEA0z9B/ky9xj4TPr8+zv9s/8bA4sElAObAxYItxBvGJkb/xulHOocbhkgE0oOoQvtCXoJegokC9MJ6gTB/RH36PJw8Prtget56LDkZuH63l3cLNl+1b/SgtKE1S/aDd7b4Kbk5ug67Lvuje/W7tXt4uwB6/vnrOQ+4JHaedlT44f1vgauDkMOew6IFSAiui9yPT1Lt1S5VYVQ10joQA03wSl9HbIW4hOqDsgClPKT4tHVKNAp0iXaS+RO7Onx6faO/KwBZgRxBekGvwndDgsVPxkbGZ4UsAxLAl/30O0m50Dj5OEb4+XmS+xW8KPxjvG18QHzGvdo/oUGNw25ERkVPxeNF0kVzhBsC0cGiQEJ/pj8G/3X/Xn9Yv1B/2MBfwAvABQBSAUBDugTjRUiGHoZvBdXFOgQjQ0ZCmoKsQvLCo4J5AfnAob7qvVC8qjv7u747QbqdubO5JziPuBn3j7b7Nhx2ezcOOGM4zrlL+hi63ztKO6Z7ZztC+4S7cLqg+hL5WLhiuBP5yv2JAZ2DicOjw0NFFEg9yuaNjdC2EzyUORN9EaPP+03HS4NJAIdchrgFugMa/wx60/dHtUd1GjYdt6E45bnBuum7mPyVvUr9yr6kv+QB+MQTxgPHM0bIhiNEQgJHwGb+/j3APWb8sLxNfLc8cPu/+k05pTkL+ZA66jyXPqjALMFHArHDcoPbQ8YDtINLQ4aDssNMw4fD4IP2g3mCaUEiQCX/un9ov/cAnIEvgNyA+UDxgK5/4D94/2J/7wBrATXB2QJ3geWBAYBPP7L/B/8NPsq+Wn1FvE/7azpreUH4SLdBdsx2iraxdqb27jcjt6R4Ynke+YM6B7qJuzb7ZTu+u7M7t3toe9O91IEkxA8FUYTqxI+GF0ilysuM/o7MUS8RvpCQzy0NmIxjyqHJBkh9R/FHBMVmwix+VHsU+Qr4ljknOd76O/n0ub55VPlv+R25HfmSuwD9swASwkzD3IS2xOtEz8S1xCoEFkRhREYECAO/wuxCNICevqp8bDqa+bQ5KHlgOct6vLs6e/28mv1Vffp+On7rABmBr8M7BLHFwcaoRnwF9gVZxOvEQwRdhApDnALAQraB8oCV/yv9x/1GPNh8sD0//ef+ev5sfqh+2j7sPrr+qT74Pui+4L7k/pa9xPzPu9j7FvpJ+bK4/Xh99+O3nfeOd+s3zzgmeFD4wjlmea46ETrl+317ijwp/JB9xf+zgRACC8I1Af8CbkOnhWNHV0kySewJ6cnOym+Kv4p/yeYJ5Ap7SxqL8guRSoDIyEcJBipFrYVbxNhD9gJ9QJC+33z4+vL5C/f4dtQ27bcHN4l3zbg0eHK4wnmTOkX7obz2fj1/VAC4QYOClALsQuvCpEJtggHCG4IVAnBChkMLgxLC1sKiQnGBwcG+QTlBP0F0AezCcQKqQreCGAGPwRdAmUBsAGKArgC5AHmAGUAZP/I/Ob5rfi1+Uz8mP/SAtYE3ATjA2oDRwOvAssByAHvAfUADf9P/Mf4pPQH8GLrfudc5KnhBN8f3G7ZG9e91JvTy9OD1LTV9dZx2KjaRd7n4X3kzOYO6s3v8/fd/7gETgZYB5MK5hAZGtIjyyq2LaYtCy6CMAczUjNgMkIylzOCNWA2FTU1MIooACF0HCkaShifFWER1gp4AjD66fI57GflE+AA3a/bqto/2q7aAdsJ2xjbMNzq3hnjBuij7TzzP/hU/LT/vQIyBQcHSAhaCVkKEAwWD1YSaxQIFU8UrBLSENEONQ1wDMUM9g0MD/4O4g00DNUJwgaiAy4CKgLhAi0EQwX8BAoDiAA3/iP9Uf26/oIA0wE2A2QE7QRzBAMDKgGY/3H+WP62/hL+VfzK+fj2YfSj8bHuCOyo6U3n2+Sp4tLgAt8D3erag9n92OnY9dgc2dHZG9uo3Kvd7N6x4c/mvO3K83731flB/GsAKweaEG8byiTcKm4tly/4Mq02BznZOcg6bTwVPnA+4zxNOOAwsChPIg4ezhpwF9ISgwxZBLn7afPT6wjlUN+B20LZztfs1lvW99VO1WPUvdSX1kPaJN9b5AfqzO+w9Ez4evuD/qwBVAS/Bi0JdgtIDmcRKRSUFf8VchVOFFsT6hJGE6gT3hMuFHoUlRNcEb8OXgxCCj0IuAZMBscGRwaIBJAC/ACf/9n9yvwr/Sn+fP7w/nP/lf/o/l39O/w9+3X6f/li+T35Nvi09mf1XPR68mXwTe6t7A7rUOn951jnZObA5OHiWeHC4BXgRN/b3tXe794b39jfW+FH5Ojod+738ij1SfYC+dD+XAbHDxEaISPnKLkrSi4/MjI2OTg1OoU8RD8xQSVBIT8ROpMy9SpbJawhtx4nGz0WqQ8MB6H9g/Rw7FXlrN8w3DraQ9j21TTU9tE4zwLNGM1Oz0/TYNiS3TXja+ii7DHw1/Nz9137Q/87A0AHFguXDoIR0hMCFXIVhBWbFdEVHBaLFhgXvRfcF2YXWhaOFJ4S8xAKD9IMAAvtCUoJUQhFBqsDTQE9/1/91fte++77fPw+/O/74PsR+7H5Avmz+H/4hPiH+Dz4Pvf49dH0vPMY8t/v2u0a7FjqVuhI5v3k6eNt4qHgWd8m30/fud743fXdjt6/3z/hi+NX56vsUfL09YD3Afka/FoB4wcuEIMZ7CFVJ00pGiswLt4x9DQXOEY7Fz7GP1w/Wz1dOSY0YS6qKYEmAyQlIZ8cURYpDtcEdvv38gfsF+e/43zhEd8H3OjYr9Wj0iTQc88f0XfUvthT3aPhs+Uo6dfry+4I8pP1cflf/UcBpwRmB80Jigu6DIENSg5xD6EQwhECE9kUoxYNGIcYdBjRF7EW7xUGFUEU1xNFE3kRiw5OCygI8wS6AXz/8f0F/Nv5Mvga9+b1S/Ql81Hyn/HC8XLyLPMG8+DxzPBs8HbwsPC78M3vc+6d7EXqJehe5l3lA+XK5FTkpeOn4qfhY+FE4UjhSuJ45Knmf+id6wbxA/dW+vX54fkN/vIEnQpwDlMUZByrIsMk3yS4JYEn6SkXLckxpDWQNtA0ajL4L7As5yg0JUIjwyGzHzYd2hgtEusJtgGc+gz1kPLk8Ofsl+kq54TkQuII3/Xb2No72y7eH+KI5KXnuOp47SrwYvFt80n2LPmz/OP/NQPSBTIGDQfNCFYJoglXCi0Mpg6uDxMQFhHwEnoU0BQ3FFoTfxP/E94TFRPqEQkREhBjDYcJxAbuBBADhgETAOr9RvvT+C/3wfXK84zylPI+80jz6vEV8FbuA+2r7NXsu+w37E7rK+r86NLm6uPo4e7gDOFB4X/gd98u3hDdX9zG2/zb39wF3nDf9eJ962n2JP0t/Zf7jACCDNgXwh1xIXwoTTILORM6rTcANUE0EjaDOSc78zd6MLUo8SIxHTMWCw+aCs0IYwcEBSEA7flB9BLwVu0u61LpxOio6b7qSevy6unqLusi67rri+2F8AL09fbP+cz8Kv+ZAFsB2AFAAq0CJQPPA6MDuALsAUcB+ABdAKP/f/8GAMcAxAE3A7sFGQmlCxINcA5hEZ8UzhVDFesUaBawF/8WfxUhFFkS7w+qDTELVwgNBdsCNQLEALr9Vfr792z2PfTL8IHtBOv26MvmouTp4ufg095l3Q/cRdrY2ETYkNhV2enZdNr82ljbvNyz3uTff+Ai4R3jK+Xl5jXsWfePA6IIMwWPAxkM8RmsIx0myiffLvI3jTyFO4c3fTRHNCE2yzcHNXUtPyVXHxobHBb7D7kKWQdSBc0Clv58+eD1vPR09EXzWfC77ZTsKezY6yzr6+pJ64zrgetA61LrMuys7Qfw2fIK9br2Q/hD+Uv6J/vo+9T8ZP0C/gf+tf1j/jQARgKRAwgEUwRJBWwHSAp1DeYPBxKOFBcXFxljGZcZVRp9GqsZ/hi3GFIX4hSLEkoR5A6mCrgGugPHARUARf7R/AH7Wfiu9bbyd+9B7BXpRucb5k7k++Gj3xre1txh293ZUdmJ2crZR9rs2sHbOtxB3QDfgOBw4ZXh+OEp42HkyueE75j5zwAhAa//RwWHER4cRCFVJKgqRzNHOIA5hDjuN3s5zDvmPXQ8PDZULj4ojiPxHoUZcBRVEf4NcQlGA+v8cPgQ9jf1RvQW8rju6+vN6d7nNOZJ5T/mNufw55votOg36Yfqquxz7w7yvvOY9TL33Pg2+q36rvv//AH+K/6x/bb9EP+9AG8C4AMlBcgGZAiVCSAKfwrCDLsQ/BP7FFIUHRVeFjcWaRXtFEgVXhW5E1wSHhEwDvkKQwhKBqsEXAKMAKb/PP3/+fn28POV8Xvv4+yJ6oHnb+R54k3ggN7u3IzbxdoZ2mbZXdlv2d7Zs9q3247dC99/4LTheeKn497kbeWX6JPvwfcF/Rj9Tf4XBoYQaxisHH0gRihhMIY0HzYCNqY2ojlRPXxAnz+DOmI0nS/9KmUmkCGHHRMbDBiCEwEMxwNx/fz5yPfK9MHwee3f6rvnR+QY4XTfYN/n397gpuEi4hjj8uRK58PpR+yg7knxpfPL9b33o/mk+2j9tP7P/60A+QDIAXEDvwULCMsJjQvoDH8NjQ1MDikQmxFNE2oVtxavFtsVqhV1FlYWahWeFXQVFRQGEk8PjAy6CacG/QRGBKMCmP8R/Dr5lfY9863ve+0F7KfpQ+bp4jng2t2B26LZx9h419zVctWk1bHVxtWe1jfYOdrk23vdg95H3yDh3uOM5Q/ote109Bn5Svpx/EQDNAyDEpYWgxsaIzErmS+kMD4xVDOKN0c8RD+gP6k93DlGNkMyty3/KTMnVSX9It8eQBh7EFgJKQQOAIT7efZT8lLvyOtm50njmOCI3+feYd4k3vvdgN4D4PnhIORq5snoUuvb7Snwd/L99En3fflP+wz9xf5lAHICmwR2Bm8I2QpfDSsPKxAAEZgSWhR5FXAWKhd7FwAYxxjjGKkYERjkF0QXNBWiEiQRlRBrDysNwQnOBqoEZAIwALf96fqD+M31gPJU7yrs1OlT6GTm2OMR4dve6NwZ22bZkdhr2IfY+9i/2RbaANqH2hHcyt3G3j3fEODf4Q7jdeTA503sefB18z32BvtvAN8E3Ag0Dt8VAh7xI6sm4CeHKVQtGDIsNtw4JTrEOQs4UjU1MjovvSwDK40pwyYHIk4cbhYmEdQLcwYhAVn86Peg80fv3+ps58PkU+Jk4OLepd0e3YTdbN6G3+LgoeK35M7mCumX62ruv/Ag83P1afd5+X77I/5LAU8EGQd/CYELPA2pDhQQ3BEMFFwW9BdpGF4YTRi0GAwZoxgsGO8XbxdRFoEUdBKjEOEOFQ0vCygJaQfpBTEEwQEV/8b8g/oF+In1u/Nb8mvwH+4k7Nzp9+ZQ5OLiHuIC4a/f5t7w3rHeRt4E3mLedN+N4DXhSuFd4cnh4+KA43Lkx+aF6TrsDO+p8t72C/pz/Kr/GgW6DOQTkRjQGqIcjx+3I9cnMCslLrkwCDL0Mcgwyi68LKYrISvzKZQnNSScILkcLxgkE28O+QnDBfQBCv7J+W71v/G97pXrgui05avjluLY4WnhL+E84Xnh6eEB48bkmuZJ6CDqV+xg7vLvwPE19M72qPkB/SQAhwJ+BK4GxAi6CqIM6Q7qEEASlRO4FIYV1RVGFrYWIRdzF5QXUhekFhcWVxVAFMkSKBGFDwMOeAz7Ck4JBwdxBM4BtP5P+274LfYE9Jvx+u7r65vo8+U05J3i5eBV37ves9573gLeB96w3m3fQOAW4R3i5+Jn4w7k1uTl5QrnOugK6sjscPCY9PP3tvlG+3r+GwQAC7gQixRRF0waDB4KItAlPSmvLKcvODFRMasw3y/2LlwuvS11LGEqpyeGJKYgfRyJGF8UKxD2C7wHdAPk/iz6BPZZ8rTuPOv+5zTlGeOE4Wbgit973tjdAd7J3qHfoOBU4lXkDOaq51/pNutE7fDvh/Mx96b6vf1aAK8CswTwBrYJcwznDuIQlhJbFBoWRBf/F4AYIhnEGRkaThoVGqcZ2BiRF+QV/hP/EREQYw6tDHAKoQcXBGMAxvyB+dn2b/Tp8f/u2Ou/6EvmCuQK4l3gIN9k3uTdhN1q3cXdet4839bf5uA+4kLjFOQx5Xrmf+c06Nvooelr69TuIPPP9r34x/me+4P/egUwDF0RRxQIF4waqh5+IuMlYymbLAovTjCbMEIwby+7Lp8uMy7dLKsqHigcJXAhpB3vGUEWJRL3DSQK5AX9AIH8PflE9qzyqe4769vou+bM5Gfj8+Gy4Prfs9/h30HgTOHL4i7kbOXC5kHoL+pX7NPusfEJ9Zn41/tz/k8AdQIcBfgHyApzDYgPWhFaExkViBbsFy0Z5hkzGnEa6BoXG5sa+BkbGUwX7RSxErcQzw7WDK4KtwfyA+f/hfyO+W/2ffOx8PTtDes76J/lGuPJ4DLfQ94o3VLcE9w93FXcWtwA3fTdy96r3+PgJuI04x/kxORD5Qbm9eZP6O3qMO/c8z73t/hm+dn7QwFrCM8O2xKEFbEYwxy8IAUkNyffKmwuiDAxMdMw8S9cLxMv3i7dLdArDSk2Jh8jKR/gGgIXgBOvD4cLJAe6Ak3+yfoc+Cb1m/EQ7lfrSemj50HmDeX+42DjLeMv417j4+P75IHmIuiC6aTqEOyv7YXv1vG39L33v/p8/aX/mgF0A6kFPAj/CqgNyQ9LEbUSJxTYFcgXkBmvGvwa+xrfGqcaARooGSUY8xbkFG8SFxDBDWQLvwjnBYkC5v6y++f49/UL8wnwVe3p6lPo5+W147HhE+AX31jew91P3RfdOt2F3fLddN5e31fgEOHM4XPi8+LZ4+Lk0uW85uDnkOqx7v7yIfbd95X5x/zZAUIITg7MEu4VxhhDHN8fdCPoJlwqPi3iLigvXC51LaUsLCyMKxIq6Sc7JYwiQB9qG3sXlxMsEIoMAgkqBdUAufzX+Wj3ivRq8TnuL+ye6gfpMui252TnRecv503nIedc54PoB+pY66Ls9u0V7zjwxPGe86f1EfjH+or9q/9YAdQCigSpBiIJ4Qs2DgAQeREaE9MUjBYXGDAZ0BnoGe0ZxhlDGZkYFxgnF0AVNhM6ETcPQw0nC2oIXAV0Ar//M/1a+lr3mfTt8Qbvcewn6tDnmeV94wniC+Hs38neGt4Z3mzend6K3qneD9/i393gv+GJ4lPjkOSb5R7mM+fH6dntbPIX9i/4XfmL+y4A7wZeDaQRgBRTF7saUB66Id8k9iftKgwtqC21LHgrriolKmApACgOJoUjziCnHeoZ9BXfEVAO3wr7BhgDgv8P/Av5afae85/wt+2L6xvqMemh6EboBeia55vn9ecJ6HToqukz66fs7O3f7pPvevDC8RHzxfQz97L5mftr/Vb/9gBQAukDTgbECCMLOw3VDg0QehFqE88UzRVmFgoXxRfIF18X8RZnFpUVsBRBE20RsA9ADs8MrArkBxcFkQJcADf+i/uu+M71NPPS8GHuzusz6TPnv+V05AnjuOEP4ebgu+Ct4JHgluAV4bHhU+I/40fkPeVH5gzny+ee6Ovpteza8ET1m/hz+tj7X/4HA0QJKA9PEwQW0RhqHOQfwCJ9JYooOSvDLO8sPSw5KxQqWimSKP8mliTAISsfURySGLEUERFVDb8JUAa2Ag7/gvvT+Gn2sfPV8C/uI+x66jzpO+i051DnJucV5wHn7Obj5s3naOkG6zrs9uzQ7Xzua+/p8LHy7vRo9xH6Xfwg/lf/tgC9AlEF8Qc1CjkMuw0lD8UQZhLLE8MUfRUBFicWRRYbFqEVHRWIFN4TcBKtEBUPng32C9sJZgfcBJ0CJACA/b768fdQ9RPz+/Cz7hTskOl757TlS+T04uHhJeGt4JjghOBU4Hbg2ODN4a/iO+Ma5Cvl6eWP5nXnwOgq6/fulPNX91L5X/qv/B0BLAdsDRoSIRWCF80aoh7XIY8kYidiKp8sby0RLTUsFyshKn0pkijXJm0k+iE4H7Ab6hdCFLsQZw0KCo4GKAOa/3P8D/p+95n0i/ED7xHtiuuf6iPqxOl36T7p2Oh46FDoLOno6mLsYu0n7t7ueO/u77DwOPJo9Mr29/jJ+jf8M/1n/jQAJQIrBHIGswibCgsMcw0BD1gQqxHZEu0TiBRXFCoURRRYFBcUPBPRERQQrA6yDfwLvgmHBzQFzgJkANv9D/uJ+Fz2/vN88SnvD+3j6pnoXOY65Lzi1uF84VPh1uBB4OHf2N8l4MDgjeGY4sLjzOSE5SLmzObg513pXetq7sTyFvfO+Wj7Hv1dAJEF+wulEW8V4heEGqgdoiCxI90m7yklLCotPS1+LCYrxinPKPIncSYYJIYh7x7KG0UYlRQYEaENWQpgBywE6wAs/uX7cfm99uDzavGY7zvuG+2Z7GPs3esZ65XqdeqY6inrO+ys7bjuS+/x75LwNvEC8h7zCfUq9yX54/qC/Kr9Nv9QAS8DGAUBBx0JOgtGDUAP7xATEjETeRSGFe8VKBYmFvIVxxViFVMUnhIqEYwPng2XCz4J5AapBCcCQv9v/AH6qPc49W7yz+9U7ezqu+i05qfk5OJ64Rngbd8E39TeDd9F323f1t9H4Ofg5OFM4+/kWOaQ57no7+kF6/Prxe0K8UX1Wfn9+2L91f7PAZ0GqAzAEasUhhYYGSoczh5FIdgjgSZdKDop3CirJzImGSWXJH0jriHGH7wdNBsTGNcUwRGwDu0LRQltBoADLwBR/UH7VflM98P0gvLl8LbvD++l7lLurO0y7S/tU+217TruJ+828D3xyfEW8sTyVfMu9J/1Ufcr+dX6W/wE/pX/RgGEA8QFVAe5CDcKxwvMDegPlRHmEr4TRBSTFPUUZRVFFfAUeBTXE9USbxGaD7gNRwygCqUIcAYwBN4BhP8Q/aj6Uvjp9cbzoPGG72HtQuuK6d3nLebA5MjjI+PG4oXiouLf4gvjKONh4+Pjd+Rr5ajmAOhX6U3qo+or69frEO2P7+rytPbO+Yj7evwH/kUBfAYiDE4QnxJkFMoW1hm4HB4foSHNI3wl8yVRJRIkgSJMIb0gHSBlHioc+xnhF/YU6BFRD9wMDwomB6wE+gFW/1D9nvuD+ev2lfTU8jzx4O9A7/3unO5d7iDuJ+467m3ux+5O7znwGfH88bryefOC9OT1OPeM+Cn67fvL/Wr/7wDjAgMFqga6B8wI+glVCwkNwg4ZEOQQVhGcEcURxhHOEf8RAhI4EREQ+A4IDtUMcwtfChcJlwfVBQkEIgIFAB7+WfyW+n74evbe9DvzVfFg79HtK+yj6ofpv+g66Mrn1Occ6CTo9ufv50To3uiK6UvqPetD7Djtue3f7cvt1e3T7iDxmPS995z5ZPoH+wT9/wBRBvwK2w3rDzMSABWZF/MZjxwIHxUhGiIaIjghASAPH3Ue7R01HesbIxoSGHkV+RLPEIcO2AtiCQQHgQTwAWr/L/1i+2D5H/cj9WLz7vG28Azwiu9h74LvcO9O7/7uz+4s7+nvqPBH8fvxl/IU87vzqfT79XD3/vir+jb8r/1R/yUBvgIPBEgFQgaHBy8Jywr1C8EMnw1XDsIOOQ9lD1QPQQ/0DpIO7w0hDUAMBwufCYgIUQfkBW8EMQOPAZ3/5/1F/Gb6JviA9iP14vOR8ivxxu937jLtK+x06xTrDOv66uPq3er+6gjrL+ug6zDsbOz97KPtK+6K7rTu9u7/7rbv6PF59fr4wfou+537m/3OAToHJQwyDxQRKhPcFXkYzho6HfkfVSKRI4ojryKwIaMg7B92H68ehx0fHBEahBetFP8R1A+7DXML/QhrBpkDwQBo/oL8q/p0+Oz1ofMC8vXwRPDM717v4e5X7t/tR+0C7VHt2O1k7vXuee/072vw3vC78S3zEfXq9oH4A/qj+2n9Vv/dADwC1wNUBaUGHAiYCX4KfQvIDOcNQg4xDjcOAA7RDcwNwQ0QDckLtArHCYUIHwc5BikFlwPjAR0Aj/7F/ND6JPmK9wb2efQG85XxC/CG7hDtKeyQ6+PqL+rv6dTpsOnm6SHqLuoQ6lvq5OpE66XrKuzO7PfsmuzS7HjuevHx9IT3f/jQ+Ff6RP7kAyQJ7gxzD7ERfhSDF4YaYx1rIGgjbSVWJhYmBCXDI1UjeSNHI1Ii4SA1H/EcNxo8F34UQRIcEMQNIwv1B/MENwL+/+79Vfu3+IP2rPT88tDxEvGE8Arwju8A73vu2+2Y7dvtY+7q7lfv2+8y8KfwYPFH8ojz+PQ09r33aPkX++D8rf5kAPYBcwOQBNwFKAdJCHkJqwoPDDANmw23DbMNew0wDQcN9QxwDFULhArRCV0IuAZQBTUE5QItAYP/t/3o+9T5wfct9kv0fPIF8WHvf+1u6+Tp0Oi65+rmouas5m7mYean5ofmGubo5U7mO+ff50rojui46Njp++sw74PylfSF9Yb2IfnG/aUDJQkNDZIPwRGmFAsYRxtYHrEh4yREJzkoCCgkJ78lECUMJcok0SM0IiQgzh3hGuAX6RQMEl4PiAzcCWAH/AScAmQANP6O+8j4dfa09GbzefIY8uXxj/Hf8BHwl+9G7yfvGe9l7z/wI/G98QLyW/LF8sTzPPV29rn3Pfn3+qb8Qv7L/4kBfANFBdAGEAgNCRoKKAuXDCYOMw/dDwYQ1w9DD8sOiA6TDjkOCg3iC9QKnQkACCIGRgSSAu8AVf+D/Tf7pPho9rb0BfPb8MLu9+xQ67/pA+ha5hrliuSx5NHkj+RL5HPkueTW5G/luuUH5pHmKOeS587nLemS6+/unvLX9FT1mvWp98T8iQOcCZkNiQ8YEfITFRdAGogdGyGLJLUm0SeQJ7Um1yU9JUElDSWEI+8hxB/WHPMZjxZSEzAQvQxzCUsGNQP/ABL/tvwx+mH3JPQt8VLvf+7+7UHu5u487yHvSO6a7TztPe0l7obvPPHX8hH0Q/UQ9nD2LPe0+M76wfx4/nEAjQLTBDkHagklCwQN9Q5DEFgRjxIjFAAWIRcVF5cWIha2FZ0U0BLREAkP6AyOCvoHIAWBAq//v/zH+cb2pfMo8TzvVO0l6+noMufi5V/kUeNr4rLhOeEq4Q3iT+FI4ejiuuMM5fPl/uV55innVOfW5wzpeezW8pL3//k4/CQAswX1COMJmQ37FaAfYiV3Jlkl4ySjJaAmUSgQKk0q4SixJlAj1x7TGI8T9hAWEJ0PhQ6mC6IHXQP9/k/7kPdd9ALztPJY8pLxPfAW79ft5esa6qjpOOqh60Xtb++S8oP03fSr9J/0M/Us9l/3wfk+/J39k/4//zoACwGrASoDlAXuB+QJ8AuFDS4Oqw6FDzcRmBI2E4oUDBYeF3kXbxYXFPsRFBEjEUwQgA4nDY4LKAkJBhUCvf4e/IP6I/oG+en2CPTS8JHtdOqs583l3ORp5BfkT+Ol4dLfp94k3hveg94c4Jzir+Ta5fjl3uXh5iLoLOnY6QvrVeyy7MjuyvVUAMMHBggIB2oM5RV/HPAdKiCnKAA0PDn6NtkwDCyfKrUqoSyKLXIr7ybpII0ZhBF1CUUEpwMkBkYJ8Ql7BpYAqvoY9jTz0PAx8OzxTfQA9bryxO4k6/TncuWZ5C3mTumf7EHvJfFL8ijyfPEO8Y7y0PUU+aP7mP2L/i3+4Px8/C7+LQGcBOIHzAohDeEOPA82DjoNuA5dEmsVfhYYFwoYkRfkFXoTlhGWEJcPNg/1DsINdwtGCI8EbAH2/Qz7vfnq+Gz4/Pa79JHyle/H67joLOYj5Erih+Cm34De6Nzi2y3bVtvY27zcTt7939bhgOM45eTme+iH6XbqSesE7Lvrq+oH7tL4awb4DWkMtgp9EF0a6CDiIVIk3C25OSg/wjvfMtsrfylAKrYsei0mK0kmkh9eF3UOCwbdAQkDQgexC1EMuggGA8b8yPdI9KTybfN69a/3PPjC9cnweevt5yDmDuYM6JPrcO8q8pfzP/Sa9Nf0r/Vx9wv6UP2+/+QAlwC+/oH9y/3P/7wC1gWqCY0MeQ2ADPkKwwoVDFoOTBHYFJ4XNhiPFeIQiA0ADNILbQuiCzQNEw0lCssFvQHf/XT6H/n3+pH8lvtJ+YX24vO48BHtsurq6ULpuueR5L3gd90Y25vZ4Njt2NTZGdtj3F3dv91l3kTfiODg4kvlUOaL5QLlOOWC5QvpXfJU/0EINglaCGgNFRd4Hu0gcSPzLOo4Ez8DPMQz/S25K/kr/SzYLN4qECeBIcoa5RJJC/QHignpDSkR0BAPDoUJtwNA/p756/bO9v/38vgo+Aj1h/DR6/bns+Vm5X7nmOrz7e3wvfKf8wH0gPSa9d/3zfri/PT9a/6//aj8wfuA/Gr/HQM1Bi4IdApoDJkMBgtdCisNhxHyFMoXqxrLG9waehi5FO4Q0g7XD1QR/BDwD5UONwz5BzkCpfze+Wr6k/yi/Vn8dfom+Jr0KPBn64XnhuXR5ELkDuIg3lfauddC1sDVUtU+1ejWMdl92gHby9tb3VXf9uAz4pLin+Ic4uziNup892cD/AZUBegHjxFKGsgcXB04JMoxADz8PO82VzDjLDkr0SpgK4IqdCfuIgEdahbuDmQIbgZkCXQOyxCPDlkKzwUiARr8nvdT9b/1NPck9630UfC765rna+Sw4grju+Wr6WztB/DG8Ybz+/Tg9eL2pPgB+wD9gP78/kP+jv0Q/tT/3AFoBCsIrwtUDQMNRwwbDXwPwRHSE6UWFhqdHIQbKBinFd0THxJjEcsRzhFtELcO4Q05C9MG5QLV/2b+x/1n/fb8APwH+0T5h/UO8afsHen35vHkJOJb33HdTNyT2unXktYG18XYQNqi2n/bYd2v31/h4OEb4nbiBuP64vrj7erF99ICzgXjBKIIOxKnGUsbIBykI/Uw3DmxOW8zXi2oKu0p1ilAKpMp/CanImIcSRW5DU8IlAfCCvIOhxAMDtoJKAXs/8r6dPYx9Jb0IvbS9f3yfu5P6sXmmuOu4a/h2+MW5zPqo+z67gPxbvK480j1mfZc93L4K/o4+2r6WfkS+kb9aAEGBCUFSgcKC/MNZg2BDOYObxO8F/gZshqJG3YciBvGF6oTgRK0EvURHhF9ELoOUgxoClcIfgQoAP/9sf3j/WX9OPvU+PL3Rfa78enrGuil5uDkLuIq32zceto32e7X2dat1q7XQ9nb2nrcX90F3hffKuEd48TjNuKy44PtbPvTAz0DTAPOC/kXdx3wGycdSSgcNx8+TTuwNQEzSDI6MakvJC42LHEqhSe4IRgabBKfDWQNQRC3EocS/A+vDEgI+gJv/e73zvTI9Fz1sPOd70Xrk+cf5D3hCN+t3hTgQeJm5MHmQ+ku6/nsJe+B8YvyV/Iy8tPzTPZV9zr3Yvgs/JUASwK/AowFCwp8DUoO6g5qEZMV8BjJGq0cmR39HJgbTxp1GEMVZxKGEUgRug9EDYIKrwcwBccCKACP/ar7TvqJ+KX2jfS18bTvse066m3mYOIG30rc1tnE1/3VA9UH1bvUvtNl07fTgNTR1SfYvNpt3LzdmN434HvmePGq+/T/RAGUBkoQRhiHGq8b6SK8L9Q5KDxaOSE2sTRcNOo0xDTYMvIvYiywJ04hsRk+E0cRnhNaFqAW4hRcEsUOoQmLBEQAPf3w+0/7QPr098rz+u5R6sHmOuRS4hbineOC5u3oRuqg6vzqHOzi7X/vmPD+8Zfz/fQO9V/0s/QO97z68/39AJYELQhbCpgKKQugDRURiRS8Fz8aTBs8G7kbkxvHGDsV/xPZFFQUlxEHD3sNuQuJCYIG+wJtAAf/+v2Y+1D4LPZe9MrxK+7L6U7m/+P64Wvf9tzt2hLZItfB1QjV6NNX0xPUqtXX1jrXFdi02eHagdtG2+Tc/ONn7rP2N/rp/RsGKw/2E7cVYxlaInktUTTyNig2dzS6M08ycjGIMIMuZizZKTklbR/JGFYTOhEuEW8S/RLIESQQnA3vCY4FdgDv/JX7r/ra+Af2BfNP8GftQOo956vkDOQX5g7pVuuB7a7v6PBZ8bfxEPJe8jLz/PT59kL4zfmy+zP9jv5/AKIDmQaiCH4KQg2EEBoTNhUnFwQY9RdPGdga/BlxF44WIRidFyIUeRGAEKAO+wtnCSsHXAUgAwsBOP74+sX4APfn9G3yNe847C/qEui05fTigeD43s3d9dzb2xHaLdnS2Uza2tmi2aHaIdxU3XzdYt1D3ePdC+KV6RHxefXF+KL/+whjD5IRHhQZG+8lkC5OMYQwGi/+LxExrDBDL1gtPis+KWUl2B6dF1AS1RBpEPcPRQ8RDmwMFwqVBmECMv4z+2/57feM9lf0afGt7n3s++nU5krkPuOD49bkC+ez6TXsYu4P8PvwNfHx8OTw2PFk8wz1Xff++TT8Hv4dAI4C4AR1B38KIg2ZD6MS8RVDGAIZBhlhGbMZhhm0GCMYFhjCF58WiRXTFF8T4hCFDswMkAq6B1gF4QKw/+D8nPoo+Nb0lfEu77/sx+ky5x/la+PW4brgGuDI307f997N3m/e2t1r3bndZt6H31HgpeDM38vfkeJb5//r8O9h9Rn9OQRECVYNxBLIGkoj2imOLTUvdy9kMHAxHDLfMXcwsi6dKz0n9yGEHDYYphUBFLsSTBF7D28NBAoJBmYCa/+u/OD5gvfp9U70zvHQ7vHreem05vjjVeJL4knjJ+Xj5uzo1+oe7DDtlu2m7QLuyO697+HwYvLB9Ev3zfkw/Hv++wA3AzMF3wedCnMNLREyFdYXcxj1F8MXhhd/Fu8V5hWqFWIVNxWNFAQT7xA9D5ANRQvnCKYGqQOgACb+xfvG+OD0RfH97Uvry+hM5mvk0+LP4TDhhODx39nfZuDz4NrgIeGS4QTi1+LV45bk4+Sd5AnkGeXs53PryO4p88j5AQHDBegIOg2kE6Ub0CJHKNYr0y3rLzYybDOoMxEz4TFqMAYukiqYJqUixh9NHXgapRfvFFYSGw9VC/oHHgUMAuf+9vv++NP13/It8A3uGOyk6Qnn1OSb4z7jZeNX5Ovljecy6czqmOt865/rBewG7R/uRe+28B3zpPVJ+OH6If1q/9IBzwSbBoIHdgkbDiASDRReFVQWTRYmFX8U0xTnFAQVhRbnF3cXghVfE9wRLhDVDUQLgQgoBlIEJwK9/pr6xfa584Pwu+xN6eLmC+Vf4/jhT+AP36nept5g3ujdIN7r3o7f0t9u4BXhquEB4svhxeHp4ZjiR+Qz587qe++w9f379gBrBOIHTw2qFFQbSyArJHwn7ir1LfovQDGTMXQxZDFIMEQuMSwDKjEoYiYyJN8hvh78GjgXchOSD/ELaAhYBWoCk/4K+v318/JJ8IjtgepP6KvmF+Up5A7kPOTF5O/lhOe96Pro4ugk6QDqGeuu7G3uWvAC87z1Lfim+jX9uP8XAlcEtAZMCaML2Q32D7ERfRPSFDsVDhUSFZwV9hUrFvcWORgHGdMYqhdZFc0StRB+DjYMtAlqBz4FRgKt/tb6xfZj83jwsu1E69Ho+OaH5e3jA+KZ4CDg8t+q30zfDd8R3yPfCd/k3rXend473+vftt9h3y7geeLF5RnqEO9r9BD5uvzS/0kDLAgvDosU0BmXHfkgXSQuJ2UpCStqLFktDy7GLbQsaCtdKrMpdihNJnsjJSC+HDkZMRXDEeQO1Qv5B9EDh//C+i/2wvJF8BPu7uvg6SHoVObE5BTkpuPO42jkT+VD5obmw+aY57rouOlG61ftk+/Q8Uf07fae+R78nP7xACADDAUqB6MJ4QtADrsQ2xIYFBAVPBZSF08YyRkAG2IbOBsOG5IaLRl6F7wVxBO/EXEPigyGCfYGlAS4AZ/+jvuw+Cf2qvMw8eruAe2s61bqyOgJ53DlL+Qk41HieuHc4Ljgh+AI4IPfWN9838DfQeDt4DTi0ePj5UfpgO1m8rf2RPla+23+XQN5CSEP1RMnGCscix8zIk8kcya0KIAqzisWLHQrpSpQKaEnEiaZJIci7R9MHWkaMhdWE0cPjAuYB3ADSv8k+233f/Qx8vLvH+0t6qHnXOUc46DhReFg4dPhluKA4/rjFuTV5BDmjed/6c7rMu5k8PXys/Us+Hj61vwG/zcBgAO2BdkHGwrUDG4PiRFxE0MVCRe5GOsZyBopG9galhpJGjIZPxh/F0IWQhS1EQwP+gvlCBsGvANuAd3+oPxi+qX34fSS8mPwv+1w6/zpi+jl5ozlpuTS47zi2+Ey4bbgbuCQ4Dvhw+Ft4jDjDeTZ5PLl3+dm6vHt/fE89gP6z/x1/7cCKwfQDGYSRxePG9UexSGAJNwmLikSK4Qsty0oLjUtgSv4KYco2SbDJKwiSiBaHToamRZtEjEO9QnyBQUCDf45+sf25vPa8KDtReo957rkXuJ54EbfuN7A3jnf3N+V4GPhSOJ54wrlquan6A3rLu1K783xWfTN9vj4Mvv//dsAWAOMBYEHyQldDNIOIhE5E48V7hezGZsaZBrqGdQZYRnCGCsYbxdxFtIUlhL0D94MwQkAB6kEjAL3/3/97Pob+MT1SvOh8Prtleud6dDnGObT5PjjyOKB4UngPd+a3ijeW94m36nfIeAH4RTiWeOF5KrlhedC6tHtAfJ29pv64v0HAfIE5An+D8QVnhqfHvwhgCWtKDorVS1oL+YwqDHNMfwwiC+4Lf8rJyoPKNUlWiNvINUc3hiBFA0Q2gu0B4gDif+Y+6D3+/Oz8HrtTupj56nka+J24EDftt5c3sHerN/a4NPhtuIZ5K3lcOdy6Yfrpe0c8OnymPVy+GP7tf0TANYCcQXgBwkKWAziDoAR/hMYFuUXUhltGuEarhoKGlkZ5RhGGAwXYhXFEwgS9w9eDWoKQQdtBO0BRv9o/KX5M/eM9MbxLe+/7IDqVuhD5lrkhOLh4MnfEt853h3dKdzK25Dbotvq24zcf92e3lHg8uFi4wblAOeL6dTs0/A49eL5Kv6/AWsFwAlCD+cUyhkiHsQh0CSkJ5AqHC3/Lkgw/TBrMcwwbS/ALdkrTSqcKNwmjiRSIdUdHRooFuERkQ15CUkF1AA//AX4T/TV8KftuurD5/bkoeJs4LTe79263RneT9+h4OHhXuOv5DfmuefB6VHste4y8Qb0C/cG+gv9AgCYAg8FuweVCkcNzQ+bEkkVhhdwGUMbrxyDHQMeqB67Hjwedh1hHPMaExlAF4UV3xPcEUYPGwy9CGYFRQIw/+37+/iH9qbznPDe7cvqFuij5a7j1eGe3/HdddwA28zZ9NhQ2M7Xx9c22O7Y0tnz2k/cBd4N4Lbhh+Ps5e3oNeys7w70xPgl/RUBygTjCD8NIBJMF78bfh/IIsIlWiikKoIs+S1DLyIwOjC/L7Au9yzlKuMo0iaEJLghRB5tGlEW6xGGDf0IIgRz/8L6XPZm8unuzesq6b/m1OMN4Rffbd2J3JHcT92F3tffq+Fe4/fkduY36E7qk+wU76DxVfQf9//5Cv1EAGEDBgatCKULPA6tEGUTIBYhGOAZzxt1HZMeOh+QH2UfyR7PHa0caBukGbIX5hX6E7URCg8LDAkJCAYEAyQAUv1k+oj3B/WM8ujvO+3I6q3ouObW5A7jfuHq34Levt043Trdlt3+3Wbe+t4g4Fjh4+KJ5FHmceh06k7sde4y8Qj01fYl+iL+DQJVBSkI/gp1DmgSLRaBGYMceh8FIhokByaNJ8kosyn0Kbop9iitJy0mKyTFIX4fAh0BGqYWEhMgD/MKsgabAof+UPoi9ijymO5H623oEuba49LhTeAn32/eUt7/3s/f6uBu4i7kDubT59fpFuxx7pHwq/IN9aX3Pfrb/HH/PAINBaMH7AktDIUOxRD9EuIUhxbbF/wYFBqnGq0ashq6GkAaIBm4F1wWZBRaEqMQng5bDCUKEgi+BWoDDAGV/i788/kR+CL2DvQ38ivwcO6k7OXqYemt5zDmJ+Uf5C3jAOOi4vriduNF5LnlcOa358jpe+vb7CTvj/El8/v05/a1+Kz63/wl/xYBMwPgBU8IWgpvDJsOXxFuFC8XnxmuG40d+R6LIC0iHyPuI5YkaSTQIxQjmiGiH18dEhurGDcWaBM1EJ0M0gj2BNgAP/2/+UX26/K87yHto+pO6K3md+Vj5IDjIeMp42rj6+Oi5M/ljOd06RDr9uwj7zPxe/OW9V33Q/k6+2X9tP8YAk0EiQYaCVULAQ1kDt4PIhE2Eh0TqBPbE8MTnBOLEygTPRIlEQAQoA73DMoKLwnQB8sFNwTqAoMBlv+3/WX8uvp++Nr2ivUl9NfyE/GJ8PfuYe2o7Ybrruq+6/Lp1ulR69zq6+sg7fPtJ+/M8CPyRvNI9aX2C/i8+YH7pfzd/ef+4P8PATcBaAI+A0MD4gS0BTEGwwcVCbkJ3ArLC9kMIA4sD6kQshHVErkTVxSsFAsVkhWwFW8VGhVTFDgTLhKSEBAPpw1BDMIKDQkGB9cE8QLmAMn+wfwl+3X5nff19X70evOk8kXy3PFz8WzxafGJ8XDxPPJy8zf0ePXW9vr3K/lo+qT7s/wR/kz/VgCBATYCcwPSBOYFnQZTBxYIjAj0CNoILAl9CVoJXQkwCYQIvQdRB70GngW6BBUEmwIBAlwBVv8g/7j+ffw9/ff88PrX+uT56fi6+H72vfaK99r0OveA9kTzoveE9XHzRPex9H71FPez9QL3dfe495L3ofgw+m74ovl6/Nr5QfpI/RT7j/uw/Eb9KP4Z/Xv+3f1M/JT91P0X/Jr9l/53/aj+6f7W/uj+p/+bAGgAaQF/ApkDLwTNBVAH2Ac6CbQKmwuiDMkNeA4aD2wPeBA/EC0QHBFWEKcPbg+JDqMNAw08DGUKGQlDCNYGbwWaBFgDvgECAU4Af/+9/ib+3P0a/V78Hfy2+937JfsU+7370vrt+sr62PoW+yT66Pr7+jH6BPvZ+3z7wvtB/Jj8gP0k/bf9sP6h/s3+Zf9A/1//r/8SANUA2v9GAJYBRQDc/wEAjQDQ/yQAygLT//cAFAHDANECCAG4AacBqwMjAxEAkAOKAzIBeQJnATgANwKM/1b9MgFP+9/8Sf4U9838/foE9ob7CveZ88D4/PP68sL1N/Ik8nvyU/Hv8BDw/vCn8I/vjPB/8BfwkPHK8Nnx1POj8xz2jvYN+C77gPv1/H4A3QBOA2EGMQeVCuILSw0gEIcR1RLhFAEVyxalGI4XGxkVGtsYkBnvGBAYnBePFXEVtBM3EVEQAQ4wC0cK4geuBUYFZwJhAGH/9vyx+4P6c/it97T2KvXp9CL0fPPj86zzb/N/8iH0VvWq8/z0pPZF9l32nvd1+ND5dfp4++P8xPyf/jL/Zf8cAHwBagLIAiYEnAUwBREFMAeiB/IGmwdgCW0I+AgUCYkJ8QkuCb8IGwiPCjgJawQbB/kH0wKpA2oGfAChAIIEOPtU/Tv/Bvmd+Q75z/fA9H71D/UX8U/xW/Lr8GbsoO9h76npA+4v7v/qzuuI7iHu6uq17gXxXO3w70f0TPH78e/1lfWq9ev3Sft++1D7fQD0AKr/1gSbBlcGwwlKDaYNSQ94EscTmBMLFqEYwxZvGOka9Rg8GZ4athmAGJYXWBdeFNUSLBKgDzwN6wslCiUGDwXHAzQAZP7I/OT6yfhk9iP2MPQg8zbzhPKn8dnwSfFj8iPxO/Bj9FDz3fGm9df1dfTO9uP4+fiw+X37Z/0b/fT+PgGb/9ICrQQ2A8YFEwcfB0QI3AjfCQ4LZgnMC48LyAl3DVkLogoiC+sJOAt7CKYIRgkUBzkIoAXSBPsECgPXAT7/iwEgACP7avvD/lD5L/XS+7z2dPQL9+rzUvTL8hTzNfRO8djxC/KF8Qvy5/Dq8b7xSvJ98j7we/KW9czxJ/Ml92PzbPXN9UX26fd39q35pfpN+Yr7ff1i/EkAzAFYASAF3gXLB1AIkAmMDDwMsA6VEOMQkxIRE10TOxRtFDYVAhSSE24U4hJREYMQrw+kDU4M4gpNCXkH4ASTA9MBhf+D/nL8u/rF+br4hPdP9kj1evVT9YLyvPPV9fLyHPI29uD2a/Q494r5W/dB+Cb7iPue+hn8E/6f/hj/9gDZASoCjQMuBPADtgTABoAFjgUSB7kGBQV1BnYHDQXbBdoGwQYuBDcFIAY/A5kDewSeBNsBOwOkBDEBKgFNAiABegCuAq4AcPxHAh3/Cvt+Ao7+T/pC/v/+9PnO+9j8nvmE+XP58/lO9h32qvnm9p703vaJ92XyPfNV9zfzVPI997f1xPJX97b28/UZ9oL2efjR9uH4cfto+r/7Jf79/QEAkQLVAg8F7QZwCMcJlAvJDocO2Q9aE1kTIBOdFc8VOBWoFSwW7RQtE4kTlxIeEHwO7g0oCzYIIweVBXMCMgB1/+/86/lb+ar3kvR99Kz0FPPS8aHxlvFW8PLwTPKB8RXyKPNh9Jn0pPTQ9mb4mffY+Bb7w/m/+9j9Sfz//VQA2QBRASICtQKbApYDqAQ+BNEDrgXqBf8E9AXkB5UG/QTGBtMHNAZRBYgFcQYkBm8GewjUB38FmQV6CYYGcAUUBjQFzAQTAxQE5wP4ATYB5v6G/Z3++vzd+aT6aPr19xD3pvMX9uP05PAF9BL06O8R8ffx6u5b7xrwf++E7o3v8e8m76rwuPEd8MnwrPMM9Z/2evhm+Wv70v6tAJECOgafCXkLcw2XEQcUVxUfGJwaixyiHQ8fFCCjIGIg6R+2H7Me4B1FHH4a8hhTFroTpBCDDbsKXgYHA2UA3vxg+az2JfSJ8Q3vKu0s7FTq7+e0583nQOeG50nohukL6pvr3+zD7Tfvd/Fy8k3zmPU195f4Rfrp+7L8E/7E/zEBHwJ9Ay0D6QMpBawFTgZtBmUHuwc4CEsIEQmPCQEJ4QgOCgYKvQmHClwKiwlVCV8KZQk2CZwJqAcZB2AHPAbxBHwEYQTQAYsA3//t/vf9y/r++X/54/g69uvz8/S+8lDwjPAD7yjtk+yX7ITr3eku6vfpSOhD6P/o5uf556Pokugd6Rfp+Omj7KbvJvM99cX3B/0LAXsEyAm3DV0RdRWvGfse5CJeJqgp8iuDLtswmjE+Mvwx+S8MLlosUio5Jyoj4B/3G7wW0RLTDYMIsAMF/b/33fMG7/jq8+Zu45rh1t/r3Zjc6dtx23jb1tue3cPffuFa5J7n8OoX7jXxqvQU9zv5e/wC/1MBrAMdBmUI8Ak4CzwMdw1CDfMM3AwcDegLuQmbCb0J4wgACFcHpQbUBZgEGAQDBM0DzwIYAxUE6ARuBMEEWgZhB/YHwgcWCN8HjwdyB0cHmAaDBe0CpAHpANn+jvvV+Cf3F/RA8VLvSu396Vno3ua+5FbjCOIF4OPej97e3ebdNt6G3kffh+C/4d3i0+Ou5IXka+bg677y2/eP+zoAtwaVDlYVnRrRHwwl8CnKLo80vDlqPCs+Yz8UQKNADECRPLQ3ezJyLQEoLiJLHDEW7Q85CmAEp/48+evyhewk5jnhwN1K2+zYrdeI14fYUNpe3FHeYN824SHkgedY6+7vjfQV+a/9mwLXBpgJGguqDOUMPgxcDDoMxgtsCwQLPwpkCSIIhAadA8oAcv71/Ir78PnZ+C75nfpg+/L74fz0/nIAQgGPAlMFvgeSCd4Lpw6REQET5hPbFCMVvRRmEygRPQ9nDUYKzAbvA7IAvfxn+Jn0L/Hz7KzoCeUh4t/fct232+facNqx2TzZLNke2sramNu93CnegOBp4mDkT+bV50/pBeuG623t5/H9+JwARwWTB9MMuhXKHeYiwSakK2AwWDTtN9g7zz49P9o8tjr6ObU4DTRkLFUk8B3+F8UQzgn7A2n+DfhQ8tjtfupZ5p7h3t0s2wTaEtox2xTdOt914tXmiOtN8Nzzz/ZD+hv+BQIRBhcKQw0jEM8S8RSvFeQU3BK8D84MeQnrBUYDdgAt/ij85fmu+B73tfRH8iDw1u/T8GnxSPKF9PD3A/y4/7wC7AXiCLgKYwxED8kSuhTUFTIYNRqxGvAZKxkBGCcVZxEmDt0KAQf/Aqn+svoK9zPzf+9U7FDpX+aV40zh5N/o3iPfdt9B3yngu+Hk4ofjjeRT5l/nw+f+6EDqyepS6wnshexu7HPrDeoB6jXsRPH694b9mwHNBXEM/RTNHO4ifie6K1sw/zTVOHc7ND2vPJ852zbkNDUxPCp0IOsWGA/wB7EAePkY8xPu/uhk5PHhH+Cg3l3cOtrw2urcsN/f4xroH+2g8jz4Ev4VA/AGmQkODAAPGhIqFLUVuBb7FtMWbRWwEs4OoQnTAyr+ZPnW9SLz+fAi7//tzO3l7UvtG+0s7bftve4r8RH2K/sH/zUCgAbrC+wQMhPmEw0VOBaYFsMWKxd0F4EWLBVYFC4T4BEXDy0LigfPBAQC6/4H/KP5N/cE9WjzXPEw7z7t7eum6nfpJung6TnqH+qI6oHryuxO7fDsm+yu7JbsM+zH6yvrderO6X7pien76PfnRebM5NHlkeoj8nr5G/+JBJcLwBSeHr8mrCxfMXs1zDhyOx493zxVOrM1ozDnK3YmbB+iFYYKbgCf9zjwJ+rE5KHgs90m3MDcW97+4CjjLuRC5mrqne/s9BD6aP/1BBwKNw9VEzMWfhceF18W0xW8FPUSNhAfDfQJzQVoAbT8NfeM8Tfsk+fi5Nzjm+My5PnlkehF6+btqfBD8yT2f/n2/KkBMwcGDAAPBRGmE20WgRcJFhIUqRLqEekQ4A5JDWgMfAuCCikKNgosCQEHNwVRBA8ECQMPAUz/dv4O/vv8Jvtd+cr3G/Zd9LLy0PFL8VPwHu+c7m/uxe1u7B7rdOrp6fLoiOcd5hrlneQ65NTjxuPi41PjWOKl4WPip+Ud7A71Bv6FBTcMrxSAHlYoNDCkNOU3gzpoPBI96DtXOQ016C5FKBsi3BsdFMcJ+/4y9vTup+m45dbiGuJD4tTjJOdq6xzw8PNg9gX5f/y5AGYFIQlJDDwP3xExFGQVmBTVEsAPAgxkCIEEAQEC/b74kfSQ8Bvt1umf5s7jpuHJ4JfhruOo5mbqf+5u8lb2SPoY/hIBpgN2BvcIoAvcDjQRpRGzEM0PEw+WDUYLrghbBqAEFQQwBKQERgUxBuoH4wmgC1INXQ52DrMOUA/9Dn0Njwt2Cc8GfQNeADv95/kK9130T/HC7r3s7+o06efnH+dH5i/lmeRW5LrjuOO346bjl+OJ4/bjb+Sq5NHkf+Tx4y/jRONf5arqc/MN/aQFFQ1PFZUe6yf6L2Y10jilOhM7OjuoOm045DSiL5kpHiS1HocYOBCZBsD9Lfax8G/tQev66fLpRuti7m/y5/as+qn8Pf4eAIICWQXhB8QJTAuJDJ0NEg4aDeMKvQcABMX/ePun9yL0oPBn7cbqnej05pXl9eQV5bTlbOda6sTtn/GR9SL5pPza/5sCswSCBusHqwgFCZsJYArMCv4JjwfwBMYDjAM9AgABZwHwAtwEugasCPgKbQ2lD+ERfxTnFiEYpReKFo4V8RMrERANIghpAwf/5Prt9tvyQ+8V7F/pKed25RXk3eKu4dngf+CH4BThUOFR4XbhIuJy43nk0uQl5ZnlHuY35jDmn+Wo5JHjUOM25jDtoPfWAXoKBRJDGoAjcywFNK04Vzu9PIE9yT1tPRE82jgfM9ksYSdQIiocRRMECSz/RffQ8RfuLOv76T/qzuv97nnzOvjN+8n9yv7q/6gBWwSiBhEIsQgeCawJdwn0B9wFygJf/g76SvYs80fwuu3K62/qounl6fvqPuxB7Uvu8e/m8Zb0Yvet+fP78/2i/zwBowIUBCsFmgV0BUkFiQWEBYIEzgKdAXABbAKAA2YE+wVXCHYLHg5QEPAS7xXRGLcaTBv9GkQa0xiXFkcTCg9ZChAFSv/0+UL1pvD96wXoXeVb47jhbOBu393evd5g39PgBOKF4+Tkw+WO5kbnTeiV6EjoGejP59PnKOgD6IfnSOa55EnjmOPl527w0fozBCMMvhOOHMMlhC6INeg5kzwQPpU+nD6aPV07wTYgMAkqZyRDHsgW4wzyAT74ePBm67LnO+Xt5FPmYunf7SPzZfiW/PP+dgDaAdgDYgYXCFoJWQoeC7wLHwtUCdsGPANo/n75e/U38lPvKu3R61zrHOx87bDu7e8z8UXyhPNJ9eb3ofrG/Mr+4gDOAtUEqwY5CPgI3AhrCFgHGwd8BwwHHwVhA28DCQXnBisIlgkxC68N9BDqE84VrBZCFzsY1RgrGDcWyxK0DqcKqgaVAqH9lvcT8svtmuo56LnlJuMr4UXgZODq4D/hCeLz4jvkQ+Yn6HzpMeo+6jLqdeqY6l3qQ+kg6DbnmeYK5lXlH+Ro4qrgpuDE5Nvsi/cxAncL6RNEHCglzi75NnA8Bz9TP2g/XD/UPr88mjeEMMcoUyK3HAYUJAqe/5P0Vewp5+/jOOIc43HljOhG7brzQ/rF/qYB8gIFA3oE8QbjCJoKnwv5CykMZwzLCk8HgAIJ/Wv3J/JO7l7rYOmJ6Mzopelu63btOO9L8BXxavJG9Nv24/n//CQABwOYBRsIkwogDToO9g0xDcQMxgwUDPoJFAebBQQGHQezB6kI1wqNDfMP0BGUEysVuBbNFz8X3hVQFHwSHxDLDEYJRwWaANz7oPfS8yvwtuyK6fDmBuXr47vjreMg4z3jf+RE5tLnFekI6lbqieql6k3qtenO6KnnTObx5JbkfuTx447i2OB+31jfAuJo6FzylP3uBxQQlRc0IDQqXjOOOEw6yzq0OyM9Ij3gOsY2IzGyKowjoxzOFYYNaAMu+dHwc+um6C3n3eYv6HPrMPDs9LT5Qf5SAawCOALuATADvAUaCIcJmgqdC3QM0Qu6CGYDc/0p+BLzfe7z6l/oUecU5+fmJucB6Gnpoupo62fsZ+6K8Rb1UPiq+3j/VAPxBjoKQw3SD20RxxFhEaMQVRCVD2wNvQoeCWkJOgpvCkAK6wofDfsPBBLZEjgTsxP/E2QTJxKxEFQOcAtxCJQFBgP5/0H8A/hB9MvxOfCj7h3stums6PDoFOl46AvoNugP6RXqzuqH69briOsl6xTqNemN6H3nT+Yi5VnkMOTE4+HiyuGE4P3gF+S76mL0jf7hBpoN0hShHcEmZi3oMHcynjQ/OHI7sjwDPHM5nzWtMAArTCXwHnsXuQ6gBVf+dfm39UTykO957onvp/Ho8lHzEPM18qDwie6i7bPupvE39VH4lPvd/pUB2ALqAeT/lf1w+735cPiX91b3cPeM95P3Jve69i72CvVT8wXyhvGl8SfyzvLS80P1LPdA+W77SP0a/7kA7QGIAggD4QPtBM8FbwZvB+8IQQvpDRUQ1hG+E/gV4xfYGFcZHhkFGEQWuRMrEYYOYAv9B18E3ADQ/fz6efiE9uH0lPNF87PzQ/P+8W3x+PEF8y30cfSn9IH2oPj8+W/6OPrH+cr55/nL+A/3mfW+9Cn0pvNP83rzNvTn9Ij12PXo9SD2/PWt9Xn1VfX59fH2Tfgz+hP86/3s/yQCigSgBuUHJwm6CnEMcw6SENkSfhUoGEUauhvoHNYdOB62HZAcqRo/GBYW/RO9EVUPtAz2CXgHbQUzA0sA8fzH+Q/3T/Sk8ULvgO1f7MbrjOt769Trlex87TjuEe938G7yg/RE9vL3UPls+l77KPyr/Lr8+vxw/S3+nP72/nf/jv9k/wD/Tf5N/Uz8cfu1+ib6R/oJ+1X8/v0UAHcCtATNBq0IzgnJCSsJWgiFB+kG2wYkB5EHwQiuCqgMYA7HD8EQ9BB4EF0Pmw2CC20JuQdGBjYFoQQ0BNADLQMLAkQATP5t/D36rvc59Q3zg/GC8K7vme/978rwovF18kLzvvMp9F30FPSC81zzevPv8+P0FvYz9zf4OvkK+oT6vPrO+vD6a/vq+yr8q/yN/Wv+cP/AAGQCYwQSBjkHUQi4CVALOQxGDB8MiwyIDccOsw8+EA4RRxJ3E2IU0BS1FDsUMROsEdUPzQ2YC3sJbgdWBZsDRgIIAbz/Nv6m/IX6JvgG9tXzuPH178HuOO5t7i/v2e888MHwYPHp8b/xjfGy8UzyYfN49KT1wvb790T5bvqu+wL9lv5YACsC+gOqBUgHjwhiCcQJ1AnICe8JOApTCn4KPgtsDLgN5A63DzcQTBDqD5cOagzaCYsHkwW3AxUCqwDj/67/kv8S/2H+LP2y+8755feO9nL1BvXx9JL1qfa097/4iPlE+vH63PqZ+d33PPYz9D3yj/Ca7+bvifCK8ZXyPfMW81jyyfGQ8abxj/Ha8djyjPO086bzevPn83D1hPg4/U4C8gYhCqAMdxAxFY8YJBpbG0IdayCXI7clVCYLJuwlxSUQJUYjlCDVHMoX0BHtCy0HOwPQ/yr96vo0+QD4lfYe9ITwhOzS6NnlH+Qk5HXlW+e76eHsafDD82D2UPhV+bH5GPqb+i373/vc/Oz9j/90AaUClALAAU0ASP4R/HX6Qfrq+gD8gP0///QAhwK2AzUEZARGBfwGygiTCsEMbw95EvMUxRZJGDYZZBnnGEMXWRRUEdAOsAyPCnAIVwZEBAQCS//f+6X3jfPu75bs8emI6OTnjuep5wXofei/6NXouOhB6HTn1OZR5q/lFuUh5RXmLedl6Irph+o164zrquva6+7rc+sJ62Pq8+nj6u7tZfTR/dYHwQ8HFk0dkiUfLbUxiDPLNNY3hDwgQBFBtD+VPds6ajdsMtAr5SNXGsYPJAX6+/b0ve/T68LoKedY57znOOeg5Tbj0+CN3yvgtOKx5oPr0vAF9vf6IQCSBFAH+AdfB3MG4wWOBeoEbgRIBMwEFAUABEUBUf0G+MbxyeuG56LlA+Ym6D3rP++m89f3Evsc/Xf+EQDEAnYGBAvaDxsUNhjzHN4hViWUJrglwCNYIWYezRp1Fh8SVA9jDiMOQg3jCrcHLwRsAN77q/bv8cvt0urT6GXnKebN5P3jzOPu47vjUePL4qrhcOBK36feu97i3mHfm+Ak4iTjY+M546Ti2uGO4dnh7+G/4V3hT+Ef43XoXPLf/rcKShQ7HFUkcS3vNYU7zD2FP8pDrUn3TeZNxEnRQ4g9CDe7LzknIh2sEbAFjPqx8XXrQ+ee5E/jZuOG5P3lHuc154DmV+YK6JPr4PBm93b9LAIBBgIK5A1hEHsQUg69CvQGugPnABH+ifsY+nv5sviK9m7yjuwH5i3gGty32pzcDeH45pbtCPRp+uX/BAQzB/8J7gwUEHYT6xa5Gq4ebiIUJRYmSiY0JVci1R14GFATHw/HDPsLzguWC0kLEwtLCt8HXQR9AGP8rPgm9Yzxvu3l6YDm5eMQ4rDg9t9j30besdwH26nZs9gn2EPYWtl126Pda95j3lPe+t0T3evbx9qA2a3YG9qO4OTrefneBQ8PshaLH00qfTPlOP87SEBBR/hNRVG6T69KGET2PEs1nCy+IlYXjQpS/dXx3+lE5SvjzeKH42rl++dC6o3r7uuj7KHuJfI397r9bgS7CVcNkRDYE3wWkxcJFkcSqQ1RCZMFjQGU/cP6T/mV+IL2P/KL7P7lTN9P2WzVfNTV1pzbU+Gj53zuLfWu+kP/aQNaB54K7QwhD0MS4BWqGIAa5RtrHQsemRyFGeIVSBJeD9oNKA2hDMcMZw6iEHMRHhETEfoQlw/yDPgJbgbcAfL8LPiW83Tv2+vu6LXluuFI3ivcZdop2GDWDtbn1t3Xzdgy2ZjYuNe51qbVNtSF0njS6NWw3pLs4vupB+YOVhWjHsopyDFrNSE4Tj0NRMNI10gfRBc9AzbtL9ApRCLaGIoNVgDW8oTokeKU393dtd3S39Hj7OcI6xTt7e7R8Sv26/ssAngICg5TEnAVORhRG3QdjRxTGKwSmw2NCUsGeQP0ABH/Of4p/QL6j/TN7a/nCuMS4GjfaeGR5XrqH+++86/45/18Ai4FjAUpBd8GBwuODvMO2g3zDXoPFBBPDocKqQUqAbr+R/49/aX6mfg/+YP7aP1I/4cB7wJqAyUE8AQPBG4B+/4g/Uj7wPnO+Fz3s/S38efvL+5c60LoAOYb5U/kw+Nd47ziMuL64Ynh6N/K3HfZA9ka3hjqZvlIBqwNXRPQHFspOjM4N2A5kz3xQzVJWUpsRo4+ajW+LAUlox36FXgMIQC58hToReKC37vdsdxi3QTgt+Np5wTqAusa7LruxfKM96f8xgHRBeUINQwxEDcTwROFEckN3gmnBpgEBgN+AU8AWwDKAGn/8fvO9/vzA/EC78butPDi89T3WPtC/hoC/wb2CkYMEQzfDLYP4RLrE+ASlRFbEYURdhB3DcMImASeAhMBDf4B+tX2JPWk81/yGfJb8vLyJvSs9Z72C/Yp9P7xZO++7PLqxOl76AbnOOY85h7m/uSV48HiiuKJ4iviteGu4aPii+R95RXlAOS04tbhbeSq7vT9tgr9D5ISeRqPKOo1zjvePJNA2Uk0U+1Vu1DxRx9AzTh1MHonAh/LFQsKN/0D8knqxuUn4k3e5dtD3fXhmOaY6ALpd+qX7bbxdfUa+UD90gAvAwAFmQd5CrQLLAocB7EExgPUAyQDwgGnAKIArQDH/pn6n/WD8d7uoO2u7cDvMvN294n73P/8BFQKOQ4gECgSZhZRG00dxRzMG7QbnRt/GrcXXxOED2ANcAvgB7YDOQD9/FP5/vWB86bxCvD37gDvGu977tzscOpY5ybkmOFs333c49nN2EnZx9k22RLZO9m12b/a/due3CndLN8F4ubjtuPw4kDipuHG44Lsufu9CXIPsw6vEtIgnzLTPHI92z1oRTRR0leVVDlLyUK8PR46kTQaLLMhXBYUCpT+xPWD7wDqH+Qh4GvfEuKe5Q3nJOar5cXnTOt17ifxc/Tr97z6V/0KAXIEKQatBQ8EBANUA2UEOgTQAvYBxgLGA+ACEP/F+Yb0PvHU7+TuDu5c7orw5vOs9yb7iv3k/tIB9gcwEC8XBxzIHhkh9STNKJQoniLrHJYcRR9RHxEcExcqEnQOawuQB1UBMvvD+CD5UviV9rL0GfKU7RzplubY47ve4tmR14jWr9Xq1LzT29D9zVzNDs6QzfjM0s110F/TwdUz1xjXW9Xc1U7ckenQ+L4B5gFWASwMpiH6NCI6ljdiOpxGE1RLWURVck0aSWJJ6knTRMU5pCv1HZYS3AnUAt37tfO/69nmb+WQ5UDk6+Bn3UTd6uDc5ffoseoU7b7ws/Qg+A38jP9AARgBhgGiA/wGEQmKCIEGcwV5BoUHdQXQ/5b5U/W5893ylfHk74Dv0vAc8tbwoO457wT0qvoSAHIEBAg9DFwRgRYbGYsY4BjtG8ofZCEgINsdvhsvGlUZghe0EmwM2AcdBcYCff/i+7b4uPUs9LDyUe886iLlyOFW39Ldvt323YfditzT22HbNtqk2LnX2NfM2HPaHtvf2cDXKta114XdvOjC9J75v/Vs85D+2BScJ9wryiggK3g4ZUjKTipKPkMlQ8NJUU9vTGhBIjPUJxkhQhxhFtsNvQMW+6T0a/Dj7FHn1+Ct24zaBN0Z3y3eMNyS287dZ+Gf5HromOyN8O7zYfci/FoC3wd+C38Nng8bE3MVERQsD8QJVQfTBzAILAbFAjIB6wC+/cv1Yu4A7gzzx/Vt8+zwWPJ3+Pr+GQEh/kD61/x+BTsMVwwICR0IAgwtEsgW4xboEfYM5Ax5DikNNQhaAsz+EP3+/O37Y/bj7bLn/uUs5nPkvOCZ3TTcB90C3gzcsdcY1R7Xkduj3VTdUtzi26Tb9N0U5r7yH/t092vuO++2AtQcdyuMKCUh1yQ4NLVDZ0fiQHo7E0BHTKlUKFCUQAQxlSrfK34tByhWHJMP5AU/Aab9kvfC7gDnE+Th5IrkBODv2NDTXNSX2LzcpN5E31Dgq+FU4wzmXeqM79f0sPrIALYFDQkqC2sMuQzkDfMQzRMXFBATHhPEE+sSJQ9IC4IKmAyTDQcLFAb9Au4CzQKuAE790frq+RL6lvln+Nr14/Tt9qn62f0K/zP/2P4m/vv9qv5c/rb98/y1/Pb7z/kR9yX0L/Gy7p/s1Ore6GDm9eRn5B7jruG/4DLgluBp4KvfLN+Q3v/dKt3c3Vvj2evY8A7sgeKu4Qvw1gNVDtUMVAk/DzsdJiz9M0M0YzQAO1dGlU11S9xCtTxzPJdAUEO4P6A2fSz8JEgg/xrpE0oM0QU7Aj7+Ave+7OvjXuCM4OXfe9xB2GvVb9S+02zS1dFF07bWHdtJ3ozguuL55fDq0vBQ9gD6j/zh/lgCvAbwCk4OlRAgE9UWBBqYGoQZ9xivGp0d6B6wHSYbvhgzFzYV4hFhDjQMugrAB0YDrP8Q/qT9Gv6x/hX+Gfxy+eP3cffo9t72a/Zk9ZT0gvNV8oTwWu7M7YjuEfCU8L7wm/DH7q/urPC+8orzMPNy83D0N/Qe833xGvBD74vtKewH6rrnZee35xvnpeTD4qvld+zQ8gH2ivYa+LL8zQIwCYMNBhCtEukWfhw4IHYhPyJnJDon4Cm6KvApmSjCJ3onoCaCJOYhix+XHVQb2RfuE1UQ2Q5zDbQK2wWBAO38kfoN+Dj0YvDq7WXtOu2W6+XoFuen5rHm3eX+42LiHeJq43TlDucE6Fvpb+vs7Xrwa/NW9sj4M/yFAIsElQY0B7QIagtwDlUQFhExESoR2xHpEvgTsBTaFAMVChVjFOsSShEYEPEO/gx+CpkIHgclBVUCIv/D/Mb7Wvvb+V/3m/WY9UP2B/Yf9Zn0SvXG9u738/et9773AvjE91f2nvQH81zxB/Dc7vHtNO0y7Lzr0Osr7ILsD+3j7eDuU/Dm8TbzdfQo9m34gPo7/CT+EwGkBIEHYgmQCjYMmA5HEcES9hJrE9YUTxZ7FjQVDBQoFDQVPBbMFXUUTBMKE5cSixEwEO8OYg63DfcMyAunCqEJ5QeGBTQDVwGz/1b9sPrG+AX3SvVb85fx9++B7lTtauxw6/Xq8Oqx6mjqf+p466fsge057trv7vHt86T1ZffV+fT8ZABYA20F8gaLCMYKGQ0jDvYNZQ2HDUgOgA6GDQUMEgviCmEKPgnmB/UG5AbPBiYGfAXKBT0GIQZlBbcEqAR6BPQDBQOjARwAjP7Q/OH6k/hZ9qD0WPOR8prxGvCt7h7uWu4x7kbtSOzm63nskO2k7oXva/Am8qf0+PZv+NT5yPth/mYBKgQ3BpwHbQnLC+gNNQ+IDxwQOREvEp8SChJ4EekRABOUE+YSRBJpEtUS5xI9Eq4RbxH7ED4QXQ9LDhcNlgsYCkYIfwayBKACwgDK/tb8ivpm+Cj2G/R18uzwkO8Q7lDsgOrw6CzoNuiJ6MHo2Oid6S3rJe2v7gfwuPG58wz2k/g6+6L9Zv/9AOYCHQUOBxoIYQh+CG0JkgooC0QL6ApjChgKPgpXClsKLAqsCR0JwQjMCIwI2wc/B+YGigY9BpMFgQRZAw4CrQA2/6T98PsY+ob4DPew9Y70a/NY8lrx4/CA8CLwzO8K8Nrw4vE/86X09PX89qv49fq2/OP9t/7M//8A4gF1AqwCSQPHA94D1wP9AxMExQPcAxMEKwRoBMIEdwVgBikHtwdgCJIJjgqSC3UM2wyYDVcOpg4DD2MP1g/tDysPkA4CDlQNcgwwC+IJbAhDB20GBgUeAxcBXv8P/rz8cPsc+qH4pfc198b2ZfZO9pT2w/au9gj3uPck+CP4Afj79z/4wPj9+Nz4qfgn+er5G/oJ+hb6Zfr7+ob7Ufw4/ez98P4AAHQAuAB1ATMCtAJDA+kDjgQiBY8FsQWtBcAF3wWoBWoE/ALqAdQAmf9d/gn9lfty+qT5tfih98L2Jfbm9dj1DvaH9vL2O/fn92v5OPug/LP9Sv41/6wABgLeAvQCFAOKAwwEMQSyAxgDfwLlAWoBowAEAK//Xv/P/kT+Mv4+/mr+pv6W/oH+m/7e/mv/2//i/7T/uf8FAHwA6QBsAZoBdgGeAfYBTwKjAqMCZgKEAjgDJgTGBF4FAAamBh4HgQcrCPQIyQm9CnALpwsRDO4MdQ2QDbgN4A24DSANTQwwC/cJ0gi2BzIGmgRRA/sBZACX/iH95vvy+ib6Hvn699j2gvaB9ln2BPbP9RT2Rfaz9hD3QPdQ93f3yffl9y/4ffhS+Pv3Yffp9uX26vb79gv3/Pbk9kz3U/hV+RL6zfqJ+8b8WP7//0UBKAJ/AzcFCAfNCM4JfwrYCgsLswutCz8LQQpZCZ8Ifgf7BUsE4AKjAdIAwv9X/gz9Kfxc+6X6//lD+Z34fPjI+N34gPi+96r3A/if+Lj4ZPgI+F/3BPfA9qr2RfZA9kv2bPaj9gf3j/ec9wT4tPjq+UL7xfwx/jH/qAArAtoD7wVICXMNEQwCDIIO4A+yE88U+hRMFJ8THRXJFnwVCxTUEwoTNBMMEZAPLw9mDXoLQAlkB2oGWQX3BF0DDQHD/6v+Ff6z/DT7PPud+hn5ePim9zL3mPaa9eD08/PR8kLzR/LA8MbwIfAJ8SLxrvAK8bHxQvO29MD0Z/WO9/H4QvsD/Tb+1QBWArIDRwUYBhAHzwg7CoYKMgpGCisKdwmOCGkH9wc+B70FlQQyA0gDYQMVAisBlwCQ/7r/Iv8F/pH9M/32/W7+/vwR/SL96vxA/P36NfsH+4X6uvnr+Kb4mvjy97P3S/YW9sf3v/cZ+If3dfaX9xb4Efke+uD5J/s//BT9kv4m/+3/xAGKAr0DXgSLBJ4FMgZAB08IEQnPCKIH9AenCfsJxAnjCKMHKAgnCYEJmQhzBpUFyQXcBWcG1AXGBLgDbgP0A5QE7AN9AukB5AGmATAC4QL5APf+KP6g/5b/iP47/SD8Ffxy++77MPuj+2n87fta+/b7Av4f/mT/kP9K/7YBuwJaA2gDMQPPAywFhwRgBGAEkwK8AYwAdQDC/2D91PyP/gD9NfyG/PT5efm1+KX51PxD+0T7ufoT+aD7BvsZ/CD9af0r/zr+Uf6d/kv8XP0TAJYANgDk/HD94P5d/6AAVv2l+6D/pAA+AZcAFvz6/Fz+JADJAVUARwBaAMcAOQL8AI//fwCaAb8CIgPVA/3/G/3Z/5wCVARwAuT/x/7i/ykBOgLRAGf+r/7B/6MBOQHx/vf9Xf+OAQADMgObAc7/awFeAi8EbQVGAjYDvgMGA48FfgV/A2oDqAJyBE0FVQOQAxACYQBAAYcCHgQTBZMBXgC4AkECdgPrBPwClgL9ASMEpAT9/53+Jv9fAkEFpABD+dL5lPto/QT+YvkL+Wr3ufXK+J/4O/hM9kv0QPYN9rn4ffqB9Szywvf9/Ab7EfmE95/4E/z7/yX+rfkb+qz8ef+UAQkBuPtt+ZP8Qv5X/w4Anf3A/PT6oPsj/f/7rf6U/2T/FAKdALb+CAGUAg0IrQxvCxIKNQoEDDAPdRHoE+sU6RVAFtEUwxVAFp0WXxZRFpEUmhJlEjsPowqUCHwHhwbyBHMAnPv39y32DPWM8rfvYe3d6ojp7Oe45qznAejH59PorumI6vTrE+3U7xbz+PXY+Ej6S/zG/ykDcwe6CjoMNg28DkkRtBMyFbEWgxdqFdIUrxTYExYTvhAWD6YMygkdBz4EiwGD/gn8k/qg+ar2EvI0753tZ+xC7ZHvBO5q6mvpoOpj7QTuxu1Q7yXxHvLB8QHxSvFg8hb0n/as+Nj2lPSw9JvzMvWW9gX1ofXW9Iny6/AR74Dx2fUs+oD6TvQH8an3sQIpCj0MognUCWkOLBb+HiIkwiWHJ/4qmi/aMQcyWzKoMZ0y3TNIM6cvZymkInMdtBq9GPYUhw1GBB78oPaV8nXt3ueX4xXgEdwK12PTddHi0QrTMdTb1WbXm9mU2yXfquNh6Xbw/PX3+R39mwBRBmkMqhJEGMcaaBqdGbIciyLhJTUkUSGFH+AeSR5BHIUZ1BWLEiQQdw0WCbIDxf/2/R38TPro+IX1iPHz7o/uzu8w8JHvt+7e7UXud+8A8GPvSO5474TxVfGj757t3ezL7OHsj+w46zLosOWz5KDkReSJ4pzgRt9Y3uPd493g3OLbg9uX3BLdluB/6RL0tfai7/TpXfIYCS8fbilmJXIdZR2UKhU9ekroTQ9MnkoySy9NPkwQR85ASz5LPgs93zWpKAYZPwwGBhoFLAQM/QDw/eE62NXSc9Bcz0fPhc+xzp/MvclzyTzN2dS83cTlj+ue8Pr0h/gj/R4E9w2FFiobfhvLGYIY0hj3GrQdgh6wHNgYwhKUDF0HqgRNBL8EfgSoAd/6sfJg77fyiPhG+xP7Rvpv+uP8z/+ZAbcDKwhEDzcURRWKExsRlRBdEgMWAhk3GI8T+gyWBs8Bd/6D/Gr5PvRl7mjoAeLC25XWDdTf0+3TSdMu0UDOPMxSzLnOudIL1yvb/N0z3vrdaeAo5ePqNe8C8Q7xkvDE8oP6LgeCET4RsQd1AXwJtx78MhI4ry5zI0gjxS4XO1M/tjwVOZA4RjnnNoEv6ySJHBIanhsJHOQWrQqq+9zvSuvX7Mzu8uyD5yXhCdxA2KbWMNg+3cLjiOhj6s7qvusr7qnyY/iE/2EH4w76EpQSXhAcEDATGhdPGSwZAReiE2gPXgtNCI0G+wSGAiH/9PpM+Fn2PPRC8o3xTPJc9Z75qfss+W722vc9/voFcwvqDvsOGQ6/DRIPqhGqFAYXOBf2FOQRyw5lC+sHzAUBBeEDlwHS/K72GPGt7TjsA+wq7Mfrgeos6FblQ+Nh45jlMenk64XscOuz6SjpWuoX7I/tu+4x79zuFe3V6qro5eal5ZjkOuOQ4qXlruw/9Of33vWs8s716QL6FWYkpSjLJ6AoCy60NRM78D0+P69AtkGCPxo4yywSIQgYyxPNEhAR9Anb/WDw5eU44NbeiN/P3w7fl92p25/Z8dlZ3RHkIOyK8+P4lfyo/2ICcgV9CQAP/hQCGl0cfhvXF9MTehBuDqIN2At5BwECJ/0t+aj1dvH47OvpLenT6Q7ruuvh61Hsz+3i8N318/uLALACjQP+BbYKXQ/+EX8TqBUbGLcY4BeXFoQVHBXZFK4UJRPyEFkOuAq4BvwDOgMUA4ABw/7p+075nPeT9vX1cvUZ9V30AvN68QDxLfHF8PHv1O5J7jHuSu0e6zfoWuZV5pbmIuaE5N/i/+E54XDgdt8n34ffq9+M37PhEOrw96wDqwZyAsQAKwoVHQEwDjkxOD40qzM8N486GDscOTI2QjNqL8koUh6dEFIEe/0t/B/9fPsO9djra+Sd4TvjmOZI6vztqvGp9Ef2Kfe/+IH8QgILCDAMVw4LD7wO/wyXCm0IyAd8COAHhwR6/4L6Gfad8QvtZek753bmN+bb5Svl8OSb5YnnTupt7afxSfbN+pD+FwIbBVUHOglLC4sOHBJxE5cRpA4vDYcOVxDOEKsPHg7IDXoOEw9jD6gPDRAKEFEPTw+qD1EP0g3DC7YJJQigBjwEyABt/UH7lflJ9wr0IvEA71vtVeyg65/q3+kG6QHocucl5//mduYx5pXmm+d06BPop+aU5SfmdOeF6CTpg+lT6YDovuf16Rfx/vu1Bh4M4gutCmwP9BrFJyEw1jLSMi4zoTTANAwz3jCgL0AvyizqJh8eMRMFCSICQf+R/jf9Ffoa9ULwmu3+7JHtru9e86L3ZvvX/K/8A/zS+3b9SgAyAxMFHAXDAoH+Mfoj93P1dPTI863zg/Os8rHwJu736+zqLuuj7B3vAfJi9QP4YfmF+bH5b/tW/tkBeAQPBk8GRQW6A4sCXAJxAykFBwaPBXMD+QAyACICqQQlB6cJSQxaDi4Q3xEhEvcQfhADE/QV3hboFKcRww2hCW0G4AOmAF39cfpC+Bj2kvNo8aDvJu7M7YDvcPH68drwF/Dy72fwBPF/8WvxCPE28PTuvuxC6vXo/Oh86Zzokuew5wzoquaA5BHjQ+P+43Hm5ux49sD/zQUXCMoJHw9aGcclei9DNas4bzr+Ov86jTp3OvU43TWuMc0rGCRkGtAP8AZZAWz+iPwW+sP21fKV73Hum+8v8gz2yPkn/Bv9VP0+/b38lvxj/Wr+lP6W/ZH7Hfis81Xwb+5I7qfvJPGg8SbxVvC071Tv0+6j7uXum/Dn8872Evik96z2hPYN9zv4Pvmz+Sn60Pr5+rH6dvqc+uj7pv1gAMUDsgbZB4YHjAh8DCYSBhc0Gkgc0B02HxMg7B/rHvsdWx4sHn4b9hbcEaEMuwaLAKf7lPeq8yXwO+156g/oXuap5TfmKefR6CHqOeqD6Qfp0OlN653rZ+pZ6fXo6+hw6C7nQ+XE4wjkieWy5vTmqefp6FnqAey87Y7vp/CV8OPw0/XNAcgQ2hp4HJQb5x7kJ8UzvDyrQMVBuUJsQ41BED1bOJQzDi5VKAEiLBrrD0YEXfow9Dry7PIw8pnvvO1D7snwxfO+9iH6Nv07/6D/Gf5M/H37ePtw+gP49vTE8YfuEOtp543k+uN15YnnKOmK6mbsc+4U8C3xPPJR9On2XvnV+zP+vQDJAhIEoASyBCkFKgb6BnIH+weyCNAJ0Qp0C9ULHgy+DO0M/wsCC54KOAt6DDcOeA8EEE8QsxC+EUwSyBA8DXAKegrVC8UKjwbRAHL7mPex9DXxPe3p6W/owOhh6aDptOkW6mTrXO7A8Vr0H/W99K30AfV19S/11PMJ8k3w6O6X7cvr6unz6IvpIeuQ7EHtme0A7ifvI/GZ85T1SPZn9fHy7/G/9o4CZRBHGbgafRk/G9AhwSuTNE85xDqPOsU5JziINOculiclIaMcEBglElsJ7f509k7xQPCM8UfyEPLC8ZfyEPUh+Dv64vrY+iz7cPt5+l34SfZb9B/zO/Lp8CPvMO3h6w/rFeuO7Nvv6/OI98T6rP2z/9wAbAGCAZQBpAEQAkkD5gQPBlQGggW6A+gB6wAEAfgB9AK5A+gDAAR6BJ0EqgQuBRsG4AbIBiEGGAbgBwkLng0FD30PqRCaEtIT9BIjEb4PRw4hDGAJxwZvA4j+f/kh9cjwPO126nvo5OaI5s/nfun76vrslO9c8o30p/Vz9tv2VfcJ+ED4R/fv9Nzxh+/j7Z/sFetQ6ernhOdJ6ELqauxT7YbtR+7+77TxhvOh9Cf0Q/KN8sr4/gNID2UWihmZGzQfFCVPLFUy1jVENzQ36DXaM08w8SrUI7Mc2hcBFP4Osgde/4b4vfS28/Tzy/OK8w70RfVA92v5l/qg+hn6KPkU+J327PRZ80HytfGZ8a7xR/Fg8G7vvO7D7oLwzfNP9xT6dvyT/oH/aP/5/rb+u/7H/nz/YAC6AYYD2QRIBUwFlQUqBgQHzwdLCbMKjws9DM4MBw09DaQN1A1cDX8L5gk4Cm4LWwzIDBMN6g2hDy0RkRCFDasJnwetB5kHewWLAQT9t/id9STzE/DB7Lbp/uc06C7p5ukI6qnq+uwz8GLysPJL8fvv5e+f8C7xNfBJ7nXs5Oo06vrpwemP6WXpX+rD7CHvjfDH8V3znPWE+MT7Nf7t/s/+4v4l/rD99wDBCI4RExeAGbobqB85JLwn1ymRKz8tyS2kLPMpLCZ/IbIbehVHEDAMuQdVAsH8D/jc9KXyO/GZ8KbwdvHP8oD0VfaB93n3l/au9dX0svMn8iHxT/FY8qPzXPTL9Ij1e/YD90L3UPiP+vX8Jf9RATIDRQRIBNwDLQNwApoB2wAZAbECDgVLB8MILwpQC8ULKAxmDV8PxBAGEYwQmRAcEcIRpxFtEAwOKQvoCP4HlgclBzQGoQUrBi0HAQgdB28EMgGm/1b/i/72+5X4i/Uy88jwVu7Z6+3o0uYO5rPml+eU6KXpo+u47hvysvTd9SX2IPd++fP7Af2t/Bv80Pv0+7D7//qa+Rr4mPda+EL55Pi89732E/a39Q32XvbD9Uv0+fK88jfyg/HR8u33Gv8VBSwJOg0OE28Y/xs5Ht8gPCSgJj0nRyYzJKohYx5OGjcWHhKZDYwIowPI/0v9aPpc9w71LvQT9MPztvMk9FD0u/Pm8gzyV/Hr7zvug+1W7iDwCvJj80j0UfW99s33mfjk+aX72/0WAD0CXAQOBlIG3wVIBSEFVwVxBSsGkAeFCS0Mpg5vENARVhJ/EpgS5BIDE+ASdRKhEZMQcA7xC4oJMgdhBK4Avf30/G/9tP3S/bP+SgDvAVQD/QMfBNUDuwOcAzEDUgLhAAD/1/ye+lP4jPVw8jvwAe+p7oHu4e7470fxd/JM8yX0vfQi9Qb2WveO+CH58/hp+Jj30PYM9lf1pvTm84DzTPNV81fz6fIa8qHxBvID85Xzj/Pn8pDyqvJ48hTzyvV7+4UBLQYUCkIPohX9GkEepyCeI8cm2ig3KZQo1SaTJJEhLh5DGpgVOxCTCmMFEgHp/Gf4UfQJ8cfu6OxR69/p5Ohh6APokucV5+Dm6+aa527pAuwR78XyufaQ+pH99f/OAVYDGwWwBm4ILQrKC8IM6wx+DKELawqsCOoG1QUXBhcHTAi5CVELrQyMDecN1A2qDfkNKg7CDeQM7wvPChIJcAfTBaADqgBI/h79O/2f/Rz+5/4ZACUCOwSeBcQFOQXcBB8FFAWfBAcDbwAI/iL87Pns9ljzL/CH7pDtAO3E7EvtSe6L7+jwPfI18yP0U/W/9l74i/kq+i/69Pmq+Rn56vfV9h322vXb9Qf2TvZV9lz2TvaP9u/2Qvd09xb4SvmF+kv7Avvu+ob8oAAjBn0KLQ0uEKgUQhlqHAUeYh/tINoh9iFOIQcgBR4vG14YgBWtEboMVQc5Akr9efii8wDvPutm6CDmjuTB44bj0+Mq5KXkreUE567oJuvK7nDzQvjL/CkBUAXiCKQLXw03DogO9Q58D4QP6w4iDlIN3Qv6CZAH1gRzArkA2//v/9QARgK7A7IEqgW7Bq4HfwhDCdkJ8QnWCc4JQgk0CDcHRgbiBAQDUAH0//r+c/6a/s3+q/4Y/3gAAAI+AnYBigAqAMT/1P5g/Rb8DPtW+Zj33/U39GXyovDt72DwEvH/8T3z3vR59sj3JPmb+jP8xf1q/+UAPQIOAwoDXQJ2AZkAxP+8/vL9uP25/XL98/xv/Ir7jvrE+Wb5XPm3+ZT6Ovvh+qn5JPhS9vv0K/U99wH6lfv8/OD/5gOzBz0KiwydD4EShxRwFtUYxxrUG4wcQh07HYobcRj4FPEQvAv9BW0ANvtG9rjx3O0C69DoxOYP5QrkrOO14z3kA+b86Cft7/Hq9iX8EwGFBeAINAsbDZQOqA+qEIAR7RGsETURpBBbD20NDAtICF0F0ALUAD7/uP0o/PD6bvpF+l36ePpF+u35hvlR+WP56Pls+vf6Nfwf/rL/swDNAV0D7QRKBl0H2AdpCBEJ/Al+CjUKKgnlB4sGvgTXAu4A7v7p/ND6/fhz9+P1xPT/85PzevMY9FX1/vaT9774kfq/+wn+IwClAUcD7wMmBLIETwTCA44CSgG6AJP/CP/Y/oD9XPws+835cfny+AH5Zfnu+Z/60fok+676ffl++Iz2TfTH8nDyIPS19Xb2Xvf4+AX8ef9hAqsFvAhHC3UOCxJXFngawBw6Hrgf+yAtIZYfghx+GBQU7g+qC0oHIgP5/oj7h/iG9X/yW++H7KTqmOk06Uvpy+nn6jXsse0t76TwK/Kz87n1/fdQ+oD8tP4MASwDrgUoCBgKsAsjDWsOnQ7pDVIN2gx1DM0LnAooCdgHgwa8BKgCfQBT/gf85PlC+ET3d/bi9fL1mfZ091L4QPlC+mD7Nf19/xcBSgK5A3QF5wbCB68HmAeRB1cHAAdbBq8FwwRxA/0BGQFoAC3/1P1M/fz89/zW/Lr86fwZ/en9A//4/0MAJQBAAGUA9P+F//7+TP7+/TT+Tf67/f38hPxc/D38ZPz1/JH9wP0P/n7+dP4J/pr9ffy9+jP5lfed9anzifFR777t6Owe7R/uc++q8B3yHfTc9jn65/1MAYwEqQgvDVgR3BRmFzMZ0Bp0HLMd7x2wHRodTRxDG9MZxRcVFfsR4Q7GC3MIGwX3AQP/4/uo+IX1dvJW74HsGupR6A7nPOZv5lnnoOhb6nXsAO+r8Vr0MfcI+tH8pv9jAhgFrQe0Ca8LdQ22Dp0PsA8dD2AORA3ICxkKNQguBhoEbALKAKr+q/wB+4T5Jfj39ij2pPWA9dD1HPa39oT3RfhA+V/6+vsj/Tn+zP/bAakD8AQXBgMHNQgRCSsKFwstCwoL9goCC/MKuApWCgEKsAkZCQAIhQb0BF4DxwEBAPf93PuV+cj3FfYc9Mny7fFF8QPxRfGb8ULyIvPx88D0afWF9gv4CflT+Yr5kfkc+eD4tvgF+KH3XffY9kD2tfXX9Er0JPVj9iT3/PeP+bn7iP6rAaQE8QYdCcYLlQ4yETETzBTDFjIZYRu/HGodmh2hHXodwhyVG9YZjxcrFb8SExC5DNcIWwUSAkP+TPoq9gbyje5t67vow+Za5Yvke+QS5cnlsOYB6OXpXuwi7wXy/fQ1+K/7N/96AngF6QeoCWcL/QzgDTcOZQ43DkoNOgweC+4JiQjmBmMFlgOqAen/MP6a/Ar7wvnV+PP3u/fi97j32Pdg+D35Y/rG+4b9Mv/PAKcCjgQ6BnoHwAgECgIL3guoDOwMmgxvDIoMnQz6CwwLRQonCcYHewbKBFwCGgDD/Sb7kPg79j/0TvKk8Hrvve4Q7jTuc+6U7jrvLPBv8bDy8POp9aj2eve7+OD4wflu+oT6Xvux+zP70/pW+pz52Pjy9yz3+fX29Aj1gPV09uL3tfjL+cj7eP6SAUEEhwYlCWMM6Q9HEw8WgRjZGpYdHiCaIaoiHCM3I+Mi7iEdIHAdvRrLF3kUwxDODH8IHgTZ/zL7t/Y78gDuk+pr54/kMOLI4HLgruCG4dPiZeSa5mHpmuy57+7yb/Yi+vX9owEbBfsHmQqiDAwOIA+1DwYQsQ8XD0YO8AxXC5kJ+AdWBo4EugLvAFj/D/7V/Gj72vmV+Af47ffJ96L3/vfP+Kv56Ppu/Mv9Hv+2AIMCUgSiBfUGnAjkCS8LaQw0DWMNPA0ODbAMDgzOCn8IbgYABTUDHwGJ/vL7xfma96n1JfQ08sbwlu/K7lXu0+0b7qburO+28MHy/PRf9f71Ivco9z75Ifs9+2r7V/vM+537xftT+0/6I/rO+en4YfcD9hj1Q/S088XzN/Tm9DH2ivfW+Cb7Cv5JASgErgYcCsgNJxItFjgZDhwcH2giKyXQJjQnQicVJ6YmeSXrIuQfqRz6GCAVxhATDCUHQQJf/V34y/Ob797rwega5v3jXOKA4UjhyuEP44/knuZS6Yvsi+8g8g31LPg4+y7+LgEWBKQGGgkNC4oMng1VDskOkw7/DV4NqAybC7oKpAkGCJMGFAVPAzIB8f5P/cX7+PmA+Ej3Wfaz9a/1AfZR9gb3evg2+tH7Vf0G/74AaQImBNEFZgfDCOMJoQovC3ULWAtuCkAJVggkB7AFHgSCAtMAuv6x/ND6r/jk9if1sPOy8n3x2/Ch8NPvuu938O7wgfF08t3yPPN09FX1/fUt9/X3ffg/+cz5EfqV+un6l/ou+nb5bvgs90H2VfUc9NLzf/Q69d31afb+9iX5kfz9/ycDpAV1CLUMjxEPFssZgxxIH/si4CZEKc8p7CnqKbYpGilVJw8kOCDgHGQZYBWgEBEL1QX0AAr8APce8sPt3+lw5kHjtODR3gXeSN7V3r/fBuES47floeis68fuGfKq9Yj5ef0nAXYEUAf6CZ8M+w55EEcRuRHTEcoRWhFmEAYPeA2pC5oJagdnBVsDagHI//j9nPub+Yb41/dH96L2bPbR9pv3xPhH+tr7X/2m/k4AVwIHBDYFQgZCBx0I+wibCfcJdwmYCBQIfgezBj0FWgPsAYAA1/44/Wr7i/m39+j1RPQV8+fxBPGm8C3wAfD/7z/wqfAz8fHxr/Ll80z1PfZX93745vjF+dr6UvvF+8T7Afu9+sL6QfqU+XP4VfdF9v/02/NU8+Xz/PSO9X/23feD+Vb8FwCTAz8GGwk8DGQQExUpGQocbB4iIQIkgyYEKH8oRig9KAMoAyd5JPkgWx0aGs8W9BKfDrMJpgTs/5r7FPcy8oHthelT5q7jfeGd32beEN5l3nbfv+B+4vbkEehj69vuZPLe9Yr5mv2tAeEEhwfcCRsMPw7uD7oQAhHxEM4QTBBWDy8OiAywCtcIyQbdBDMDcwH2/1L+0fyd+wT7hfr/+fn5PPqk+kn7efyL/RT+oP68/0cBrAK6A7gEVwX+Be0GxwckCKwHBgeEBtkFdgUVBesDMwK7AH3/HP6z/CH7ofkS+Fb2PfVy9EbzTvLn8dTxzvHp8S/y9PEf8inz0fNU9O70afXo9V/21PaJ96730/dS+I/4RPj59+P3TPfv9ur2u/be9eb0Y/Ro9OP0/fVL9wD40fiG+uz8DwCbA4IGDAmIC5YOdBJqFsUZkBwwH3QhviPmJZsnGyijJyknbCZvJbsjByF9HawZGBZqEkoOyAnHBH//kfoK9pfxGu3Z6GDlc+I44AXfiN6h3jLfNeCg4XTjvuWZ6I/rme4e8r/1UfnJ/CQAYgPXBSUIVgokDI8NYg7zDh0PPg89DygPvg68DbcMbgvlCYMIGAfQBSsETQKYAD//Wf6+/U/9N/ws+9b6Ivuz+0/85vx3/WD+uP/hABICKwM/BFwFLwb6BmwHlweOB3cH/wZ8BsIF3gSmAxkCvQA2/5X9zPs4+sj4ZPcW9uL0+fNO823yyPFJ8R3xW/Gv8UPyafJ68q7yuPLb8rPzQPSH9Dz1afVn9YP10fXq9bH1yPXz9Qn2Hfbg9d30UvQt9PvzvvQo9rf37/gL+sr79f3NADwEogdrCgUNMxCME6UXhxtoHtggMSNrJRkniyiMKTgpzSdGJqgkXSKfH4McuRh0FMsPGwt+BswB9vwJ+Cnztu7h6oXn0+Sr4gzh3N8V3xnflt9Z4KfhqOPX5Sbo+epb7tHxCvV8+Nr7Jf9VAj4Ftgf4CSQM3A1OD2kQPxHjESUSKBLbEe8Q1g9/DugMRwuKCaUHoQWGA3YB9v+w/nb9oPzm+z/78voB+0f77vup/If90/4bAFABmQL8AxUFCQbgBmgH2gcKCAgI3AdHB3IGZgVOBEID/QFhAG7+tPw2+475JPiK9gz10vO38iHylfH28KvwqfAn8J7vte/473zwHfFI8TXxdfFB8irz6fOW9BH1o/UV9k32zPYr9zX3MPdC9z73Lvfv9rb2mPZ79lL3nfjC+ST7A/1C/4cB2AOiBt0J+QwgEFETaBasGXccGB+iIWcjuiTTJY8mmiYTJtEk+CKzIBYeFhvcF5gU2hDFDJUIQgSN/8L6TPb78ePtS+ot55DkS+Ky4N/fbN8z33/fPOBt4XXjtuVM6Cvrme5s8vH1h/k8/aMA1gO6BkEJjwutDXYPvRC4EY8SXxOtE2ATkxKMETEQiQ7DDO8KPAmWB7kFxwMZApIAi//b/l7+2/1e/Tj9Qv2I/Qz+7f7h/+gAAQLuAsUDuQSVBQoGTQaNBrsGhgYtBq4FCgVcBFwDSgIhAfr/uv4h/W772/l++En38vXQ9PHzzfK48bPw6u997wbv0e7C7o3uhO7a7izvXO/Z76XwcPEq8sfyVvNI9DH1u/U69uT2sPc++Hn47/hU+Xf5xPnN+dj5Sfrl+r37/Pxb/gYA6QHRA+4FNgiaChoNrw9HEvAUkhfgGQMcCR61H/0g3iFqIpgiSSKMIVogfh4mHGgZSRbuEjoPcgumB48Dav8t+xH3hfM08Nrs0elH51/l4OPY4kTiDuJe4gzjKeSL5SbnRump61XucPGT9Lv33Prh/b4ALANfBdAH5Qm/C7gNbw+7EJwRShKJEpsSbxKkEdAQ2Q+lDnAN9QtuCvgIWwfBBXcESQMSAggBOQCF/97+kv6M/mT+SP5o/uv+XP+w/10AIwHkAU0CkgLSAukCAAPMAkwCzQF7AUgBowDw/y3/Nv5t/V38NPsy+kD5Q/g/9yr2AvU19IPzw/IQ8pTxPPHJ8FjwDfAN8PfvLPCF8NrwQfHt8RTz4fOt9MP1pPZr91r4Lvn/+cX6nvuW/G79Uv4o/+f/0ACjAXkCcAMsBAsFGgZFB3IIxgk8C3IMkg2tDoYPGBCGEOcQDxEREUIRFBHJEHAQFxCrD4IOVA0oDLQKDglnB+cFPQS9Ao8BBwCQ/k79Avyp+mv5gfiX98H29vWB9Sr1AvUe9Vb1ovX19bT2wPeq+IX5mfrU+/78Q/6Q/28ATgFXAmADAASuBHkF7wUmBmEG2gbsBq0GZwbtBV4FlwSuA88C8QFZAdoAOwCQ/yv/Ef/7/r7+d/7L/lT/5f92APcAogFmAnIDRQQzBVkGHgeWB8QH8wdiCIcISAgDCJQH9QZbBooFWgRcA3cCagFCABn/0/2I/H77SPo8+WD4Z/d69sP1E/Va9LDzTPPg8nTyXPLL8hP0QfP78vj0d/Rj87D0yPTs8zz1n/Wh9cb2QveM96f4bPk/+kj7Vfy+/W7+FgChAWMCuwP+BNAFLgc5CGEIuQj8CPEIdAhkCHkI+QdXBxoHkAb7BWgF0QRMBLsDQQPTAj8CeAEYAb0AYgD9/wIAHQDk/7//zv9O/7z+kP5e/lj+i/60/kD/BQAgAGEAxwAGAWUBMALBAlUDGwTvBHsFwgUwBqEGBwcOB/0GBAclBywH+waQBkcGCwaPBagEsAOeAncBywAWAC3/Tf6l/SD9w/xa/Ov7zfux+9P78/sC/H38Cf1V/bH9Pf7R/nr/LAC8AE4B5AFhAsYCLgORA8MD2QO/A+MDBwQCBPoD0wOoA0ADxAKNAiYCwAGcAT0BtQASAJv/Gv94/sr9Ev2E/A38lvsk+6L6GPqQ+Rv5kfjX93L3Rvf79rX2vPbU9t324/YS92H3vPda+Pv4d/ku+vz6tPtq/EL9Yf4e/7v/aADoAF4B1QGeAjkDZwOmAwwEUQReBFcEUwRaBD4EBgSaA/gChgINAmkBtQDJ/xL/WP5t/Yf84Ps++4v6BvpL+cr4zPjO+Kr45vhb+fL5Yfqs+lb7NPxO/aT++v9ZAZ0CpgO0BJsFgAbbBxgJsQl/CnoLAAxoDNkMKg03DeYM3QztDI8MHgywCyoLMQo9CYAIcwdlBpsF2QTgAwcDPAJAAU0Ahv/7/nb+D/6z/Sv9tvxG/A/85fuS+7b72fvu+wT8Kvyo/PT88/ww/Zv9vv0G/n/+0/7Y/vv+Qv9m/5b/tf+i/5f/jP+G/4L/V/8l/8/+kP5M/vr9mP0R/ef84fyZ/Oj7ovue+0z7TftP+2X7rPvs+0H8d/xf/Jz8Gf1g/ZX9B/5f/nb+r/7U/hv/Rv+Q/9H/4f8sAIAA5gBHAWwBjgG6AboBygESAjACJwLzAa8BlgFmAVIBCQGTACgAvv9n/8j+A/5L/Z783vsZ+3n6yPlM+cD45fdO98H2Vvb59Yn1cfXL9WH2yvZz90n47fj6+Rf7+fsq/XD+pv/iADMChwPLBBoGLAc/CFgJdApaCxcM1ww0DbENFw4lDiIOQg4QDp4NHQ2IDMwLJwu2CuAJ0AjkBxYHUQaEBZEEuAMHA80CLgKBAREBnQCBACUA1/+d/5L/qv+Q/33/Zv9z/33/cf+A/1j/Vv9j/yL/2v7T/sb+VP7Y/YL9U/0J/Y38A/yM+2j7Cft8+gX6o/mb+Z35Y/k4+TL5Ifkd+VT5iPmP+e/5V/qw+uX6/vpZ+5/7zvsl/KL8Gf2D/fz9fP7x/jX/kf8DADoApgA6AdoBPAKeAg0DTgOLA7ID8ANBBFYEaQSBBEYEKgQBBLEDLwPiAogC5gFKAcoAMgAs/2P+yv3l/Cj8pPvU+gX6Ufma+PH3Q/eu9mX2CvbR9bn1tvXX9eD1Xvbu9mb3L/gV+UL6Y/uB/KP9sP4IAJoB4QLyAyUFYwaABzYIEAngCY8KLgvDCxIMKgxBDAkMwwtAC8MKZwrWCRoJkwgbCGwHtwYkBnQFogQcBLIDAgM2Ar4BaQH7AG0ARwBJACEATgCxANIAlQDVAOkArADHABkBLgESATcBVQEcAcsAlQBIAAEAyf+Q/0r/rv4P/vj9zf1f/dX8jPxs/Ej8Bvy8+477hvuT+8r7kPsH/Db8T/wu/E39ZgFD/wb81f0L/lD/vf+2/tEArP7D/O3+Kv64/Vb+xP1n/9z/o/1g/jT+Gv6K/wn/eP95APH/XQAHAd8A5ABSAMkALQGAAJ8AlABQAKf/YP/N/1b/c/48/mL+6f2d/R/9E/wT+5/60vrv+Qr57fgG+b34n/d/9673Vfc69wT4Q/n++JP4MvkW+vb6vvsn/ZT+Sf/e/w0BjAJ5AzcESQW0BrYHOQjuCF4Jzwk0CmwKeQp0CngKRAofCokJ4QhJCF4H1AYOBqUF1QR8A94CKwLHAdoAEgBXAM//rv/D/zT/5P+n/5T/LwAhAGQA1gCpABUBWgH8ALoBvAHnASoCNQJYAiQCBwJMApICjwIPAkUC/AH8A44EfAFNAdwBqwH6AF4BSAHbAEX/mP6H/7b+2P05/cv8ZQEHAv/8h/18/kkARf9W/6cCpgBJ/Uv+Af8q/TD9Mfxk/dn+sfwf+2H6WPq5+m36T/tg/ID7afsv/DP8hPyV/MH8NP5E/0EAAQBs/qb9jf0i/rb+aP7Q/bf9tfzy+0D76Pnm+GT3Qfci99P1gPTe8r3ws+9U8PPw3PEx8t3y0/PM83P00vaI+gL+bQCRAoAFYQhpCrgMwA/fEk8VPhcPGSYa3RnnGJcYYxg3GOMX3xZWFRETUxDCDeAK5AdyBccCFAB6/Yr6rfdv9NPxfPBT757uG+7K7VPtZ+3m7XTugu9Y8Zzz3PVy+Ez6tvtD/Rb/BQESAzMFjgfxCKUJwAoxCxcL7gp/C2AMkww+DIwMKg2HDHQJYAZXBscITglyBmcEewRCBFQCnAABAaoBdQAaAEYB2AGE/4T8G/0PAJEB1gC//5z/OQCQ/8X+lP66/sT+KP6s/bT9yvxZ+ov4wPg6+nX6EvnT9xX3lvYt9p31SPUi9UD1sPUN9qb1h/SB8/3zfPUT9uv1sPWw9Wn1nPUC9pb1Z/Qy82TyGvJc89/1Fvh2+IP3Ovco+DH6W/7oAygIdwkjCU8KZA02EJAT0heZG8wdgR7sHk8eGB1qHB8dIh60HR0bGhe8EpoOvwuLCToHUgQwAHH7HPew8rDu7utE6mzp7Oiy55jlvePZ4m7jCeWX56zqXu0973PxR/Tb9qD50fzmAK0EfAfDCZ8LMw2ODscPPhGnEkATiBMmE3gSjhHeD+gNeAwPCwQJwQZEBKoBh/9y/s39S/z6+Vb4bvg/+Vz54vgw+cn6ZPyL/c/+xwCQApADYAWwB8EIxQgKCTYKnQslDHkLhwoZCnkJOgjqBlQFpQMhAp8A+/4Q/Z76Afj/9dL07fN58gXx2e8l77/uSu5e7sHu0O4475fwUvJ286nz+fNv9Wf37fjl+Wb6ivqR+n/6svrm+lf6J/li9471q/XI9xv69voX+RD21fQy93/9oAS4B14GuAMxBBMJZQ7TEg4XQBohHD0c0hveG/4bLh1UIAUjDyJuHYIX8BLWEKsQExCODd8IBgPL/DL3XPMI8TrvZ+2G68Do+uSR4QXg1+Dn4u/koOZs5/7nUOlK7Ivwh/Q9+M775f5MAXYD4QXLCH0M6w/eEaASbxL5EfwRwhLsE0AUAhPwEEoOQwvFCN0GagV3A8oAUP7d+8f59Pew9V70xvS99vn3xPZ69Q32AvhO+ib9xQAoA50DOgQvBqkIRgpKCwcNTw/2D9MOXA2cDIEMcwxADFoLGQkkBnkDTwHc/5v+3PyW+mr4YPZE9BTycPDe7wHw8O8170Lube397HntV+9i8R/yvfES8ofzF/Wc9ov3IPiO+Dn5PPpb+r/4vPZn9ar0o/XP+L78ov0e+Tvzi/JK+d0DcgqpCSgFYgL0BNQL9xLAF9oZmho2G0Ub7RrVGhQcdh8LI/0iQh4LFxgSGxF6EqgTUBFUC6oD6/yp+G72kfRe8s3vkOxg6Frjnt/73orgSOOG5Zzl4eON4o7k9Okn8Ob02/eE+ar7wP44AhYG8An0DY8RfRMWEw8SWBIZFGUWEBj1F5MVAxLDDloMdwtPC/0JmQaTAcv8cPkN+O/3PfcZ9cfyhPFW8QnxwPDR8UL09PZa+NP4HPq+/Ir/KAL2BL8HSgl+CZoK2gzQDmIPQg/eD4cQOhDMDnMNLwzICskJkAjZBh8E6QAe/pH8h/uJ+ej2pfRo84Dye/GO8Jvvwe657kvvjO8z7xPv5e9v8fvysPN+89fyxfL28/j1ePcs94n1C/OS8UTzT/jz/Sf/VvmT8bbxVPw0CesNmgijAY0ARwZaDzMW1BjsFwsXmhi/GuoaDRqAG70ftSJ1IA8aVhPfEJMSVxUDFUcPhQYP/0f7ePrA+e72fPKF7YzpYubK41PiWOLO44blmOV449TgPeG35sbui/Sy9cr0r/V8+dn+eQQVCRIM8A1uD3sQDxG3EWYTDRZ9GJQY9xVbEpcPpg6dDpUOBQ3wCMkDgP/J/DH7Kfqv+Fn2IvQG8qbve+3B7ajwZPNN82zxSPFj86j2NPoG/goB3wEqAskDrAcoDFsOGA/oDywR5xGiEYERRhK/EtcRMhAcDsILKQlUB4wGRwV9AqH+i/uZ+TP4qvbV9JbzM/Jo8I7ua+1J7cbtN+5h7n/ufe687pvvA/EK8qjyMfM59DD19fXO9cf02fL38QT12voAAKL+Dvez8A/0FAF4DU8PVQf0/5cA+AgeEwgZ6hl/FxwW4xeTGv0bexzPHjkiAyOAHhEXIBIOEw0XyRgEFYMMvAOP/tL9Zf6+/Pr30vE07OroM+ea5W3kMOSo5OvkVuOK4NbfSeP66X/v5vA079PuYvLN+Cz/4gJ4BFQFvwZrCZYMOg/vENQRzRJ8EwIT+xFJEQARuRATEE8OUQtzB00EZgIWAZ3/L/0J+sD20/Qs9JrzevLJ8X7yrvOZ87vyKPPx9Tf6Mv0d/hr/9ABZA4QGFwqdDVsPcw+3D04RGRPnE70TYRP1EswRFhAfDogMLwujCXcHjQSOAPX8jfpX+Rj4x/V58q7vMO7E7HnraOoh6vLpxemv6dfpmuq168nsMu5e7znwQ/Gh8oj0D/ZL96j3M/d59sv1hfZS+toAKAUhAeb2xvJw/b8PMhn6EUoEqf/7B7UV+B7lHx0bBBbqFbYa2h4MH64dph75IMEe/xb0D34P3BSkGEYVlgsAAWT7qfsR/gP+SvkS8pbrBuh/563nQudK5pfla+Uu5SzkkeNm5ajqkPCQ8r/wE++G8dz3B/7QALQA5v/QAKsDOwfTCUQKfQl9CZsKeAuACxgLQAsaCxcKbgjTBucFmQT8AsMB1wDf/yr+pPz8+yP8N/0G/oz91/z//Hf+nQA7AuAC/gKvA1oFjwerCLsIUAmtCtcLzQvICuYJrgmACiwLaAoYCHoFdQSeBNgELAQZApz///2n/Zn9NPw0+rD58flW+cz39fUE9eb0QPUl9RT04fL18Xzx4PHR8i7zVvJS8fXwLvGs8ZjxZPFQ8U3xP/Gm8NPvL++77hTvrPHr9g/7QfgP8NjtkvmUDJkWhg+LAiUABgxmHEEm/CarIbkc4h1mJCIq0ypGKDQnoSchJFkcvRVBFVEZXRqgE7AHk/3o+fP6kfzG+tfz+uoL5dvjM+XL5WzkweLL4YDhZOGA4SzjSOaF6k3uHO9+7SntA/Eu+MH95f57/TX8e/0cAYEFUAgXCCgGZQWnBusIlQqkCgYKmgkHCVkIsAfUBl0GEAa/BcsE9gJ7AZ0B4gJHA/EBXQDN/6AAkwJCBEwEJQPWAkYE6AbVCAcJFAhBBzUIuAnZCd4IDQiyBxsHhgb+BQQFnQMcA24DMgP9AacAvP/B/4cAcgAY/1r9Ovwa/If8//tV+oz4a/e+9h/2T/VG9Fvzj/Ks8cHwOfD67yPwC/Bv79Pu2e4r75Hvc/Dn8JjwJvCF8M7x+vI9843ydvGF8jv3AP7mAEP8Z/Zu+noKKxrvG8MQIggmDc0c+CkaLOUllx8vHxUkZilJKhMnVSNQIUAfXBqGE1YP6Q9/EU8O8QSm+SvzuPPb9oH2rPDR6ETj++Fz4y/lI+WU48bhzeFO5E7n9egn6aDq3+5d88f0JPS99Hn4zP16AKT/Wf6B/9YCmQVJBjoFCQRBBAUG9wedCAkI7gbeBXkFxwViBq4GUQZzBasDDwLXAdQC1QPHA8YCzwGrAWwCoAONBB8FZAWLBdAFrwbnB+gIAglpCPAHNwiMCB0IfQeUBmEFHQQ4A+ICkALmAUIBiwDN/xj/7P42/2H/9P4a/pP9cf2K/Xn9r/0o/fv7rvoT+kT6p/mt+Nj3Qfd59oX1KfXe9M/0ZvV+9XD06fJ78mjzEvXg9QP1W/O58hD0lvU+9jD2K/a49nL3Ofgz+cr5Y/nm+Ar7p/+tAxQEsABX/ocCqA3bFxkY4A6zBxkMGRnaI6Yk3R1iFzoW9xmeHv8fIx12GEkUFRHODTgKVAhVCOsHswMB/Nj05PH686z21PXO8LTqdudg6MfrfO6g7s7sa+sf7MjuI/Km9In1ofWG9n74IPpD+3n8iP4ZAesBegAf/wAATgJuBH4ERAK3/wv/1ABXA1UEswLz/4T+NP/AANwBdwEnAAX/nf4U/9L/FQEfAmgCYQJlAg0DKgS2BVwHHAgZCJAHPQetB68I5wkGCsEIfAbABGAFtgaDBp4EogLzAcoBfwFRAW8BsAFrAUsAi//3/yoB/wGwAd4A9f8V/6n+Mv/6/57/e/1i+9b6Pvtt+6D6QPq4+Uj4nvf99+742/kV+kf5J/gt+EX5Xfr8+sD7Yfxf/PX74/sh/c/+y/97/3D+Nf7H/pT/SQAZAI//xv7S/TH9JvzW+gL6pPpV/A/9YfqN9SD0ovnGAckETgF6/Hf8DwFoBgcKFQs+CmsI2we/CXgM4g3eDXoNnQxbCpkHvgaQCCALkQsdCXYFKgNdA1IF/AbzBgwF8gFe/4n+sf/YAF0Ad/7r+zT60fl7+rf6n/k4+GX3xPaa9en0SfUW9nv28/Xf9Cj0Y/Ro9XH2evbB9TT14PW/98D5P/s5/Kj85/w1/rIAuwO/BSwG5gUKBlAHNQkICxQMWwwYDLsLxguLDJcN/g18DUEM+grqCSUJ3QjQCCEIFgZ9A7UBrQAGAFb/5/2T+z/5APiw92f3A/dy9sf1mfWa9cz1yvWI9t/4yfpJ+pf4Nfks/D7/iwCXAPsAHQI+BL4GywiFCTwJlglIC0MNrA2cDGgMkQ04DmYN7gvUCl0KNwpoCWcHvQSxAp8B8AB5/9n8TvqQ+Hb3N/ZJ9C7yzfAJ8H3v6+7s7efszOz47V3vlO+s7iPuPu9g8R7zAfRh9ND0Q/U09gP4yPnk+nP7/fvf/OL9MP98AcYDoAQSBRAGwwdwCV0KggvqDPQN6A3RDacOFQ8aD0sPrg8cD3INagy8DPsM8gt4CgcKcgrRCcgHewXfBIEFcgUqBDwChABY/wr/7/5p/of9l/y/+/v6TvoM+sv5X/m7+Mf3d/fr90b4qPf+9tb2t/bw9pD3+vc8+GL4jvgL+Yb5IPql+nH7HfwI/Nv7Pfxp/Zv+wP4K/uX9n/7G/4kAsQAfAf0BugIvA5sDCQS5BJ8FYwbRBisHlQf1B5sIVQm3Cb4J3AkbCukJugmpCmUMjQwqCrMItQo0DYkMAgnGBt4HbwnCCH4GlwQhA9oBDgHBAKf/X/2F+wf7APt5+fr20PWE9jj3Lvb+87vy6vJb81fzovLd8XXxhvH18Tzyf/Ks8hLz0vNs9AT1mvVY9jr3S/iv+Tj74PuE++77h/0J/1f/Ov+x/44ATgGJAccBWwLcAlID+QM2BPYDdgSwBcIGMgfaBs4GNgcRCO8ITAnPCS4K4AksCSwJHQonCzsLiQrWCXAJpAn2CdEJKgklCBoHSAZ/BdgECgQjAyYCBgHI/33+Zf2l/Hj87vu8+mL5avjU9573jfcO9zf2j/V29eL1kPYI9yr3I/ez93v4Cvnv+Tf7P/xh/Cz8d/xH/Vb+If95/2L/hP9NADgBDQLcAqwDOwSwBHoFWAYFB7oHRwjHCAgJ3gjUCNgI6AjECBMIFgc0BggG5QUjBWcEqgPfAssBzwBeAPb/Zf+V/qD9C/3Z/Iz8sPvQ+kP6ifnt+L34q/hp+Fn4kvi/+JD4nfiL+aH6UfuQ+/T78vz3/av+LP8iAFQBBQI1ApkCLAOgAwEE5gP6Ax8EMwRMBPkDiQMqA9ICoAJKAoUBpQAnAOP/dv+6/gv+kP39/Jz8Sfzs+2D7R/uB+277Uvs++6z7SPyz/An9Sv0H/tr+Yv8GALIAfAE2AvMCbAP0A64EIQVpBZkFAgZvBpUGoAZUBgQG1AVpBdoEMwSgAx0DkgKhAYIAqv9L//X+bf7f/YL9ef08/dz8yPzj/On8rvxt/Gf8mPyP/DT8CfwJ/DH88vuH+1v7lfv6+937cfsm+1H7uPvs+/j79vv9+2j8kfy1/Or8rPys/Cn94v1g/jb+UP7u/nP/n//O/5EASgHAAWkCAAMEA34DAgXzBjMIxweyBuYG/QgGCxkLcQpMCo0KBAuHC7QLgAvvCgYKnwlYCZAIjgf1BtgGoAapBeADHwIyAeAAtwBHAAj/U/2r+7T6ivoZ+nz5zfjs91j3xfaU9mf2U/ZQ9kL2Xfb39aH15PW19kP37fZ39mr24vZj98z3iPg++aD5BPog+0j8MP35/av+of/uACAC0ALEA8sEsQVOBs0GjgdZCOQI6wjACHYIYgjCCJsIuQcXB7YGEAbkBOoDPQMgAukAx/+5/rX98vwx/Cr7Kfo5+cH4h/hO+CT4Efgv+IT42/gZ+Zz5UPre+lP7Cvxe/Z/+Uf8MAMgAiwEvAiEDPwS5BBoFdgWhBboFCwagBsMGiQZ4Bl8GHAbzBcEFjwVHBawEGQQzAyoCiQFCAdUA+v8P/0v+1v2k/ZH9Ff2A/Hf8qfyJ/EX8bPzA/C39iv22/Zr9Xv2t/VT+Cf+b/wwAkAAHAZEBHwJhAowCAQOXA+wDHwRSBK8E9ATmBNEEkgR5BJsEiwT6A2gDUAMwA7wCTALnAZUBMQG7AIQAEgBi/4X+6P13/SH9vPxU/N77LPvw+pv6NfoW+gD6uvk9+fn4HPmK+Rf6avpp+pr6Mvv6+8v8R/2g/ez9LP6L/vL+Tv8mACkCLwPmAXUADwL7BTwHAgQDASwCQQVMBpUEMQMNA5UCnAEFAQsBvQDl/2T/zP53/Q38o/uj/Mj9Ff21+g75Z/m7+kP7yfpV+lf65vpO+xf7X/s8/E39BP7x/UT+Tf9wAHoBowGCASoC+AIkAxwD/QMuBYIF+gTWBG4FBwYaBgwGbwbOBpIGbgbVBgAH5AahBnMGPAa2BScFFgXIBP8D+QIhAhUC8wFVAVkAXP/o/rT+ff5O/gP+8P0L/tL9N/3o/Bj9Yf1x/YH9rv2E/Un9df2s/bP9xf3M/bz96f1I/pz+7v4I/2j/YP80/53/DAB1AKEAzwABAfYA2QAcAYkBtAFfARkBOQF1AWkB7QCgAJ4AnACIAFIATgB2AFoA8f+K/1//Sf8c/4z+Sf4y/vL91/2Q/Rv9rPyl/JX8RPw//Ez8SfwG/Kb7q/uW+0H7M/tq+4n7kfu3+yj8QfwR/IX8k/1E/iz+Qv72/qL/CwBpAJsAFAHGAfMBBAJoAg8DnAPhA1QEngSMBIME3ARpBf4FXAZLBjoGDgbaBcsFhQVUBTkFhgS4A+8CkwKhAm4C1AH5AFUA+v+X//3+Kv6C/Qj9hvwz/Kv7lPuB+zv74/p3+i367fkw+kn6CPrB+d/5FPpi+ub6IPtS+8T7FPxw/Oz8pP11/uX+Xf/+/+wAqAFiAigD2QOXBCMFfgXJBSwGnQblBgAHKgdRB0IHLwdGBzYH6gaGBloGPgbrBX0FXAX+BFoE9AOfA3YDCQOKAhMChwEsAfEAqABOAAcAov8n/+r+qv6W/qL+qP6K/j3+NP7+/c/9u/3O/ef91f2O/TT9JP1J/VP94Pxo/Bz8FvwR/M/7a/tP+1L7FfuH+u75CPop+tf5aPkO+f34//j9+B/5Tfmq+c758vkm+k/62vpx+/L7M/zJ/Hn91/1r/hP/p/8sAOkAqgHWAQYCrQJSA9sD2wOyA9wDWQTJBK0EnwT3BFUFQgX+BBcFfQWRBWQFWwVZBUwFGwUIBdoEwQTMBHAEGQT7AwYEJATqA0ADtAKMAmIC/AFmAdoAjgBJANH/Sv+b/in+Hf4M/uf9h/0Y/dj83vwP/Tf9X/2V/Zv9xv37/Rn+Yv7U/lv/2f9DAFoAlwARAaIB+QEZAkwCkgLAAuACAAMDAx4DAwMAA/AC1ALBAqIClwImAqsBZgEmAckAOgDG/4P/V/8g/8D+gP40/vf9/f2v/Xj9Zv1P/S/9+vwE/c78s/zw/A393fyV/IL8tPzT/Kn8gvxd/BX8A/xA/Dz8Bfzd++z7APz2+7v70PsH/DP8lvz4/FH9h/3U/Uv+sv7y/nn/RADsAFgBAwKIAv4CigMeBJYEvgQ+BYMFgwWXBYwFcgVlBUMFLgX0BKgETgTmA1ADxAJdAgcCBgKtAQUBXwABAM//xf+0/4D/M/8J/+P+5f7H/nr+l/6v/sb+lP5X/kr+ZP5l/nj+YP4U/uX90v0Z/gf+s/1m/VP9jf2s/Yj9PP0n/VH9if2H/WX9bv2X/eL9Av4c/nX+3/46/4f/3P8+AJ0A/wA5AXwB9AFhAusCNAN4A5UDmwPKA7sD8ANjBIkESQT1A+ID7QPiA7kDcwNAA04DQwMNA/0C9QIWA9YCkAKbApECogK1At4C8AK1ApMCXQL8Ac8BqwGTAS8BsABFAPX/v/9E/8b+e/5S/rf9A/2j/Fz8GvyE+xL7rvpm+iD6v/mT+Yr5ePla+ZL53vkD+g76Ivp4+gX7Yvva+4z8P/3i/UH+xf6E/0YA1wD6AFcB9wF+AvgCEQMpA2YD2AMRBNIDkAN0A48DkQNoAyoD+gLEAlgCSQI5AsABSgHCAHwAJwDY/4z/5v59/ln+LP6x/YL9kv0a/aP8fPyR/JP8YPxM/GT8mfzu/Nf8tPz+/EH9eP2y/Q7+aP6j/qT+pf7M/kj/sv/3/0oAegCIAMEAXgG0AcYB0wECAkACUQJXAmQClALeAggDBwMYA2QDlgN9A20DYgNDA4YDygO9A5sDjAOgA3YDJAPuAugC/wLuArkCqwK8ArsCwwLgAu4CxwLMAv0C1QKfAngCjAJ5AkEC/gHDAaoBZQEkAbsAeQA1AO3/sP98/x7/uv5V/gX+/v2I/TL9K/0c/Qr9uPxH/Nr7tPug+3X7WvsW+wv7Mvto+5j7wfve+xj8QPwZ/CD8V/yo/A39UP2H/Zv9jP1p/Ub9ff2p/b/93/0T/ij+K/5d/r7+5f7O/vX+OP9p/2//VP9a/4H/sP8VACcAPACKAMUAmAB0AMEA/wD9AMsABAFBAYoBxwHDAdMB6gE6AmYCLgL3AegB+AH+AdkBmAFOAT4BiAF/ARoBJQE3ASEB9ADGAJwAigCuAMYAwQBiAFAAZQBgAFAAPAA6AAYA5v8EAC0AJgA4AEoARwA3AEIAuwAmARgBIAE9AZEB/AEQAiMCPwKCAuUCLQN4A7QD7wMRBAgENgRFBEgEWASDBHAEWgRgBDkEOgT8A4IDIgMLAwMD3wJ1AuABcQEpAaUA1/9b/wb/zf6b/ir+W/2l/IL8T/wA/Hr7MPss+/b67vru+uT6nvpU+ir6sPmc+dL5zfnZ+cb57Pk3+m76fPq0+iD7ovtY/Lj80vz6/Hr9MP6n/jH/SP+F/wsAGAAUAAwAXACXAJ4AngCWALIA9AAGATQBYQF9AYUBhwHdAR0CKgL7Ab0BZAF7AbkBpAF/AVkBSAEFAaMAfQBGAGAAiwBTAB0AAgBHAHAAKwDl/8r/vv/B/6v/g/98/8b/CwAUADcAfgDGADYBgQGjAdwBHAKPAswCuwK5AuECAAMaAxMD2AKqAqwC0QKxAncCIQLtAeIBpgFkAR0B3ADkAMsAnACkAJgAvQCdAGAAVQAkABIAQwBYAHoAdwBvAJ4AjwCXAJkAcwBnAIIAtQDWAKsAsgCqAEoA5f+o/5r/hf9Q//D+t/6+/rD+fP4z/ij+Uf4x/hr+3v2j/Zz9o/22/aj9uP3u/QX+DP5D/kH+GP42/oX+sf69/v/+LP8d/2b/uv+8/77//f96AJUAhQCZAMgA6gDIAMQAxgDAAOoA7wDaAMYAsAC0AEYAzv/M/+n/6//D/8T/pP9G/zn/U/9C/xj/6v62/oD+WP5S/lT+Wv41/tX9mP2e/cz93/2O/WD9o/22/c79z/3V/S3+aP6Q/qT+iv6k/uv+Gf8L/wT/Yf+L/4z/tv/+/zYARQCQAPAA/QBSAbIBwwHuAUQCggJ2AokCrgLlAhYDPANjA1kDJQNmA+0D6AOBA4EDugOYA5IDrgPHA9AD+QMfBP0DuQPoA2IEMASLA2ADVgM7AxYDugJcAgIC0QGNAe4AggCFAEwACgDE/3P/EP+r/lP+5P10/Tz9Ov3s/CP8rPvC+5/7l/tx+xn7Gft7+9n73Pve+wj8SvyF/KT8zPzz/Hj98P0N/iz+lP45/3z/nP8BAFsAhgC4AL4AFAG1ASQCPALzAfUBOQJaAmACGwLvAcYBaAEtAfEA0wC3AGkADQCj/1H/Fv/8/vX+mv5I/g7+6f3f/ez9uv14/XP9Tv1K/Xv9h/10/aj96v3r/dv9Af7v/dH9/v0d/j7+d/6S/pX+uP7x/u3+Af8j/zP/pf/N/6z/6v8yAFUAfABuAGQAgwCtANoA5gAQAUgBWwFvAXUBrQEBAiYCfAKzAssC6ALoAg0DQQNBAyIDHgMXA00DaQNMA0UDWgN6A2wDWQNaA2YDjwOYA2IDZQNkA1IDCgO3AoQCKgLXAYkBWwFEARMB4QB+APr/kP9c/xb/sv5v/jn+JP4B/vz9wP2F/Wf9If0X/R/9CP0S/Rj9Jf04/Tn9U/1t/Xr9h/36/bH+DP8Y/z//bv/M/y4AVgB+AKYA6AACAeMAzwC0AMIA8QAPAfAAywDjAOgA5ADtAOsAwgCIAEwAIAADAO7/4f+k/07/L/84//j+tP7A/uT+y/5u/hb+5P3z/dD9sf2y/an92/3K/Yf9Rv1I/Zf9uv2o/ar91/36/RH++P22/cP9CP4Q/iH+iv7w/jD/Jf8W/1r/nf8HACUADwA1AGgAxgDVAJEAiQC+AMYAowCeAKcAjABzAGEAdQB9AKQAFgEbAfoAFwFFAXkBmwHaAUsCfQKIArsC0QISA3sDnwN2AzUDKgMtAxQD8ALuAtUCswKJAmsCOAITAlkCRALqAfYB7QGwAWMBDAH2AN0A2wDQAIYAMAAeAP//xP+v/9//xv9K/+H+gv6N/qf+u/7m/r3+Zv5Z/mb+cP5b/nT+av4F/t39KP5f/mD+hP6G/pv+kP57/qD+zf70/jf/j/+9/+L/BQAcAHUArQC3ANQA0AAkARoBwgDDAOgAEwHfALIApQCSAHYAXABjAFIASwA+APD/fP9Y/1n/Bf+R/jr++f2r/Z79lP1X/Tr98/zV/NL8ifyL/Jv8lfy+/Of8If0Q/eD8EP10/cH96f0v/nP+pv4G/0j/Zf+0/xcAgACRAJYAyQAPAWkBbgFSAWoBpAHDAaABbgFuAYcBlgGUAa4B9QH1AfAB+gEKAj0CawJvAh4CBgIqAh8CFAIwAh0CAQLgAdkB5QH9AREC+gHiAaUBngGnAakBrgGeAZEBjgFeASUBswCMAK4AoACXAHMAfQBDAOv/lv9K/yT/Gv8k/xv/3/6L/rH+Hv8N/9j+C/8b/yD/EP8d/37/if+Y/8b/4P8TAEgAXgBiAKMAxgC1ALwAywDEAL8A3QA1AUkBCgHoALoAvAC/AMIAxACcAEcAPQAzAPr/9f/t//b/xv+b/5P/qP99/4f/hf8F/7/+mv6X/mj+Rv4o/vL9q/2E/WT9JP0W/Sj9SP0X/ej8Gf1O/T/9Pf1R/Vn9h/3p/Un+h/6T/qn+w/6n/pn+2/4k/x//Pv9O/1f/XP+S//f/JwBiAHoAawBMAGkAtADAAMkAzQC3AM0A+wArARwB8wAqAV4BTQEvAWEBjgFXAUQBIwEXARcBCgE6AUABMQFRAWUBPAEVAScBTgFfAVABSgFuAVUBVQFnAUsBQAF2AXEB/gDOAL8AqwCbAJMAmwBwAE4AYgBjAFQAQAA6ADcALwBnAI8AbABfAF8AQQAiADwARgApADEAYQCnAPsA+AAQATkBFAEDAQ8BMQFTAYkBmAFSAe0A3wDMAIAAhgCaAHkAPgAOABMA1v/E/wEALAAAAL//9f/5/9//0P+z/6z/k/86/+/+7/66/nz+ff4Z/tL9xP18/VD9UP1r/V39af1w/WL9Rf0p/Wb9m/2g/bb9zf2q/cD9Bf4p/lX+j/6+/sn+2f4J/yX/PP94/8b/KgBsAJEA1QDpAPkAGgE0AUYBVAGSAYQBYAFAARQBDgEmASMB7wCXAGUAdgBtAGYAQABGAEIA9//G/7D/a/9N/0f/FP/3/qj+qP64/tL+G/8Z/xf/BP8a/3H/n//V/xkAagCKAI0AhwBYALkAEQFFAT0BWwGhAWcBSgFEAZIBtAG1Ac8BCQI3Aj4CMwLyASYCdgKDAloCPwJOAmMCTwIPAgQC1QGvAX0BSgFTARwB6ACzAH0AcABDAAwADQAqAB8A9//H/9T/9v/x/8f/mv+W/5P/l/9+/3r/WP9C/0f/If8J/9X+9v4E/+r++f7u/tn+v/7B/tj+9f7t/tr+xf6a/pb+zP7S/qn+kP5h/hr+HP5g/nP+bP53/oL+av54/pf+nf6Z/qD+wf7C/rX+zf7Y/sn+1/4Q/0r/LP/9/v7+LP85/0P/aP9e/2T/b/90/0z/c//2/zAADgAGAAAA9f8PAC4AMAACABsAXQB1AHgAlQCUAJEAsgD3ABgBLQEmASwBSgEoAR4BEQESAfUAzQDJALIAjQDBAAgB+wCfAIMAnQCTAK4AxQCnAEwATABzAIMAdgCMAIYAWgBuAHwAXABMAHcAnQC9AJkAgwBcADwATwCEAJgAaQBtAJ0AoACTAMoA1ADHANgA7QDcAAQBUQFaAWEBiQGIAWMBbwGeAe4BIQIDAuYB4wG/AZwBoAGWAVQBJQHwALYARAD8/wkA4v+r/6j/rv+d/47/Wf9H/3T/iv+J/4//av8+/wf/3/6K/nT+q/6r/nj+NP4u/vv9/f0A/t392P3F/cj9sP20/dD9tf3T/f392P32/R3+J/5b/mn+ev5+/or+x/4A/yj/Ov86/0v/a/9o/4P/tP/G/9H/0P+w/4P/Wf9B/13/jP+k/6//qv+a/6X/tv/Z/+j/7v8kACgALgBfAH0AewCJAI4AUQARAPP/DgAYAOD///9CAEUALAD2//P/BwBFAFQALgBZAHYAdACHALMAwwDUANwA3gAYAU0BZwFUAVABkQGpAZEBagFPAVABXAFrAVwBUQFXAZcBmgFgAZ0BogGPAZIBYQE6ASIBCAHaANUAtABmADgAIAAjACcAGQAQAAwAJwA2ADsANQAnAFIAkgCYAHoAmADsABgB8wDPAPEA9wDXANkA4ADWANEAwACVAJkApAB/AFgAZABZADYAMAAlAPb/oP9+/1X/Hv/p/o3+if6h/kX+9/3Q/an9rv3E/dP9y/0E/hb+Ef4w/gH+Af72/fr9Kf4u/jj+Av7N/cr9xP3g/Qv+Pv5W/lz+d/55/ov+vP78/hv/Kf95/6z/r/+6/9//9//6/xUAKwBJACsABwD4/+X/GQBDAFYAawBaAGoAiQCFAKIAxwDUAOYAGQEKASIBWgEyAe4A3wBBAVIBJwFSAaEBlwFDATQBXQFYATkBTwE2AesA8gBMATgB9gADAfQA6gACASgBLAEUAQAB9wDvANgA6gD0AMMArgCyALsAawA+AGMAIgAVAAkA2P+d/4P/tf+5/6j/oP+2/8b/v//j/xsAHwAjAEcAUwA8ADwAWQBbAIQArgCrAJ0ApgC4AHEAFgAAABoASwBXAFkAOgAHAPv/7v/y/wQAFQAnAAoA0v+d/8b/4P+q/7H/r/+q/8P/2P/A/6f/c/9u/3L/V/9T/y7/LP9L/z7/SP9S/yv/QP9W/1b/Sv9P/yf/Lv9p/1P/ZP9N/yb/HP/a/pX+Xf6J/qL+g/57/kv+Qv5B/jH+PP5h/oP+ff50/oT+qf7Z/sz+vv7e/s7+9v4l/z//Z/9z/3z/dv9P/2D/lv+U/67/6f8WAC0ASwBBAD4ARwBcAIEAlgCvAJMAugADAQIB8AD1ABIBTgGQAbkB4wEEAg8CFQIJAvIB/QEtAmECUgJDAlcCaAJlAlECNgJVAlAC1gGRAX0BVQEnAQEB4QCqAGAATgAWAOj/9//2/9r/yv8GABcA8//U/9X/of9w/1//OP88/zT/SP9G/0X/RP9S/3n/ff+V/5D/n/+0/97/4v/J/9P/7/8CANz/6/8xABsA9//Y/9D/AAAmAEIAMgAkAAsA7f/V/xEAUwBdADUA8/8DAA0Avv+f/5j/df98/3//jP+G/3n/ff+x/4b/d/+6/5z/Yv9K/0T/Pf8u//v+t/6D/n3+hv6r/qz+qv75/vD+iP57/rD+yP7K/vL+H/8T/xf/RP8//xD/RP+q/5P/g//B/8r/p/+o/9j/sv+O/5L/0f8CAOn/AQA2ADEACQD7/+3/2v/j/w0A9P+6/8H/3P/f//7/NQB0AHgAfwCfAH0AggCZAL8AqQCOALUAwgCcAJ0A2QDtALgAmQC+ALEAtADCALMAZABnALEAswC/AOEA7wDOAMMAvQDGAMAAxAChAJIAmACbAJ8AbABzAJ0AuwC6AOUAHAE5ATkBVQF/AbYB0QEDAkMCMwIWAukBtgGGAZQBfAEvAfcA1gC5AJgARgASABwA5P+3/5//gf9S/yn/C//z/gr/N/87/+b+zf4V/xb/0f6z/rX+sP6y/rP+o/6m/pf+oP6n/oP+mP62/uf+AP8L/0L/S/9D/0n/Wv+j//3/HAALABEA9//X/5//Zf+N/6z/xf+y/5X/pP+g/17/E/8Q/yH/Vv95/1z/Rf9Y/1D/GP/W/rr+0/7c/sH+v/7G/rj+1f71/gj/HP9D/3P/gv+M/6v/vf/G/6f/nv+y/8D/6f/a/9L/1//N/9L/5/8MAD0ASwBPAHwApwDmACIBcAG6AcIB8QESAi4CVgJCAgsCzgHCAbcBjAFeAUUBLAH4ANkA8gAGAfIA8wDkAMwA8AAmATABEQHZAM0A4ADYAMcAmQCeAI8AcAB2AHMAbAA3ACEA8v/Z/wQADAAMABUAPwBJAFkAjwBrAGUAeABmADsACQAVAA4ADwAcAB4A8v/N/9f/0f/D/6j/uP/A/7v/pv94/0r/S/9f/1j/Xv9K/2H/UP8z/zj/VP9z/5b/x/+s/6//ff+X/+r/6v/3/9r/w/+K/zn/LP9E/1//UP8y/wj/5f7j/vf++/7T/r7+r/6H/kT+XP6w/s7+5/4G//b+zf7//jn/Lf8//27/ef9I/1v/o/+S/4f/mf+w/7z/yv/t/wMAEwARABgALAAsAFkAXQBMAEgAdwCoAJUAnACyAN0AzQDzABoB6wCmAHMAVwBDAFYAZQBAABEA7v/Y/9P/wP/R/ykAdABWAGQAmgCiAMUA2wCmAD8APwBvAE8AIQArAFUAKAACAPP/4v/m//D//v/q/yMAdACUALsA3gAYATIBSQFfAV0BaAGNAaUBmwGaAZYBmAGfAZ4BmQGoAYQBfQF3AUsBIwEdAR0B7ACvAIYAdQAmAC0APQAaAO7/uP+b/1v/Ev/H/sj+y/6+/tH+xf7M/p/+ff6J/or+sv6v/rj+tf7E/ub+z/7j/vr+J/9C/zv/Q/8o/zT/Of8b/xT/K/9v/6T/k/+A/3z/Z/9T/1z/h/+I/4j/gv+E/6r/1v/p/+L/7P/W/9L/6P+2/43/h/9o/2v/Xv9f/2n/cv+J/7D/yP+v/83/uP+H/6j/l/95/5X/ov+Y/3D/hf9Y/yr/Yf+V/73/j/9m/4v/sP+g/8f/CABIAFgAdwCdAKEAkQBxAJ4AjgB2AKYAuwCzAMoAtQDXACcBQAFFATwBdgGRAYwBbAGQAZ8BnQG2AYwBqAG7AaABYAFFAUcBOwEpAREBAQHjAM0AnQCMAIsAkACHAGkAjABzAFcAVgAdAPH/rv+8/9n/o/+L/33/Zf+H/4b/Nf8R/zL/cP9D/xT/J/8w/zb/Tf+N/8P/8/9FAHUAbwCTAIEAZwB0AJkAswCYAIIAbABtAHMAQgAVABoAHgA+ADwALAAjAM//n/+s/73/4v/p/9z/AgDc/8f/wf+c/5v/X/85/w7/Lv8b/7/+oP6P/iv+yP2l/bf9y/0F/m7+Zf5t/mv+nP66/sD+5P4L/yz/OP9p/0v/Jf8t/xT/FP83/1T/Uf9h/3D/av+B/5H/lP+0/9b/9/81AGEARwBUAJUAoACMAHoAkgCGAF0AXABjACcAUgDAAOQAyQCkAL8AqgCEAJ8A0wDSANAA8QAPAfkA7gAEAQgB2QDrAD0BOQE7AUEB/QDaAOIA1ADIAJwAfACgAJgAZABhAFQARwBIAEAAPgBiAJUA4QD7AOAA8wAfASABEwFtAZcBfgGGAV4BAwHnAN0AvQByAGIAWwAeAAMA8P8IAOv/3//z/8//7/8eAPj/0//N/6//sf/R/9P/x/+y/27/TP9R/07/XP+P/8P/uf98/0//XP88/zH/SP9L/w7/9/4p/yT/F//1/sX+n/6x/vT+Jf8g/yX/Wv9+/3j/if+F/3//lv+T/4//pv+X/1T/Xf9W/zn/F/8j/zH/Df8k/0b/Wv9L/z3/Rv9L/3D/qv+w/8r/8P/c/7H/wv/g/9L/3P/c/7n/q/+n/4T/aP9M/1//iP+P/67/l/+U/6v/nf/R/9r/3v/K/8T/9P/4/z4AeAB4AIMArwDMANYA3gD0ABABKwE4AUUBQgFFAVwBUwFAAS8BIAHkAAIBMAElAfsA1wAAASYBHQE1AWABZQFgATcB+wDCAJwAcwBCACoAPwAzAAUA+v8qACcA5f/X/7r/xv/2//X/9f8JACMAMgArAP3//f8ZAB8AGwAcADIALwAkAC4ALwA2AGcAWwBcAH0AewBsAI0AvwCpAMsAxgCGAFcAVABJAA8A4P/R/8n/qf+q/6n/av8q/yL/If8b/yD/OP8a/+H+yf6Z/nj+TP4O/vX9G/5K/lv+Wv45/ir+R/5O/j7+c/6m/rb++P4l/zP/LP82/zL/Hf9Y/3z/kP+u/6P/c/9y/7P/9v8XAFcAnQDUAPsAFgExARABIQEsATsBOgHqANQA0ACzALYAsQDEAL8AlgByAHAAewBXADgAAADn/9P/wv+O/07/Tv9N/zL/K/88/zD/M/9c/3n/b/9m/5v/1P++/+X/MwAhAOz/KgBvAEUAEAAXADEALQA3AFkAiwCQAKkAvQDrABUBVQGeAbQB/gF0ApACXQKcApACHgLvAR8CWAI0AgYC4gG2AaYBkAGHAW8BNwEaAQUB6AC3AK4AigBhAC0AAAALAOf/wv+B/2j/X/95/2r/Iv/s/tn+5/6p/qv+r/6t/sD+2v7c/tX+3f7Z/rn+jf6G/pj+m/6J/r/+k/5e/p7+rf6o/t7+D/8s/0b/XP9+/2b/QP8v/y//S/9M/xn/yv7v/hj/A/8v/zz/Yv+v/8//0f/8/zYATQBEAFIAaABVADUAFgD8/9P/1//c/6P/Sf9l/2//OP8f/yb/Tf83/zT/U/9Z/1P/Yv9f/2P/Zf8e/+n+Av8F/wj/E/8S/yv/X/9x/2n/mf/M/yYAbwCoACIBdgGhAeQBFwI2AjsCEQIMAgYCKgIjAssBxQHgAdABlAF4AXIBaAF/AYQBZQFAASYBLgEiASUB7QCyAJ0ASQAvADQARQBZADoA9f/I/+v/0P/L/wgA9//e/+v/AwDv/8f/w//L/+T/2P+7/wUAUgBCABwASABtAJoAwgC9APgAFQE7AVkBVgFWATYBCwEVAQ4BPwEPAYoAbABcAGEAOwA2AEMAMAAAANz/pv+T/5b/d/8s/7r+mf6o/pn+X/46/h3+2/3N/eL9yP3s/f39EP4Q/iL+Q/74/cv9rv3v/QH+Gf5i/lf+P/4+/o/+yf63/qb+4f4o/1n/d/+R/4r/sP+0/5r/n/+A/6b/p/+m/7//xv/X/9T/4f8EAAAADwAhAE8AdABrAH4AhACTAK0ApwByAHYAdgBxAIIAmQC2AJQApQDDAM0A2QDwAC4BMAFTAXgBdwFKATEBNQH1AN8A4wDcAMwAoQBjAIAAjgBeAFUAbwAzAAoAPwBOAC0AJQBlAFoARwBaAHIAWwBpAH0AXABiAJsAvwCxANsAOwGVAYwBbAGRAacBmwHOAbgBrAHNAbwBtwFaARwBHwHoAKEAgwCDAG0ATgAXABYASwAzAE0AfQCfALIAqQCdAHwATQAFAOT/5v+k/wj/wf6x/nz+Yf5Z/jj+DP4K/hf+LP5m/on+ff5n/nD+u/7//tz+7v79/t/+3f7F/qn+mP64/s/+pv5t/on+nf6T/nv+j/6W/p/+4f4M/xz/Cv9E/4X/jv+o/57/pP/0/ygALQARABEAKgAfABoANAASAM7/nP+a/4f/Pf84/xf/8v74/vn+Hf8E/8z+6/4F/xn/O/9N/1j/hP+o/7f/5v/Z/9b/0P9//43/4/8EAOz/2P/6/wcAHQByAKEAqwADAWsBiAGDAZ8BsAGsAdgBHAI5AkUCLwJZAnQCUgJrAooCgwJmAmgCKgImAioC+AHwAQwCMQIlAhsC+QGeAWQBUAFXAXwBgwFbASQBCAHrAPQAzwB6ADwASwCCAGoAOgD3/9T/6P+x/37/bv9u/23/PP8J/9T+3f7l/vf+Bv8D/x3/9P7q/vn+4v7Q/s3+4v7Q/qv+jP6e/pr+ef6a/rD+u/7D/uf+9v4d/1n/W/9r/4//kf9s/4b/lf+x/+b/z/+k/3L/Yf9M/0T/X/85/zL/av9y/2n/b/+I/6n/qf+4/8j/wP+d/5j/mP9h/0P/KP/9/v3+Hv/3/p/+a/6X/pX+ff6q/qb+jv6R/q/+xf6x/qH+q/6g/sL+8f4g/wf/7v4t/0r/cP+w/wQAMwASADIAcwBkAIwAtwDOAMAA3ABXAWsBYwGAAaQBpQG5ARsCRAIgAhQCHgIYAg8CFgIVAhwCLQI3AkkCLgL9Ae4BxwF4AVQBSgFaAVQBTAFlAWkBYAFaAVsBLwEiAVIBbAE8ARsB6QDBAMcAqgBaACMAKgA5AA4AzP/X/7v/t//a/wAAKwBDACAA+//t//j/8f8JABkA8/8NACIASgAdANn/DAA/ADQAPAAeAPP/2//y/9z/k/+r/77/rf9b/wn/3v7D/rn+wP7F/uX+3P7U/tb+nP5y/kb+Jv4I/gz+E/7s/br9u/3D/a79bv19/Yj9b/1//V39PP1Q/Yv9sv3M/ff9SP5y/r7+6/4s/2D/ff+t/9D//P8wAEQA8P/p/+j/3P/v/wAA8v/v/wMANgBQAG0AigCCAIgAYwBWAHIAtQDeAAcBJAERARABJQFPAXgBjgFoAS0BFAEEAQEBAAEaAQEBoABwAKsAAgH1AOkA9gAEAT4BRAElASMBHAEDAeoAAgEgASYB4QB+AGsAbQB9AFUAXgCoAKgAuwC7ALsApgCkANMAzwCqAMsA/wAZAScBQwF8AX4BjAF8AYgBfgFtAX0BXAEbAe0A1QDDAMoA3wAOATMBXwFsAYIBawFKAUkBUgF6AV0BGQG4AHMAGwDE/63/YP9D/0n/Gv8B/9/+sv6Z/lP+B/63/Y79pv2A/Uj9Yv2S/aj9if1F/SL9If1K/X39b/05/UX9af1Y/Rj9Jf1X/X79u/3q/ev90P0a/pH+2f7j/vn+Mv9H/23/ov/B/6X/jP+9//D/JwBVAF0AYACDANAAywCBAIMAewCBALcA1gC+AGwALAA9AEcAKwAfAEwAcgBDADgAKQAkADEAIgA+AEQAKAA+ACYA4P+9/+f/5f/u/0MATwA/AF4AnwC6AKEA0AA5ARIB+wAhASUB4ADUACoBTwFhAYoBogFbAVUBgQHLAecBxAHWAcsB5gH9AfIB+AEaAkACCgLeAc0B5wEHAuEB2wHIAZwBnAGOAW4BPgEeARkB3QDOAM8A3wC4ACkA+f8RAPT/wv+j/4P/cv9k/1j/P/8c/yn/Nf8F/y7/XP+E/6H/jP+A/2n/cv9n/zz/FP8N//T+3/7R/tH+v/6d/pH+lv57/nz+k/6f/r7+0/4I//z+4v7L/rj+8/7j/qz+rf6E/nz+Yf5M/vv97f04/lf+bf74/az9wf3m/Rj+N/46/nP+pv7U/vH+Bv8o/0n/Tv84/2r/f/+A/3T/Xv+Z/5T/e/+d/5r/mP+Q/6X/vv+2/8D/yv+q/5j/n/8GAFoAcwCyAMAA6gAcAU8BcQGbAekBLAJLAjsCGAIEAuYB0gG1AZkBywH7Ae8BxwH8AS0CHwIHAv4BIwI9AgsCxAGlAboBrAGIAacBewFXASAB2gCbAIUAoQCZAIEAYAB1AHEAMgAJAPf/4P/D/7X/5f8HAAEA7v8LAAAAEQArABAAHgANAN7/4f/0/+7/EwA7AEoAOAAxAEoARwAcAE0AcwB4AE4AMwB8AJAAewBkAHEAewB6AFEAIwA6AC8ADwAHANP/o/9W/w3/9P4A/wP/vP6W/lj+JP4R/gv+Av7c/fb9LP4o/uT9iv2P/bL9kf2M/a/9wv2W/cH9wP29/e/9F/4//if+Y/7d/tn+x/7l/tf+u/7J/hH/Ev9B/2P/uf/b/+f/4f/s/w8ACAA4ABkAMQBGAGwAQQA4AGkAdgB8AGkAbAB7AG4AegCQAJ0AxQDMAMMAhACZAOgACQHsAPEA/wDnAPAAMgFWATIBIQENAegAvgDGAPMA8ADQAPIA+wDbAMoA5QAUAcYArwDSAM0AuADbABEB+ADUAPIAEwEPAWkBpgGlAaABxwH1ASACJwJLApcCpwKxAsICsAKhAogCbgJ2AmUCeAI5Au0BtAGNAXkBDwHKALgAkACOAF4AAACi/1j/Of/g/qP+rv7B/oz+U/4Z/vf9Bf74/dr9vf2x/an9rP2U/Y79lf2A/W/9bv22/eL93f3L/c799P0I/ir+OP5i/sz+7/4I/xX/9P5P/3L/Z/84/xn/P/8b//n++f4L/+P+x/67/rL+0/4j/03/KP9C/0//Q/96/33/j/+g/4f/sf/J/5T/gf+Q/3v/ff9h/0//Wv9N/0f/R/9a/4T/if+t/5H/XP9o/1n/TP9F/63/JAAyADUAVQB7AIcAuQDSALcACwFYAV8BcQGiAb8BrgG2AcIBvQG+Ad4B3QG/AeQB+wHcAd0B+QEkAhwC7AHkAd4B4AEKAjICCQLVAecBAQLUAZEBjAGhAZ4BiQFrAS8B9gAKAfQAmQCZALgAzQDqAMYApQC2ALMAeQBKADwARwBEAA4A4v+u/5T/dP8//zb/gP+w/5z/bv8n/yb/F//5/gT/3/4F/0z/Nf8P/+j+H/8k///+JP9B/1T/Kf8y/yv/B/8u/y3//P7Q/uP+6P7y/vX+4/4T/y7/Jv/7/u3+C/8u/2D/Xf9h/1H/+P69/q7+qP6r/rf+r/6W/lr+Pf41/gv++f0G/iv+Nv4f/h3+Ov5v/p3+rf7Y/u3+A/82/zT/+f4N/0X/Gf8h/2f/gf+B/5P/of+l/5f/wv8IAPb/HABtAKwA2gAKATYBHAFLAZkBzwHDAckBCAL6AfwB8wHmAQ8CGwICAvkBzQHCAcYBlwF/AYMBtQHHAXQBXAFqAT4BFQENATcBOwEsARkBAAHjABYBOQH7AM4AxwDjAPAAEQE1AV4BbQFnAT0BGwE4AV0BRAEkATEBMQExARIBBwHtAMgAugCfAIEAoACpAKkAhABPAFYAQABXAEAAQAAYAMj/rP+1/9//k/9o/4//l/+R/4//w/8AAND/v//b/9f/tf+m/3z/H/8w/0P/Cv/O/rb+uP5q/gP+5P3B/az9vP3A/br9iv1O/RP9E/1L/Xn9jv2H/YL9bv1m/aX9u/2b/a79xv0B/uv9x/3E/c39Ev4z/kL+Uf6I/sP+F/9X/2j/ZP95/9j/EwBcALkApQBtAG0ATQBDAFMARQB0AIIAZwB9AHgAUgBoAHYAXABjAJIAwwDaANkAAwE8ARsBJAFIAT4BTwF9AaABqwGEAXsBfAFkAXIBggFrAXcBwAGvAY8BhgGpAa4BeQFvAXABfQFnARoB+gAmAT8BNQEgAe8A4QD6ANAArwDBAMAAvgCzAJ8AuAD+APsA8ADhAM8A7AD9ACkBUQFlAV0BLwH2AOgA6gAdAWEBhwFpAVwBVwEbARABOgFkAVIBRQEjAfsA7gCsAEcAPgA0ADsAGgDE/4b/S/8i/wb/v/6g/rP+dv5d/nX+cf4k/gv+2v14/Ur9Pv04/TP9E/3l/Mv8n/x8/Ib8ZPxl/NP89vzt/A39S/1p/Wv9kf3n/Qj+Gf5N/rn+4v7i/kr/g/92/6f///8JAB8AUQByAHwAWwBaAHYAlgDfAN4AtgCaAMoA6QCRAHwAsQDJAJ8AjgCIAEYAEwANAPb/u/+d/7z/uv91/zj/RP9Z/4b/2//9/+v/zv8UAIgAjgCoANEA8wDzAAMBbgFqAWwBcAFqAWoBeAHiAeMBsgGyAcYBxgGWAbcB2gHwAf8B9wH+Ab8B6gEdAgIC7gH2AS4COgIkAgECAwLaAcIBywG+Ac4B8wHwAb4BwgHGAWcBJgEDAdsAzACnAIQAIwC7/4b/pf+d/z7/Ev8P//b+xP6x/qX+s/6G/lv+fv52/n/+pf6c/qH+h/6F/pn+dP6Z/rz+s/6m/qv+lv6T/s3+9v4f/zH/Kv8W//H+6/4M/yP/UP9e/0P/Kv8l/1b/S/8a/w//D/8e//H+i/5g/lL+Sv43/g7+/P35/R3+Jv4J/gT+I/4v/hb+F/5L/mH+e/6c/rP+xf6//vT+FP8f/0H/f/+o/6D/iP+p//n/IAAgAPT/FABoAHoAbwBuAGgAqgC7AKAAtwDNAPsAEAEgASgBRAFpAZcBlQGHAdUBFwIHAgACNwJcAkACJwI2AkoCaAJTAgoC7gHeAfUBDgLlAeUB9QHzAdcBogF3AW8BYgFZATsBFwEqAUEBIQHEAJUAoACYAIUAYgALAOv/EQA9ABMA9P8LACQAIAAAAAUA3f/k/+j/3f/M/63/+/8wAEQALAD4//7/+P8EACoARwCQAJsAWgBOAFYAeABpAC4AQwBhAEEALgA/ACUABwD1/+H/4v/4/93/q/+X/5v/bv8k/9n+mv55/lr+X/4a/u79tv19/YD9Z/1H/TT9WP2H/X79UP1l/VH9Kf1Z/YL9ov2//ej96/27/ar9zv34/bX9yf0S/if+RP52/pr+nv7f/gH/HP8u/4H/3f/2/wMALQBkAIgAlQChAMYA4gABAegAxwCjAMUACAH1APEAEQEoAUcBQAEnAQ0BFgFfAWoBZgGZAaQBqQGNAS0BQAFhAXgBbQFCAUMBawGDAVEBXgGRAYkBZQFTAUYBUwFIAToBNQElAUgBZQFnAXkBWQE9AVEBQgEjAVgBxwHQAbAByQHFAbQB1wH6AdABmgHHAbcBnQG0AaQBqgGiAZIBhQFdAWoBhwFhAUUBBgHNAMsAlgBEABEAHAAbAOL/uf+i/5D/bv8r//L+5f7P/s/+sf5u/kv+Gf4V/gj+/v0M/t39qv19/Tz9PP1e/Wb9Vf1c/Vf9Of0c/Sj9bf1+/V/9Vf1r/U/9Nf1L/UT9Nv1t/a39vf3N/QL+Ef72/f79CP4k/kX+mf7V/un+Av89/47/qv/X//T/GAAkAF0AfgBzAI0AvwDvAJAAmgDUAO4A0AC4AP0A9ADeALwAowCaAJgAwQCrAHkAUwBAAE8APAA3ADQAGgAQAGoApQCcAKsAwQDLAM8A+ABDAV8BQgFXAWwBdwF6AXwBfwGPAYkBZwFMAUABggG4AbQBzAHvAfYBDQIWAgkCLgJLAlYCXQI0AhoCDQLZAbUBtAGjAYUBaQE2ASMBJwEbAfwAnwB5AIoAkwB/AFYAeQBqAD0ATQA/AA0Azf+8/8r/vv+Q/3z/Y/9A/0L/V/+H/3n/bv9b/yv/Bv8Z/1P/UP9J/03/NP8b/xL/Fv9Q/1j/V/9n/0j/Df/6/tr+lf6M/mX+SP5M/nH+dv5P/h/+Cf79/br9uv2n/Zj9wf3V/eT9yv2//f79Df4b/kj+Xv5w/oX+xf7q/tP+xP76/jv/I/8F/0L/af85/13/kP+Q/6n/lv+a/47/sf8HACgAQwBJAGEAegBXAG0AoACdALEA6ADKAHUAegCNAIwAXwBSAE8ATQB1AJwAugCtAN0ATQFnAUgBWAGHAX8BmgHLAbUBygHTAbkBqAHGAcsBzwHfAdgB8QHMAYcBYwFEAToBOgEpARUB8ADlAAoBHAH2AAABHgEVAf4A9AAsAQIB2wAaAVUBLAH1AA4B8ADtADYBdgF+AXEBQwELASkBRAEYAfQA6wDoAMQAkgBxAE0AJADv/8j/uf/K/6r/eP9Y/07/UP85/z7/O//+/u/+6P6v/rb+xv7J/pb+T/4h/hf+Ev4M/un9uf2w/cT9xf10/VX9cf2L/WX9gP2y/eD9Bv71/fH91P26/fv9Nv5S/n7+hv6h/rT+x/7T/uL++/4z/0H/Yf+k/8T/yv+w/67/sP+f/6b/yP8PAEAANAAxAA4ADAAPAB0AFwAhAEwAXgBQAB8AGAAnACoALAAcAAQABgAiADoA///f//r/DQAiAF4AkACdAG8AYgCEAKEA5wAVATIBKgGHAewB4QHKAdsB3QHAAdABwQG3Ac8B7AHvAbUBqQH9AQYCAQIJAgAC6wEBAiMCIgJFAjYCGwLiAZoBbQF0AVIBBgEJARsBCAEZAQMBzADbAOkA2ACQAGAAXwBkAHEAVABIAFkAEADr/wgA+v/H//v/JADc/5H/Zf9y/2L/Mf8m/0T/aP92/zX/Ev8O//3+D/8G/xH/Yf9e/xj/F/8J//f+1/6m/qL+qP6C/m3+Tf4J/gX+Hv4A/rT9xv0Y/j/+Q/45/kb+Sf4j/iL+N/4j/jT+c/6E/mr+av5o/lP+YP50/m/+ff7N/gT/Df/q/gr/L/8S/yX/Pv9u/1//Sf+C/37/av+N/6r/r/+W/8v/6v/R/9f/9P8gABsAKAA8ABgAMABdAI8AmQB/ALUAzQCKAHgAwADTANIA3gD0AM4A8AA3AT8BNwFeAYkBiQGfAdYBFwIwAlgCUwIQAvQBOgJQAlUCRgIzAhEC3AGaAZABggE5ARoBAwH+ANEAvACgAJYAmACtANkAsQCuAPYADQEfASUBNQE2ASEBYgF4AVgBZgGCAZIBrQGzAYQBeAFYARwBPgE0ASYB9gCSAHsAZwBzAFEA8f/G/5D/W/8u//X+2P7b/tj+v/6z/or+aP6C/pr+Sf4S/hr+Ef5F/kb+RP5k/mf+UP5e/nD+WP5V/j7+T/5t/nf+Rf4X/iX+Pv5B/lT+iv6x/uv+/f70/t3+wP7d/u7+t/6u/sH+qP7B/q7+ev52/m7+oP6s/nX+RP5m/rH+vf7N/s7+lf5e/m3+gf6Q/r7+9v7Y/pn+2/5I/z3/K/9V/2f/bf93/3//n//l/z0AUwBGAFMAggCvAKQA2QA5AXgBogHwASUCPQJjApsCuQK0AtUC/wL7As0C+QI2AyEDAQMHA/0C4QLXAsYCWgIfAiAC6QHKAZUBpwGmAVQBFwHhAKQAhwB8AG8AeQCCALwApwBNADYAiACNAEQAVABRAB4AEwAfABwAIwAcADYASABaAGcAfACNALAAyACfAMEACQE1AfkAmQBzAE8AKwAFAO//BAAIAAMA9v/e/5v/k/+c/3T/d/9Y/0X/Hf8Q/+r+1P7U/pX+if5y/mT+T/5L/jr+J/4//hb+D/4b/hP+1v2m/Zz9wP33/fH9Hv4J/vv9C/5C/mT+Pf5X/lv+E/4X/j7+If4p/lH+Uv5n/o7+mv7O/gD/OP9L/2b/Yf9e/3//Sf80/23/pP/I/9H/AQAWAOT/DgBYAGwAVgBfAJ8AugCrALQA0ADCAMIA8wAAAe8A6wAIAe8AygDQAOYA4gDpAEIBTQFOAU0BRwEzASgBRQFlAYcBkAG6Aa0BfgGCAaEBpQGsAdUBswE4AQsBIAEhAQwBQwFrAR8B5AC2ALAAdQB0ALIAmwBuAHgAtgDbAOIA2QDwAAMB8gDyAOYAwgD6AEQBZgFiAXgBcQFYAXEBgwGvAasBvgGtAVsBOQEJAekACgHqAJMAVwBQAFMAHwDP/4j/aP9E/wn/2/6//rL+j/5M/iH+Cv71/db94/3o/bT9k/1z/Wj9Yv1W/V79Y/2F/Z/9wf2+/az92P3M/d39Af4X/iD+H/5K/kL+DP4m/lr+cv6h/sD+1v4R/1j/fv+c/5P/uf/9//D/1f/n/+n/1f/W//r/5v/A/+P/DQA9ABIA3/8BAOH/1/80AGYAWAARABAADQD4/wkABAD6/9j/3P/w/+n/7P8CAB4AIwAmAEYAiwDFAOIA6gDSAOQAHgFUAV0BogEVAh0C5gEIAjoCMQJDAnECbwIvAlgCoAKhAmgCSQJ3AmgCbQKfAlICAwLqAeMBtgF9AZYBjwF3AXYBVwEgAe8AsQCBAFIAKwALAAQA/f8AAA4A2v+a/6H/o/9//2r/ff+P/0v/OP9I/yn/Lf8r/yb/M/8g/xP/B//e/vH+I/8s/0P/Nv8c//H+Ev9G/1H/dv+E/4j/YP8+/1T/d/+T/5//dP9b/0j/N/9F/1f/OP8U/x//+v6+/tb+0v5w/lr+eP6H/nn+WP5y/nv+Yf50/q3+tf53/oT+fP5A/kL+TP5U/oD+m/6l/qv+kv6e/uD+9f4S/1//bf9j/1f/hf+9/87/xP/P/7//vP8BAAgAHwA4AEwATgBUAH4AqQChAJAAqAC6AL0AtgDJAOQAqACTAOMAvwCqAJ8AhgCUAMUA/wDVALYA5gD9AO4AAgEnAUYBbgG/Ae0B4wH4ASQCIwIJAuEB9wHqAbgBtwGNAWkBOQEtATUBSQFIAVMBTgEdAfcA6gD9AOYA5wBAAUUBAQH0ABIBDgH2AAYBCgH5ANEADQE8ARkBGAETAeAAxADHAO0AyACzAKEAPAC//3n/pf+B/3r/bP9U/07/P/8z/y7/PP9U/03/H//q/vH+HP8S//f+vf6t/pn+sf7A/pD+i/52/i/+JP4m/hb+HP7V/an9uP3+/TD+Lf4g/hD+HP4u/mn+f/5h/mT+Qf5B/oD+ef5Z/mz+rP6m/q3+0v65/rr+5P76/vD+AP8c/1L/e/89/1b/ef+X/+b/5v8QACoAKwAqAEYAcQBSAF8AnwChAJQAmgChALIAlwCbALcAsQDQAOMApAB8AJUAkgCCAJoAmQBwAFcAuwAWAfoA9wAEAe0AAgE8ATIBLgFIAUsBPgEOARkBQwFPAV4BTAFyAXsBUwFQAYMBfAFCAWUBmAGKAVoBcgF7AXYBuwG8AXoBYgFWAWEBVwFoAWIBJwEkAT4BTwEVAfkA+gDRAIIAYgBlAI0AsACTAFkA/v8MAEIAVgBRADAALAAdAOb//f/r/5z/c/+a/5X/W/9+/2v/QP8Q//j+5v7Q/uD+1f7D/nv+LP4U/gH+F/4r/jD+PP4R/vr9LP5V/j3+Kv4g/h3+Kv5K/mj+Uf5r/n/+b/50/p3+wf6m/r3+9v4F/wr/M/8+/zr/UP9H/1j/af9j/3D/af9Z/07/Wf9c/0f/eP+t/7z/0//Y/7f/y//z/xwA9f+7/+v/8f/u//H/AADw/7j/qv/Z/+7/DAATANr/xv/A/+f/HgASAPf/KQBYAD8AUQCUAIgAkQDjABEBJwEwAUsBcQFdAWEBdgGTAbgBwAHuAQUC8AHlAeABywHsAfIBxgGnAbABuAF4AWgBdgF6AVgBUgEvAeMAwADUAMsAmwCyAO8A+QDBAOUADwEXARYBIwEZASEBagFwASEB6gAAAfkA1gDUAPAA3wDJANYAxQB8AGwATwA2ADIA///7/+L/x/+z/3r/Tv8v/wH/8P4I/wb/5P7j/sf+hf54/pL+cv6S/r3+g/5U/iX+Cv4E/tf9rf2m/Z39ov22/QX+HP4y/jn+VP6W/pj+qf6Y/pz+vv7Q/tX+zv6y/s3+x/68/ur+2P6k/pn+xP7+/gf/Df8l/xn/FP9P/4j/af9m/5r/pf+d/7D/6////8j/9f8cAO3/KAB/AHQAbABjAHAAfABfAFUAUwBRAE0AZABSADEAPgBeAEoAWgDOABUB/QDuAO4AAwEjATMBSQE4AUsBaAGSAaEBowGlAaQBqwGNAaABoAGhAbwBgwFgAYQBgAGYAakBjwGsAakBfwFPAUUBOgERATkBUQFLAWkBnAF8ASsBCQELAfwAzADJANgA4gDiAOIAnABzAKsAlgBVACkAMAA9ABoA/v+z/4r/tP/F/7r/l/9w/1T/M/8z/zz/Uv9v/33/Qv8H//n+2/4E/yT/UP87/+3+1P7M/qz+oP6N/nj+mv63/sz+yP66/pT+lv6//vX+z/6h/p3+pf7Z/uj+2f67/sb+xP6W/nX+eP6W/qD+ef5l/j7+Bf4D/hj+Nf5q/pP+n/6u/qb+n/6r/tn++v4e/0//Tf9I/2H/Wv9f/4r/xv8BAAkACwAvAFMAWACDAKAAhwB0AGUAYgBxAJ0AvACOAHIAgwCPAJwAuQDjAO8A3QClAJUAmgCZAPYAVwFBAR4BPAFwAX4BZQGAAakBxAG/Aa4BnAF9AXYBhwGVAZgBqAGnAXwBZgFiAU8BKQEBAfwA1AC1AKIAjACHAIwAngCMAHcAjQDFANAA7QAhARoBGgEaAT4BUgFPAZsB2wHNAb8BwgGQAXIBXAEiAS8BKwH5AOAAmQBpADsAKgAcAM3/tP93/1X/a/9W/yv/+P7k/uv+7P7i/vz+7P7E/qz+dv5d/lf+Yv5L/hT+6P3R/b39sf2v/cT9xv3D/Qv+Iv4M/h/+O/4p/kb+kP60/qP+k/7A/uT+6/6w/rv+8/74/hD/+/7d/vH+7v7q/gv/EP8S/x7/Of9a/3X/qP/X/9b/9v8QAA8ADQAOAAoA2f/e/yIAKAAVACYAJQAgACIATwBZAEwAWQBtAJcAwgCrAHkAUAAWABcASABbADsATwCHAJAAhgCeAMwA2gDnAN4A7ABjAa0BvwHBAc4B4AHNAd0BAQLxAdwB/AHeAbgBzAHFAboBtAGlAZcBgwGWAZMBlAGTAYcBsAGaAXkBfwGHAYgBgAFyATMB9ADgAMAAdgBKAFYALwD6/9b/5f8CACIAUAAzAPj/zv/P/9T/t/+8/7j/fP9S/z7/M//r/oH+XP5y/mn+Y/5x/nr+YP5E/k3+Q/5R/m3+jP6Q/m3+Xv6T/sT+7P4f/zf/Rv9n/2T/Lv8B/xj/L//u/sb+6/4V/xr/GP8i/y//Kf9N/1X/FP/m/v7+Kv8X/+b+3/7g/sv+zP7k/vf+zv7P/vP+/v4E/w3/G//7/uT+Ef9Y/2f/if+y/6T/jf+6/+z/5P8EACgALwAbAB4AIgAUAOv/6P/x/wEAKwBJADoAGABaAIoAggB0AJwA7wAHAfEABwEpAU4BnQHKAZ4BgQHOAQYCsgF5AacBwgGdAbEB7gH3ARMCWQJ9AkkCGQJnAoQCYQJYAkICKgLiAcsBoAFqASkBGAG3AHIAdgB8AG8A8////yUAKAAAAP7/GgA9AE0ASgASABkATwBVAEcAAwDz/+r/2v+r/4T/Wv9c/2r/Yf9Z/13/Xf90/5j/n/+5/8H/l/+H/4n/dv92/z//Bf8P/xz/Nf80/wf/A//z/t3+2P4D/yn/WP9w/3f/bP9R/1v/Pv9W/0j/GP/1/u3+AP/w/sv+vf65/qP+mP5//lP+WP5X/lP+Y/5//qL+mP6m/qz+0P73/gD/3v7j/hj/3v7P/sv+2/4Z//H+6f4X/zP/PP8x/3L/sP+8/+b/OABzAJsA5wAYARYBAAH7APwABwENAQgB+gD2AN8AggBgAFkAXQB2AHMAqADFAOcAIgFIAYEBbgGGAbIBogG7AQICKQIRAv8B8wHQAYsBhgFyAU8BLQEVARUB6gDSAOsA+wDEAL8AvwDXAA4BAQH6AP8A6ADUALQAdQAvAAcA7P+y/5r/e/9v/5f/i/+H/4r/nP+m/3L/Zv90/5D/q//c/ygAEQDm/+T/5v8GAPr/GwBWAFQANQASACgAJgAlACUABwAZAEMASwBPADAACgAJACQAIgD5/9n/xv+5/5v/Y/9V/3j/ev9n/zr/IP8l/wb/zP7F/sv+vf66/qn+mv6a/nL+Rv5H/hf+8/3b/ar9pf2P/YX9rP3A/bX9lv1N/UX9nf3Z/Sr+cv6+/rv+vf5F/5f/sf/t/wkAEwA8AEUAZQBcAE8AigCdANcAHAHrAPAACQEQARcBKAGLAbIB8wEsAnMCkwI5Ah0CDQLxAb8BrAHKAbsBbwFRATUBLAE7AV8BOQHoAAEBKQFVATkBDwH9AAgB+wAOAf0AwACQAGMAMwDq/+//0f9+/zX/Hv8W/wb//P4e/zD/Sv+D/5f/jf+J/7//6v/q/wkAHwDb/9f/7v/y//H/IQB4AHwAfwCWAL4A6gAFAUoBagGCAbgBvgHPAc0B5wERAgoC0QGhAaABbAEAAdQAiwA6ABkAEADv/73/qf+l/8P/nf+N/6n/nf9z/3b/Wv8t/yb/Iv/y/p/+hv5u/kD+Pv4a/ur9wv1r/Wb9Zv1m/WX9Xf18/cP9FP5O/k7+Qf50/p/+u/7b/tn+t/66/tb+4P7J/qb+mf6z/r/+v/7e/hP/DP8b/0//WP9v/6P/4//v/xwAIgA2AGYAYQBpAFUATgBrAGIARgBBAF4AZgBIADoANABlAJIA0gDgAMcA+AA2AT0BHAFGAWABdgG1AZoBfAFqAUcBPgEgAQkBJQFvAWkBQgFhAXMBfwGbAYEBaAFuAVgBNgH7AOoA4ADlANQAjwCPAG4ANwBJAFMASAAUACEANQAPAPf/AAAJANr/vv/J////EQAGAA0AAQDs/xkAEwD8/xgATABPABwAQQBaAGMASABJAEgASwCJAKEAfABvAKMA0gDBAI0AogCpAK4AlQCNAIEAWABXAEQALQAuAB0ADAD5/9b/9v/W/7L/p/+m/6f/i/+B/2f/K//p/uj+1P6u/pb+gf5G/vz9Dv4T/hv+TP5m/kr+9/3//TT+P/4o/jT+Yv48/iP+Jv47/l7+e/6x/tP+qv6G/sX+4v7G/uT+MP9A/zD/Uf9D/zr/ef+v/7L/rf/9/4EAfgBEAG0AngCuALsA4gDmAOgA7wD2AAcB/QArAS8B9wAMATsBLAEBAQYBAgHDAJEArwDsAAoBAQECAe8A1QDwAPIA1gDRANoA4QC2AIQAmwCqAK0AsQDsAOwAuAC4AIMATgBTAFAASwBfAF0AUAAjAA4APQBbADcAJABbAIEAjQC4AOEA1gC7APoAQQErAR8BTAFsAX8BjwGOAWIBJQEiAR4BCwEIAR4BLQH1AKsAhgBcADcAQQA0APz/yf/Z/6n/Y/9U/2f/cf8T//7+DP8F/+3+0P7O/qn+j/6N/nX+Xf5M/jr+Ff4I/hD+A/4c/kj+R/4V/jf+ZP4z/in+av6o/q/+jP5o/lL+Sf5c/pn+sv6o/tH+E/8w/yj/G/81/2D/kf/O/+P/3v/u/x8AMQAwACQATQBrAHsAlgCcAKAAkwCvAN0A3AC8AM8A8gDvAKYAqQDEAJcAYwBDAB8AIAAqABYA8P/W/wEA4/+1/7D/1P/3/yUARQBeAHAAjgCyAKsAuwDCAPIAEgEBAewA5wDrAPEA/AAYAQEB0QD+ABQBFQEuAVUBXQFjAXoBTgEbAQYBNQFgASoBFgEyAQwB5wDEAL4AwQChAN0A6ADSAPAA2QDWALYAnACzAHEASQCEAHQATgBiAHEAaAAkABEACQD2/xMAOAAeALT/a/9i/0H/Ef8y/13/Vv9G/1v/ZP9H/xz/7/7i/s7+tv7h/t7+vP6w/p7+p/6W/q3+mv6U/tX+8f7c/tH+D/8b/8j+sv77/gf/7f7//hr/A////gb/0v6z/vj+Pv9W/1f/Wv9p/yn/GP8v/03/U/9S/2n/gv+N/6r/2//t/+D/0v8bABsA6/8IAEwAMQDw/9D/0//j//L/CgAHAAAAGQAnAAoAHwBHAG8AjwDYAP0AoQCMAMcA6wD8AN0A6AAPAQQB1gDWANQA4wAxAXEBaQE+AXcBhgFhAXsByAEXAk8CYQJoAqACtQKOAkUC6gEIAjcCBwLXAfEB/gGrAaIBbAFCAVIBYAGMAXoBNAEAARYBGwEAASsBRgExATcBQwFYAToBVgFoARwBDgEwAUkBUQFSATYBHAH7AKkAaQAuAB8AKQAHAOD/lv94/1r//v7Q/tn+qf6D/oT+S/4U/sv9of29/bH9n/2X/YH9Tf0i/RL9/vwP/db8mvx2/B78CPzn+7T7f/tP+0z7F/vu+tL6i/o8+hz6Gfr5+QT6Efr++cr50Pnk+aT5V/lb+Vr5EPnj+Pj40fit+Mf4uPi7+K743/go+Rb5+/gP+Sz5UvlD+Wz5jvmK+b/53fnX+Yv5jfnP+dr51fnn+dv57Pnt+eH54fkO+m/6j/qM+sf6Afsk+wv7BvsJ+/36KPsw+4P7t/sK/Pf7BPxY/MH8Ff0o/Wz9GP6I/uX++f7B/3EAwQCIAEAASAh8DxgQZA9dEjEbTyNIKi4vijPSOho+Fz50QmNKo081TOVDnT5gQHdFU0rETU9TM1xOZIhq5G6/cZ5x2W2DZmRcKlHaRZU5Ey0IIpUYsQ/+B1gBK/sC9ZvuqedQ3yXW9cyexG+9SLggtKmw2K0lq52oA6ejpf6jYKLcoISfMJ7dnWOdHpxLmg+YTpV2krmPGo3aiiCJB4i3h3WICYoSjOGOtZJ9lzWdtaMRq/GyKLtiw7LLftSH3V3mz+46987/kwe9DpAVvxuhIR8nCSxIMD40LTiXO5Y+SUGQQ1ZFkEbJR/FIpkkBSg5K1kmoSUBJg0ikR7NG4kXZRF5DBUL0QOU/pD41Pc47ajoUOco3ZjbmNDgzmjEYMHwu5SxNK9QpOyiZJvUk/yLtICEfSR3vGnUYIRbMEz8R8A6DDMIJUAfcBDwCpv8R/an6F/g+9e/yD/FJ723tX+uB6crnPOYN5evjr+LW4THho+BB4Pbfyd+E323fl9+137bft9/i3/Xf6d8r4Jzg8+BN4YbhyuFY4gDjmuMU5GHk7eSq5WDmFOfx5xjpCOr46t7r9exE7nfvpfAT8pTz/PRG9mj3pPgN+pn7yPzp/Rr/MgAPAeMByAKsA5QEJAXOBcEGagcGCJQI5whKCcoJXgqsCs4K6gofC24LmQvuC2AMlgzGDAAN+wwSDXwNsw2nDckN8g38DQAO8w35DeoN1w20DXANLg3mDIAMBwx3CwQLnQolCq0J+AiUCFMIvQc4B4IGkAUHBXsEzwMfA4wC9AE/AcYAGQB+//z+Qf6j/Qj9fPxG/A780vu8+4b7HvsK+wX7E/sz+1n7e/ux+9D7yvvr++L77vs7/F78T/x0/I/8svy8/LX80/zY/Mn8+/wC/a78qPyu/Kn80vwK/Ur9Uv01/Sj9Qf1a/Wr9pv3F/bf9w/3b/b79mv2+/cP9l/3O/Rr+H/4P/mH+g/5i/nP+ev6w/uL+Bf9I/3v/pf/M/9D/2/8cAGsAmgC7AN4A8wAYAR4B/wA3AUkBRQGNAacBrwHEAeAB6wHPAfwBOwIxAiwCOAJAAkUCMAI5AiACHQI7AlECVQIHAuQBzgGNAUgBVwFuAUgB6wC+AKMAUgAbAOv/s/9n/z3/KP8m/yD/EP/U/p7+af5J/jH+Kf56/o/+Zv5a/nX+U/48/lP+WP5O/mn+lP6c/r3+9f4C//z+7v4J/z7/Xv9Z/3H/nP+A/1r/cf+7/7P/rf/3/w0A1v+t/77/3/+9/8H/8v/t/87/1//4/xEAMAA0AP7/4v9DAHsAYQBVAGIAjgCvALQA1gDOALwAygC8AK8AlQDAANsArACRAIoAkABaAEkAeABtAEIAfQCkAHgAQQBBAHsAQwA/AF0AJAAQAGAAnwCyAIAAaQBwAGMAiACOAHYAUgCPAIMATwAnAP3/zP/c/wAAAADy/9n/x//G/7b/bf9j/0r/NP86/3L/Rv8c/zL/QP8q/xr/IP9e/5j/Zv9s/2D/Ov9A/zv/F//4/ub+5/63/pn+ff6W/sP+zv73/gb/5f7f/gH/HP8+/1//ff+O/6v/q/+k/6r/3/8vACsALgAfAMT/u//y/zsAfADFAAABKQE5AS4BYwH9AY8CxgL1AgcDHwPmAnkCHwKFARcBCQHsANoAGAFdAXcBwAHpAb0BpAFoAQ8BlwAVAKP/Mv+N/vv9j/07/dr8oPy0/O/8Of0u/Ur9b/2q/en9DP5A/n/+DP9j/5P//f8dAFQAtwAFAUIBKAFqAdEBAQI6AlACfQKEAmUCUgIkAgsC+gG1AWYBQgFcAU0B+QDKAKEAdgBlAFkASwATAAkALAAuAAEA6/80AB0Awf+p/8P/z//h/xkAOgCAAL4AsAC0AKsAqAD1AA0B+gAjAVQBJAHnAC4BWAFJATsBMgFRAVgBMQEHAfUA8wDlAOsA0gCCAFEAGgD8/+X/s/9k/zf/Ov8n//H+xv7Z/tT+tf6Z/qT+nf6D/nH+Yv5N/mP+cP46/j3+N/4u/v/9/f0w/g3+8v3Q/dj99f3y/Sr+Yf5+/nf+e/7G/gH/Ff8q/3L/of+z/+L/u/+1/wAARQAsAO7/FgASACAAMQA4ADgAHAAWAFEAgwB9AKQA0ADVAMAArwB9AGAAQgAuACwAGAADAO//yf+z/8D/vP+m/5r/x//C/57/r/+7/8v/AwApAAgA3//Q/wIAFgDe//b/PQBUAEoAWgBNAAgA1v+5/7b/rf+1//X/EQAjAFIAegBtAEQAhACrALQAFwFkAVwBcQHNAQIC5AG+Ad4BBgIQAjoCKwIAAvgB2AGsAZ8BqwGcAVoBIwEEAeYA9wDIAIoAUAAjAPP/w/+Z/23/Wv8k/wL/1/7X/uj+3v6+/qz+mf6S/qH+kf6T/pD+mP62/rf+tv6x/rP+Av8e/yH/MP8x/07/X/9a/0v/Yv+A/3n/gv+i/4v/T/8u/zn/O/82/yn/FP/t/uf+CP/5/vz+IP87/xD///4Y/x//Pf9G/zT/Zf++//7/IAA3AC4ANgBFADAAJwAzAFwAJgABAAUA4//B/9D/y/+X/2T/Tv+B/3H/M/8L/wP/8P7g/gD/Lf9L/4v/p//P/wQAKQBPABsAJwCQAOYA6QAaASMBHgFnAYYBggFgAZgBzQHIAcQB7wE+Aj4CAwLKAb8B0QHCAbABpQGcAccBpAGFAasB0AHYAYQBSgFQAS0B/QAAAdsAoACDAKcApwBSABAAHAAvAMH/tf/9/93/wP/M/9f/of+l/w0AFQDl/wAALgA6ACkAJwAiADIAWwBcADMAGgBFAE0ACwAMADsAFwD4/8//uv/O/8L/yf/l/9X/6P88ADYA4v/f/wIA5v+n/4f/j/8y///+J/8m/+7+tf6f/m3+Kv7x/Rb+TP4g/un92P3m/d39xP3v/Qb+L/5k/pz+2v6z/sv+9/4P/xT/IP9b/0v/bv96/3//qv/N/9r/tv/X/xMALwBLAGoAeABfAFEAdgBpADYAMAA1APX/rP+0/+X/yv+e/7L/s/+a/6v/p/9k/0n/oP/G/4P/ff+5/9r/vP/M//H/BgAVAEAAZQCPAKAApQC2AL8A+wAhAf8A3QDkAMgAwgC8ALsAvAC9ALYA7AALAeAA1gDeAM0AygAEASABQwGXAeoB9QHsAe8B/AHdAb0BtQG0AdkB+AHoAcABmAGBAVcBJAEIAe0AAQEKAfYA9QDtAKUAZgAtAAEA5v/u/9r/u//N/67/f/9N/zP/MP8x/+L+kf54/oL+mP6m/qL+ff5v/nn+Yv4w/jL+RP42/kr+jP6n/qH+y/4L/x7/Uv/F/x4ANAA/AHUAkgCPAJoAigBnAEMALgAGABQAVACLAMIAtQDIAPUAIQExAR4B9ACQAFIAQADz/5j/ef9t/zn/Dv8M/y3/B//M/rX+nv6r/oH+T/7s/af9x/2r/Xb9kv28/d790f3k/Qr+A/75/er9Lv5R/pH+3f4U/zP/Jv8x/zT/T/+A/7n/6v8iAFAAUABKAFoAfgCaAJAApQDVAPoAGwE1AVgBgAGxAegB2wG5AdcB2QHaAecBFQImAgIC/wEIAh4CBwLkAegB/QETAhkCCwLbAbkB9AEBAtQBzQHjAQACzQGKAYYBcAFxAYYBUQELAfkADAEKAfQA8QDxAK4AZQA3AA8A0/+x/7H/jv9T/w7/z/6Q/mH+Tv4m/gr+F/4w/jT+Lf5K/lH+Vf6H/rL+2f4Q/1L/n/+v/5D/jP+x/9L/9//8/xAAHwD8/wMAAgAAAAAAAQABAP//+//9/////P/4//7//v////7/+/8EAP7//f8AAP7//f/+//7//v/4//3/AAD+//z/+/8AAAEA/////wAAAAAAAPv//v/+/wAAAAD+//z//f////v//f8AAP3//v////7////9/wIAAwAAAAAAAgD///7/AgABAP7/AAAAAP///v/9/wAAAAD+////AAD+//z//f8EAAAA//8AAAAA////////+//8//7//v/8//7/AQABAAAAAAAAAP////8AAPz//f8AAAAAAAD+////\" type=\"audio/wav\" />\n",
              "                    Your browser does not support the audio element.\n",
              "                </audio>\n",
              "              "
            ],
            "text/plain": [
              "<IPython.lib.display.Audio object>"
            ]
          },
          "execution_count": 5,
          "metadata": {},
          "output_type": "execute_result"
        }
      ],
      "source": [
        "# show a row of our processed dataset and how they are encoded\n",
        "from IPython.display import Audio\n",
        "\n",
        "example = ds['train'][0]\n",
        "\n",
        "print(example[\"labels\"])\n",
        "print(example[\"input_values\"][0:10])\n",
        "\n",
        "print(tokenizer.decode(example[\"labels\"]))\n",
        "Audio(example[\"input_values\"], rate=16000)"
      ]
    },
    {
      "cell_type": "code",
      "execution_count": 6,
      "metadata": {
        "colab": {
          "base_uri": "https://localhost:8080/"
        },
        "id": "qzu7vtRy-VfX",
        "outputId": "57107690-7053-4d34-fcd5-317a06316978"
      },
      "outputs": [
        {
          "name": "stderr",
          "output_type": "stream",
          "text": [
            "/usr/local/lib/python3.10/dist-packages/transformers/models/wav2vec2/processing_wav2vec2.py:155: UserWarning: `as_target_processor` is deprecated and will be removed in v5 of Transformers. You can process your labels by using the argument `text` of the regular `__call__` method (either in the same call as your audio inputs, or in a separate call.\n",
            "  warnings.warn(\n"
          ]
        },
        {
          "data": {
            "text/plain": [
              "{'input_values': torch.Size([3, 103083]),\n",
              " 'attention_mask': torch.Size([3, 103083]),\n",
              " 'labels': torch.Size([3, 54])}"
            ]
          },
          "execution_count": 6,
          "metadata": {},
          "output_type": "execute_result"
        }
      ],
      "source": [
        "import torch\n",
        "from dataclasses import dataclass, field\n",
        "from typing import Any, Dict, List, Optional, Union\n",
        "\n",
        "@dataclass\n",
        "class DataCollatorCTCWithPadding:\n",
        "    processor: Wav2Vec2Processor\n",
        "    padding: Union[bool, str] = True\n",
        "    max_length: Optional[int] = None\n",
        "    max_length_labels: Optional[int] = None\n",
        "    pad_to_multiple_of: Optional[int] = None\n",
        "    pad_to_multiple_of_labels: Optional[int] = None\n",
        "\n",
        "    def __call__(self, features: List[Dict[str, Union[List[int], torch.Tensor]]]) -> Dict[str, torch.Tensor]:\n",
        "\n",
        "        input_features = [{\"input_values\": feature[\"input_values\"]} for feature in features]\n",
        "        label_features = [{\"input_ids\": feature[\"labels\"]} for feature in features]\n",
        "\n",
        "        batch = self.processor.pad(\n",
        "            input_features,\n",
        "            padding=self.padding,\n",
        "            max_length=self.max_length,\n",
        "            pad_to_multiple_of=self.pad_to_multiple_of,\n",
        "            return_tensors=\"pt\",\n",
        "        )\n",
        "        with self.processor.as_target_processor():\n",
        "            labels_batch = self.processor.pad(\n",
        "                label_features,\n",
        "                padding=self.padding,\n",
        "                max_length=self.max_length_labels,\n",
        "                pad_to_multiple_of=self.pad_to_multiple_of_labels,\n",
        "                return_tensors=\"pt\",\n",
        "            )\n",
        "\n",
        "        labels = labels_batch[\"input_ids\"].masked_fill(labels_batch.attention_mask.ne(1), -100)\n",
        "\n",
        "        batch[\"labels\"] = labels\n",
        "\n",
        "        return batch\n",
        "\n",
        "data_collator = DataCollatorCTCWithPadding(processor=processor, padding=True)\n",
        "\n",
        "# Data collator pads each of the voices and transcripts for them have a same size\n",
        "# lets see what collator does to some random rows:\n",
        "example_features = [\n",
        "    ds[\"train\"][0],\n",
        "    ds[\"train\"][1],\n",
        "    ds[\"train\"][20],\n",
        "]\n",
        "example_batch = data_collator(example_features)\n",
        "{k:v.shape for k,v in example_batch.items()}"
      ]
    },
    {
      "cell_type": "code",
      "execution_count": 7,
      "metadata": {
        "colab": {
          "base_uri": "https://localhost:8080/",
          "height": 246,
          "referenced_widgets": [
            "93eda4cb54534b218e33276d7e196d82",
            "6ae0d0e3313f4aa0864df2e783990614",
            "89e585cf118b4275b73fd2def0937797",
            "375cb6aef68b419b94e0d9fd7d48047e",
            "da0c73d12dd94074887d79e280d5788a",
            "6a64461d04f141118872626f9a4bb037",
            "6a503bf3bdf5470ebf9a33f5bc43e6e4",
            "72ef31c73062405ca348357bbb29eb05",
            "0cd2dc5a9ca344808415456536535c1e",
            "d446ffddc4744d7aac2c84d2dfe13987",
            "0b5f0091720f42ee9a83a38993a2ab0a",
            "efbe18640ba24d939717c67d77faf1a0",
            "964733244e78420c9a6fed8e24dfcb74",
            "8d66ef40fd3a4ce59de80986cc9e2985",
            "648cbdab78364517b79bd49c97d09606",
            "c99a41aed99c4550855b46b0bd2aaa9b",
            "35bf91238a5d474e81bb528eb911772d",
            "60159ee0d5c4438fb7bdf4438ad0fee6",
            "333ed5ae65b34ad4a5ab351914a4ce8c",
            "5889e77035714a4da336ad655718c9f6",
            "9844c6519a674c27bbf07beb262e16aa",
            "9de3521cbf64439893b2a41a9ef7eadf"
          ]
        },
        "id": "P8DAUvZn-XZ-",
        "outputId": "636a8aed-dc06-4ba0-f4da-652c8d0032dd"
      },
      "outputs": [
        {
          "name": "stderr",
          "output_type": "stream",
          "text": [
            "/usr/local/lib/python3.10/dist-packages/huggingface_hub/utils/_token.py:88: UserWarning: \n",
            "The secret `HF_TOKEN` does not exist in your Colab secrets.\n",
            "To authenticate with the Hugging Face Hub, create a token in your settings tab (https://huggingface.co/settings/tokens), set it as secret in your Google Colab and restart your session.\n",
            "You will be able to reuse this secret in all of your notebooks.\n",
            "Please note that authentication is recommended but still optional to access public models or datasets.\n",
            "  warnings.warn(\n"
          ]
        },
        {
          "data": {
            "application/vnd.jupyter.widget-view+json": {
              "model_id": "93eda4cb54534b218e33276d7e196d82",
              "version_major": 2,
              "version_minor": 0
            },
            "text/plain": [
              "config.json:   0%|          | 0.00/1.77k [00:00<?, ?B/s]"
            ]
          },
          "metadata": {},
          "output_type": "display_data"
        },
        {
          "data": {
            "application/vnd.jupyter.widget-view+json": {
              "model_id": "efbe18640ba24d939717c67d77faf1a0",
              "version_major": 2,
              "version_minor": 0
            },
            "text/plain": [
              "pytorch_model.bin:   0%|          | 0.00/1.27G [00:00<?, ?B/s]"
            ]
          },
          "metadata": {},
          "output_type": "display_data"
        },
        {
          "name": "stderr",
          "output_type": "stream",
          "text": [
            "Some weights of Wav2Vec2ForCTC were not initialized from the model checkpoint at facebook/wav2vec2-large-xlsr-53 and are newly initialized: ['lm_head.bias', 'wav2vec2.encoder.pos_conv_embed.conv.parametrizations.weight.original1', 'wav2vec2.encoder.pos_conv_embed.conv.parametrizations.weight.original0', 'lm_head.weight']\n",
            "You should probably TRAIN this model on a down-stream task to be able to use it for predictions and inference.\n"
          ]
        }
      ],
      "source": [
        "# feel free to adjust these parameters if training doesn't converge\n",
        "from transformers import Wav2Vec2ForCTC\n",
        "\n",
        "model = Wav2Vec2ForCTC.from_pretrained(\n",
        "    \"facebook/wav2vec2-large-xlsr-53\",\n",
        "    attention_dropout=0.1,\n",
        "    hidden_dropout=0.1,\n",
        "    feat_proj_dropout=0.0,\n",
        "    mask_time_prob=0.05,\n",
        "    layerdrop=0.1,\n",
        "    gradient_checkpointing=True,\n",
        "    ctc_loss_reduction=\"mean\",\n",
        "    pad_token_id=processor.tokenizer.pad_token_id,\n",
        "    vocab_size=processor.tokenizer.vocab_size\n",
        ")\n",
        "model.freeze_feature_encoder()\n",
        "model.config.ctc_zero_infinity = True"
      ]
    },
    {
      "cell_type": "code",
      "execution_count": 9,
      "metadata": {
        "id": "SA_miUh0-ZHK"
      },
      "outputs": [],
      "source": [
        "# Change the following parameters if you deem nessecary, specially if you run out of GPU RAM or don't reach the desired performance\n",
        "from transformers import TrainingArguments\n",
        "\n",
        "save_dir = 'wav2vec_cache'\n",
        "training_args = TrainingArguments(\n",
        "    output_dir=save_dir,\n",
        "    group_by_length=False,\n",
        "    per_device_train_batch_size=8,  # using small batch size to prevent GPU running out of memory\n",
        "    gradient_accumulation_steps=10, # using mini-batches to prevent GPU running out of memory\n",
        "    evaluation_strategy=\"steps\",\n",
        "    num_train_epochs=8,             # increasing number of epochs can increase model performance, but takes longer time to train\n",
        "    fp16=True,\n",
        "    save_steps=100,\n",
        "    eval_steps=50,\n",
        "    logging_steps=10,\n",
        "    learning_rate=3e-4,\n",
        "    warmup_steps=10,\n",
        "    save_total_limit=1,\n",
        "    load_best_model_at_end = True,\n",
        "\n",
        "    # more parameters\n",
        "    report_to=\"none\",\n",
        "    disable_tqdm=False,\n",
        "    log_level='info',\n",
        "    logging_strategy='steps',\n",
        ")"
      ]
    },
    {
      "cell_type": "code",
      "execution_count": 10,
      "metadata": {
        "colab": {
          "base_uri": "https://localhost:8080/",
          "height": 49,
          "referenced_widgets": [
            "6e682e0cc45b436bbe7a6c914b96fb9d",
            "74d3bcc444b04bc4b9bbe18743cbb0bb",
            "1fee7361b62d4cf4a73fe327b0f74146",
            "36954239cd954f75a1e729ccd1baa141",
            "afba01e4fdbf4806a2a4468c04d7e932",
            "c640f5c76eff4c03a36988620553b52b",
            "6340edae1d524ae7ae5575248396375d",
            "76d7f63709164d8b872b2e83111cc0d7",
            "7aa85f8c3803456b9456a0871f10c064",
            "b461ac3d00ac4ffb96ac5a571e70b86f",
            "86f3d409e26a4bfeb81e46c33228f07c"
          ]
        },
        "id": "x8K9d2HmAGoG",
        "outputId": "1b21f605-fc4b-4f5a-aedb-ace393f6f3b0"
      },
      "outputs": [
        {
          "data": {
            "application/vnd.jupyter.widget-view+json": {
              "model_id": "6e682e0cc45b436bbe7a6c914b96fb9d",
              "version_major": 2,
              "version_minor": 0
            },
            "text/plain": [
              "Downloading builder script:   0%|          | 0.00/4.49k [00:00<?, ?B/s]"
            ]
          },
          "metadata": {},
          "output_type": "display_data"
        }
      ],
      "source": [
        "# Load wer(Word Error Rate) metric\n",
        "import evaluate\n",
        "\n",
        "wer_metric = evaluate.load(\"wer\")\n",
        "def compute_metrics(pred):\n",
        "    pred_logits = pred.predictions\n",
        "    pred_ids = np.argmax(pred_logits, axis=-1)\n",
        "\n",
        "    pred.label_ids[pred.label_ids == -100] = processor.tokenizer.pad_token_id\n",
        "\n",
        "    pred_str = processor.batch_decode(pred_ids)\n",
        "    # we do not want to group tokens when computing the metrics\n",
        "    label_str = processor.batch_decode(pred.label_ids, group_tokens=False)\n",
        "\n",
        "    wer = wer_metric.compute(predictions=pred_str, references=label_str)\n",
        "\n",
        "    return {\"wer\": wer}"
      ]
    },
    {
      "cell_type": "code",
      "execution_count": 11,
      "metadata": {
        "colab": {
          "base_uri": "https://localhost:8080/"
        },
        "id": "hsilnCEOIJMW",
        "outputId": "3185de6e-738e-4061-8c2d-7a15dfbb9431"
      },
      "outputs": [
        {
          "name": "stderr",
          "output_type": "stream",
          "text": [
            "Using auto half precision backend\n"
          ]
        }
      ],
      "source": [
        "from transformers import Trainer\n",
        "import numpy as np\n",
        "\n",
        "trainer = Trainer(\n",
        "    model=model,\n",
        "    data_collator=data_collator,\n",
        "    args=training_args,\n",
        "    compute_metrics=compute_metrics,\n",
        "    train_dataset=ds[\"train\"],\n",
        "    eval_dataset=ds[\"test\"],\n",
        "    tokenizer=processor.feature_extractor,\n",
        ")"
      ]
    },
    {
      "cell_type": "code",
      "execution_count": 12,
      "metadata": {
        "colab": {
          "base_uri": "https://localhost:8080/",
          "height": 1000
        },
        "id": "sh6GzZHXIT1i",
        "outputId": "4d302dde-5dc9-4db7-deed-263b7e6390db"
      },
      "outputs": [
        {
          "name": "stderr",
          "output_type": "stream",
          "text": [
            "The following columns in the training set don't have a corresponding argument in `Wav2Vec2ForCTC.forward` and have been ignored: input_length. If input_length are not expected by `Wav2Vec2ForCTC.forward`,  you can safely ignore this message.\n",
            "***** Running training *****\n",
            "  Num examples = 4,612\n",
            "  Num Epochs = 8\n",
            "  Instantaneous batch size per device = 8\n",
            "  Total train batch size (w. parallel, distributed & accumulation) = 80\n",
            "  Gradient Accumulation steps = 10\n",
            "  Total optimization steps = 456\n",
            "  Number of trainable parameters = 311,277,744\n",
            "/usr/local/lib/python3.10/dist-packages/transformers/models/wav2vec2/processing_wav2vec2.py:155: UserWarning: `as_target_processor` is deprecated and will be removed in v5 of Transformers. You can process your labels by using the argument `text` of the regular `__call__` method (either in the same call as your audio inputs, or in a separate call.\n",
            "  warnings.warn(\n",
            "/usr/local/lib/python3.10/dist-packages/torch/utils/checkpoint.py:429: UserWarning: torch.utils.checkpoint: please pass in use_reentrant=True or use_reentrant=False explicitly. The default value of use_reentrant will be updated to be False in the future. To maintain current behavior, pass use_reentrant=True. It is recommended that you use use_reentrant=False. Refer to docs for more details on the differences between the two variants.\n",
            "  warnings.warn(\n"
          ]
        },
        {
          "data": {
            "text/html": [
              "\n",
              "    <div>\n",
              "      \n",
              "      <progress value='456' max='456' style='width:300px; height:20px; vertical-align: middle;'></progress>\n",
              "      [456/456 2:53:22, Epoch 7/8]\n",
              "    </div>\n",
              "    <table border=\"1\" class=\"dataframe\">\n",
              "  <thead>\n",
              " <tr style=\"text-align: left;\">\n",
              "      <th>Step</th>\n",
              "      <th>Training Loss</th>\n",
              "      <th>Validation Loss</th>\n",
              "      <th>Wer</th>\n",
              "    </tr>\n",
              "  </thead>\n",
              "  <tbody>\n",
              "    <tr>\n",
              "      <td>50</td>\n",
              "      <td>2.939000</td>\n",
              "      <td>2.927121</td>\n",
              "      <td>1.000000</td>\n",
              "    </tr>\n",
              "    <tr>\n",
              "      <td>100</td>\n",
              "      <td>2.901700</td>\n",
              "      <td>2.900964</td>\n",
              "      <td>1.000000</td>\n",
              "    </tr>\n",
              "    <tr>\n",
              "      <td>150</td>\n",
              "      <td>2.878100</td>\n",
              "      <td>2.876701</td>\n",
              "      <td>1.000000</td>\n",
              "    </tr>\n",
              "    <tr>\n",
              "      <td>200</td>\n",
              "      <td>2.861200</td>\n",
              "      <td>2.849467</td>\n",
              "      <td>1.000000</td>\n",
              "    </tr>\n",
              "    <tr>\n",
              "      <td>250</td>\n",
              "      <td>2.787500</td>\n",
              "      <td>2.695487</td>\n",
              "      <td>1.000575</td>\n",
              "    </tr>\n",
              "    <tr>\n",
              "      <td>300</td>\n",
              "      <td>2.000100</td>\n",
              "      <td>1.570530</td>\n",
              "      <td>0.971832</td>\n",
              "    </tr>\n",
              "    <tr>\n",
              "      <td>350</td>\n",
              "      <td>1.195600</td>\n",
              "      <td>0.860574</td>\n",
              "      <td>0.710846</td>\n",
              "    </tr>\n",
              "    <tr>\n",
              "      <td>400</td>\n",
              "      <td>0.948000</td>\n",
              "      <td>0.704943</td>\n",
              "      <td>0.612800</td>\n",
              "    </tr>\n",
              "    <tr>\n",
              "      <td>450</td>\n",
              "      <td>0.894100</td>\n",
              "      <td>0.661704</td>\n",
              "      <td>0.584824</td>\n",
              "    </tr>\n",
              "  </tbody>\n",
              "</table><p>"
            ],
            "text/plain": [
              "<IPython.core.display.HTML object>"
            ]
          },
          "metadata": {},
          "output_type": "display_data"
        },
        {
          "name": "stderr",
          "output_type": "stream",
          "text": [
            "The following columns in the evaluation set don't have a corresponding argument in `Wav2Vec2ForCTC.forward` and have been ignored: input_length. If input_length are not expected by `Wav2Vec2ForCTC.forward`,  you can safely ignore this message.\n",
            "***** Running Evaluation *****\n",
            "  Num examples = 1153\n",
            "  Batch size = 8\n",
            "The following columns in the evaluation set don't have a corresponding argument in `Wav2Vec2ForCTC.forward` and have been ignored: input_length. If input_length are not expected by `Wav2Vec2ForCTC.forward`,  you can safely ignore this message.\n",
            "***** Running Evaluation *****\n",
            "  Num examples = 1153\n",
            "  Batch size = 8\n",
            "Saving model checkpoint to wav2vec_cache/checkpoint-100\n",
            "Configuration saved in wav2vec_cache/checkpoint-100/config.json\n",
            "Model weights saved in wav2vec_cache/checkpoint-100/pytorch_model.bin\n",
            "Feature extractor saved in wav2vec_cache/checkpoint-100/preprocessor_config.json\n",
            "/usr/local/lib/python3.10/dist-packages/transformers/models/wav2vec2/processing_wav2vec2.py:155: UserWarning: `as_target_processor` is deprecated and will be removed in v5 of Transformers. You can process your labels by using the argument `text` of the regular `__call__` method (either in the same call as your audio inputs, or in a separate call.\n",
            "  warnings.warn(\n",
            "/usr/local/lib/python3.10/dist-packages/torch/utils/checkpoint.py:429: UserWarning: torch.utils.checkpoint: please pass in use_reentrant=True or use_reentrant=False explicitly. The default value of use_reentrant will be updated to be False in the future. To maintain current behavior, pass use_reentrant=True. It is recommended that you use use_reentrant=False. Refer to docs for more details on the differences between the two variants.\n",
            "  warnings.warn(\n",
            "The following columns in the evaluation set don't have a corresponding argument in `Wav2Vec2ForCTC.forward` and have been ignored: input_length. If input_length are not expected by `Wav2Vec2ForCTC.forward`,  you can safely ignore this message.\n",
            "***** Running Evaluation *****\n",
            "  Num examples = 1153\n",
            "  Batch size = 8\n",
            "The following columns in the evaluation set don't have a corresponding argument in `Wav2Vec2ForCTC.forward` and have been ignored: input_length. If input_length are not expected by `Wav2Vec2ForCTC.forward`,  you can safely ignore this message.\n",
            "***** Running Evaluation *****\n",
            "  Num examples = 1153\n",
            "  Batch size = 8\n",
            "Saving model checkpoint to wav2vec_cache/checkpoint-200\n",
            "Configuration saved in wav2vec_cache/checkpoint-200/config.json\n",
            "Model weights saved in wav2vec_cache/checkpoint-200/pytorch_model.bin\n",
            "Feature extractor saved in wav2vec_cache/checkpoint-200/preprocessor_config.json\n",
            "Deleting older checkpoint [wav2vec_cache/checkpoint-100] due to args.save_total_limit\n",
            "/usr/local/lib/python3.10/dist-packages/transformers/models/wav2vec2/processing_wav2vec2.py:155: UserWarning: `as_target_processor` is deprecated and will be removed in v5 of Transformers. You can process your labels by using the argument `text` of the regular `__call__` method (either in the same call as your audio inputs, or in a separate call.\n",
            "  warnings.warn(\n",
            "/usr/local/lib/python3.10/dist-packages/torch/utils/checkpoint.py:429: UserWarning: torch.utils.checkpoint: please pass in use_reentrant=True or use_reentrant=False explicitly. The default value of use_reentrant will be updated to be False in the future. To maintain current behavior, pass use_reentrant=True. It is recommended that you use use_reentrant=False. Refer to docs for more details on the differences between the two variants.\n",
            "  warnings.warn(\n",
            "The following columns in the evaluation set don't have a corresponding argument in `Wav2Vec2ForCTC.forward` and have been ignored: input_length. If input_length are not expected by `Wav2Vec2ForCTC.forward`,  you can safely ignore this message.\n",
            "***** Running Evaluation *****\n",
            "  Num examples = 1153\n",
            "  Batch size = 8\n",
            "The following columns in the evaluation set don't have a corresponding argument in `Wav2Vec2ForCTC.forward` and have been ignored: input_length. If input_length are not expected by `Wav2Vec2ForCTC.forward`,  you can safely ignore this message.\n",
            "***** Running Evaluation *****\n",
            "  Num examples = 1153\n",
            "  Batch size = 8\n",
            "Saving model checkpoint to wav2vec_cache/checkpoint-300\n",
            "Configuration saved in wav2vec_cache/checkpoint-300/config.json\n",
            "Model weights saved in wav2vec_cache/checkpoint-300/pytorch_model.bin\n",
            "Feature extractor saved in wav2vec_cache/checkpoint-300/preprocessor_config.json\n",
            "Deleting older checkpoint [wav2vec_cache/checkpoint-200] due to args.save_total_limit\n",
            "/usr/local/lib/python3.10/dist-packages/transformers/models/wav2vec2/processing_wav2vec2.py:155: UserWarning: `as_target_processor` is deprecated and will be removed in v5 of Transformers. You can process your labels by using the argument `text` of the regular `__call__` method (either in the same call as your audio inputs, or in a separate call.\n",
            "  warnings.warn(\n",
            "/usr/local/lib/python3.10/dist-packages/torch/utils/checkpoint.py:429: UserWarning: torch.utils.checkpoint: please pass in use_reentrant=True or use_reentrant=False explicitly. The default value of use_reentrant will be updated to be False in the future. To maintain current behavior, pass use_reentrant=True. It is recommended that you use use_reentrant=False. Refer to docs for more details on the differences between the two variants.\n",
            "  warnings.warn(\n",
            "The following columns in the evaluation set don't have a corresponding argument in `Wav2Vec2ForCTC.forward` and have been ignored: input_length. If input_length are not expected by `Wav2Vec2ForCTC.forward`,  you can safely ignore this message.\n",
            "***** Running Evaluation *****\n",
            "  Num examples = 1153\n",
            "  Batch size = 8\n",
            "The following columns in the evaluation set don't have a corresponding argument in `Wav2Vec2ForCTC.forward` and have been ignored: input_length. If input_length are not expected by `Wav2Vec2ForCTC.forward`,  you can safely ignore this message.\n",
            "***** Running Evaluation *****\n",
            "  Num examples = 1153\n",
            "  Batch size = 8\n",
            "Saving model checkpoint to wav2vec_cache/checkpoint-400\n",
            "Configuration saved in wav2vec_cache/checkpoint-400/config.json\n",
            "Model weights saved in wav2vec_cache/checkpoint-400/pytorch_model.bin\n",
            "Feature extractor saved in wav2vec_cache/checkpoint-400/preprocessor_config.json\n",
            "Deleting older checkpoint [wav2vec_cache/checkpoint-300] due to args.save_total_limit\n",
            "/usr/local/lib/python3.10/dist-packages/transformers/models/wav2vec2/processing_wav2vec2.py:155: UserWarning: `as_target_processor` is deprecated and will be removed in v5 of Transformers. You can process your labels by using the argument `text` of the regular `__call__` method (either in the same call as your audio inputs, or in a separate call.\n",
            "  warnings.warn(\n",
            "/usr/local/lib/python3.10/dist-packages/torch/utils/checkpoint.py:429: UserWarning: torch.utils.checkpoint: please pass in use_reentrant=True or use_reentrant=False explicitly. The default value of use_reentrant will be updated to be False in the future. To maintain current behavior, pass use_reentrant=True. It is recommended that you use use_reentrant=False. Refer to docs for more details on the differences between the two variants.\n",
            "  warnings.warn(\n",
            "The following columns in the evaluation set don't have a corresponding argument in `Wav2Vec2ForCTC.forward` and have been ignored: input_length. If input_length are not expected by `Wav2Vec2ForCTC.forward`,  you can safely ignore this message.\n",
            "***** Running Evaluation *****\n",
            "  Num examples = 1153\n",
            "  Batch size = 8\n",
            "\n",
            "\n",
            "Training completed. Do not forget to share your model on huggingface.co/models =)\n",
            "\n",
            "\n",
            "Loading best model from wav2vec_cache/checkpoint-400 (score: 0.7049425840377808).\n"
          ]
        },
        {
          "data": {
            "text/plain": [
              "TrainOutput(global_step=456, training_loss=2.695231289194341, metrics={'train_runtime': 10464.2578, 'train_samples_per_second': 3.526, 'train_steps_per_second': 0.044, 'total_flos': 1.2651636155689175e+19, 'train_loss': 2.695231289194341, 'epoch': 7.9})"
            ]
          },
          "execution_count": 12,
          "metadata": {},
          "output_type": "execute_result"
        }
      ],
      "source": [
        "trainer.train()"
      ]
    },
    {
      "cell_type": "code",
      "execution_count": 13,
      "metadata": {
        "colab": {
          "base_uri": "https://localhost:8080/"
        },
        "id": "z4QELvz1IlbN",
        "outputId": "cc4f6896-e4de-4f54-b0a4-dde449187bd7"
      },
      "outputs": [
        {
          "name": "stderr",
          "output_type": "stream",
          "text": [
            "Saving model checkpoint to ./drive/MyDrive/ASR_Colab/model_weights\n",
            "Configuration saved in ./drive/MyDrive/ASR_Colab/model_weights/config.json\n",
            "Model weights saved in ./drive/MyDrive/ASR_Colab/model_weights/pytorch_model.bin\n",
            "Feature extractor saved in ./drive/MyDrive/ASR_Colab/model_weights/preprocessor_config.json\n"
          ]
        }
      ],
      "source": [
        "# save model weights for the evaluation step\n",
        "trainer.save_model(\"./drive/MyDrive/ASR_Colab/model_weights\")"
      ]
    }
  ],
  "metadata": {
    "accelerator": "GPU",
    "colab": {
      "gpuType": "T4",
      "provenance": []
    },
    "kernelspec": {
      "display_name": "Python 3",
      "name": "python3"
    },
    "language_info": {
      "name": "python",
      "version": "3.9.6"
    },
    "widgets": {
      "application/vnd.jupyter.widget-state+json": {
        "0b5f0091720f42ee9a83a38993a2ab0a": {
          "model_module": "@jupyter-widgets/controls",
          "model_module_version": "1.5.0",
          "model_name": "DescriptionStyleModel",
          "state": {
            "_model_module": "@jupyter-widgets/controls",
            "_model_module_version": "1.5.0",
            "_model_name": "DescriptionStyleModel",
            "_view_count": null,
            "_view_module": "@jupyter-widgets/base",
            "_view_module_version": "1.2.0",
            "_view_name": "StyleView",
            "description_width": ""
          }
        },
        "0cd2dc5a9ca344808415456536535c1e": {
          "model_module": "@jupyter-widgets/controls",
          "model_module_version": "1.5.0",
          "model_name": "ProgressStyleModel",
          "state": {
            "_model_module": "@jupyter-widgets/controls",
            "_model_module_version": "1.5.0",
            "_model_name": "ProgressStyleModel",
            "_view_count": null,
            "_view_module": "@jupyter-widgets/base",
            "_view_module_version": "1.2.0",
            "_view_name": "StyleView",
            "bar_color": null,
            "description_width": ""
          }
        },
        "1fee7361b62d4cf4a73fe327b0f74146": {
          "model_module": "@jupyter-widgets/controls",
          "model_module_version": "1.5.0",
          "model_name": "FloatProgressModel",
          "state": {
            "_dom_classes": [],
            "_model_module": "@jupyter-widgets/controls",
            "_model_module_version": "1.5.0",
            "_model_name": "FloatProgressModel",
            "_view_count": null,
            "_view_module": "@jupyter-widgets/controls",
            "_view_module_version": "1.5.0",
            "_view_name": "ProgressView",
            "bar_style": "success",
            "description": "",
            "description_tooltip": null,
            "layout": "IPY_MODEL_76d7f63709164d8b872b2e83111cc0d7",
            "max": 4485,
            "min": 0,
            "orientation": "horizontal",
            "style": "IPY_MODEL_7aa85f8c3803456b9456a0871f10c064",
            "value": 4485
          }
        },
        "333ed5ae65b34ad4a5ab351914a4ce8c": {
          "model_module": "@jupyter-widgets/base",
          "model_module_version": "1.2.0",
          "model_name": "LayoutModel",
          "state": {
            "_model_module": "@jupyter-widgets/base",
            "_model_module_version": "1.2.0",
            "_model_name": "LayoutModel",
            "_view_count": null,
            "_view_module": "@jupyter-widgets/base",
            "_view_module_version": "1.2.0",
            "_view_name": "LayoutView",
            "align_content": null,
            "align_items": null,
            "align_self": null,
            "border": null,
            "bottom": null,
            "display": null,
            "flex": null,
            "flex_flow": null,
            "grid_area": null,
            "grid_auto_columns": null,
            "grid_auto_flow": null,
            "grid_auto_rows": null,
            "grid_column": null,
            "grid_gap": null,
            "grid_row": null,
            "grid_template_areas": null,
            "grid_template_columns": null,
            "grid_template_rows": null,
            "height": null,
            "justify_content": null,
            "justify_items": null,
            "left": null,
            "margin": null,
            "max_height": null,
            "max_width": null,
            "min_height": null,
            "min_width": null,
            "object_fit": null,
            "object_position": null,
            "order": null,
            "overflow": null,
            "overflow_x": null,
            "overflow_y": null,
            "padding": null,
            "right": null,
            "top": null,
            "visibility": null,
            "width": null
          }
        },
        "35bf91238a5d474e81bb528eb911772d": {
          "model_module": "@jupyter-widgets/base",
          "model_module_version": "1.2.0",
          "model_name": "LayoutModel",
          "state": {
            "_model_module": "@jupyter-widgets/base",
            "_model_module_version": "1.2.0",
            "_model_name": "LayoutModel",
            "_view_count": null,
            "_view_module": "@jupyter-widgets/base",
            "_view_module_version": "1.2.0",
            "_view_name": "LayoutView",
            "align_content": null,
            "align_items": null,
            "align_self": null,
            "border": null,
            "bottom": null,
            "display": null,
            "flex": null,
            "flex_flow": null,
            "grid_area": null,
            "grid_auto_columns": null,
            "grid_auto_flow": null,
            "grid_auto_rows": null,
            "grid_column": null,
            "grid_gap": null,
            "grid_row": null,
            "grid_template_areas": null,
            "grid_template_columns": null,
            "grid_template_rows": null,
            "height": null,
            "justify_content": null,
            "justify_items": null,
            "left": null,
            "margin": null,
            "max_height": null,
            "max_width": null,
            "min_height": null,
            "min_width": null,
            "object_fit": null,
            "object_position": null,
            "order": null,
            "overflow": null,
            "overflow_x": null,
            "overflow_y": null,
            "padding": null,
            "right": null,
            "top": null,
            "visibility": null,
            "width": null
          }
        },
        "36954239cd954f75a1e729ccd1baa141": {
          "model_module": "@jupyter-widgets/controls",
          "model_module_version": "1.5.0",
          "model_name": "HTMLModel",
          "state": {
            "_dom_classes": [],
            "_model_module": "@jupyter-widgets/controls",
            "_model_module_version": "1.5.0",
            "_model_name": "HTMLModel",
            "_view_count": null,
            "_view_module": "@jupyter-widgets/controls",
            "_view_module_version": "1.5.0",
            "_view_name": "HTMLView",
            "description": "",
            "description_tooltip": null,
            "layout": "IPY_MODEL_b461ac3d00ac4ffb96ac5a571e70b86f",
            "placeholder": "​",
            "style": "IPY_MODEL_86f3d409e26a4bfeb81e46c33228f07c",
            "value": " 4.49k/4.49k [00:00&lt;00:00, 207kB/s]"
          }
        },
        "375cb6aef68b419b94e0d9fd7d48047e": {
          "model_module": "@jupyter-widgets/controls",
          "model_module_version": "1.5.0",
          "model_name": "HTMLModel",
          "state": {
            "_dom_classes": [],
            "_model_module": "@jupyter-widgets/controls",
            "_model_module_version": "1.5.0",
            "_model_name": "HTMLModel",
            "_view_count": null,
            "_view_module": "@jupyter-widgets/controls",
            "_view_module_version": "1.5.0",
            "_view_name": "HTMLView",
            "description": "",
            "description_tooltip": null,
            "layout": "IPY_MODEL_d446ffddc4744d7aac2c84d2dfe13987",
            "placeholder": "​",
            "style": "IPY_MODEL_0b5f0091720f42ee9a83a38993a2ab0a",
            "value": " 1.77k/1.77k [00:00&lt;00:00, 109kB/s]"
          }
        },
        "5889e77035714a4da336ad655718c9f6": {
          "model_module": "@jupyter-widgets/controls",
          "model_module_version": "1.5.0",
          "model_name": "ProgressStyleModel",
          "state": {
            "_model_module": "@jupyter-widgets/controls",
            "_model_module_version": "1.5.0",
            "_model_name": "ProgressStyleModel",
            "_view_count": null,
            "_view_module": "@jupyter-widgets/base",
            "_view_module_version": "1.2.0",
            "_view_name": "StyleView",
            "bar_color": null,
            "description_width": ""
          }
        },
        "60159ee0d5c4438fb7bdf4438ad0fee6": {
          "model_module": "@jupyter-widgets/controls",
          "model_module_version": "1.5.0",
          "model_name": "DescriptionStyleModel",
          "state": {
            "_model_module": "@jupyter-widgets/controls",
            "_model_module_version": "1.5.0",
            "_model_name": "DescriptionStyleModel",
            "_view_count": null,
            "_view_module": "@jupyter-widgets/base",
            "_view_module_version": "1.2.0",
            "_view_name": "StyleView",
            "description_width": ""
          }
        },
        "6340edae1d524ae7ae5575248396375d": {
          "model_module": "@jupyter-widgets/controls",
          "model_module_version": "1.5.0",
          "model_name": "DescriptionStyleModel",
          "state": {
            "_model_module": "@jupyter-widgets/controls",
            "_model_module_version": "1.5.0",
            "_model_name": "DescriptionStyleModel",
            "_view_count": null,
            "_view_module": "@jupyter-widgets/base",
            "_view_module_version": "1.2.0",
            "_view_name": "StyleView",
            "description_width": ""
          }
        },
        "648cbdab78364517b79bd49c97d09606": {
          "model_module": "@jupyter-widgets/controls",
          "model_module_version": "1.5.0",
          "model_name": "HTMLModel",
          "state": {
            "_dom_classes": [],
            "_model_module": "@jupyter-widgets/controls",
            "_model_module_version": "1.5.0",
            "_model_name": "HTMLModel",
            "_view_count": null,
            "_view_module": "@jupyter-widgets/controls",
            "_view_module_version": "1.5.0",
            "_view_name": "HTMLView",
            "description": "",
            "description_tooltip": null,
            "layout": "IPY_MODEL_9844c6519a674c27bbf07beb262e16aa",
            "placeholder": "​",
            "style": "IPY_MODEL_9de3521cbf64439893b2a41a9ef7eadf",
            "value": " 1.27G/1.27G [00:17&lt;00:00, 148MB/s]"
          }
        },
        "6a503bf3bdf5470ebf9a33f5bc43e6e4": {
          "model_module": "@jupyter-widgets/controls",
          "model_module_version": "1.5.0",
          "model_name": "DescriptionStyleModel",
          "state": {
            "_model_module": "@jupyter-widgets/controls",
            "_model_module_version": "1.5.0",
            "_model_name": "DescriptionStyleModel",
            "_view_count": null,
            "_view_module": "@jupyter-widgets/base",
            "_view_module_version": "1.2.0",
            "_view_name": "StyleView",
            "description_width": ""
          }
        },
        "6a64461d04f141118872626f9a4bb037": {
          "model_module": "@jupyter-widgets/base",
          "model_module_version": "1.2.0",
          "model_name": "LayoutModel",
          "state": {
            "_model_module": "@jupyter-widgets/base",
            "_model_module_version": "1.2.0",
            "_model_name": "LayoutModel",
            "_view_count": null,
            "_view_module": "@jupyter-widgets/base",
            "_view_module_version": "1.2.0",
            "_view_name": "LayoutView",
            "align_content": null,
            "align_items": null,
            "align_self": null,
            "border": null,
            "bottom": null,
            "display": null,
            "flex": null,
            "flex_flow": null,
            "grid_area": null,
            "grid_auto_columns": null,
            "grid_auto_flow": null,
            "grid_auto_rows": null,
            "grid_column": null,
            "grid_gap": null,
            "grid_row": null,
            "grid_template_areas": null,
            "grid_template_columns": null,
            "grid_template_rows": null,
            "height": null,
            "justify_content": null,
            "justify_items": null,
            "left": null,
            "margin": null,
            "max_height": null,
            "max_width": null,
            "min_height": null,
            "min_width": null,
            "object_fit": null,
            "object_position": null,
            "order": null,
            "overflow": null,
            "overflow_x": null,
            "overflow_y": null,
            "padding": null,
            "right": null,
            "top": null,
            "visibility": null,
            "width": null
          }
        },
        "6ae0d0e3313f4aa0864df2e783990614": {
          "model_module": "@jupyter-widgets/controls",
          "model_module_version": "1.5.0",
          "model_name": "HTMLModel",
          "state": {
            "_dom_classes": [],
            "_model_module": "@jupyter-widgets/controls",
            "_model_module_version": "1.5.0",
            "_model_name": "HTMLModel",
            "_view_count": null,
            "_view_module": "@jupyter-widgets/controls",
            "_view_module_version": "1.5.0",
            "_view_name": "HTMLView",
            "description": "",
            "description_tooltip": null,
            "layout": "IPY_MODEL_6a64461d04f141118872626f9a4bb037",
            "placeholder": "​",
            "style": "IPY_MODEL_6a503bf3bdf5470ebf9a33f5bc43e6e4",
            "value": "config.json: 100%"
          }
        },
        "6e682e0cc45b436bbe7a6c914b96fb9d": {
          "model_module": "@jupyter-widgets/controls",
          "model_module_version": "1.5.0",
          "model_name": "HBoxModel",
          "state": {
            "_dom_classes": [],
            "_model_module": "@jupyter-widgets/controls",
            "_model_module_version": "1.5.0",
            "_model_name": "HBoxModel",
            "_view_count": null,
            "_view_module": "@jupyter-widgets/controls",
            "_view_module_version": "1.5.0",
            "_view_name": "HBoxView",
            "box_style": "",
            "children": [
              "IPY_MODEL_74d3bcc444b04bc4b9bbe18743cbb0bb",
              "IPY_MODEL_1fee7361b62d4cf4a73fe327b0f74146",
              "IPY_MODEL_36954239cd954f75a1e729ccd1baa141"
            ],
            "layout": "IPY_MODEL_afba01e4fdbf4806a2a4468c04d7e932"
          }
        },
        "72ef31c73062405ca348357bbb29eb05": {
          "model_module": "@jupyter-widgets/base",
          "model_module_version": "1.2.0",
          "model_name": "LayoutModel",
          "state": {
            "_model_module": "@jupyter-widgets/base",
            "_model_module_version": "1.2.0",
            "_model_name": "LayoutModel",
            "_view_count": null,
            "_view_module": "@jupyter-widgets/base",
            "_view_module_version": "1.2.0",
            "_view_name": "LayoutView",
            "align_content": null,
            "align_items": null,
            "align_self": null,
            "border": null,
            "bottom": null,
            "display": null,
            "flex": null,
            "flex_flow": null,
            "grid_area": null,
            "grid_auto_columns": null,
            "grid_auto_flow": null,
            "grid_auto_rows": null,
            "grid_column": null,
            "grid_gap": null,
            "grid_row": null,
            "grid_template_areas": null,
            "grid_template_columns": null,
            "grid_template_rows": null,
            "height": null,
            "justify_content": null,
            "justify_items": null,
            "left": null,
            "margin": null,
            "max_height": null,
            "max_width": null,
            "min_height": null,
            "min_width": null,
            "object_fit": null,
            "object_position": null,
            "order": null,
            "overflow": null,
            "overflow_x": null,
            "overflow_y": null,
            "padding": null,
            "right": null,
            "top": null,
            "visibility": null,
            "width": null
          }
        },
        "74d3bcc444b04bc4b9bbe18743cbb0bb": {
          "model_module": "@jupyter-widgets/controls",
          "model_module_version": "1.5.0",
          "model_name": "HTMLModel",
          "state": {
            "_dom_classes": [],
            "_model_module": "@jupyter-widgets/controls",
            "_model_module_version": "1.5.0",
            "_model_name": "HTMLModel",
            "_view_count": null,
            "_view_module": "@jupyter-widgets/controls",
            "_view_module_version": "1.5.0",
            "_view_name": "HTMLView",
            "description": "",
            "description_tooltip": null,
            "layout": "IPY_MODEL_c640f5c76eff4c03a36988620553b52b",
            "placeholder": "​",
            "style": "IPY_MODEL_6340edae1d524ae7ae5575248396375d",
            "value": "Downloading builder script: 100%"
          }
        },
        "76d7f63709164d8b872b2e83111cc0d7": {
          "model_module": "@jupyter-widgets/base",
          "model_module_version": "1.2.0",
          "model_name": "LayoutModel",
          "state": {
            "_model_module": "@jupyter-widgets/base",
            "_model_module_version": "1.2.0",
            "_model_name": "LayoutModel",
            "_view_count": null,
            "_view_module": "@jupyter-widgets/base",
            "_view_module_version": "1.2.0",
            "_view_name": "LayoutView",
            "align_content": null,
            "align_items": null,
            "align_self": null,
            "border": null,
            "bottom": null,
            "display": null,
            "flex": null,
            "flex_flow": null,
            "grid_area": null,
            "grid_auto_columns": null,
            "grid_auto_flow": null,
            "grid_auto_rows": null,
            "grid_column": null,
            "grid_gap": null,
            "grid_row": null,
            "grid_template_areas": null,
            "grid_template_columns": null,
            "grid_template_rows": null,
            "height": null,
            "justify_content": null,
            "justify_items": null,
            "left": null,
            "margin": null,
            "max_height": null,
            "max_width": null,
            "min_height": null,
            "min_width": null,
            "object_fit": null,
            "object_position": null,
            "order": null,
            "overflow": null,
            "overflow_x": null,
            "overflow_y": null,
            "padding": null,
            "right": null,
            "top": null,
            "visibility": null,
            "width": null
          }
        },
        "7aa85f8c3803456b9456a0871f10c064": {
          "model_module": "@jupyter-widgets/controls",
          "model_module_version": "1.5.0",
          "model_name": "ProgressStyleModel",
          "state": {
            "_model_module": "@jupyter-widgets/controls",
            "_model_module_version": "1.5.0",
            "_model_name": "ProgressStyleModel",
            "_view_count": null,
            "_view_module": "@jupyter-widgets/base",
            "_view_module_version": "1.2.0",
            "_view_name": "StyleView",
            "bar_color": null,
            "description_width": ""
          }
        },
        "86f3d409e26a4bfeb81e46c33228f07c": {
          "model_module": "@jupyter-widgets/controls",
          "model_module_version": "1.5.0",
          "model_name": "DescriptionStyleModel",
          "state": {
            "_model_module": "@jupyter-widgets/controls",
            "_model_module_version": "1.5.0",
            "_model_name": "DescriptionStyleModel",
            "_view_count": null,
            "_view_module": "@jupyter-widgets/base",
            "_view_module_version": "1.2.0",
            "_view_name": "StyleView",
            "description_width": ""
          }
        },
        "89e585cf118b4275b73fd2def0937797": {
          "model_module": "@jupyter-widgets/controls",
          "model_module_version": "1.5.0",
          "model_name": "FloatProgressModel",
          "state": {
            "_dom_classes": [],
            "_model_module": "@jupyter-widgets/controls",
            "_model_module_version": "1.5.0",
            "_model_name": "FloatProgressModel",
            "_view_count": null,
            "_view_module": "@jupyter-widgets/controls",
            "_view_module_version": "1.5.0",
            "_view_name": "ProgressView",
            "bar_style": "success",
            "description": "",
            "description_tooltip": null,
            "layout": "IPY_MODEL_72ef31c73062405ca348357bbb29eb05",
            "max": 1768,
            "min": 0,
            "orientation": "horizontal",
            "style": "IPY_MODEL_0cd2dc5a9ca344808415456536535c1e",
            "value": 1768
          }
        },
        "8d66ef40fd3a4ce59de80986cc9e2985": {
          "model_module": "@jupyter-widgets/controls",
          "model_module_version": "1.5.0",
          "model_name": "FloatProgressModel",
          "state": {
            "_dom_classes": [],
            "_model_module": "@jupyter-widgets/controls",
            "_model_module_version": "1.5.0",
            "_model_name": "FloatProgressModel",
            "_view_count": null,
            "_view_module": "@jupyter-widgets/controls",
            "_view_module_version": "1.5.0",
            "_view_name": "ProgressView",
            "bar_style": "success",
            "description": "",
            "description_tooltip": null,
            "layout": "IPY_MODEL_333ed5ae65b34ad4a5ab351914a4ce8c",
            "max": 1269737156,
            "min": 0,
            "orientation": "horizontal",
            "style": "IPY_MODEL_5889e77035714a4da336ad655718c9f6",
            "value": 1269737156
          }
        },
        "93eda4cb54534b218e33276d7e196d82": {
          "model_module": "@jupyter-widgets/controls",
          "model_module_version": "1.5.0",
          "model_name": "HBoxModel",
          "state": {
            "_dom_classes": [],
            "_model_module": "@jupyter-widgets/controls",
            "_model_module_version": "1.5.0",
            "_model_name": "HBoxModel",
            "_view_count": null,
            "_view_module": "@jupyter-widgets/controls",
            "_view_module_version": "1.5.0",
            "_view_name": "HBoxView",
            "box_style": "",
            "children": [
              "IPY_MODEL_6ae0d0e3313f4aa0864df2e783990614",
              "IPY_MODEL_89e585cf118b4275b73fd2def0937797",
              "IPY_MODEL_375cb6aef68b419b94e0d9fd7d48047e"
            ],
            "layout": "IPY_MODEL_da0c73d12dd94074887d79e280d5788a"
          }
        },
        "964733244e78420c9a6fed8e24dfcb74": {
          "model_module": "@jupyter-widgets/controls",
          "model_module_version": "1.5.0",
          "model_name": "HTMLModel",
          "state": {
            "_dom_classes": [],
            "_model_module": "@jupyter-widgets/controls",
            "_model_module_version": "1.5.0",
            "_model_name": "HTMLModel",
            "_view_count": null,
            "_view_module": "@jupyter-widgets/controls",
            "_view_module_version": "1.5.0",
            "_view_name": "HTMLView",
            "description": "",
            "description_tooltip": null,
            "layout": "IPY_MODEL_35bf91238a5d474e81bb528eb911772d",
            "placeholder": "​",
            "style": "IPY_MODEL_60159ee0d5c4438fb7bdf4438ad0fee6",
            "value": "pytorch_model.bin: 100%"
          }
        },
        "9844c6519a674c27bbf07beb262e16aa": {
          "model_module": "@jupyter-widgets/base",
          "model_module_version": "1.2.0",
          "model_name": "LayoutModel",
          "state": {
            "_model_module": "@jupyter-widgets/base",
            "_model_module_version": "1.2.0",
            "_model_name": "LayoutModel",
            "_view_count": null,
            "_view_module": "@jupyter-widgets/base",
            "_view_module_version": "1.2.0",
            "_view_name": "LayoutView",
            "align_content": null,
            "align_items": null,
            "align_self": null,
            "border": null,
            "bottom": null,
            "display": null,
            "flex": null,
            "flex_flow": null,
            "grid_area": null,
            "grid_auto_columns": null,
            "grid_auto_flow": null,
            "grid_auto_rows": null,
            "grid_column": null,
            "grid_gap": null,
            "grid_row": null,
            "grid_template_areas": null,
            "grid_template_columns": null,
            "grid_template_rows": null,
            "height": null,
            "justify_content": null,
            "justify_items": null,
            "left": null,
            "margin": null,
            "max_height": null,
            "max_width": null,
            "min_height": null,
            "min_width": null,
            "object_fit": null,
            "object_position": null,
            "order": null,
            "overflow": null,
            "overflow_x": null,
            "overflow_y": null,
            "padding": null,
            "right": null,
            "top": null,
            "visibility": null,
            "width": null
          }
        },
        "9de3521cbf64439893b2a41a9ef7eadf": {
          "model_module": "@jupyter-widgets/controls",
          "model_module_version": "1.5.0",
          "model_name": "DescriptionStyleModel",
          "state": {
            "_model_module": "@jupyter-widgets/controls",
            "_model_module_version": "1.5.0",
            "_model_name": "DescriptionStyleModel",
            "_view_count": null,
            "_view_module": "@jupyter-widgets/base",
            "_view_module_version": "1.2.0",
            "_view_name": "StyleView",
            "description_width": ""
          }
        },
        "afba01e4fdbf4806a2a4468c04d7e932": {
          "model_module": "@jupyter-widgets/base",
          "model_module_version": "1.2.0",
          "model_name": "LayoutModel",
          "state": {
            "_model_module": "@jupyter-widgets/base",
            "_model_module_version": "1.2.0",
            "_model_name": "LayoutModel",
            "_view_count": null,
            "_view_module": "@jupyter-widgets/base",
            "_view_module_version": "1.2.0",
            "_view_name": "LayoutView",
            "align_content": null,
            "align_items": null,
            "align_self": null,
            "border": null,
            "bottom": null,
            "display": null,
            "flex": null,
            "flex_flow": null,
            "grid_area": null,
            "grid_auto_columns": null,
            "grid_auto_flow": null,
            "grid_auto_rows": null,
            "grid_column": null,
            "grid_gap": null,
            "grid_row": null,
            "grid_template_areas": null,
            "grid_template_columns": null,
            "grid_template_rows": null,
            "height": null,
            "justify_content": null,
            "justify_items": null,
            "left": null,
            "margin": null,
            "max_height": null,
            "max_width": null,
            "min_height": null,
            "min_width": null,
            "object_fit": null,
            "object_position": null,
            "order": null,
            "overflow": null,
            "overflow_x": null,
            "overflow_y": null,
            "padding": null,
            "right": null,
            "top": null,
            "visibility": null,
            "width": null
          }
        },
        "b461ac3d00ac4ffb96ac5a571e70b86f": {
          "model_module": "@jupyter-widgets/base",
          "model_module_version": "1.2.0",
          "model_name": "LayoutModel",
          "state": {
            "_model_module": "@jupyter-widgets/base",
            "_model_module_version": "1.2.0",
            "_model_name": "LayoutModel",
            "_view_count": null,
            "_view_module": "@jupyter-widgets/base",
            "_view_module_version": "1.2.0",
            "_view_name": "LayoutView",
            "align_content": null,
            "align_items": null,
            "align_self": null,
            "border": null,
            "bottom": null,
            "display": null,
            "flex": null,
            "flex_flow": null,
            "grid_area": null,
            "grid_auto_columns": null,
            "grid_auto_flow": null,
            "grid_auto_rows": null,
            "grid_column": null,
            "grid_gap": null,
            "grid_row": null,
            "grid_template_areas": null,
            "grid_template_columns": null,
            "grid_template_rows": null,
            "height": null,
            "justify_content": null,
            "justify_items": null,
            "left": null,
            "margin": null,
            "max_height": null,
            "max_width": null,
            "min_height": null,
            "min_width": null,
            "object_fit": null,
            "object_position": null,
            "order": null,
            "overflow": null,
            "overflow_x": null,
            "overflow_y": null,
            "padding": null,
            "right": null,
            "top": null,
            "visibility": null,
            "width": null
          }
        },
        "c640f5c76eff4c03a36988620553b52b": {
          "model_module": "@jupyter-widgets/base",
          "model_module_version": "1.2.0",
          "model_name": "LayoutModel",
          "state": {
            "_model_module": "@jupyter-widgets/base",
            "_model_module_version": "1.2.0",
            "_model_name": "LayoutModel",
            "_view_count": null,
            "_view_module": "@jupyter-widgets/base",
            "_view_module_version": "1.2.0",
            "_view_name": "LayoutView",
            "align_content": null,
            "align_items": null,
            "align_self": null,
            "border": null,
            "bottom": null,
            "display": null,
            "flex": null,
            "flex_flow": null,
            "grid_area": null,
            "grid_auto_columns": null,
            "grid_auto_flow": null,
            "grid_auto_rows": null,
            "grid_column": null,
            "grid_gap": null,
            "grid_row": null,
            "grid_template_areas": null,
            "grid_template_columns": null,
            "grid_template_rows": null,
            "height": null,
            "justify_content": null,
            "justify_items": null,
            "left": null,
            "margin": null,
            "max_height": null,
            "max_width": null,
            "min_height": null,
            "min_width": null,
            "object_fit": null,
            "object_position": null,
            "order": null,
            "overflow": null,
            "overflow_x": null,
            "overflow_y": null,
            "padding": null,
            "right": null,
            "top": null,
            "visibility": null,
            "width": null
          }
        },
        "c99a41aed99c4550855b46b0bd2aaa9b": {
          "model_module": "@jupyter-widgets/base",
          "model_module_version": "1.2.0",
          "model_name": "LayoutModel",
          "state": {
            "_model_module": "@jupyter-widgets/base",
            "_model_module_version": "1.2.0",
            "_model_name": "LayoutModel",
            "_view_count": null,
            "_view_module": "@jupyter-widgets/base",
            "_view_module_version": "1.2.0",
            "_view_name": "LayoutView",
            "align_content": null,
            "align_items": null,
            "align_self": null,
            "border": null,
            "bottom": null,
            "display": null,
            "flex": null,
            "flex_flow": null,
            "grid_area": null,
            "grid_auto_columns": null,
            "grid_auto_flow": null,
            "grid_auto_rows": null,
            "grid_column": null,
            "grid_gap": null,
            "grid_row": null,
            "grid_template_areas": null,
            "grid_template_columns": null,
            "grid_template_rows": null,
            "height": null,
            "justify_content": null,
            "justify_items": null,
            "left": null,
            "margin": null,
            "max_height": null,
            "max_width": null,
            "min_height": null,
            "min_width": null,
            "object_fit": null,
            "object_position": null,
            "order": null,
            "overflow": null,
            "overflow_x": null,
            "overflow_y": null,
            "padding": null,
            "right": null,
            "top": null,
            "visibility": null,
            "width": null
          }
        },
        "d446ffddc4744d7aac2c84d2dfe13987": {
          "model_module": "@jupyter-widgets/base",
          "model_module_version": "1.2.0",
          "model_name": "LayoutModel",
          "state": {
            "_model_module": "@jupyter-widgets/base",
            "_model_module_version": "1.2.0",
            "_model_name": "LayoutModel",
            "_view_count": null,
            "_view_module": "@jupyter-widgets/base",
            "_view_module_version": "1.2.0",
            "_view_name": "LayoutView",
            "align_content": null,
            "align_items": null,
            "align_self": null,
            "border": null,
            "bottom": null,
            "display": null,
            "flex": null,
            "flex_flow": null,
            "grid_area": null,
            "grid_auto_columns": null,
            "grid_auto_flow": null,
            "grid_auto_rows": null,
            "grid_column": null,
            "grid_gap": null,
            "grid_row": null,
            "grid_template_areas": null,
            "grid_template_columns": null,
            "grid_template_rows": null,
            "height": null,
            "justify_content": null,
            "justify_items": null,
            "left": null,
            "margin": null,
            "max_height": null,
            "max_width": null,
            "min_height": null,
            "min_width": null,
            "object_fit": null,
            "object_position": null,
            "order": null,
            "overflow": null,
            "overflow_x": null,
            "overflow_y": null,
            "padding": null,
            "right": null,
            "top": null,
            "visibility": null,
            "width": null
          }
        },
        "da0c73d12dd94074887d79e280d5788a": {
          "model_module": "@jupyter-widgets/base",
          "model_module_version": "1.2.0",
          "model_name": "LayoutModel",
          "state": {
            "_model_module": "@jupyter-widgets/base",
            "_model_module_version": "1.2.0",
            "_model_name": "LayoutModel",
            "_view_count": null,
            "_view_module": "@jupyter-widgets/base",
            "_view_module_version": "1.2.0",
            "_view_name": "LayoutView",
            "align_content": null,
            "align_items": null,
            "align_self": null,
            "border": null,
            "bottom": null,
            "display": null,
            "flex": null,
            "flex_flow": null,
            "grid_area": null,
            "grid_auto_columns": null,
            "grid_auto_flow": null,
            "grid_auto_rows": null,
            "grid_column": null,
            "grid_gap": null,
            "grid_row": null,
            "grid_template_areas": null,
            "grid_template_columns": null,
            "grid_template_rows": null,
            "height": null,
            "justify_content": null,
            "justify_items": null,
            "left": null,
            "margin": null,
            "max_height": null,
            "max_width": null,
            "min_height": null,
            "min_width": null,
            "object_fit": null,
            "object_position": null,
            "order": null,
            "overflow": null,
            "overflow_x": null,
            "overflow_y": null,
            "padding": null,
            "right": null,
            "top": null,
            "visibility": null,
            "width": null
          }
        },
        "efbe18640ba24d939717c67d77faf1a0": {
          "model_module": "@jupyter-widgets/controls",
          "model_module_version": "1.5.0",
          "model_name": "HBoxModel",
          "state": {
            "_dom_classes": [],
            "_model_module": "@jupyter-widgets/controls",
            "_model_module_version": "1.5.0",
            "_model_name": "HBoxModel",
            "_view_count": null,
            "_view_module": "@jupyter-widgets/controls",
            "_view_module_version": "1.5.0",
            "_view_name": "HBoxView",
            "box_style": "",
            "children": [
              "IPY_MODEL_964733244e78420c9a6fed8e24dfcb74",
              "IPY_MODEL_8d66ef40fd3a4ce59de80986cc9e2985",
              "IPY_MODEL_648cbdab78364517b79bd49c97d09606"
            ],
            "layout": "IPY_MODEL_c99a41aed99c4550855b46b0bd2aaa9b"
          }
        }
      }
    }
  },
  "nbformat": 4,
  "nbformat_minor": 0
}

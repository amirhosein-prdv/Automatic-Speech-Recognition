{
 "cells": [
  {
   "cell_type": "code",
   "execution_count": 1,
   "metadata": {},
   "outputs": [],
   "source": [
    "import numpy as np\n",
    "import pandas as pd\n",
    "import librosa"
   ]
  },
  {
   "cell_type": "markdown",
   "metadata": {},
   "source": [
    "# Load & Describe Dataset"
   ]
  },
  {
   "cell_type": "code",
   "execution_count": 2,
   "metadata": {},
   "outputs": [],
   "source": [
    "voicePath = '../Dataset/voices'\n",
    "transcriptsPath = '../Dataset/transcripts.csv'"
   ]
  },
  {
   "cell_type": "code",
   "execution_count": 3,
   "metadata": {},
   "outputs": [],
   "source": [
    "transcripts = pd.read_csv(transcriptsPath)"
   ]
  },
  {
   "cell_type": "code",
   "execution_count": 4,
   "metadata": {},
   "outputs": [
    {
     "data": {
      "text/html": [
       "<div>\n",
       "<style scoped>\n",
       "    .dataframe tbody tr th:only-of-type {\n",
       "        vertical-align: middle;\n",
       "    }\n",
       "\n",
       "    .dataframe tbody tr th {\n",
       "        vertical-align: top;\n",
       "    }\n",
       "\n",
       "    .dataframe thead th {\n",
       "        text-align: right;\n",
       "    }\n",
       "</style>\n",
       "<table border=\"1\" class=\"dataframe\">\n",
       "  <thead>\n",
       "    <tr style=\"text-align: right;\">\n",
       "      <th></th>\n",
       "      <th>voice_filename</th>\n",
       "      <th>transcript</th>\n",
       "      <th>accent</th>\n",
       "      <th>gender</th>\n",
       "      <th>tone</th>\n",
       "    </tr>\n",
       "  </thead>\n",
       "  <tbody>\n",
       "    <tr>\n",
       "      <th>0</th>\n",
       "      <td>voice_1.mp3</td>\n",
       "      <td>چرا این‌‌‌‌طور فکر می‌‌‌‌کنی؟</td>\n",
       "      <td>فارسی</td>\n",
       "      <td>male</td>\n",
       "      <td>question</td>\n",
       "    </tr>\n",
       "    <tr>\n",
       "      <th>1</th>\n",
       "      <td>voice_2.mp3</td>\n",
       "      <td>همیشه من و تو راجع به آن با هم صحبت کرده‌‌‌‌ایم</td>\n",
       "      <td>فارسی</td>\n",
       "      <td>male</td>\n",
       "      <td>normal</td>\n",
       "    </tr>\n",
       "    <tr>\n",
       "      <th>2</th>\n",
       "      <td>voice_3.mp3</td>\n",
       "      <td>دنیا در حال گذار به‌‌‌‌سمت پایداری است</td>\n",
       "      <td>فارسی</td>\n",
       "      <td>male</td>\n",
       "      <td>normal</td>\n",
       "    </tr>\n",
       "    <tr>\n",
       "      <th>3</th>\n",
       "      <td>voice_4.mp3</td>\n",
       "      <td>شاخصی که باید عملکرد تسلا را با آن اندازه بگیریم</td>\n",
       "      <td>فارسی</td>\n",
       "      <td>male</td>\n",
       "      <td>normal</td>\n",
       "    </tr>\n",
       "    <tr>\n",
       "      <th>4</th>\n",
       "      <td>voice_5.mp3</td>\n",
       "      <td>باید تعداد واقعاً غیرقابل‌‌‌‌تصوری باتری تولید...</td>\n",
       "      <td>فارسی</td>\n",
       "      <td>male</td>\n",
       "      <td>normal</td>\n",
       "    </tr>\n",
       "  </tbody>\n",
       "</table>\n",
       "</div>"
      ],
      "text/plain": [
       "  voice_filename                                         transcript accent  \\\n",
       "0    voice_1.mp3                      چرا این‌‌‌‌طور فکر می‌‌‌‌کنی؟  فارسی   \n",
       "1    voice_2.mp3    همیشه من و تو راجع به آن با هم صحبت کرده‌‌‌‌ایم  فارسی   \n",
       "2    voice_3.mp3             دنیا در حال گذار به‌‌‌‌سمت پایداری است  فارسی   \n",
       "3    voice_4.mp3   شاخصی که باید عملکرد تسلا را با آن اندازه بگیریم  فارسی   \n",
       "4    voice_5.mp3  باید تعداد واقعاً غیرقابل‌‌‌‌تصوری باتری تولید...  فارسی   \n",
       "\n",
       "  gender      tone  \n",
       "0   male  question  \n",
       "1   male    normal  \n",
       "2   male    normal  \n",
       "3   male    normal  \n",
       "4   male    normal  "
      ]
     },
     "execution_count": 4,
     "metadata": {},
     "output_type": "execute_result"
    }
   ],
   "source": [
    "transcripts.head()"
   ]
  },
  {
   "cell_type": "code",
   "execution_count": 5,
   "metadata": {},
   "outputs": [
    {
     "name": "stdout",
     "output_type": "stream",
     "text": [
      "<class 'pandas.core.frame.DataFrame'>\n",
      "RangeIndex: 6042 entries, 0 to 6041\n",
      "Data columns (total 5 columns):\n",
      " #   Column          Non-Null Count  Dtype \n",
      "---  ------          --------------  ----- \n",
      " 0   voice_filename  6042 non-null   object\n",
      " 1   transcript      6042 non-null   object\n",
      " 2   accent          6042 non-null   object\n",
      " 3   gender          6042 non-null   object\n",
      " 4   tone            6042 non-null   object\n",
      "dtypes: object(5)\n",
      "memory usage: 236.1+ KB\n"
     ]
    }
   ],
   "source": [
    "transcripts.info()"
   ]
  },
  {
   "cell_type": "code",
   "execution_count": 6,
   "metadata": {},
   "outputs": [
    {
     "data": {
      "text/html": [
       "<div>\n",
       "<style scoped>\n",
       "    .dataframe tbody tr th:only-of-type {\n",
       "        vertical-align: middle;\n",
       "    }\n",
       "\n",
       "    .dataframe tbody tr th {\n",
       "        vertical-align: top;\n",
       "    }\n",
       "\n",
       "    .dataframe thead th {\n",
       "        text-align: right;\n",
       "    }\n",
       "</style>\n",
       "<table border=\"1\" class=\"dataframe\">\n",
       "  <thead>\n",
       "    <tr style=\"text-align: right;\">\n",
       "      <th></th>\n",
       "      <th>voice_filename</th>\n",
       "      <th>transcript</th>\n",
       "      <th>accent</th>\n",
       "      <th>gender</th>\n",
       "      <th>tone</th>\n",
       "    </tr>\n",
       "  </thead>\n",
       "  <tbody>\n",
       "    <tr>\n",
       "      <th>count</th>\n",
       "      <td>6042</td>\n",
       "      <td>6042</td>\n",
       "      <td>6042</td>\n",
       "      <td>6042</td>\n",
       "      <td>6042</td>\n",
       "    </tr>\n",
       "    <tr>\n",
       "      <th>unique</th>\n",
       "      <td>6042</td>\n",
       "      <td>6034</td>\n",
       "      <td>7</td>\n",
       "      <td>5</td>\n",
       "      <td>19</td>\n",
       "    </tr>\n",
       "    <tr>\n",
       "      <th>top</th>\n",
       "      <td>voice_5386.mp3</td>\n",
       "      <td>سوم – سازمان های دولتی باید از پیشنهاد یا تاًی...</td>\n",
       "      <td>فارسی</td>\n",
       "      <td>male</td>\n",
       "      <td>normal</td>\n",
       "    </tr>\n",
       "    <tr>\n",
       "      <th>freq</th>\n",
       "      <td>1</td>\n",
       "      <td>2</td>\n",
       "      <td>5581</td>\n",
       "      <td>3899</td>\n",
       "      <td>4464</td>\n",
       "    </tr>\n",
       "  </tbody>\n",
       "</table>\n",
       "</div>"
      ],
      "text/plain": [
       "        voice_filename                                         transcript  \\\n",
       "count             6042                                               6042   \n",
       "unique            6042                                               6034   \n",
       "top     voice_5386.mp3  سوم – سازمان های دولتی باید از پیشنهاد یا تاًی...   \n",
       "freq                 1                                                  2   \n",
       "\n",
       "       accent gender    tone  \n",
       "count    6042   6042    6042  \n",
       "unique      7      5      19  \n",
       "top     فارسی   male  normal  \n",
       "freq     5581   3899    4464  "
      ]
     },
     "execution_count": 6,
     "metadata": {},
     "output_type": "execute_result"
    }
   ],
   "source": [
    "transcripts.describe()"
   ]
  },
  {
   "cell_type": "code",
   "execution_count": 7,
   "metadata": {},
   "outputs": [
    {
     "data": {
      "text/plain": [
       "male      3899\n",
       "female    1282\n",
       "male       702\n",
       "مرد        119\n",
       "Female      40\n",
       "Name: gender, dtype: int64"
      ]
     },
     "execution_count": 7,
     "metadata": {},
     "output_type": "execute_result"
    }
   ],
   "source": [
    "transcripts['gender'].value_counts()"
   ]
  },
  {
   "cell_type": "code",
   "execution_count": 8,
   "metadata": {},
   "outputs": [
    {
     "data": {
      "text/plain": [
       "normal                 4464\n",
       "question                529\n",
       "imperative              299\n",
       "exclamatory             289\n",
       "incomplete              263\n",
       "normal                   68\n",
       "Normal                   40\n",
       "nomal                    21\n",
       "exclamative              16\n",
       "incomplete               11\n",
       "quenstion                 9\n",
       "impreative                9\n",
       "question                  6\n",
       "incomplet                 5\n",
       "Question                  4\n",
       "exclamatory               4\n",
       "imperative                3\n",
       "question/incomplete       1\n",
       "nortmal                   1\n",
       "Name: tone, dtype: int64"
      ]
     },
     "execution_count": 8,
     "metadata": {},
     "output_type": "execute_result"
    }
   ],
   "source": [
    "transcripts['tone'].value_counts()"
   ]
  },
  {
   "cell_type": "code",
   "execution_count": 9,
   "metadata": {},
   "outputs": [
    {
     "data": {
      "text/plain": [
       "فارسی      5581\n",
       "فارسی       247\n",
       "ترکی         83\n",
       "farsi        64\n",
       "خراسانی      40\n",
       "شیرازی       19\n",
       "یزدی          8\n",
       "Name: accent, dtype: int64"
      ]
     },
     "execution_count": 9,
     "metadata": {},
     "output_type": "execute_result"
    }
   ],
   "source": [
    "transcripts['accent'].value_counts()"
   ]
  },
  {
   "cell_type": "markdown",
   "metadata": {},
   "source": [
    "## Preprocessing on columns value"
   ]
  },
  {
   "cell_type": "code",
   "execution_count": 10,
   "metadata": {},
   "outputs": [],
   "source": [
    "columns_to_clean = ['accent', 'tone', 'gender']\n",
    "\n",
    "replacement_mapping = {'nomal': 'normal', 'nortmal': 'normal', \n",
    "                       'quenstion': 'question',\n",
    "                        'impreative': 'imperative', \n",
    "                        'incomplet': 'incomplete', \n",
    "                        'exclamative': 'exclamatory',\n",
    "                        'مرد': 'male',\n",
    "                        'farsi': 'فارسی',\n",
    "                        'question/incomplete': 'question'}\n",
    "\n",
    "# Apply the transformations\n",
    "for col in columns_to_clean:\n",
    "    transcripts[col] = transcripts[col].str.strip().str.lower()\n",
    "    transcripts[col] = transcripts[col].replace(replacement_mapping)"
   ]
  },
  {
   "cell_type": "code",
   "execution_count": 11,
   "metadata": {},
   "outputs": [
    {
     "data": {
      "text/plain": [
       "male      4720\n",
       "female    1322\n",
       "Name: gender, dtype: int64"
      ]
     },
     "execution_count": 11,
     "metadata": {},
     "output_type": "execute_result"
    }
   ],
   "source": [
    "transcripts['gender'].value_counts()"
   ]
  },
  {
   "cell_type": "code",
   "execution_count": 12,
   "metadata": {},
   "outputs": [
    {
     "data": {
      "text/plain": [
       "normal         4594\n",
       "question        549\n",
       "imperative      311\n",
       "exclamatory     309\n",
       "incomplete      279\n",
       "Name: tone, dtype: int64"
      ]
     },
     "execution_count": 12,
     "metadata": {},
     "output_type": "execute_result"
    }
   ],
   "source": [
    "transcripts['tone'].value_counts()"
   ]
  },
  {
   "cell_type": "code",
   "execution_count": 13,
   "metadata": {},
   "outputs": [
    {
     "data": {
      "text/plain": [
       "فارسی      5892\n",
       "ترکی         83\n",
       "خراسانی      40\n",
       "شیرازی       19\n",
       "یزدی          8\n",
       "Name: accent, dtype: int64"
      ]
     },
     "execution_count": 13,
     "metadata": {},
     "output_type": "execute_result"
    }
   ],
   "source": [
    "transcripts['accent'].value_counts()"
   ]
  },
  {
   "cell_type": "markdown",
   "metadata": {},
   "source": [
    "## Preprocessing on Audio"
   ]
  },
  {
   "cell_type": "code",
   "execution_count": 14,
   "metadata": {},
   "outputs": [],
   "source": [
    "def audioPreprocessing(input_path, target_sr):\n",
    "\n",
    "    y, sr = librosa.load(input_path)\n",
    "\n",
    "    # Resample to a specific sample rate\n",
    "    y_resampled = librosa.resample(y, orig_sr=sr, target_sr=target_sr)\n",
    "\n",
    "    # Trim Silence\n",
    "    y_trimed, index = librosa.effects.trim(y_resampled)\n",
    "\n",
    "    # Normalize Audio Levels\n",
    "    y_normalized = librosa.util.normalize(y_trimed)\n",
    "\n",
    "    # Remove Background Noise\n",
    "    y_denoised = librosa.effects.preemphasis(y_normalized)\n",
    "\n",
    "    return y_denoised"
   ]
  },
  {
   "cell_type": "code",
   "execution_count": 15,
   "metadata": {},
   "outputs": [],
   "source": [
    "def audioFeatureExtraction(input_path, target_sr):\n",
    "    # Preprocess audio\n",
    "    y_clean = audioPreprocessing(input_path, target_sr)\n",
    "\n",
    "    # Extract features\n",
    "    mfccs = librosa.feature.mfcc(y=y_clean, sr=target_sr, n_mfcc=13)\n",
    "    chroma = librosa.feature.chroma_stft(y=y_clean, sr=target_sr)\n",
    "    contrast = librosa.feature.spectral_contrast(y=y_clean, sr=target_sr)\n",
    "    centroid = librosa.feature.spectral_centroid(y=y_clean, sr=target_sr)\n",
    "    bandwidth = librosa.feature.spectral_bandwidth(y=y_clean, sr=target_sr)\n",
    "    zero_crossings = librosa.feature.zero_crossing_rate(y=y_clean)\n",
    "    \n",
    "    # Additional features...\n",
    "    \n",
    "    features_dict = {\n",
    "        'mfcc_mean': mfccs.mean(axis=1),\n",
    "        'chroma_mean': chroma.mean(axis=1),\n",
    "        'contrast_mean': contrast.mean(axis=1),\n",
    "        'centroid_mean': centroid.mean(),\n",
    "        'bandwidth_mean': bandwidth.mean(),\n",
    "        'zero_crossings_mean': zero_crossings.mean(),\n",
    "        # Add more features...\n",
    "    }\n",
    "\n",
    "    return features_dict"
   ]
  },
  {
   "cell_type": "code",
   "execution_count": 16,
   "metadata": {},
   "outputs": [],
   "source": [
    "target_sr = 16000\n",
    "features_df  = transcripts['voice_filename'].apply(lambda x: audioFeatureExtraction(voicePath + '/' + x, target_sr))\n",
    "features_dataframe = pd.DataFrame(features_df.tolist())\n",
    "\n",
    "transcripts_features = pd.concat([transcripts, features_dataframe], axis=1)"
   ]
  },
  {
   "cell_type": "code",
   "execution_count": 17,
   "metadata": {},
   "outputs": [
    {
     "data": {
      "text/html": [
       "<div>\n",
       "<style scoped>\n",
       "    .dataframe tbody tr th:only-of-type {\n",
       "        vertical-align: middle;\n",
       "    }\n",
       "\n",
       "    .dataframe tbody tr th {\n",
       "        vertical-align: top;\n",
       "    }\n",
       "\n",
       "    .dataframe thead th {\n",
       "        text-align: right;\n",
       "    }\n",
       "</style>\n",
       "<table border=\"1\" class=\"dataframe\">\n",
       "  <thead>\n",
       "    <tr style=\"text-align: right;\">\n",
       "      <th></th>\n",
       "      <th>centroid_mean</th>\n",
       "      <th>bandwidth_mean</th>\n",
       "      <th>zero_crossings_mean</th>\n",
       "    </tr>\n",
       "  </thead>\n",
       "  <tbody>\n",
       "    <tr>\n",
       "      <th>count</th>\n",
       "      <td>6042.000000</td>\n",
       "      <td>6042.000000</td>\n",
       "      <td>6042.000000</td>\n",
       "    </tr>\n",
       "    <tr>\n",
       "      <th>mean</th>\n",
       "      <td>2946.353858</td>\n",
       "      <td>1830.851651</td>\n",
       "      <td>0.292715</td>\n",
       "    </tr>\n",
       "    <tr>\n",
       "      <th>std</th>\n",
       "      <td>514.138135</td>\n",
       "      <td>238.574830</td>\n",
       "      <td>0.064070</td>\n",
       "    </tr>\n",
       "    <tr>\n",
       "      <th>min</th>\n",
       "      <td>1211.383990</td>\n",
       "      <td>964.516766</td>\n",
       "      <td>0.111397</td>\n",
       "    </tr>\n",
       "    <tr>\n",
       "      <th>25%</th>\n",
       "      <td>2614.443391</td>\n",
       "      <td>1698.685016</td>\n",
       "      <td>0.249784</td>\n",
       "    </tr>\n",
       "    <tr>\n",
       "      <th>50%</th>\n",
       "      <td>2948.097080</td>\n",
       "      <td>1883.215322</td>\n",
       "      <td>0.283855</td>\n",
       "    </tr>\n",
       "    <tr>\n",
       "      <th>75%</th>\n",
       "      <td>3297.615054</td>\n",
       "      <td>2000.500074</td>\n",
       "      <td>0.329858</td>\n",
       "    </tr>\n",
       "    <tr>\n",
       "      <th>max</th>\n",
       "      <td>4487.562284</td>\n",
       "      <td>2461.147785</td>\n",
       "      <td>0.554474</td>\n",
       "    </tr>\n",
       "  </tbody>\n",
       "</table>\n",
       "</div>"
      ],
      "text/plain": [
       "       centroid_mean  bandwidth_mean  zero_crossings_mean\n",
       "count    6042.000000     6042.000000          6042.000000\n",
       "mean     2946.353858     1830.851651             0.292715\n",
       "std       514.138135      238.574830             0.064070\n",
       "min      1211.383990      964.516766             0.111397\n",
       "25%      2614.443391     1698.685016             0.249784\n",
       "50%      2948.097080     1883.215322             0.283855\n",
       "75%      3297.615054     2000.500074             0.329858\n",
       "max      4487.562284     2461.147785             0.554474"
      ]
     },
     "execution_count": 17,
     "metadata": {},
     "output_type": "execute_result"
    }
   ],
   "source": [
    "transcripts_features.describe()"
   ]
  },
  {
   "cell_type": "code",
   "execution_count": 20,
   "metadata": {},
   "outputs": [
    {
     "data": {
      "text/html": [
       "<div>\n",
       "<style scoped>\n",
       "    .dataframe tbody tr th:only-of-type {\n",
       "        vertical-align: middle;\n",
       "    }\n",
       "\n",
       "    .dataframe tbody tr th {\n",
       "        vertical-align: top;\n",
       "    }\n",
       "\n",
       "    .dataframe thead th {\n",
       "        text-align: right;\n",
       "    }\n",
       "</style>\n",
       "<table border=\"1\" class=\"dataframe\">\n",
       "  <thead>\n",
       "    <tr style=\"text-align: right;\">\n",
       "      <th></th>\n",
       "      <th>voice_filename</th>\n",
       "      <th>transcript</th>\n",
       "      <th>accent</th>\n",
       "      <th>gender</th>\n",
       "      <th>tone</th>\n",
       "      <th>mfcc_mean</th>\n",
       "      <th>chroma_mean</th>\n",
       "      <th>contrast_mean</th>\n",
       "      <th>centroid_mean</th>\n",
       "      <th>bandwidth_mean</th>\n",
       "      <th>zero_crossings_mean</th>\n",
       "    </tr>\n",
       "  </thead>\n",
       "  <tbody>\n",
       "    <tr>\n",
       "      <th>0</th>\n",
       "      <td>voice_1.mp3</td>\n",
       "      <td>چرا این‌‌‌‌طور فکر می‌‌‌‌کنی؟</td>\n",
       "      <td>فارسی</td>\n",
       "      <td>male</td>\n",
       "      <td>question</td>\n",
       "      <td>[-226.45906, 27.234396, -4.854726, 13.827248, ...</td>\n",
       "      <td>[0.631335, 0.5893609, 0.59790057, 0.6132906, 0...</td>\n",
       "      <td>[27.924137314442838, 12.368583018695546, 15.13...</td>\n",
       "      <td>3002.330924</td>\n",
       "      <td>2087.859977</td>\n",
       "      <td>0.304001</td>\n",
       "    </tr>\n",
       "    <tr>\n",
       "      <th>1</th>\n",
       "      <td>voice_2.mp3</td>\n",
       "      <td>همیشه من و تو راجع به آن با هم صحبت کرده‌‌‌‌ایم</td>\n",
       "      <td>فارسی</td>\n",
       "      <td>male</td>\n",
       "      <td>normal</td>\n",
       "      <td>[-341.25583, -10.133878, 5.558397, 17.953564, ...</td>\n",
       "      <td>[0.38676995, 0.33763474, 0.3399514, 0.38050535...</td>\n",
       "      <td>[27.67936515878549, 14.142937557692985, 17.848...</td>\n",
       "      <td>3716.514567</td>\n",
       "      <td>2131.470004</td>\n",
       "      <td>0.415193</td>\n",
       "    </tr>\n",
       "    <tr>\n",
       "      <th>2</th>\n",
       "      <td>voice_3.mp3</td>\n",
       "      <td>دنیا در حال گذار به‌‌‌‌سمت پایداری است</td>\n",
       "      <td>فارسی</td>\n",
       "      <td>male</td>\n",
       "      <td>normal</td>\n",
       "      <td>[-308.26108, -7.790743, 6.654821, 9.634984, 7....</td>\n",
       "      <td>[0.40178165, 0.3928808, 0.37732053, 0.48148748...</td>\n",
       "      <td>[27.216098722816948, 13.855844943641957, 18.61...</td>\n",
       "      <td>3715.257064</td>\n",
       "      <td>2089.085343</td>\n",
       "      <td>0.427597</td>\n",
       "    </tr>\n",
       "    <tr>\n",
       "      <th>3</th>\n",
       "      <td>voice_4.mp3</td>\n",
       "      <td>شاخصی که باید عملکرد تسلا را با آن اندازه بگیریم</td>\n",
       "      <td>فارسی</td>\n",
       "      <td>male</td>\n",
       "      <td>normal</td>\n",
       "      <td>[-324.18372, -12.081556, 0.6377594, 17.15852, ...</td>\n",
       "      <td>[0.4548103, 0.33421117, 0.3522711, 0.37673205,...</td>\n",
       "      <td>[26.48621315711807, 14.083842997304714, 18.324...</td>\n",
       "      <td>3742.295518</td>\n",
       "      <td>1994.383106</td>\n",
       "      <td>0.423299</td>\n",
       "    </tr>\n",
       "    <tr>\n",
       "      <th>4</th>\n",
       "      <td>voice_5.mp3</td>\n",
       "      <td>باید تعداد واقعاً غیرقابل‌‌‌‌تصوری باتری تولید...</td>\n",
       "      <td>فارسی</td>\n",
       "      <td>male</td>\n",
       "      <td>normal</td>\n",
       "      <td>[-273.72803, 4.334649, -1.7544707, 18.322426, ...</td>\n",
       "      <td>[0.4542341, 0.41574174, 0.44602737, 0.4391814,...</td>\n",
       "      <td>[27.709682279899432, 13.965553509440323, 18.92...</td>\n",
       "      <td>3451.477394</td>\n",
       "      <td>2081.125187</td>\n",
       "      <td>0.387289</td>\n",
       "    </tr>\n",
       "  </tbody>\n",
       "</table>\n",
       "</div>"
      ],
      "text/plain": [
       "  voice_filename                                         transcript accent  \\\n",
       "0    voice_1.mp3                      چرا این‌‌‌‌طور فکر می‌‌‌‌کنی؟  فارسی   \n",
       "1    voice_2.mp3    همیشه من و تو راجع به آن با هم صحبت کرده‌‌‌‌ایم  فارسی   \n",
       "2    voice_3.mp3             دنیا در حال گذار به‌‌‌‌سمت پایداری است  فارسی   \n",
       "3    voice_4.mp3   شاخصی که باید عملکرد تسلا را با آن اندازه بگیریم  فارسی   \n",
       "4    voice_5.mp3  باید تعداد واقعاً غیرقابل‌‌‌‌تصوری باتری تولید...  فارسی   \n",
       "\n",
       "  gender      tone                                          mfcc_mean  \\\n",
       "0   male  question  [-226.45906, 27.234396, -4.854726, 13.827248, ...   \n",
       "1   male    normal  [-341.25583, -10.133878, 5.558397, 17.953564, ...   \n",
       "2   male    normal  [-308.26108, -7.790743, 6.654821, 9.634984, 7....   \n",
       "3   male    normal  [-324.18372, -12.081556, 0.6377594, 17.15852, ...   \n",
       "4   male    normal  [-273.72803, 4.334649, -1.7544707, 18.322426, ...   \n",
       "\n",
       "                                         chroma_mean  \\\n",
       "0  [0.631335, 0.5893609, 0.59790057, 0.6132906, 0...   \n",
       "1  [0.38676995, 0.33763474, 0.3399514, 0.38050535...   \n",
       "2  [0.40178165, 0.3928808, 0.37732053, 0.48148748...   \n",
       "3  [0.4548103, 0.33421117, 0.3522711, 0.37673205,...   \n",
       "4  [0.4542341, 0.41574174, 0.44602737, 0.4391814,...   \n",
       "\n",
       "                                       contrast_mean  centroid_mean  \\\n",
       "0  [27.924137314442838, 12.368583018695546, 15.13...    3002.330924   \n",
       "1  [27.67936515878549, 14.142937557692985, 17.848...    3716.514567   \n",
       "2  [27.216098722816948, 13.855844943641957, 18.61...    3715.257064   \n",
       "3  [26.48621315711807, 14.083842997304714, 18.324...    3742.295518   \n",
       "4  [27.709682279899432, 13.965553509440323, 18.92...    3451.477394   \n",
       "\n",
       "   bandwidth_mean  zero_crossings_mean  \n",
       "0     2087.859977             0.304001  \n",
       "1     2131.470004             0.415193  \n",
       "2     2089.085343             0.427597  \n",
       "3     1994.383106             0.423299  \n",
       "4     2081.125187             0.387289  "
      ]
     },
     "execution_count": 20,
     "metadata": {},
     "output_type": "execute_result"
    }
   ],
   "source": [
    "transcripts_features.head()"
   ]
  },
  {
   "cell_type": "code",
   "execution_count": null,
   "metadata": {},
   "outputs": [],
   "source": [
    "transcripts_features.to_csv('../Dataset/transcripts_features.csv')"
   ]
  },
  {
   "cell_type": "code",
   "execution_count": 18,
   "metadata": {},
   "outputs": [],
   "source": [
    "# for voiceName in transcripts['voice_filename']:\n",
    "#     try:\n",
    "#         y, sr = librosa.load(voicePath+'/'+voiceName, sr=None)\n",
    "#     except:\n",
    "#         print(voiceName)"
   ]
  }
 ],
 "metadata": {
  "kernelspec": {
   "display_name": "Python 3",
   "language": "python",
   "name": "python3"
  },
  "language_info": {
   "codemirror_mode": {
    "name": "ipython",
    "version": 3
   },
   "file_extension": ".py",
   "mimetype": "text/x-python",
   "name": "python",
   "nbconvert_exporter": "python",
   "pygments_lexer": "ipython3",
   "version": "3.9.6"
  }
 },
 "nbformat": 4,
 "nbformat_minor": 2
}

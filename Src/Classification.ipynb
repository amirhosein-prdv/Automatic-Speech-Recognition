{
 "cells": [
  {
   "cell_type": "code",
   "execution_count": 1,
   "id": "251b1031-549b-4f9c-b341-539190059493",
   "metadata": {},
   "outputs": [],
   "source": [
    "import numpy as np\n",
    "import pandas as pd\n",
    "from sklearn.model_selection import StratifiedShuffleSplit\n",
    "import seaborn as sns\n",
    "import matplotlib.pyplot as plt\n",
    "import ast\n",
    "import re\n",
    "from sklearn.preprocessing import StandardScaler\n",
    "from sklearn.decomposition import PCA\n",
    "from sklearn.discriminant_analysis import LinearDiscriminantAnalysis"
   ]
  },
  {
   "cell_type": "code",
   "execution_count": 31,
   "id": "125ced96-81e2-4978-ab81-765db1bd1392",
   "metadata": {},
   "outputs": [],
   "source": [
    "featuresPath = 'transcripts_features.csv'"
   ]
  },
  {
   "cell_type": "code",
   "execution_count": 52,
   "id": "be6a5d30-dd19-44c7-8047-1777b56a7532",
   "metadata": {},
   "outputs": [],
   "source": [
    "features = pd.read_csv(featuresPath)"
   ]
  },
  {
   "cell_type": "code",
   "execution_count": 32,
   "id": "51441b25-91ea-44a2-a5e1-48091b21642e",
   "metadata": {},
   "outputs": [
    {
     "data": {
      "text/html": [
       "<div>\n",
       "<style scoped>\n",
       "    .dataframe tbody tr th:only-of-type {\n",
       "        vertical-align: middle;\n",
       "    }\n",
       "\n",
       "    .dataframe tbody tr th {\n",
       "        vertical-align: top;\n",
       "    }\n",
       "\n",
       "    .dataframe thead th {\n",
       "        text-align: right;\n",
       "    }\n",
       "</style>\n",
       "<table border=\"1\" class=\"dataframe\">\n",
       "  <thead>\n",
       "    <tr style=\"text-align: right;\">\n",
       "      <th></th>\n",
       "      <th>Unnamed: 0</th>\n",
       "      <th>voice_filename</th>\n",
       "      <th>transcript</th>\n",
       "      <th>accent</th>\n",
       "      <th>gender</th>\n",
       "      <th>tone</th>\n",
       "      <th>mfcc_mean</th>\n",
       "      <th>chroma_mean</th>\n",
       "      <th>contrast_mean</th>\n",
       "      <th>centroid_mean</th>\n",
       "      <th>bandwidth_mean</th>\n",
       "      <th>zero_crossings_mean</th>\n",
       "      <th>pitch_mean</th>\n",
       "      <th>formants_mean</th>\n",
       "      <th>energy</th>\n",
       "      <th>tempo</th>\n",
       "      <th>meanfreq</th>\n",
       "      <th>dfrange</th>\n",
       "      <th>median</th>\n",
       "    </tr>\n",
       "  </thead>\n",
       "  <tbody>\n",
       "    <tr>\n",
       "      <th>0</th>\n",
       "      <td>0</td>\n",
       "      <td>voice_1.mp3</td>\n",
       "      <td>چرا این‌‌‌‌طور فکر می‌‌‌‌کنی؟</td>\n",
       "      <td>فارسی</td>\n",
       "      <td>male</td>\n",
       "      <td>question</td>\n",
       "      <td>[-226.45906      27.234396     -4.854726     1...</td>\n",
       "      <td>[0.631335   0.5893609  0.59790057 0.6132906  0...</td>\n",
       "      <td>[27.92413731 12.36858302 15.13017475 15.271798...</td>\n",
       "      <td>3002.330924</td>\n",
       "      <td>2087.859977</td>\n",
       "      <td>0.304001</td>\n",
       "      <td>188.273514</td>\n",
       "      <td>2.946813e-07</td>\n",
       "      <td>56.331367</td>\n",
       "      <td>267.857143</td>\n",
       "      <td>3002.330924</td>\n",
       "      <td>2032.816684</td>\n",
       "      <td>2894.636224</td>\n",
       "    </tr>\n",
       "    <tr>\n",
       "      <th>1</th>\n",
       "      <td>1</td>\n",
       "      <td>voice_2.mp3</td>\n",
       "      <td>همیشه من و تو راجع به آن با هم صحبت کرده‌‌‌‌ایم</td>\n",
       "      <td>فارسی</td>\n",
       "      <td>male</td>\n",
       "      <td>normal</td>\n",
       "      <td>[-341.25583    -10.133878     5.558397    17.9...</td>\n",
       "      <td>[0.38676995 0.33763474 0.3399514  0.38050535 0...</td>\n",
       "      <td>[27.67936516 14.14293756 17.84834701 18.141986...</td>\n",
       "      <td>3716.514567</td>\n",
       "      <td>2131.470004</td>\n",
       "      <td>0.415193</td>\n",
       "      <td>140.911057</td>\n",
       "      <td>-4.452772e-08</td>\n",
       "      <td>67.349335</td>\n",
       "      <td>110.294118</td>\n",
       "      <td>3716.514567</td>\n",
       "      <td>3120.362780</td>\n",
       "      <td>3665.778826</td>\n",
       "    </tr>\n",
       "    <tr>\n",
       "      <th>2</th>\n",
       "      <td>2</td>\n",
       "      <td>voice_3.mp3</td>\n",
       "      <td>دنیا در حال گذار به‌‌‌‌سمت پایداری است</td>\n",
       "      <td>فارسی</td>\n",
       "      <td>male</td>\n",
       "      <td>normal</td>\n",
       "      <td>[-308.26108     -7.790743     6.654821     9.6...</td>\n",
       "      <td>[0.40178165 0.3928808  0.37732053 0.48148748 0...</td>\n",
       "      <td>[27.21609872 13.85584494 18.61779162 20.051397...</td>\n",
       "      <td>3715.257064</td>\n",
       "      <td>2089.085343</td>\n",
       "      <td>0.427597</td>\n",
       "      <td>120.621613</td>\n",
       "      <td>4.354800e-08</td>\n",
       "      <td>90.469215</td>\n",
       "      <td>133.928571</td>\n",
       "      <td>3715.257064</td>\n",
       "      <td>4578.777198</td>\n",
       "      <td>3572.828536</td>\n",
       "    </tr>\n",
       "    <tr>\n",
       "      <th>3</th>\n",
       "      <td>3</td>\n",
       "      <td>voice_4.mp3</td>\n",
       "      <td>شاخصی که باید عملکرد تسلا را با آن اندازه بگیریم</td>\n",
       "      <td>فارسی</td>\n",
       "      <td>male</td>\n",
       "      <td>normal</td>\n",
       "      <td>[-324.18372    -12.081556     0.6377594   17.1...</td>\n",
       "      <td>[0.4548103  0.33421117 0.3522711  0.37673205 0...</td>\n",
       "      <td>[26.48621316 14.083843   18.3248408  18.592037...</td>\n",
       "      <td>3742.295518</td>\n",
       "      <td>1994.383106</td>\n",
       "      <td>0.423299</td>\n",
       "      <td>145.767975</td>\n",
       "      <td>-5.407027e-08</td>\n",
       "      <td>285.061188</td>\n",
       "      <td>93.750000</td>\n",
       "      <td>3742.295518</td>\n",
       "      <td>4627.715878</td>\n",
       "      <td>4017.854936</td>\n",
       "    </tr>\n",
       "    <tr>\n",
       "      <th>4</th>\n",
       "      <td>4</td>\n",
       "      <td>voice_5.mp3</td>\n",
       "      <td>باید تعداد واقعاً غیرقابل‌‌‌‌تصوری باتری تولید...</td>\n",
       "      <td>فارسی</td>\n",
       "      <td>male</td>\n",
       "      <td>normal</td>\n",
       "      <td>[-273.72803       4.334649     -1.7544707    1...</td>\n",
       "      <td>[0.4542341  0.41574174 0.44602737 0.4391814  0...</td>\n",
       "      <td>[27.70968228 13.96555351 18.92690269 18.205079...</td>\n",
       "      <td>3451.477394</td>\n",
       "      <td>2081.125187</td>\n",
       "      <td>0.387289</td>\n",
       "      <td>129.165787</td>\n",
       "      <td>-2.381880e-08</td>\n",
       "      <td>122.441605</td>\n",
       "      <td>156.250000</td>\n",
       "      <td>3451.477394</td>\n",
       "      <td>4766.202466</td>\n",
       "      <td>3391.330732</td>\n",
       "    </tr>\n",
       "  </tbody>\n",
       "</table>\n",
       "</div>"
      ],
      "text/plain": [
       "   Unnamed: 0 voice_filename  \\\n",
       "0           0    voice_1.mp3   \n",
       "1           1    voice_2.mp3   \n",
       "2           2    voice_3.mp3   \n",
       "3           3    voice_4.mp3   \n",
       "4           4    voice_5.mp3   \n",
       "\n",
       "                                          transcript accent gender      tone  \\\n",
       "0                      چرا این‌‌‌‌طور فکر می‌‌‌‌کنی؟  فارسی   male  question   \n",
       "1    همیشه من و تو راجع به آن با هم صحبت کرده‌‌‌‌ایم  فارسی   male    normal   \n",
       "2             دنیا در حال گذار به‌‌‌‌سمت پایداری است  فارسی   male    normal   \n",
       "3   شاخصی که باید عملکرد تسلا را با آن اندازه بگیریم  فارسی   male    normal   \n",
       "4  باید تعداد واقعاً غیرقابل‌‌‌‌تصوری باتری تولید...  فارسی   male    normal   \n",
       "\n",
       "                                           mfcc_mean  \\\n",
       "0  [-226.45906      27.234396     -4.854726     1...   \n",
       "1  [-341.25583    -10.133878     5.558397    17.9...   \n",
       "2  [-308.26108     -7.790743     6.654821     9.6...   \n",
       "3  [-324.18372    -12.081556     0.6377594   17.1...   \n",
       "4  [-273.72803       4.334649     -1.7544707    1...   \n",
       "\n",
       "                                         chroma_mean  \\\n",
       "0  [0.631335   0.5893609  0.59790057 0.6132906  0...   \n",
       "1  [0.38676995 0.33763474 0.3399514  0.38050535 0...   \n",
       "2  [0.40178165 0.3928808  0.37732053 0.48148748 0...   \n",
       "3  [0.4548103  0.33421117 0.3522711  0.37673205 0...   \n",
       "4  [0.4542341  0.41574174 0.44602737 0.4391814  0...   \n",
       "\n",
       "                                       contrast_mean  centroid_mean  \\\n",
       "0  [27.92413731 12.36858302 15.13017475 15.271798...    3002.330924   \n",
       "1  [27.67936516 14.14293756 17.84834701 18.141986...    3716.514567   \n",
       "2  [27.21609872 13.85584494 18.61779162 20.051397...    3715.257064   \n",
       "3  [26.48621316 14.083843   18.3248408  18.592037...    3742.295518   \n",
       "4  [27.70968228 13.96555351 18.92690269 18.205079...    3451.477394   \n",
       "\n",
       "   bandwidth_mean  zero_crossings_mean  pitch_mean  formants_mean      energy  \\\n",
       "0     2087.859977             0.304001  188.273514   2.946813e-07   56.331367   \n",
       "1     2131.470004             0.415193  140.911057  -4.452772e-08   67.349335   \n",
       "2     2089.085343             0.427597  120.621613   4.354800e-08   90.469215   \n",
       "3     1994.383106             0.423299  145.767975  -5.407027e-08  285.061188   \n",
       "4     2081.125187             0.387289  129.165787  -2.381880e-08  122.441605   \n",
       "\n",
       "        tempo     meanfreq      dfrange       median  \n",
       "0  267.857143  3002.330924  2032.816684  2894.636224  \n",
       "1  110.294118  3716.514567  3120.362780  3665.778826  \n",
       "2  133.928571  3715.257064  4578.777198  3572.828536  \n",
       "3   93.750000  3742.295518  4627.715878  4017.854936  \n",
       "4  156.250000  3451.477394  4766.202466  3391.330732  "
      ]
     },
     "execution_count": 32,
     "metadata": {},
     "output_type": "execute_result"
    }
   ],
   "source": [
    "features.head()"
   ]
  },
  {
   "cell_type": "code",
   "execution_count": 5,
   "id": "e767be25-45db-41f6-ab15-26c953f3a981",
   "metadata": {},
   "outputs": [
    {
     "data": {
      "text/html": [
       "<div>\n",
       "<style scoped>\n",
       "    .dataframe tbody tr th:only-of-type {\n",
       "        vertical-align: middle;\n",
       "    }\n",
       "\n",
       "    .dataframe tbody tr th {\n",
       "        vertical-align: top;\n",
       "    }\n",
       "\n",
       "    .dataframe thead th {\n",
       "        text-align: right;\n",
       "    }\n",
       "</style>\n",
       "<table border=\"1\" class=\"dataframe\">\n",
       "  <thead>\n",
       "    <tr style=\"text-align: right;\">\n",
       "      <th></th>\n",
       "      <th>Unnamed: 0</th>\n",
       "      <th>centroid_mean</th>\n",
       "      <th>bandwidth_mean</th>\n",
       "      <th>zero_crossings_mean</th>\n",
       "      <th>pitch_mean</th>\n",
       "      <th>formants_mean</th>\n",
       "      <th>energy</th>\n",
       "      <th>tempo</th>\n",
       "      <th>meanfreq</th>\n",
       "      <th>dfrange</th>\n",
       "      <th>median</th>\n",
       "    </tr>\n",
       "  </thead>\n",
       "  <tbody>\n",
       "    <tr>\n",
       "      <th>count</th>\n",
       "      <td>6042.000000</td>\n",
       "      <td>6042.000000</td>\n",
       "      <td>6042.000000</td>\n",
       "      <td>6042.000000</td>\n",
       "      <td>6042.000000</td>\n",
       "      <td>6.042000e+03</td>\n",
       "      <td>6042.000000</td>\n",
       "      <td>6042.000000</td>\n",
       "      <td>6042.000000</td>\n",
       "      <td>6042.000000</td>\n",
       "      <td>6042.000000</td>\n",
       "    </tr>\n",
       "    <tr>\n",
       "      <th>mean</th>\n",
       "      <td>3020.500000</td>\n",
       "      <td>2946.353858</td>\n",
       "      <td>1830.851651</td>\n",
       "      <td>0.292715</td>\n",
       "      <td>89.425464</td>\n",
       "      <td>1.053165e-06</td>\n",
       "      <td>188.014545</td>\n",
       "      <td>120.076006</td>\n",
       "      <td>2946.353858</td>\n",
       "      <td>4244.921453</td>\n",
       "      <td>2752.160190</td>\n",
       "    </tr>\n",
       "    <tr>\n",
       "      <th>std</th>\n",
       "      <td>1744.319495</td>\n",
       "      <td>514.138135</td>\n",
       "      <td>238.574830</td>\n",
       "      <td>0.064070</td>\n",
       "      <td>31.073661</td>\n",
       "      <td>2.143524e-04</td>\n",
       "      <td>205.968974</td>\n",
       "      <td>29.535174</td>\n",
       "      <td>514.138135</td>\n",
       "      <td>633.412309</td>\n",
       "      <td>588.240329</td>\n",
       "    </tr>\n",
       "    <tr>\n",
       "      <th>min</th>\n",
       "      <td>0.000000</td>\n",
       "      <td>1211.383990</td>\n",
       "      <td>964.516766</td>\n",
       "      <td>0.111397</td>\n",
       "      <td>12.460518</td>\n",
       "      <td>-6.304739e-03</td>\n",
       "      <td>1.589549</td>\n",
       "      <td>49.342105</td>\n",
       "      <td>1211.383990</td>\n",
       "      <td>1643.985583</td>\n",
       "      <td>1100.756900</td>\n",
       "    </tr>\n",
       "    <tr>\n",
       "      <th>25%</th>\n",
       "      <td>1510.250000</td>\n",
       "      <td>2614.443391</td>\n",
       "      <td>1698.685016</td>\n",
       "      <td>0.249784</td>\n",
       "      <td>66.916609</td>\n",
       "      <td>-2.149903e-07</td>\n",
       "      <td>69.489637</td>\n",
       "      <td>98.684211</td>\n",
       "      <td>2614.443391</td>\n",
       "      <td>3821.057246</td>\n",
       "      <td>2349.709970</td>\n",
       "    </tr>\n",
       "    <tr>\n",
       "      <th>50%</th>\n",
       "      <td>3020.500000</td>\n",
       "      <td>2948.097080</td>\n",
       "      <td>1883.215322</td>\n",
       "      <td>0.283855</td>\n",
       "      <td>86.932137</td>\n",
       "      <td>-4.504545e-09</td>\n",
       "      <td>127.285854</td>\n",
       "      <td>117.187500</td>\n",
       "      <td>2948.097080</td>\n",
       "      <td>4236.487752</td>\n",
       "      <td>2734.152212</td>\n",
       "    </tr>\n",
       "    <tr>\n",
       "      <th>75%</th>\n",
       "      <td>4530.750000</td>\n",
       "      <td>3297.615054</td>\n",
       "      <td>2000.500074</td>\n",
       "      <td>0.329858</td>\n",
       "      <td>108.934307</td>\n",
       "      <td>2.635495e-08</td>\n",
       "      <td>228.906372</td>\n",
       "      <td>133.928571</td>\n",
       "      <td>3297.615054</td>\n",
       "      <td>4685.385443</td>\n",
       "      <td>3119.218118</td>\n",
       "    </tr>\n",
       "    <tr>\n",
       "      <th>max</th>\n",
       "      <td>6041.000000</td>\n",
       "      <td>4487.562284</td>\n",
       "      <td>2461.147785</td>\n",
       "      <td>0.554474</td>\n",
       "      <td>213.895767</td>\n",
       "      <td>3.697412e-03</td>\n",
       "      <td>2754.958984</td>\n",
       "      <td>312.500000</td>\n",
       "      <td>4487.562284</td>\n",
       "      <td>6585.751460</td>\n",
       "      <td>4754.210030</td>\n",
       "    </tr>\n",
       "  </tbody>\n",
       "</table>\n",
       "</div>"
      ],
      "text/plain": [
       "        Unnamed: 0  centroid_mean  bandwidth_mean  zero_crossings_mean  \\\n",
       "count  6042.000000    6042.000000     6042.000000          6042.000000   \n",
       "mean   3020.500000    2946.353858     1830.851651             0.292715   \n",
       "std    1744.319495     514.138135      238.574830             0.064070   \n",
       "min       0.000000    1211.383990      964.516766             0.111397   \n",
       "25%    1510.250000    2614.443391     1698.685016             0.249784   \n",
       "50%    3020.500000    2948.097080     1883.215322             0.283855   \n",
       "75%    4530.750000    3297.615054     2000.500074             0.329858   \n",
       "max    6041.000000    4487.562284     2461.147785             0.554474   \n",
       "\n",
       "        pitch_mean  formants_mean       energy        tempo     meanfreq  \\\n",
       "count  6042.000000   6.042000e+03  6042.000000  6042.000000  6042.000000   \n",
       "mean     89.425464   1.053165e-06   188.014545   120.076006  2946.353858   \n",
       "std      31.073661   2.143524e-04   205.968974    29.535174   514.138135   \n",
       "min      12.460518  -6.304739e-03     1.589549    49.342105  1211.383990   \n",
       "25%      66.916609  -2.149903e-07    69.489637    98.684211  2614.443391   \n",
       "50%      86.932137  -4.504545e-09   127.285854   117.187500  2948.097080   \n",
       "75%     108.934307   2.635495e-08   228.906372   133.928571  3297.615054   \n",
       "max     213.895767   3.697412e-03  2754.958984   312.500000  4487.562284   \n",
       "\n",
       "           dfrange       median  \n",
       "count  6042.000000  6042.000000  \n",
       "mean   4244.921453  2752.160190  \n",
       "std     633.412309   588.240329  \n",
       "min    1643.985583  1100.756900  \n",
       "25%    3821.057246  2349.709970  \n",
       "50%    4236.487752  2734.152212  \n",
       "75%    4685.385443  3119.218118  \n",
       "max    6585.751460  4754.210030  "
      ]
     },
     "execution_count": 5,
     "metadata": {},
     "output_type": "execute_result"
    }
   ],
   "source": [
    "features.describe()"
   ]
  },
  {
   "cell_type": "code",
   "execution_count": 33,
   "id": "af4d9df1-1d21-4ff8-b87e-d48663273dc5",
   "metadata": {},
   "outputs": [
    {
     "data": {
      "text/plain": [
       "gender\n",
       "male      4720\n",
       "female    1322\n",
       "Name: count, dtype: int64"
      ]
     },
     "execution_count": 33,
     "metadata": {},
     "output_type": "execute_result"
    }
   ],
   "source": [
    "features['gender'].value_counts()"
   ]
  },
  {
   "cell_type": "code",
   "execution_count": 53,
   "id": "908d3407-84f6-4deb-8e5b-c61f56ebcd22",
   "metadata": {},
   "outputs": [],
   "source": [
    "X = features.drop(columns=['gender'])\n",
    "y = features['gender']\n",
    "\n",
    "stratified_split = StratifiedShuffleSplit(n_splits=1, test_size=0.25, random_state=42)\n",
    "\n",
    "for train_index, test_index in stratified_split.split(X, y):\n",
    "    X_train, X_test = X.iloc[train_index], X.iloc[test_index]\n",
    "    y_train, y_test = y.iloc[train_index], y.iloc[test_index]"
   ]
  },
  {
   "cell_type": "code",
   "execution_count": 54,
   "id": "8faa84ca-1b2a-4847-ba9a-adfc28e8467c",
   "metadata": {},
   "outputs": [
    {
     "name": "stdout",
     "output_type": "stream",
     "text": [
      "Training Set Class Counts:\n",
      "gender\n",
      "male      3540\n",
      "female     991\n",
      "Name: count, dtype: int64\n",
      "\n",
      "Testing Set Class Counts:\n",
      "gender\n",
      "male      1180\n",
      "female     331\n",
      "Name: count, dtype: int64\n"
     ]
    }
   ],
   "source": [
    "train_class_counts = y_train.value_counts()\n",
    "test_class_counts = y_test.value_counts()\n",
    "\n",
    "print(\"Training Set Class Counts:\")\n",
    "print(train_class_counts)\n",
    "print(\"\\nTesting Set Class Counts:\")\n",
    "print(test_class_counts)"
   ]
  },
  {
   "cell_type": "code",
   "execution_count": 9,
   "id": "bb66c2e2-3b8d-4818-bcb9-2b71cb21e123",
   "metadata": {},
   "outputs": [
    {
     "name": "stdout",
     "output_type": "stream",
     "text": [
      "object\n",
      "object\n"
     ]
    }
   ],
   "source": [
    "print(X_train['chroma_mean'].dtype)\n",
    "print(X_train['contrast_mean'].dtype)"
   ]
  },
  {
   "cell_type": "code",
   "execution_count": 10,
   "id": "519aa862-4535-4506-99e4-9801c38e31d7",
   "metadata": {},
   "outputs": [
    {
     "data": {
      "text/html": [
       "<div>\n",
       "<style scoped>\n",
       "    .dataframe tbody tr th:only-of-type {\n",
       "        vertical-align: middle;\n",
       "    }\n",
       "\n",
       "    .dataframe tbody tr th {\n",
       "        vertical-align: top;\n",
       "    }\n",
       "\n",
       "    .dataframe thead th {\n",
       "        text-align: right;\n",
       "    }\n",
       "</style>\n",
       "<table border=\"1\" class=\"dataframe\">\n",
       "  <thead>\n",
       "    <tr style=\"text-align: right;\">\n",
       "      <th></th>\n",
       "      <th>Unnamed: 0</th>\n",
       "      <th>centroid_mean</th>\n",
       "      <th>bandwidth_mean</th>\n",
       "      <th>zero_crossings_mean</th>\n",
       "      <th>pitch_mean</th>\n",
       "      <th>formants_mean</th>\n",
       "      <th>energy</th>\n",
       "      <th>tempo</th>\n",
       "      <th>meanfreq</th>\n",
       "      <th>dfrange</th>\n",
       "      <th>median</th>\n",
       "    </tr>\n",
       "  </thead>\n",
       "  <tbody>\n",
       "    <tr>\n",
       "      <th>count</th>\n",
       "      <td>4531.000000</td>\n",
       "      <td>4531.000000</td>\n",
       "      <td>4531.000000</td>\n",
       "      <td>4531.000000</td>\n",
       "      <td>4531.000000</td>\n",
       "      <td>4.531000e+03</td>\n",
       "      <td>4531.000000</td>\n",
       "      <td>4531.000000</td>\n",
       "      <td>4531.000000</td>\n",
       "      <td>4531.000000</td>\n",
       "      <td>4531.000000</td>\n",
       "    </tr>\n",
       "    <tr>\n",
       "      <th>mean</th>\n",
       "      <td>3007.928934</td>\n",
       "      <td>2952.598856</td>\n",
       "      <td>1834.282469</td>\n",
       "      <td>0.293119</td>\n",
       "      <td>89.568340</td>\n",
       "      <td>-3.684838e-07</td>\n",
       "      <td>186.722546</td>\n",
       "      <td>120.440481</td>\n",
       "      <td>2952.598856</td>\n",
       "      <td>4242.356451</td>\n",
       "      <td>2757.398886</td>\n",
       "    </tr>\n",
       "    <tr>\n",
       "      <th>std</th>\n",
       "      <td>1740.374556</td>\n",
       "      <td>506.671377</td>\n",
       "      <td>237.001735</td>\n",
       "      <td>0.063177</td>\n",
       "      <td>31.112383</td>\n",
       "      <td>2.404253e-04</td>\n",
       "      <td>203.149559</td>\n",
       "      <td>29.629338</td>\n",
       "      <td>506.671377</td>\n",
       "      <td>634.979689</td>\n",
       "      <td>580.380332</td>\n",
       "    </tr>\n",
       "    <tr>\n",
       "      <th>min</th>\n",
       "      <td>0.000000</td>\n",
       "      <td>1211.383990</td>\n",
       "      <td>964.516766</td>\n",
       "      <td>0.111397</td>\n",
       "      <td>12.460518</td>\n",
       "      <td>-6.304739e-03</td>\n",
       "      <td>1.589549</td>\n",
       "      <td>49.342105</td>\n",
       "      <td>1211.383990</td>\n",
       "      <td>1643.985583</td>\n",
       "      <td>1100.756900</td>\n",
       "    </tr>\n",
       "    <tr>\n",
       "      <th>25%</th>\n",
       "      <td>1511.000000</td>\n",
       "      <td>2627.908619</td>\n",
       "      <td>1709.002165</td>\n",
       "      <td>0.250791</td>\n",
       "      <td>66.880627</td>\n",
       "      <td>-2.623307e-07</td>\n",
       "      <td>69.927238</td>\n",
       "      <td>98.684211</td>\n",
       "      <td>2627.908619</td>\n",
       "      <td>3819.259254</td>\n",
       "      <td>2363.342209</td>\n",
       "    </tr>\n",
       "    <tr>\n",
       "      <th>50%</th>\n",
       "      <td>2999.000000</td>\n",
       "      <td>2951.787423</td>\n",
       "      <td>1888.433900</td>\n",
       "      <td>0.284359</td>\n",
       "      <td>86.918320</td>\n",
       "      <td>-4.480514e-09</td>\n",
       "      <td>127.908852</td>\n",
       "      <td>117.187500</td>\n",
       "      <td>2951.787423</td>\n",
       "      <td>4236.629754</td>\n",
       "      <td>2736.627264</td>\n",
       "    </tr>\n",
       "    <tr>\n",
       "      <th>75%</th>\n",
       "      <td>4510.500000</td>\n",
       "      <td>3298.698891</td>\n",
       "      <td>2000.063184</td>\n",
       "      <td>0.330043</td>\n",
       "      <td>109.147125</td>\n",
       "      <td>2.742334e-08</td>\n",
       "      <td>227.589302</td>\n",
       "      <td>133.928571</td>\n",
       "      <td>3298.698891</td>\n",
       "      <td>4689.352966</td>\n",
       "      <td>3119.818738</td>\n",
       "    </tr>\n",
       "    <tr>\n",
       "      <th>max</th>\n",
       "      <td>6041.000000</td>\n",
       "      <td>4487.562284</td>\n",
       "      <td>2461.088524</td>\n",
       "      <td>0.554474</td>\n",
       "      <td>213.895767</td>\n",
       "      <td>3.697412e-03</td>\n",
       "      <td>2754.958984</td>\n",
       "      <td>312.500000</td>\n",
       "      <td>4487.562284</td>\n",
       "      <td>6585.751460</td>\n",
       "      <td>4754.210030</td>\n",
       "    </tr>\n",
       "  </tbody>\n",
       "</table>\n",
       "</div>"
      ],
      "text/plain": [
       "        Unnamed: 0  centroid_mean  bandwidth_mean  zero_crossings_mean  \\\n",
       "count  4531.000000    4531.000000     4531.000000          4531.000000   \n",
       "mean   3007.928934    2952.598856     1834.282469             0.293119   \n",
       "std    1740.374556     506.671377      237.001735             0.063177   \n",
       "min       0.000000    1211.383990      964.516766             0.111397   \n",
       "25%    1511.000000    2627.908619     1709.002165             0.250791   \n",
       "50%    2999.000000    2951.787423     1888.433900             0.284359   \n",
       "75%    4510.500000    3298.698891     2000.063184             0.330043   \n",
       "max    6041.000000    4487.562284     2461.088524             0.554474   \n",
       "\n",
       "        pitch_mean  formants_mean       energy        tempo     meanfreq  \\\n",
       "count  4531.000000   4.531000e+03  4531.000000  4531.000000  4531.000000   \n",
       "mean     89.568340  -3.684838e-07   186.722546   120.440481  2952.598856   \n",
       "std      31.112383   2.404253e-04   203.149559    29.629338   506.671377   \n",
       "min      12.460518  -6.304739e-03     1.589549    49.342105  1211.383990   \n",
       "25%      66.880627  -2.623307e-07    69.927238    98.684211  2627.908619   \n",
       "50%      86.918320  -4.480514e-09   127.908852   117.187500  2951.787423   \n",
       "75%     109.147125   2.742334e-08   227.589302   133.928571  3298.698891   \n",
       "max     213.895767   3.697412e-03  2754.958984   312.500000  4487.562284   \n",
       "\n",
       "           dfrange       median  \n",
       "count  4531.000000  4531.000000  \n",
       "mean   4242.356451  2757.398886  \n",
       "std     634.979689   580.380332  \n",
       "min    1643.985583  1100.756900  \n",
       "25%    3819.259254  2363.342209  \n",
       "50%    4236.629754  2736.627264  \n",
       "75%    4689.352966  3119.818738  \n",
       "max    6585.751460  4754.210030  "
      ]
     },
     "execution_count": 10,
     "metadata": {},
     "output_type": "execute_result"
    }
   ],
   "source": [
    "X_train.describe()"
   ]
  },
  {
   "cell_type": "code",
   "execution_count": 36,
   "id": "ed1f4991-65af-4a10-8e1e-df79ae57e342",
   "metadata": {},
   "outputs": [
    {
     "name": "stdout",
     "output_type": "stream",
     "text": [
      "X_train shape before expanding the columns\n"
     ]
    },
    {
     "data": {
      "text/plain": [
       "(4531, 18)"
      ]
     },
     "execution_count": 36,
     "metadata": {},
     "output_type": "execute_result"
    }
   ],
   "source": [
    "print(\"X_train shape before expanding the columns\")\n",
    "X_train.shape "
   ]
  },
  {
   "cell_type": "code",
   "execution_count": 55,
   "id": "03dff15a-31e9-4746-8a9d-7a08b648c040",
   "metadata": {},
   "outputs": [],
   "source": [
    "def parse_feature_column(df, column_name, num_columns):\n",
    "    def parse_feature_mean(value):\n",
    "        return [float(x) for x in re.findall(r'\\d+\\.\\d+', value)][:num_columns]\n",
    "        \n",
    "    df[column_name] = df[column_name].apply(lambda x: parse_feature_mean(x))\n",
    "\n",
    "    feature_columns = [f'{column_name}_{i+1}' for i in range(num_columns)]\n",
    "    feature_df = df[column_name].apply(pd.Series)\n",
    "    feature_df.columns = feature_columns\n",
    "\n",
    "    df = pd.concat([df, feature_df], axis=1)\n",
    "\n",
    "    df = df.drop(columns=[column_name])\n",
    "\n",
    "    return df\n",
    "\n",
    "num_mfcc_columns = 13\n",
    "num_chroma_columns = 12\n",
    "num_contrast_columns = 7\n",
    "\n",
    "X_train = parse_feature_column(X_train.copy(), 'mfcc_mean', num_mfcc_columns)\n",
    "X_test = parse_feature_column(X_test.copy(), 'mfcc_mean', num_mfcc_columns)\n",
    "\n",
    "X_train = parse_feature_column(X_train.copy(), 'chroma_mean', num_chroma_columns)\n",
    "X_test = parse_feature_column(X_test.copy(), 'chroma_mean', num_chroma_columns)\n",
    "\n",
    "X_train = parse_feature_column(X_train.copy(), 'contrast_mean', num_contrast_columns)\n",
    "X_test = parse_feature_column(X_test.copy(), 'contrast_mean', num_contrast_columns)"
   ]
  },
  {
   "cell_type": "code",
   "execution_count": 13,
   "id": "9e7785b8-5a5c-47df-9501-dd75b1b36d6a",
   "metadata": {},
   "outputs": [
    {
     "name": "stdout",
     "output_type": "stream",
     "text": [
      "X_train shape after expanding the columns\n"
     ]
    },
    {
     "data": {
      "text/plain": [
       "(4531, 47)"
      ]
     },
     "execution_count": 13,
     "metadata": {},
     "output_type": "execute_result"
    }
   ],
   "source": [
    "print(\"X_train shape after expanding the columns\")\n",
    "X_train.shape "
   ]
  },
  {
   "cell_type": "code",
   "execution_count": 56,
   "id": "c22e88b7-5b6a-4e1d-943f-034567b837ee",
   "metadata": {},
   "outputs": [],
   "source": [
    "columns_to_drop = ['voice_filename', 'transcript', 'accent', 'tone']\n",
    "X_train = X_train.loc[:, ~X_train.columns.str.contains('^Unnamed')]\n",
    "X_test = X_test.loc[:, ~X_test.columns.str.contains('^Unnamed')]\n",
    "\n",
    "X_train = X_train.drop(columns=columns_to_drop, errors='ignore')\n",
    "X_test = X_test.drop(columns=columns_to_drop, errors='ignore')"
   ]
  },
  {
   "cell_type": "code",
   "execution_count": 57,
   "id": "96a5d6b9-3a06-4982-96c1-f8b2f945380e",
   "metadata": {},
   "outputs": [
    {
     "data": {
      "text/html": [
       "<div>\n",
       "<style scoped>\n",
       "    .dataframe tbody tr th:only-of-type {\n",
       "        vertical-align: middle;\n",
       "    }\n",
       "\n",
       "    .dataframe tbody tr th {\n",
       "        vertical-align: top;\n",
       "    }\n",
       "\n",
       "    .dataframe thead th {\n",
       "        text-align: right;\n",
       "    }\n",
       "</style>\n",
       "<table border=\"1\" class=\"dataframe\">\n",
       "  <thead>\n",
       "    <tr style=\"text-align: right;\">\n",
       "      <th></th>\n",
       "      <th>centroid_mean</th>\n",
       "      <th>bandwidth_mean</th>\n",
       "      <th>zero_crossings_mean</th>\n",
       "      <th>pitch_mean</th>\n",
       "      <th>formants_mean</th>\n",
       "      <th>energy</th>\n",
       "      <th>tempo</th>\n",
       "      <th>meanfreq</th>\n",
       "      <th>dfrange</th>\n",
       "      <th>median</th>\n",
       "      <th>...</th>\n",
       "      <th>chroma_mean_10</th>\n",
       "      <th>chroma_mean_11</th>\n",
       "      <th>chroma_mean_12</th>\n",
       "      <th>contrast_mean_1</th>\n",
       "      <th>contrast_mean_2</th>\n",
       "      <th>contrast_mean_3</th>\n",
       "      <th>contrast_mean_4</th>\n",
       "      <th>contrast_mean_5</th>\n",
       "      <th>contrast_mean_6</th>\n",
       "      <th>contrast_mean_7</th>\n",
       "    </tr>\n",
       "  </thead>\n",
       "  <tbody>\n",
       "    <tr>\n",
       "      <th>239</th>\n",
       "      <td>3194.507706</td>\n",
       "      <td>1847.934003</td>\n",
       "      <td>0.333683</td>\n",
       "      <td>133.091721</td>\n",
       "      <td>2.755703e-07</td>\n",
       "      <td>66.100021</td>\n",
       "      <td>98.684211</td>\n",
       "      <td>3194.507706</td>\n",
       "      <td>3627.190749</td>\n",
       "      <td>3229.658112</td>\n",
       "      <td>...</td>\n",
       "      <td>0.527890</td>\n",
       "      <td>0.608257</td>\n",
       "      <td>0.525412</td>\n",
       "      <td>22.794618</td>\n",
       "      <td>17.145426</td>\n",
       "      <td>18.854700</td>\n",
       "      <td>18.052710</td>\n",
       "      <td>18.950754</td>\n",
       "      <td>20.860792</td>\n",
       "      <td>53.424558</td>\n",
       "    </tr>\n",
       "    <tr>\n",
       "      <th>26</th>\n",
       "      <td>3489.838150</td>\n",
       "      <td>1823.236316</td>\n",
       "      <td>0.354415</td>\n",
       "      <td>86.952126</td>\n",
       "      <td>9.533868e-08</td>\n",
       "      <td>212.045639</td>\n",
       "      <td>104.166667</td>\n",
       "      <td>3489.838150</td>\n",
       "      <td>4927.064871</td>\n",
       "      <td>3291.699692</td>\n",
       "      <td>...</td>\n",
       "      <td>0.399025</td>\n",
       "      <td>0.357631</td>\n",
       "      <td>0.429300</td>\n",
       "      <td>29.884918</td>\n",
       "      <td>17.174467</td>\n",
       "      <td>20.448816</td>\n",
       "      <td>19.315168</td>\n",
       "      <td>21.400850</td>\n",
       "      <td>20.736469</td>\n",
       "      <td>53.583620</td>\n",
       "    </tr>\n",
       "    <tr>\n",
       "      <th>1190</th>\n",
       "      <td>3429.226932</td>\n",
       "      <td>1765.048949</td>\n",
       "      <td>0.326644</td>\n",
       "      <td>61.297367</td>\n",
       "      <td>-4.417741e-07</td>\n",
       "      <td>545.490845</td>\n",
       "      <td>125.000000</td>\n",
       "      <td>3429.226932</td>\n",
       "      <td>5073.649973</td>\n",
       "      <td>3061.969105</td>\n",
       "      <td>...</td>\n",
       "      <td>0.445260</td>\n",
       "      <td>0.334740</td>\n",
       "      <td>0.250823</td>\n",
       "      <td>21.890528</td>\n",
       "      <td>21.427644</td>\n",
       "      <td>21.502854</td>\n",
       "      <td>19.502796</td>\n",
       "      <td>20.163703</td>\n",
       "      <td>20.497308</td>\n",
       "      <td>52.465332</td>\n",
       "    </tr>\n",
       "    <tr>\n",
       "      <th>4219</th>\n",
       "      <td>3288.603462</td>\n",
       "      <td>2067.263885</td>\n",
       "      <td>0.312947</td>\n",
       "      <td>70.040390</td>\n",
       "      <td>-4.020689e-06</td>\n",
       "      <td>121.443047</td>\n",
       "      <td>156.250000</td>\n",
       "      <td>3288.603462</td>\n",
       "      <td>4851.313788</td>\n",
       "      <td>2690.307735</td>\n",
       "      <td>...</td>\n",
       "      <td>0.489781</td>\n",
       "      <td>0.358411</td>\n",
       "      <td>0.243517</td>\n",
       "      <td>21.659837</td>\n",
       "      <td>18.646262</td>\n",
       "      <td>19.974788</td>\n",
       "      <td>19.473765</td>\n",
       "      <td>19.047288</td>\n",
       "      <td>18.669307</td>\n",
       "      <td>52.007972</td>\n",
       "    </tr>\n",
       "    <tr>\n",
       "      <th>4901</th>\n",
       "      <td>3158.148241</td>\n",
       "      <td>2110.126731</td>\n",
       "      <td>0.245718</td>\n",
       "      <td>55.847904</td>\n",
       "      <td>-2.976724e-09</td>\n",
       "      <td>192.699524</td>\n",
       "      <td>85.227273</td>\n",
       "      <td>3158.148241</td>\n",
       "      <td>4231.248781</td>\n",
       "      <td>2912.808691</td>\n",
       "      <td>...</td>\n",
       "      <td>0.400128</td>\n",
       "      <td>0.265529</td>\n",
       "      <td>0.341716</td>\n",
       "      <td>35.351687</td>\n",
       "      <td>16.474394</td>\n",
       "      <td>18.050194</td>\n",
       "      <td>17.930245</td>\n",
       "      <td>17.707033</td>\n",
       "      <td>17.585922</td>\n",
       "      <td>53.545610</td>\n",
       "    </tr>\n",
       "    <tr>\n",
       "      <th>...</th>\n",
       "      <td>...</td>\n",
       "      <td>...</td>\n",
       "      <td>...</td>\n",
       "      <td>...</td>\n",
       "      <td>...</td>\n",
       "      <td>...</td>\n",
       "      <td>...</td>\n",
       "      <td>...</td>\n",
       "      <td>...</td>\n",
       "      <td>...</td>\n",
       "      <td>...</td>\n",
       "      <td>...</td>\n",
       "      <td>...</td>\n",
       "      <td>...</td>\n",
       "      <td>...</td>\n",
       "      <td>...</td>\n",
       "      <td>...</td>\n",
       "      <td>...</td>\n",
       "      <td>...</td>\n",
       "      <td>...</td>\n",
       "      <td>...</td>\n",
       "    </tr>\n",
       "    <tr>\n",
       "      <th>4581</th>\n",
       "      <td>2716.327028</td>\n",
       "      <td>1764.891752</td>\n",
       "      <td>0.247201</td>\n",
       "      <td>54.818226</td>\n",
       "      <td>-3.850314e-06</td>\n",
       "      <td>476.124146</td>\n",
       "      <td>93.750000</td>\n",
       "      <td>2716.327028</td>\n",
       "      <td>4937.748804</td>\n",
       "      <td>2213.559988</td>\n",
       "      <td>...</td>\n",
       "      <td>0.350497</td>\n",
       "      <td>0.417803</td>\n",
       "      <td>0.521798</td>\n",
       "      <td>26.939406</td>\n",
       "      <td>17.589886</td>\n",
       "      <td>20.962593</td>\n",
       "      <td>18.559597</td>\n",
       "      <td>19.412742</td>\n",
       "      <td>20.475411</td>\n",
       "      <td>50.524362</td>\n",
       "    </tr>\n",
       "    <tr>\n",
       "      <th>2086</th>\n",
       "      <td>3193.338406</td>\n",
       "      <td>2011.816629</td>\n",
       "      <td>0.320072</td>\n",
       "      <td>108.515289</td>\n",
       "      <td>-3.494555e-06</td>\n",
       "      <td>256.429230</td>\n",
       "      <td>110.294118</td>\n",
       "      <td>3193.338406</td>\n",
       "      <td>4792.730981</td>\n",
       "      <td>2721.647787</td>\n",
       "      <td>...</td>\n",
       "      <td>0.426047</td>\n",
       "      <td>0.404078</td>\n",
       "      <td>0.379276</td>\n",
       "      <td>24.676158</td>\n",
       "      <td>17.010533</td>\n",
       "      <td>16.338548</td>\n",
       "      <td>15.113023</td>\n",
       "      <td>17.485612</td>\n",
       "      <td>22.726113</td>\n",
       "      <td>52.713126</td>\n",
       "    </tr>\n",
       "    <tr>\n",
       "      <th>1763</th>\n",
       "      <td>2931.527414</td>\n",
       "      <td>1809.290327</td>\n",
       "      <td>0.277101</td>\n",
       "      <td>88.112808</td>\n",
       "      <td>-4.224161e-07</td>\n",
       "      <td>173.909241</td>\n",
       "      <td>117.187500</td>\n",
       "      <td>2931.527414</td>\n",
       "      <td>5082.443305</td>\n",
       "      <td>3031.252694</td>\n",
       "      <td>...</td>\n",
       "      <td>0.381620</td>\n",
       "      <td>0.450837</td>\n",
       "      <td>0.421485</td>\n",
       "      <td>27.943740</td>\n",
       "      <td>17.054284</td>\n",
       "      <td>19.871046</td>\n",
       "      <td>18.616428</td>\n",
       "      <td>19.570603</td>\n",
       "      <td>19.274187</td>\n",
       "      <td>56.152275</td>\n",
       "    </tr>\n",
       "    <tr>\n",
       "      <th>4471</th>\n",
       "      <td>3326.647416</td>\n",
       "      <td>2002.173237</td>\n",
       "      <td>0.330937</td>\n",
       "      <td>89.196365</td>\n",
       "      <td>-1.773792e-08</td>\n",
       "      <td>72.551575</td>\n",
       "      <td>93.750000</td>\n",
       "      <td>3326.647416</td>\n",
       "      <td>4406.380595</td>\n",
       "      <td>3545.115865</td>\n",
       "      <td>...</td>\n",
       "      <td>0.506536</td>\n",
       "      <td>0.496738</td>\n",
       "      <td>0.415849</td>\n",
       "      <td>34.565313</td>\n",
       "      <td>13.837199</td>\n",
       "      <td>16.323327</td>\n",
       "      <td>15.502673</td>\n",
       "      <td>16.864467</td>\n",
       "      <td>16.822600</td>\n",
       "      <td>52.309908</td>\n",
       "    </tr>\n",
       "    <tr>\n",
       "      <th>1451</th>\n",
       "      <td>2727.699630</td>\n",
       "      <td>1650.241425</td>\n",
       "      <td>0.272832</td>\n",
       "      <td>158.335587</td>\n",
       "      <td>2.851549e-08</td>\n",
       "      <td>68.236389</td>\n",
       "      <td>133.928571</td>\n",
       "      <td>2727.699630</td>\n",
       "      <td>3844.436172</td>\n",
       "      <td>2683.898564</td>\n",
       "      <td>...</td>\n",
       "      <td>0.443136</td>\n",
       "      <td>0.421487</td>\n",
       "      <td>0.445356</td>\n",
       "      <td>31.686930</td>\n",
       "      <td>14.807463</td>\n",
       "      <td>17.509732</td>\n",
       "      <td>15.819854</td>\n",
       "      <td>16.118194</td>\n",
       "      <td>20.325297</td>\n",
       "      <td>56.925373</td>\n",
       "    </tr>\n",
       "  </tbody>\n",
       "</table>\n",
       "<p>4531 rows × 42 columns</p>\n",
       "</div>"
      ],
      "text/plain": [
       "      centroid_mean  bandwidth_mean  zero_crossings_mean  pitch_mean  \\\n",
       "239     3194.507706     1847.934003             0.333683  133.091721   \n",
       "26      3489.838150     1823.236316             0.354415   86.952126   \n",
       "1190    3429.226932     1765.048949             0.326644   61.297367   \n",
       "4219    3288.603462     2067.263885             0.312947   70.040390   \n",
       "4901    3158.148241     2110.126731             0.245718   55.847904   \n",
       "...             ...             ...                  ...         ...   \n",
       "4581    2716.327028     1764.891752             0.247201   54.818226   \n",
       "2086    3193.338406     2011.816629             0.320072  108.515289   \n",
       "1763    2931.527414     1809.290327             0.277101   88.112808   \n",
       "4471    3326.647416     2002.173237             0.330937   89.196365   \n",
       "1451    2727.699630     1650.241425             0.272832  158.335587   \n",
       "\n",
       "      formants_mean      energy       tempo     meanfreq      dfrange  \\\n",
       "239    2.755703e-07   66.100021   98.684211  3194.507706  3627.190749   \n",
       "26     9.533868e-08  212.045639  104.166667  3489.838150  4927.064871   \n",
       "1190  -4.417741e-07  545.490845  125.000000  3429.226932  5073.649973   \n",
       "4219  -4.020689e-06  121.443047  156.250000  3288.603462  4851.313788   \n",
       "4901  -2.976724e-09  192.699524   85.227273  3158.148241  4231.248781   \n",
       "...             ...         ...         ...          ...          ...   \n",
       "4581  -3.850314e-06  476.124146   93.750000  2716.327028  4937.748804   \n",
       "2086  -3.494555e-06  256.429230  110.294118  3193.338406  4792.730981   \n",
       "1763  -4.224161e-07  173.909241  117.187500  2931.527414  5082.443305   \n",
       "4471  -1.773792e-08   72.551575   93.750000  3326.647416  4406.380595   \n",
       "1451   2.851549e-08   68.236389  133.928571  2727.699630  3844.436172   \n",
       "\n",
       "           median  ...  chroma_mean_10  chroma_mean_11  chroma_mean_12  \\\n",
       "239   3229.658112  ...        0.527890        0.608257        0.525412   \n",
       "26    3291.699692  ...        0.399025        0.357631        0.429300   \n",
       "1190  3061.969105  ...        0.445260        0.334740        0.250823   \n",
       "4219  2690.307735  ...        0.489781        0.358411        0.243517   \n",
       "4901  2912.808691  ...        0.400128        0.265529        0.341716   \n",
       "...           ...  ...             ...             ...             ...   \n",
       "4581  2213.559988  ...        0.350497        0.417803        0.521798   \n",
       "2086  2721.647787  ...        0.426047        0.404078        0.379276   \n",
       "1763  3031.252694  ...        0.381620        0.450837        0.421485   \n",
       "4471  3545.115865  ...        0.506536        0.496738        0.415849   \n",
       "1451  2683.898564  ...        0.443136        0.421487        0.445356   \n",
       "\n",
       "      contrast_mean_1  contrast_mean_2  contrast_mean_3  contrast_mean_4  \\\n",
       "239         22.794618        17.145426        18.854700        18.052710   \n",
       "26          29.884918        17.174467        20.448816        19.315168   \n",
       "1190        21.890528        21.427644        21.502854        19.502796   \n",
       "4219        21.659837        18.646262        19.974788        19.473765   \n",
       "4901        35.351687        16.474394        18.050194        17.930245   \n",
       "...               ...              ...              ...              ...   \n",
       "4581        26.939406        17.589886        20.962593        18.559597   \n",
       "2086        24.676158        17.010533        16.338548        15.113023   \n",
       "1763        27.943740        17.054284        19.871046        18.616428   \n",
       "4471        34.565313        13.837199        16.323327        15.502673   \n",
       "1451        31.686930        14.807463        17.509732        15.819854   \n",
       "\n",
       "      contrast_mean_5  contrast_mean_6  contrast_mean_7  \n",
       "239         18.950754        20.860792        53.424558  \n",
       "26          21.400850        20.736469        53.583620  \n",
       "1190        20.163703        20.497308        52.465332  \n",
       "4219        19.047288        18.669307        52.007972  \n",
       "4901        17.707033        17.585922        53.545610  \n",
       "...               ...              ...              ...  \n",
       "4581        19.412742        20.475411        50.524362  \n",
       "2086        17.485612        22.726113        52.713126  \n",
       "1763        19.570603        19.274187        56.152275  \n",
       "4471        16.864467        16.822600        52.309908  \n",
       "1451        16.118194        20.325297        56.925373  \n",
       "\n",
       "[4531 rows x 42 columns]"
      ]
     },
     "execution_count": 57,
     "metadata": {},
     "output_type": "execute_result"
    }
   ],
   "source": [
    "X_train"
   ]
  },
  {
   "cell_type": "code",
   "execution_count": 15,
   "id": "9a7695d6-eb5f-4d38-87e3-067aaab958bc",
   "metadata": {},
   "outputs": [],
   "source": [
    "scaler = StandardScaler()\n",
    "X_train_scaled = scaler.fit_transform(X_train)\n",
    "X_test_scaled = scaler.fit_transform(X_test)"
   ]
  },
  {
   "cell_type": "code",
   "execution_count": 16,
   "id": "116033aa-073a-46a4-8308-f62e681cd5c4",
   "metadata": {},
   "outputs": [
    {
     "data": {
      "text/plain": [
       "(4531, 42)"
      ]
     },
     "execution_count": 16,
     "metadata": {},
     "output_type": "execute_result"
    }
   ],
   "source": [
    "X_train_scaled.shape"
   ]
  },
  {
   "cell_type": "markdown",
   "id": "da38ca29-9f37-42a6-8fee-35a0c0e3d682",
   "metadata": {},
   "source": [
    "## PCA Dimention reduction"
   ]
  },
  {
   "cell_type": "code",
   "execution_count": 37,
   "id": "1cc1456a-962a-42f2-9faa-b23dba00e2e7",
   "metadata": {},
   "outputs": [
    {
     "data": {
      "image/png": "[encoded data removed]",
      "text/plain": [
       "<Figure size 1000x600 with 1 Axes>"
      ]
     },
     "metadata": {},
     "output_type": "display_data"
    }
   ],
   "source": [
    "pca = PCA()\n",
    "X_train_pca = pca.fit_transform(X_train_scaled)\n",
    "\n",
    "# Compute eigenvalues\n",
    "eigenvalues = pca.explained_variance_\n",
    "\n",
    "# Plot the eigenvalues\n",
    "plt.figure(figsize=(10, 6))\n",
    "plt.bar(range(1, len(eigenvalues) + 1), eigenvalues, alpha=0.7, align='center')\n",
    "plt.xlabel('Principal Component')\n",
    "plt.ylabel('Eigenvalue')\n",
    "plt.title('Scree Plot')\n",
    "plt.show()"
   ]
  },
  {
   "cell_type": "code",
   "execution_count": 38,
   "id": "d3221b3d-ed79-46d3-89fe-f12163e69b32",
   "metadata": {},
   "outputs": [],
   "source": [
    "pca = PCA(n_components=8)\n",
    "\n",
    "X_train_pca = pca.fit_transform(X_train_scaled)\n",
    "X_test_pca = pca.transform(X_test_scaled)"
   ]
  },
  {
   "cell_type": "code",
   "execution_count": 39,
   "id": "4c929cae-39d0-4d9a-bfef-ebd1f2ac491d",
   "metadata": {},
   "outputs": [
    {
     "data": {
      "text/plain": [
       "(4531, 8)"
      ]
     },
     "execution_count": 39,
     "metadata": {},
     "output_type": "execute_result"
    }
   ],
   "source": [
    "X_train_pca.shape"
   ]
  },
  {
   "cell_type": "markdown",
   "id": "b10889c7-381d-4da3-9904-1e7e66f8f8e9",
   "metadata": {},
   "source": [
    "## LDA Dimention reduction"
   ]
  },
  {
   "cell_type": "code",
   "execution_count": 19,
   "id": "aa109381-bbf7-41ad-a1ca-ee80bb66e9eb",
   "metadata": {},
   "outputs": [
    {
     "data": {
      "text/plain": [
       "(4531, 42)"
      ]
     },
     "execution_count": 19,
     "metadata": {},
     "output_type": "execute_result"
    }
   ],
   "source": [
    "X_train_scaled.shape"
   ]
  },
  {
   "cell_type": "code",
   "execution_count": 20,
   "id": "4235f693-b7bf-45b0-9c0e-7dee1997b3fb",
   "metadata": {},
   "outputs": [],
   "source": [
    "lda = LinearDiscriminantAnalysis(n_components=None)  # Set n_components to the desired number or leave as None\n",
    "X_train_lda = lda.fit_transform(X_train_scaled, y_train)\n",
    "X_test_lda = lda.transform(X_test_scaled)"
   ]
  },
  {
   "cell_type": "code",
   "execution_count": 40,
   "id": "5c3c906d-38ae-4224-ad6c-17a8768a8243",
   "metadata": {},
   "outputs": [
    {
     "data": {
      "text/plain": [
       "(4531, 1)"
      ]
     },
     "execution_count": 40,
     "metadata": {},
     "output_type": "execute_result"
    }
   ],
   "source": [
    "X_train_lda.shape"
   ]
  },
  {
   "cell_type": "code",
   "execution_count": 23,
   "id": "ea5bde11-c07a-427d-aeaf-d47894639e35",
   "metadata": {},
   "outputs": [],
   "source": [
    "from sklearn.svm import SVC"
   ]
  },
  {
   "cell_type": "markdown",
   "id": "c6000fcb-da6f-41c1-ac15-23ec1593f9db",
   "metadata": {},
   "source": [
    "# Support Vector Machine (SVM)"
   ]
  },
  {
   "cell_type": "code",
   "execution_count": 25,
   "id": "63c68617-7d1f-439f-a8e3-4135cde519c6",
   "metadata": {},
   "outputs": [],
   "source": [
    "from sklearn.svm import SVC\n",
    "from sklearn.pipeline import make_pipeline\n",
    "from sklearn.metrics import classification_report, accuracy_score\n",
    "from sklearn.decomposition import PCA\n",
    "from sklearn.metrics import classification_report, accuracy_score\n",
    "from sklearn.metrics import confusion_matrix\n",
    "from sklearn.metrics import roc_curve, auc\n",
    "from sklearn.metrics import roc_auc_score\n",
    "from sklearn.preprocessing import LabelBinarizer"
   ]
  },
  {
   "cell_type": "markdown",
   "id": "03625188-bfe2-4896-b412-b521185d3667",
   "metadata": {},
   "source": [
    "## PCA Results"
   ]
  },
  {
   "cell_type": "code",
   "execution_count": 42,
   "id": "2122eba7-ab26-46f1-acd4-dc519baae5a3",
   "metadata": {},
   "outputs": [
    {
     "data": {
      "image/png": "[encoded data removed]",
      "text/plain": [
       "<Figure size 640x480 with 1 Axes>"
      ]
     },
     "metadata": {},
     "output_type": "display_data"
    }
   ],
   "source": [
    "# Create and fit SVC models with different kernels\n",
    "kernels = ['rbf', 'linear', 'poly']\n",
    "models = {}\n",
    "\n",
    "for kernel in kernels:\n",
    "    svm_model = make_pipeline(SVC(kernel=kernel,probability=True))\n",
    "    svm_model.fit(X_train_pca, y_train)\n",
    "    y_pred = svm_model.predict(X_test_pca)\n",
    "    accuracy = accuracy_score(y_test, y_pred)\n",
    "    models[kernel] = {'model': svm_model, 'accuracy': accuracy}\n",
    "\n",
    "# Plotting\n",
    "kernels = list(models.keys())\n",
    "accuracies = [info['accuracy'] for info in models.values()]\n",
    "\n",
    "plt.bar(kernels, accuracies, color=['blue', 'green', 'orange'])\n",
    "plt.xlabel('Kernel')\n",
    "plt.ylabel('Accuracy')\n",
    "plt.title('Accuracy Comparison for Different Kernels')\n",
    "plt.ylim(0.8, 1)  # Set y-axis limits to focus on the range from 0.9 to 1\n",
    "plt.show()"
   ]
  },
  {
   "cell_type": "code",
   "execution_count": 43,
   "id": "ee92cc33-aa24-4ae3-9be9-87f33f1500d2",
   "metadata": {},
   "outputs": [
    {
     "name": "stdout",
     "output_type": "stream",
     "text": [
      "Classification Report:\n",
      "               precision    recall  f1-score   support\n",
      "\n",
      "      female       0.87      0.76      0.81       331\n",
      "        male       0.93      0.97      0.95      1180\n",
      "\n",
      "    accuracy                           0.92      1511\n",
      "   macro avg       0.90      0.86      0.88      1511\n",
      "weighted avg       0.92      0.92      0.92      1511\n",
      "\n",
      "Accuracy: 0.9219060225016545\n"
     ]
    }
   ],
   "source": [
    "svm_model = make_pipeline(SVC(kernel='rbf', probability=True))\n",
    "svm_model.fit(X_train_pca, y_train)\n",
    "\n",
    "y_pred = svm_model.predict(X_test_pca)\n",
    "\n",
    "svm_accuracy = accuracy_score(y_test, y_pred)\n",
    "print(\"Classification Report:\\n\", classification_report(y_test, y_pred))\n",
    "print(\"Accuracy:\", svm_accuracy)"
   ]
  },
  {
   "cell_type": "code",
   "execution_count": 44,
   "id": "088d31b4-e0a4-427e-a8fe-1397f8e21346",
   "metadata": {},
   "outputs": [
    {
     "data": {
      "image/png": "[encoded data removed]",
      "text/plain": [
       "<Figure size 800x600 with 1 Axes>"
      ]
     },
     "metadata": {},
     "output_type": "display_data"
    },
    {
     "name": "stdout",
     "output_type": "stream",
     "text": [
      "Classification Report:\n",
      "               precision    recall  f1-score   support\n",
      "\n",
      "      female       0.87      0.76      0.81       331\n",
      "        male       0.93      0.97      0.95      1180\n",
      "\n",
      "    accuracy                           0.92      1511\n",
      "   macro avg       0.90      0.86      0.88      1511\n",
      "weighted avg       0.92      0.92      0.92      1511\n",
      "\n",
      "Accuracy: 0.9219060225016545\n"
     ]
    }
   ],
   "source": [
    "# Plot the confusion matrix\n",
    "cm = confusion_matrix(y_test, y_pred)\n",
    "plt.figure(figsize=(8, 6))\n",
    "sns.heatmap(cm, annot=True, fmt=\"d\", cmap=\"Blues\", cbar=False, xticklabels=['Female', 'Male'], yticklabels=['Female', 'Male'])\n",
    "plt.title('Confusion Matrix')\n",
    "plt.xlabel('Predicted')\n",
    "plt.ylabel('Actual')\n",
    "plt.show()\n",
    "\n",
    "# Display classification report and accuracy\n",
    "print(\"Classification Report:\\n\", classification_report(y_test, y_pred))\n",
    "print(\"Accuracy:\", accuracy_score(y_test, y_pred))"
   ]
  },
  {
   "cell_type": "code",
   "execution_count": 45,
   "id": "cad4b26b-023a-4cb4-a749-0fbc91d0e345",
   "metadata": {},
   "outputs": [
    {
     "data": {
      "image/png": "[encoded data removed]",
      "text/plain": [
       "<Figure size 800x600 with 1 Axes>"
      ]
     },
     "metadata": {},
     "output_type": "display_data"
    }
   ],
   "source": [
    "# Get predicted probabilities for the positive class\n",
    "y_prob = svm_model.predict_proba(X_test_pca)[:, 1]\n",
    "\n",
    "# Convert labels to binary form\n",
    "label_binarizer = LabelBinarizer()\n",
    "y_test_binary = label_binarizer.fit_transform(y_test)\n",
    "\n",
    "# Calculate the ROC curve\n",
    "fpr, tpr, thresholds = roc_curve(y_test_binary, y_prob)\n",
    "\n",
    "# Calculate the area under the ROC curve (AUC)\n",
    "roc_auc = auc(fpr, tpr)\n",
    "\n",
    "# Plot the ROC curve\n",
    "plt.figure(figsize=(8, 6))\n",
    "plt.plot(fpr, tpr, color='darkorange', lw=2, label=f'ROC curve (AUC = {roc_auc:.2f})')\n",
    "plt.plot([0, 1], [0, 1], color='navy', lw=2, linestyle='--')\n",
    "plt.xlabel('False Positive Rate')\n",
    "plt.ylabel('True Positive Rate')\n",
    "plt.title('Receiver Operating Characteristic (ROC) Curve')\n",
    "plt.legend(loc='lower right')\n",
    "plt.show()"
   ]
  },
  {
   "cell_type": "markdown",
   "id": "913e55ee-e7b1-441e-97ce-8410672f05ed",
   "metadata": {},
   "source": [
    "## LDA Results"
   ]
  },
  {
   "cell_type": "code",
   "execution_count": 46,
   "id": "0e5ce17f-8336-4195-8427-b9dbbab610d8",
   "metadata": {},
   "outputs": [
    {
     "data": {
      "image/png": "[encoded data removed]",
      "text/plain": [
       "<Figure size 640x480 with 1 Axes>"
      ]
     },
     "metadata": {},
     "output_type": "display_data"
    }
   ],
   "source": [
    "# Create and fit SVC models with different kernels\n",
    "kernels = ['rbf', 'linear', 'poly']\n",
    "models = {}\n",
    "\n",
    "for kernel in kernels:\n",
    "    svm_model = make_pipeline(SVC(kernel=kernel,probability=True))\n",
    "    svm_model.fit(X_train_lda, y_train)\n",
    "    y_pred = svm_model.predict(X_test_lda)\n",
    "    accuracy = accuracy_score(y_test, y_pred)\n",
    "    models[kernel] = {'model': svm_model, 'accuracy': accuracy}\n",
    "\n",
    "# Plotting\n",
    "kernels = list(models.keys())\n",
    "accuracies = [info['accuracy'] for info in models.values()]\n",
    "\n",
    "plt.bar(kernels, accuracies, color=['blue', 'green', 'orange'])\n",
    "plt.xlabel('Kernel')\n",
    "plt.ylabel('Accuracy')\n",
    "plt.title('Accuracy Comparison for Different Kernels (LDA)')\n",
    "plt.ylim(0.8, 1)  # Set y-axis limits to focus on the range from 0.8 to 1\n",
    "plt.show()"
   ]
  },
  {
   "cell_type": "code",
   "execution_count": 70,
   "id": "04893a0f-c7dc-4b6f-b6bb-fd160c28ca1a",
   "metadata": {},
   "outputs": [
    {
     "name": "stdout",
     "output_type": "stream",
     "text": [
      "Classification Report:\n",
      "               precision    recall  f1-score   support\n",
      "\n",
      "      female       0.88      0.82      0.85       331\n",
      "        male       0.95      0.97      0.96      1180\n",
      "\n",
      "    accuracy                           0.94      1511\n",
      "   macro avg       0.92      0.90      0.91      1511\n",
      "weighted avg       0.94      0.94      0.94      1511\n",
      "\n",
      "Accuracy: 0.9371277299801456\n"
     ]
    }
   ],
   "source": [
    "svm_model = make_pipeline(SVC(kernel='rbf', probability=True))\n",
    "svm_model.fit(X_train_lda, y_train)\n",
    "\n",
    "y_pred = svm_model.predict(X_test_lda)\n",
    "\n",
    "svm_accuracy = accuracy_score(y_test, y_pred)\n",
    "print(\"Classification Report:\\n\", classification_report(y_test, y_pred))\n",
    "print(\"Accuracy:\", svm_accuracy)"
   ]
  },
  {
   "cell_type": "code",
   "execution_count": 56,
   "id": "49017bdf-6391-4822-a99f-6c48e765b6d6",
   "metadata": {},
   "outputs": [
    {
     "data": {
      "image/png": "[encoded data removed]",
      "text/plain": [
       "<Figure size 800x600 with 1 Axes>"
      ]
     },
     "metadata": {},
     "output_type": "display_data"
    },
    {
     "name": "stdout",
     "output_type": "stream",
     "text": [
      "Classification Report:\n",
      "               precision    recall  f1-score   support\n",
      "\n",
      "      female       0.88      0.78      0.83       331\n",
      "        male       0.94      0.97      0.95      1180\n",
      "\n",
      "    accuracy                           0.93      1511\n",
      "   macro avg       0.91      0.87      0.89      1511\n",
      "weighted avg       0.93      0.93      0.93      1511\n",
      "\n",
      "Accuracy: 0.927862342819325\n"
     ]
    }
   ],
   "source": [
    "# Plot the confusion matrix\n",
    "cm = confusion_matrix(y_test, y_pred)\n",
    "plt.figure(figsize=(8, 6))\n",
    "sns.heatmap(cm, annot=True, fmt=\"d\", cmap=\"Blues\", cbar=False, xticklabels=['Female', 'Male'], yticklabels=['Female', 'Male'])\n",
    "plt.title('Confusion Matrix')\n",
    "plt.xlabel('Predicted')\n",
    "plt.ylabel('Actual')\n",
    "plt.show()\n",
    "\n",
    "# Display classification report and accuracy\n",
    "print(\"Classification Report:\\n\", classification_report(y_test, y_pred))\n",
    "print(\"Accuracy:\", accuracy_score(y_test, y_pred))"
   ]
  },
  {
   "cell_type": "code",
   "execution_count": 49,
   "id": "cae39638-363d-467f-be23-0479b29f0019",
   "metadata": {},
   "outputs": [
    {
     "data": {
      "image/png": "[encoded data removed]",
      "text/plain": [
       "<Figure size 800x600 with 1 Axes>"
      ]
     },
     "metadata": {},
     "output_type": "display_data"
    }
   ],
   "source": [
    "# Get predicted probabilities for the positive class\n",
    "y_prob = svm_model.predict_proba(X_test_lda)[:, 1]\n",
    "\n",
    "# Convert labels to binary form\n",
    "label_binarizer = LabelBinarizer()\n",
    "y_test_binary = label_binarizer.fit_transform(y_test)\n",
    "\n",
    "# Calculate the ROC curve\n",
    "fpr, tpr, thresholds = roc_curve(y_test_binary, y_prob)\n",
    "\n",
    "# Calculate the area under the ROC curve (AUC)\n",
    "roc_auc = auc(fpr, tpr)\n",
    "\n",
    "# Plot the ROC curve\n",
    "plt.figure(figsize=(8, 6))\n",
    "plt.plot(fpr, tpr, color='darkorange', lw=2, label=f'ROC curve (AUC = {roc_auc:.2f})')\n",
    "plt.plot([0, 1], [0, 1], color='navy', lw=2, linestyle='--')\n",
    "plt.xlabel('False Positive Rate')\n",
    "plt.ylabel('True Positive Rate')\n",
    "plt.title('Receiver Operating Characteristic (ROC) Curve')\n",
    "plt.legend(loc='lower right')\n",
    "plt.show()"
   ]
  },
  {
   "cell_type": "markdown",
   "id": "b063910b-e1f5-4136-94ab-f34ef60ecf3b",
   "metadata": {},
   "source": [
    "# Random Forest"
   ]
  },
  {
   "cell_type": "code",
   "execution_count": 50,
   "id": "13e7891f-168b-4ae6-929c-36697075cf7f",
   "metadata": {},
   "outputs": [],
   "source": [
    "from sklearn.ensemble import RandomForestClassifier\n",
    "from sklearn.metrics import classification_report, accuracy_score"
   ]
  },
  {
   "cell_type": "code",
   "execution_count": 59,
   "id": "f645ed35-a891-49d6-b228-65317300dc8b",
   "metadata": {},
   "outputs": [
    {
     "name": "stdout",
     "output_type": "stream",
     "text": [
      "Classification Report:\n",
      "               precision    recall  f1-score   support\n",
      "\n",
      "      female       0.88      0.74      0.81       331\n",
      "        male       0.93      0.97      0.95      1180\n",
      "\n",
      "    accuracy                           0.92      1511\n",
      "   macro avg       0.91      0.86      0.88      1511\n",
      "weighted avg       0.92      0.92      0.92      1511\n",
      "\n",
      "Accuracy: 0.9225678358702846\n"
     ]
    }
   ],
   "source": [
    "rf_classifier = RandomForestClassifier(n_estimators=100, random_state=42)\n",
    "rf_classifier.fit(X_train_pca, y_train)\n",
    "\n",
    "y_pred = rf_classifier.predict(X_test_pca)\n",
    "\n",
    "# Evaluate the model\n",
    "print(\"Classification Report:\\n\", classification_report(y_test, y_pred))\n",
    "rf_accuracy = accuracy_score(y_test, y_pred)\n",
    "print(\"Accuracy:\", rf_accuracy)"
   ]
  },
  {
   "cell_type": "code",
   "execution_count": 60,
   "id": "d29d4c59-b708-4058-9b0f-33865a4ff39c",
   "metadata": {},
   "outputs": [],
   "source": [
    "from sklearn.ensemble import RandomForestClassifier\n",
    "from sklearn.metrics import classification_report, accuracy_score"
   ]
  },
  {
   "cell_type": "code",
   "execution_count": 61,
   "id": "f5ab43ed-ca77-487b-a06c-869465318f37",
   "metadata": {},
   "outputs": [
    {
     "data": {
      "image/png": "[encoded data removed]",
      "text/plain": [
       "<Figure size 800x600 with 1 Axes>"
      ]
     },
     "metadata": {},
     "output_type": "display_data"
    },
    {
     "name": "stdout",
     "output_type": "stream",
     "text": [
      "Classification Report:\n",
      "               precision    recall  f1-score   support\n",
      "\n",
      "      female       0.88      0.74      0.81       331\n",
      "        male       0.93      0.97      0.95      1180\n",
      "\n",
      "    accuracy                           0.92      1511\n",
      "   macro avg       0.91      0.86      0.88      1511\n",
      "weighted avg       0.92      0.92      0.92      1511\n",
      "\n",
      "Accuracy: 0.9225678358702846\n"
     ]
    }
   ],
   "source": [
    "cm = confusion_matrix(y_test, y_pred)\n",
    "plt.figure(figsize=(8, 6))\n",
    "sns.heatmap(cm, annot=True, fmt=\"d\", cmap=\"Blues\", cbar=False, xticklabels=['Female', 'Male'], yticklabels=['Female', 'Male'])\n",
    "plt.title('Confusion Matrix using RF Algorithm')\n",
    "plt.xlabel('Predicted')\n",
    "plt.ylabel('Actual')\n",
    "plt.show()\n",
    "\n",
    "# Display classification report and accuracy\n",
    "print(\"Classification Report:\\n\", classification_report(y_test, y_pred))\n",
    "print(\"Accuracy:\", accuracy_score(y_test, y_pred))"
   ]
  },
  {
   "cell_type": "code",
   "execution_count": 63,
   "id": "fea253b7-3cc7-451b-b6e0-7684b1cddd77",
   "metadata": {},
   "outputs": [
    {
     "data": {
      "image/png": "[encoded data removed]",
      "text/plain": [
       "<Figure size 800x600 with 1 Axes>"
      ]
     },
     "metadata": {},
     "output_type": "display_data"
    }
   ],
   "source": [
    "# Get predicted probabilities for the positive class\n",
    "y_prob = rf_classifier.predict_proba(X_test_pca)[:, 1]\n",
    "\n",
    "# Convert labels to binary form\n",
    "label_binarizer = LabelBinarizer()\n",
    "y_test_binary = label_binarizer.fit_transform(y_test)\n",
    "\n",
    "# Calculate the ROC curve\n",
    "fpr, tpr, thresholds = roc_curve(y_test_binary, y_prob)\n",
    "\n",
    "# Calculate the area under the ROC curve (AUC)\n",
    "roc_auc = auc(fpr, tpr)\n",
    "\n",
    "# Plot the ROC curve\n",
    "plt.figure(figsize=(8, 6))\n",
    "plt.plot(fpr, tpr, color='darkorange', lw=2, label=f'ROC curve (AUC = {roc_auc:.2f})')\n",
    "plt.plot([0, 1], [0, 1], color='navy', lw=2, linestyle='--')\n",
    "plt.xlabel('False Positive Rate')\n",
    "plt.ylabel('True Positive Rate')\n",
    "plt.title('Receiver Operating Characteristic (ROC) Curve')\n",
    "plt.legend(loc='lower right')\n",
    "plt.show()"
   ]
  },
  {
   "cell_type": "markdown",
   "id": "079a65c0-c7a0-493c-ae66-d65e7248f711",
   "metadata": {},
   "source": [
    "# Logistic regression"
   ]
  },
  {
   "cell_type": "code",
   "execution_count": 64,
   "id": "5edcc39a-9ab6-49fb-9f0d-1f7c5c65f30a",
   "metadata": {},
   "outputs": [],
   "source": [
    "from sklearn.linear_model import LogisticRegression"
   ]
  },
  {
   "cell_type": "code",
   "execution_count": 114,
   "id": "7c3d4378-f2c8-45b3-bf8d-e432eef90bfd",
   "metadata": {},
   "outputs": [],
   "source": [
    "#scaler = StandardScaler()\n",
    "#X_train_scaled = scaler.fit_transform(X_train)\n",
    "#X_test_scaled = scaler.fit_transform(X_test)"
   ]
  },
  {
   "cell_type": "code",
   "execution_count": 65,
   "id": "6cf36907-201f-40b3-8c6e-a6fedbbea22b",
   "metadata": {},
   "outputs": [
    {
     "name": "stdout",
     "output_type": "stream",
     "text": [
      "Classification Report for logistic regression:\n",
      "               precision    recall  f1-score   support\n",
      "\n",
      "      female       0.88      0.74      0.81       331\n",
      "        male       0.93      0.97      0.95      1180\n",
      "\n",
      "    accuracy                           0.92      1511\n",
      "   macro avg       0.91      0.86      0.88      1511\n",
      "weighted avg       0.92      0.92      0.92      1511\n",
      "\n",
      "Accuracy: 0.8888153540701522\n"
     ]
    }
   ],
   "source": [
    "# Create a Logistic Regression model\n",
    "logreg_model = LogisticRegression(random_state=42)\n",
    "\n",
    "# Train the model on the training data\n",
    "logreg_model.fit(X_train_pca, y_train)\n",
    "\n",
    "# Make predictions on the testing data\n",
    "y_pred_logreg = logreg_model.predict(X_test_pca)\n",
    "\n",
    "# Evaluate the model\n",
    "print(\"Classification Report for logistic regression:\\n\", classification_report(y_test, y_pred))\n",
    "print(\"Accuracy:\", accuracy_score(y_test, y_pred_logreg))"
   ]
  },
  {
   "cell_type": "code",
   "execution_count": 66,
   "id": "c915ba70-8326-4a57-9eb9-8fd1f32844e0",
   "metadata": {},
   "outputs": [
    {
     "data": {
      "image/png": "[encoded data removed]",
      "text/plain": [
       "<Figure size 800x600 with 1 Axes>"
      ]
     },
     "metadata": {},
     "output_type": "display_data"
    },
    {
     "name": "stdout",
     "output_type": "stream",
     "text": [
      "Classification Report (Logistic Regression):\n",
      "               precision    recall  f1-score   support\n",
      "\n",
      "      female       0.77      0.70      0.73       331\n",
      "        male       0.92      0.94      0.93      1180\n",
      "\n",
      "    accuracy                           0.89      1511\n",
      "   macro avg       0.85      0.82      0.83      1511\n",
      "weighted avg       0.89      0.89      0.89      1511\n",
      "\n",
      "Accuracy (Logistic Regression): 0.8888153540701522\n"
     ]
    }
   ],
   "source": [
    "cm_logreg = confusion_matrix(y_test, y_pred_logreg)\n",
    "plt.figure(figsize=(8, 6))\n",
    "sns.heatmap(cm_logreg, annot=True, fmt=\"d\", cmap=\"Blues\", cbar=False, xticklabels=['Female', 'Male'], yticklabels=['Female', 'Male'])\n",
    "plt.title('Confusion Matrix (Logistic Regression)')\n",
    "plt.xlabel('Predicted')\n",
    "plt.ylabel('Actual')\n",
    "plt.show()\n",
    "\n",
    "log_reg_accuracy = accuracy_score(y_test, y_pred_logreg)\n",
    "print(\"Classification Report (Logistic Regression):\\n\", classification_report(y_test, y_pred_logreg))\n",
    "print(\"Accuracy (Logistic Regression):\", log_reg_accuracy)"
   ]
  },
  {
   "cell_type": "markdown",
   "id": "6389c133-8288-459d-8e21-d0fca91f14c5",
   "metadata": {},
   "source": [
    "# Compare 3 algoritms"
   ]
  },
  {
   "cell_type": "code",
   "execution_count": 72,
   "id": "e10baf31-e7dc-45a5-9a24-cc8e5db3c308",
   "metadata": {},
   "outputs": [
    {
     "data": {
      "image/png": "[encoded data removed]",
      "text/plain": [
       "<Figure size 1000x600 with 1 Axes>"
      ]
     },
     "metadata": {},
     "output_type": "display_data"
    }
   ],
   "source": [
    "svm_accuracyy = svm_accuracy*100\n",
    "random_forest_accuracy = rf_accuracy*100\n",
    "logistic_regression_accuracy = log_reg_accuracy*100\n",
    "\n",
    "# Titles and corresponding values\n",
    "titles = [\"SVM with rbf kernel\", \"Random Forest\", \"Logistic Regression\"]\n",
    "values = [svm_accuracyy, random_forest_accuracy, logistic_regression_accuracy]\n",
    "\n",
    "# Plotting\n",
    "plt.figure(figsize=(10, 6))\n",
    "plt.bar(titles, values, color=['blue', 'green', 'orange'])\n",
    "plt.ylim(80, 100)  # Set the y-axis limit to 100 for percentage values\n",
    "plt.ylabel('Accuracy (%)')\n",
    "plt.title('Accuracy Comparison of Different Models')\n",
    "plt.show()"
   ]
  }
 ],
 "metadata": {
  "kernelspec": {
   "display_name": "Python 3 (ipykernel)",
   "language": "python",
   "name": "python3"
  },
  "language_info": {
   "codemirror_mode": {
    "name": "ipython",
    "version": 3
   },
   "file_extension": ".py",
   "mimetype": "text/x-python",
   "name": "python",
   "nbconvert_exporter": "python",
   "pygments_lexer": "ipython3",
   "version": "3.9.11"
  }
 },
 "nbformat": 4,
 "nbformat_minor": 5
}
